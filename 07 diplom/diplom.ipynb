{
 "cells": [
  {
   "cell_type": "markdown",
   "metadata": {
    "toc": true
   },
   "source": [
    "<h1>Содержание<span class=\"tocSkip\"></span></h1>\n",
    "<div class=\"toc\"><ul class=\"toc-item\"><li><span><a href=\"#Описание-проекта\" data-toc-modified-id=\"Описание-проекта-1\"><span class=\"toc-item-num\">1&nbsp;&nbsp;</span>Описание проекта</a></span><ul class=\"toc-item\"><li><ul class=\"toc-item\"><li><span><a href=\"#Первичная-подготовка\" data-toc-modified-id=\"Первичная-подготовка-1.0.1\"><span class=\"toc-item-num\">1.0.1&nbsp;&nbsp;</span>Первичная подготовка</a></span><ul class=\"toc-item\"><li><span><a href=\"#Импортирование-необходимых-библиотек\" data-toc-modified-id=\"Импортирование-необходимых-библиотек-1.0.1.1\"><span class=\"toc-item-num\">1.0.1.1&nbsp;&nbsp;</span>Импортирование необходимых библиотек</a></span></li><li><span><a href=\"#Подготовка-данных\" data-toc-modified-id=\"Подготовка-данных-1.0.1.2\"><span class=\"toc-item-num\">1.0.1.2&nbsp;&nbsp;</span>Подготовка данных</a></span></li><li><span><a href=\"#Выводы-по-данным:\" data-toc-modified-id=\"Выводы-по-данным:-1.0.1.3\"><span class=\"toc-item-num\">1.0.1.3&nbsp;&nbsp;</span>Выводы по данным:</a></span></li></ul></li></ul></li><li><span><a href=\"#Проверим-корректность-расчета-параметра-recovery\" data-toc-modified-id=\"Проверим-корректность-расчета-параметра-recovery-1.1\"><span class=\"toc-item-num\">1.1&nbsp;&nbsp;</span>Проверим корректность расчета параметра recovery</a></span><ul class=\"toc-item\"><li><span><a href=\"#Вывод\" data-toc-modified-id=\"Вывод-1.1.1\"><span class=\"toc-item-num\">1.1.1&nbsp;&nbsp;</span>Вывод</a></span></li></ul></li><li><span><a href=\"#Найдем-все-столбцы,-которые-есть-в-тренировочной-датасете,-но-нет-в-тестовом\" data-toc-modified-id=\"Найдем-все-столбцы,-которые-есть-в-тренировочной-датасете,-но-нет-в-тестовом-1.2\"><span class=\"toc-item-num\">1.2&nbsp;&nbsp;</span>Найдем все столбцы, которые есть в тренировочной датасете, но нет в тестовом</a></span><ul class=\"toc-item\"><li><span><a href=\"#Более-подробно-изучим-найденные-столбцы\" data-toc-modified-id=\"Более-подробно-изучим-найденные-столбцы-1.2.1\"><span class=\"toc-item-num\">1.2.1&nbsp;&nbsp;</span>Более подробно изучим найденные столбцы</a></span></li><li><span><a href=\"#Выводы\" data-toc-modified-id=\"Выводы-1.2.2\"><span class=\"toc-item-num\">1.2.2&nbsp;&nbsp;</span>Выводы</a></span></li><li><span><a href=\"#Проверим-дубликаты\" data-toc-modified-id=\"Проверим-дубликаты-1.2.3\"><span class=\"toc-item-num\">1.2.3&nbsp;&nbsp;</span>Проверим дубликаты</a></span></li></ul></li><li><span><a href=\"#Проверим-возможность-восстановления--параметра-recovery\" data-toc-modified-id=\"Проверим-возможность-восстановления--параметра-recovery-1.3\"><span class=\"toc-item-num\">1.3&nbsp;&nbsp;</span>Проверим возможность восстановления  параметра recovery</a></span></li><li><span><a href=\"#Заполнение-пропусков\" data-toc-modified-id=\"Заполнение-пропусков-1.4\"><span class=\"toc-item-num\">1.4&nbsp;&nbsp;</span>Заполнение пропусков</a></span><ul class=\"toc-item\"><li><ul class=\"toc-item\"><li><span><a href=\"#Посмотрим-на-пропуски\" data-toc-modified-id=\"Посмотрим-на-пропуски-1.4.0.1\"><span class=\"toc-item-num\">1.4.0.1&nbsp;&nbsp;</span>Посмотрим на пропуски</a></span></li><li><span><a href=\"#Обработка-пропусков\" data-toc-modified-id=\"Обработка-пропусков-1.4.0.2\"><span class=\"toc-item-num\">1.4.0.2&nbsp;&nbsp;</span>Обработка пропусков</a></span></li></ul></li></ul></li><li><span><a href=\"#Выводы-по-этому-разделу\" data-toc-modified-id=\"Выводы-по-этому-разделу-1.5\"><span class=\"toc-item-num\">1.5&nbsp;&nbsp;</span>Выводы по этому разделу</a></span></li></ul></li><li><span><a href=\"#Анализ-данных\" data-toc-modified-id=\"Анализ-данных-2\"><span class=\"toc-item-num\">2&nbsp;&nbsp;</span>Анализ данных</a></span><ul class=\"toc-item\"><li><span><a href=\"#Расчет-концентрации-металлов-на-разных-этапах\" data-toc-modified-id=\"Расчет-концентрации-металлов-на-разных-этапах-2.1\"><span class=\"toc-item-num\">2.1&nbsp;&nbsp;</span>Расчет концентрации металлов на разных этапах</a></span><ul class=\"toc-item\"><li><ul class=\"toc-item\"><li><span><a href=\"#Описательная-статистика-по-трем-металлам\" data-toc-modified-id=\"Описательная-статистика-по-трем-металлам-2.1.0.1\"><span class=\"toc-item-num\">2.1.0.1&nbsp;&nbsp;</span>Описательная статистика по трем металлам</a></span></li><li><span><a href=\"#Выводы\" data-toc-modified-id=\"Выводы-2.1.0.2\"><span class=\"toc-item-num\">2.1.0.2&nbsp;&nbsp;</span>Выводы</a></span></li></ul></li></ul></li><li><span><a href=\"#График-распределения-размера-гранул\" data-toc-modified-id=\"График-распределения-размера-гранул-2.2\"><span class=\"toc-item-num\">2.2&nbsp;&nbsp;</span>График распределения размера гранул</a></span><ul class=\"toc-item\"><li><ul class=\"toc-item\"><li><span><a href=\"#Выводы\" data-toc-modified-id=\"Выводы-2.2.0.1\"><span class=\"toc-item-num\">2.2.0.1&nbsp;&nbsp;</span>Выводы</a></span></li></ul></li></ul></li><li><span><a href=\"#Расчет-суммарной-концентрации\" data-toc-modified-id=\"Расчет-суммарной-концентрации-2.3\"><span class=\"toc-item-num\">2.3&nbsp;&nbsp;</span>Расчет суммарной концентрации</a></span></li><li><span><a href=\"#Удаление-выбросов\" data-toc-modified-id=\"Удаление-выбросов-2.4\"><span class=\"toc-item-num\">2.4&nbsp;&nbsp;</span>Удаление выбросов</a></span></li><li><span><a href=\"#График-суммарной-концентрации-после-удаления-выбросов\" data-toc-modified-id=\"График-суммарной-концентрации-после-удаления-выбросов-2.5\"><span class=\"toc-item-num\">2.5&nbsp;&nbsp;</span>График суммарной концентрации после удаления выбросов</a></span><ul class=\"toc-item\"><li><ul class=\"toc-item\"><li><span><a href=\"#Выводы\" data-toc-modified-id=\"Выводы-2.5.0.1\"><span class=\"toc-item-num\">2.5.0.1&nbsp;&nbsp;</span>Выводы</a></span></li></ul></li></ul></li></ul></li><li><span><a href=\"#Построение-модели\" data-toc-modified-id=\"Построение-модели-3\"><span class=\"toc-item-num\">3&nbsp;&nbsp;</span>Построение модели</a></span><ul class=\"toc-item\"><li><span><a href=\"#Определим-метрики\" data-toc-modified-id=\"Определим-метрики-3.1\"><span class=\"toc-item-num\">3.1&nbsp;&nbsp;</span>Определим метрики</a></span></li><li><span><a href=\"#Инициализация-pipeline\" data-toc-modified-id=\"Инициализация-pipeline-3.2\"><span class=\"toc-item-num\">3.2&nbsp;&nbsp;</span>Инициализация pipeline</a></span></li><li><span><a href=\"#Обучение\" data-toc-modified-id=\"Обучение-3.3\"><span class=\"toc-item-num\">3.3&nbsp;&nbsp;</span>Обучение</a></span></li><li><span><a href=\"#Лучшие-результаты-на-тренировочной-выборке\" data-toc-modified-id=\"Лучшие-результаты-на-тренировочной-выборке-3.4\"><span class=\"toc-item-num\">3.4&nbsp;&nbsp;</span>Лучшие результаты на тренировочной выборке</a></span></li><li><span><a href=\"#Финальная-ошибка-на-тестовой-выборке\" data-toc-modified-id=\"Финальная-ошибка-на-тестовой-выборке-3.5\"><span class=\"toc-item-num\">3.5&nbsp;&nbsp;</span>Финальная ошибка на тестовой выборке</a></span></li><li><span><a href=\"#Инициализируем-и-обучим-DummyRegressor-по-медиане\" data-toc-modified-id=\"Инициализируем-и-обучим-DummyRegressor-по-медиане-3.6\"><span class=\"toc-item-num\">3.6&nbsp;&nbsp;</span>Инициализируем и обучим DummyRegressor по медиане</a></span><ul class=\"toc-item\"><li><ul class=\"toc-item\"><li><span><a href=\"#Вывод-после-сравнения-результатов\" data-toc-modified-id=\"Вывод-после-сравнения-результатов-3.6.0.1\"><span class=\"toc-item-num\">3.6.0.1&nbsp;&nbsp;</span>Вывод после сравнения результатов</a></span></li></ul></li><li><span><a href=\"#Вывод\" data-toc-modified-id=\"Вывод-3.6.1\"><span class=\"toc-item-num\">3.6.1&nbsp;&nbsp;</span>Вывод</a></span></li></ul></li></ul></li><li><span><a href=\"#Общие-выводы\" data-toc-modified-id=\"Общие-выводы-4\"><span class=\"toc-item-num\">4&nbsp;&nbsp;</span>Общие выводы</a></span></li><li><span><a href=\"#Комментарий-ревьюера:-общий-вывод-по-проекту.\" data-toc-modified-id=\"Комментарий-ревьюера:-общий-вывод-по-проекту.-5\"><span class=\"toc-item-num\">5&nbsp;&nbsp;</span>Комментарий ревьюера: общий вывод по проекту.</a></span></li><li><span><a href=\"#Комментарий-ревьюера:-общий-вывод-по-проекту-v.2.\" data-toc-modified-id=\"Комментарий-ревьюера:-общий-вывод-по-проекту-v.2.-6\"><span class=\"toc-item-num\">6&nbsp;&nbsp;</span>Комментарий ревьюера: общий вывод по проекту v.2.</a></span></li><li><span><a href=\"#Комментарий-ревьюера:-общий-вывод-по-проекту-v.3.\" data-toc-modified-id=\"Комментарий-ревьюера:-общий-вывод-по-проекту-v.3.-7\"><span class=\"toc-item-num\">7&nbsp;&nbsp;</span>Комментарий ревьюера: общий вывод по проекту v.3.</a></span></li></ul></div>"
   ]
  },
  {
   "cell_type": "markdown",
   "metadata": {
    "id": "fVj9vOPMxI69"
   },
   "source": [
    "# Описание проекта\n",
    "\n",
    "Подготовьте прототип модели машинного обучения для «Цифры». Компания разрабатывает решения для эффективной работы промышленных предприятий.\n",
    "\n",
    "Модель должна предсказать коэффициент восстановления золота из золотосодержащей руды. В вашем распоряжении данные с параметрами добычи и очистки. \n",
    "\n",
    "Модель поможет оптимизировать производство, чтобы не запускать предприятие с убыточными характеристиками.\n",
    "\n",
    "Вам нужно:\n",
    "\n",
    "1. Подготовить данные;\n",
    "2. Провести исследовательский анализ данных;\n",
    "3. Построить и обучить модель.\n",
    "\n",
    "Чтобы выполнить проект, обращайтесь к библиотекам *pandas*, *matplotlib* и *sklearn.* Вам поможет их документация."
   ]
  },
  {
   "cell_type": "markdown",
   "metadata": {},
   "source": [
    "### Первичная подготовка"
   ]
  },
  {
   "cell_type": "markdown",
   "metadata": {
    "id": "gpLuRsMfxI7C"
   },
   "source": [
    "#### Импортирование необходимых библиотек\n"
   ]
  },
  {
   "cell_type": "code",
   "execution_count": 1,
   "metadata": {
    "ExecuteTime": {
     "end_time": "2021-01-13T13:25:55.146459Z",
     "start_time": "2021-01-13T13:25:53.512484Z"
    },
    "id": "LrM3qYU1xI7F"
   },
   "outputs": [],
   "source": [
    "import numpy as np\n",
    "import pandas as pd\n",
    "\n",
    "from sklearn.metrics import mean_absolute_error as MAE\n",
    "from sklearn.pipeline import  make_pipeline\n",
    "from sklearn.impute import KNNImputer\n",
    "from sklearn.ensemble import RandomForestRegressor\n",
    "from sklearn.preprocessing import StandardScaler\n",
    "from sklearn.model_selection import cross_val_score\n",
    "from sklearn.model_selection import GridSearchCV\n",
    "from sklearn.preprocessing import PolynomialFeatures\n",
    "from sklearn.linear_model import LinearRegression\n",
    "from sklearn.tree import DecisionTreeRegressor\n",
    "import matplotlib.pyplot as plt\n",
    "from sklearn.metrics import make_scorer\n",
    "from sklearn.dummy import DummyRegressor\n",
    "import seaborn as sns\n",
    "import collections\n",
    "\n",
    "import warnings\n",
    "warnings.simplefilter(action='ignore', category=FutureWarning)"
   ]
  },
  {
   "cell_type": "markdown",
   "metadata": {},
   "source": [
    "<div class=\"alert alert-warning\">\n",
    "    <h2> Комментарий ревьюера <a class=\"tocSkip\"> </h2>\n",
    "    \n",
    "<b>Некоторые замечания и рекомендации⚠️:</b> \n",
    "\n",
    "Я вижу, исполнение твоего кода начинается в ячейке с номером, который отличается от единицы. Перед отправкой проекта стоит проверять работоспособность кода — это можно сделать, нажав на панели Jupiter Hub ``Kernel`` и ``Restart & Run All`` (см скриншот ниже).\n",
    "\n",
    "![](https://i.postimg.cc/yd19rYf6/Screenshot-428.png)\n",
    "        \n",
    "Важно также убедиться, что все ячейки проекта исполнились - можно просто пролистать работу до конца и убедиться, что последняя ячейка исполнена. Такая проверка поможет тебе убедиться, что твоё решение будет должным образом воспроизведено во время ревью или во время передачи его заказчику - это очень важный этап, пренебрегать которым не стоит:)"
   ]
  },
  {
   "cell_type": "markdown",
   "metadata": {
    "id": "1w1k9D-RxI7R"
   },
   "source": [
    "####   Подготовка данных"
   ]
  },
  {
   "cell_type": "markdown",
   "metadata": {},
   "source": [
    "Загрузим датасеты"
   ]
  },
  {
   "cell_type": "code",
   "execution_count": 2,
   "metadata": {
    "ExecuteTime": {
     "end_time": "2021-01-13T13:25:55.773939Z",
     "start_time": "2021-01-13T13:25:55.147888Z"
    },
    "id": "M-kqvN_8xI7T"
   },
   "outputs": [],
   "source": [
    "data_train = pd.read_csv(\"https://code.s3.yandex.net/datasets/gold_recovery_train_new.csv\")\n",
    "data_test = pd.read_csv(\"https://code.s3.yandex.net/datasets/gold_recovery_test_new.csv\")\n",
    "data_full = pd.read_csv(\"https://code.s3.yandex.net/datasets/gold_recovery_full_new.csv\")"
   ]
  },
  {
   "cell_type": "markdown",
   "metadata": {},
   "source": [
    "<div class=\"alert alert-success\">\n",
    "<h2> Комментарий ревьюера <a class=\"tocSkip\"> </h2>\n",
    "\n",
    "<b>Все отлично!👍</b> \n",
    "    \n",
    "Данные загрузили.\n",
    "    \n",
    "При считывании данных из файла здорово перестраховывать себя от ошибок, связанных, например, с неверным указанием пути к файлу. А иногда бывает, что работаешь с файлом локально, выгружаешь его на сервер, ожидая, что он будет принимать данные, которые лежат на том же сервере, а код падает с ошибкой, потому что путь к файлу не поменялся с локального на серверный.\n",
    "    \n",
    "Для этого, например, можно использовать конструкцию `try-except`: сначала пробуешь локальный путь, при возникновении ошибки используется серверный путь (подробнее можешь почитать тут: https://pythonworld.ru/tipy-dannyx-v-python/isklyucheniya-v-python-konstrukciya-try-except-dlya-obrabotki-isklyuchenij.html).\n",
    "    \n",
    "Но еще лучше использовать библиотеку `os` - её использование позволит тебе проверять существование указанных директорий (что может быть актуально при одновременной работа на локальном и сетевом окружении) и загружать данные из существующей директории, избегая ошибок. Как пример:\n",
    "    \n",
    "    import os\n",
    "\n",
    "    pth1 = '/folder_1/data.csv'\n",
    "    pth2 = '/folder_2/data.csv'\n",
    "    \n",
    "    if os.path.exists(pth1):\n",
    "        query_1 = pd.read_csv(pth1)\n",
    "    elif os.path.exists(pth2):\n",
    "        query_1 = pd.read_csv(pth2)\n",
    "    else:\n",
    "        print('Something is wrong')\n",
    "\n",
    "Ещё на этапе считывания данных можно спарсить дату: за это действие отвечает параметр `parse_dates` метода `read_csv()`, в него нужно передать список с названием полей-дат, и в большинстве случаев дата будет корректно преобразована в нужный формат сразу:)\n",
    "Также на этапе считывания данных задать индекс-столбец- за это действие отвечает параметр `index_col`."
   ]
  },
  {
   "cell_type": "markdown",
   "metadata": {},
   "source": [
    "Уберем бесконечности (на всякий случай)"
   ]
  },
  {
   "cell_type": "code",
   "execution_count": 3,
   "metadata": {
    "ExecuteTime": {
     "end_time": "2021-01-13T13:25:55.798556Z",
     "start_time": "2021-01-13T13:25:55.775779Z"
    },
    "id": "lCWCuBkwxI7o"
   },
   "outputs": [],
   "source": [
    "data_train = data_train.replace(float(\"-inf\"),np.nan)\n",
    "data_test = data_test.replace(float(\"-inf\"),np.nan)\n",
    "data_full = data_full.replace(float(\"-inf\"),np.nan)"
   ]
  },
  {
   "cell_type": "markdown",
   "metadata": {},
   "source": [
    "Посмотрим на наши 3 файлика"
   ]
  },
  {
   "cell_type": "code",
   "execution_count": 4,
   "metadata": {
    "ExecuteTime": {
     "end_time": "2021-01-13T13:25:55.815410Z",
     "start_time": "2021-01-13T13:25:55.800114Z"
    },
    "colab": {
     "base_uri": "https://localhost:8080/"
    },
    "id": "j7_7Gu-ZxI7x",
    "outputId": "b55bff41-8ae0-4ee1-f172-e1797fb21a6a",
    "scrolled": true
   },
   "outputs": [
    {
     "name": "stdout",
     "output_type": "stream",
     "text": [
      "<class 'pandas.core.frame.DataFrame'>\n",
      "RangeIndex: 14149 entries, 0 to 14148\n",
      "Data columns (total 87 columns):\n",
      " #   Column                                              Non-Null Count  Dtype  \n",
      "---  ------                                              --------------  -----  \n",
      " 0   date                                                14149 non-null  object \n",
      " 1   final.output.concentrate_ag                         14148 non-null  float64\n",
      " 2   final.output.concentrate_pb                         14148 non-null  float64\n",
      " 3   final.output.concentrate_sol                        13938 non-null  float64\n",
      " 4   final.output.concentrate_au                         14149 non-null  float64\n",
      " 5   final.output.recovery                               14149 non-null  float64\n",
      " 6   final.output.tail_ag                                14149 non-null  float64\n",
      " 7   final.output.tail_pb                                14049 non-null  float64\n",
      " 8   final.output.tail_sol                               14144 non-null  float64\n",
      " 9   final.output.tail_au                                14149 non-null  float64\n",
      " 10  primary_cleaner.input.sulfate                       14129 non-null  float64\n",
      " 11  primary_cleaner.input.depressant                    14117 non-null  float64\n",
      " 12  primary_cleaner.input.feed_size                     14149 non-null  float64\n",
      " 13  primary_cleaner.input.xanthate                      14049 non-null  float64\n",
      " 14  primary_cleaner.output.concentrate_ag               14149 non-null  float64\n",
      " 15  primary_cleaner.output.concentrate_pb               14063 non-null  float64\n",
      " 16  primary_cleaner.output.concentrate_sol              13863 non-null  float64\n",
      " 17  primary_cleaner.output.concentrate_au               14149 non-null  float64\n",
      " 18  primary_cleaner.output.tail_ag                      14148 non-null  float64\n",
      " 19  primary_cleaner.output.tail_pb                      14134 non-null  float64\n",
      " 20  primary_cleaner.output.tail_sol                     14103 non-null  float64\n",
      " 21  primary_cleaner.output.tail_au                      14149 non-null  float64\n",
      " 22  primary_cleaner.state.floatbank8_a_air              14145 non-null  float64\n",
      " 23  primary_cleaner.state.floatbank8_a_level            14148 non-null  float64\n",
      " 24  primary_cleaner.state.floatbank8_b_air              14145 non-null  float64\n",
      " 25  primary_cleaner.state.floatbank8_b_level            14148 non-null  float64\n",
      " 26  primary_cleaner.state.floatbank8_c_air              14147 non-null  float64\n",
      " 27  primary_cleaner.state.floatbank8_c_level            14148 non-null  float64\n",
      " 28  primary_cleaner.state.floatbank8_d_air              14146 non-null  float64\n",
      " 29  primary_cleaner.state.floatbank8_d_level            14148 non-null  float64\n",
      " 30  rougher.calculation.sulfate_to_au_concentrate       14148 non-null  float64\n",
      " 31  rougher.calculation.floatbank10_sulfate_to_au_feed  14148 non-null  float64\n",
      " 32  rougher.calculation.floatbank11_sulfate_to_au_feed  14148 non-null  float64\n",
      " 33  rougher.calculation.au_pb_ratio                     14149 non-null  float64\n",
      " 34  rougher.input.feed_ag                               14149 non-null  float64\n",
      " 35  rougher.input.feed_pb                               14049 non-null  float64\n",
      " 36  rougher.input.feed_rate                             14141 non-null  float64\n",
      " 37  rougher.input.feed_size                             14005 non-null  float64\n",
      " 38  rougher.input.feed_sol                              14071 non-null  float64\n",
      " 39  rougher.input.feed_au                               14149 non-null  float64\n",
      " 40  rougher.input.floatbank10_sulfate                   14120 non-null  float64\n",
      " 41  rougher.input.floatbank10_xanthate                  14141 non-null  float64\n",
      " 42  rougher.input.floatbank11_sulfate                   14113 non-null  float64\n",
      " 43  rougher.input.floatbank11_xanthate                  13721 non-null  float64\n",
      " 44  rougher.output.concentrate_ag                       14149 non-null  float64\n",
      " 45  rougher.output.concentrate_pb                       14149 non-null  float64\n",
      " 46  rougher.output.concentrate_sol                      14127 non-null  float64\n",
      " 47  rougher.output.concentrate_au                       14149 non-null  float64\n",
      " 48  rougher.output.recovery                             14149 non-null  float64\n",
      " 49  rougher.output.tail_ag                              14148 non-null  float64\n",
      " 50  rougher.output.tail_pb                              14149 non-null  float64\n",
      " 51  rougher.output.tail_sol                             14149 non-null  float64\n",
      " 52  rougher.output.tail_au                              14149 non-null  float64\n",
      " 53  rougher.state.floatbank10_a_air                     14148 non-null  float64\n",
      " 54  rougher.state.floatbank10_a_level                   14148 non-null  float64\n",
      " 55  rougher.state.floatbank10_b_air                     14148 non-null  float64\n",
      " 56  rougher.state.floatbank10_b_level                   14148 non-null  float64\n",
      " 57  rougher.state.floatbank10_c_air                     14148 non-null  float64\n",
      " 58  rougher.state.floatbank10_c_level                   14148 non-null  float64\n",
      " 59  rougher.state.floatbank10_d_air                     14149 non-null  float64\n",
      " 60  rougher.state.floatbank10_d_level                   14149 non-null  float64\n",
      " 61  rougher.state.floatbank10_e_air                     13713 non-null  float64\n",
      " 62  rougher.state.floatbank10_e_level                   14149 non-null  float64\n",
      " 63  rougher.state.floatbank10_f_air                     14149 non-null  float64\n",
      " 64  rougher.state.floatbank10_f_level                   14149 non-null  float64\n",
      " 65  secondary_cleaner.output.tail_ag                    14147 non-null  float64\n",
      " 66  secondary_cleaner.output.tail_pb                    14139 non-null  float64\n",
      " 67  secondary_cleaner.output.tail_sol                   12544 non-null  float64\n",
      " 68  secondary_cleaner.output.tail_au                    14149 non-null  float64\n",
      " 69  secondary_cleaner.state.floatbank2_a_air            13932 non-null  float64\n",
      " 70  secondary_cleaner.state.floatbank2_a_level          14148 non-null  float64\n",
      " 71  secondary_cleaner.state.floatbank2_b_air            14128 non-null  float64\n",
      " 72  secondary_cleaner.state.floatbank2_b_level          14148 non-null  float64\n",
      " 73  secondary_cleaner.state.floatbank3_a_air            14145 non-null  float64\n",
      " 74  secondary_cleaner.state.floatbank3_a_level          14148 non-null  float64\n",
      " 75  secondary_cleaner.state.floatbank3_b_air            14148 non-null  float64\n",
      " 76  secondary_cleaner.state.floatbank3_b_level          14148 non-null  float64\n",
      " 77  secondary_cleaner.state.floatbank4_a_air            14143 non-null  float64\n",
      " 78  secondary_cleaner.state.floatbank4_a_level          14148 non-null  float64\n",
      " 79  secondary_cleaner.state.floatbank4_b_air            14148 non-null  float64\n",
      " 80  secondary_cleaner.state.floatbank4_b_level          14148 non-null  float64\n",
      " 81  secondary_cleaner.state.floatbank5_a_air            14148 non-null  float64\n",
      " 82  secondary_cleaner.state.floatbank5_a_level          14148 non-null  float64\n",
      " 83  secondary_cleaner.state.floatbank5_b_air            14148 non-null  float64\n",
      " 84  secondary_cleaner.state.floatbank5_b_level          14148 non-null  float64\n",
      " 85  secondary_cleaner.state.floatbank6_a_air            14147 non-null  float64\n",
      " 86  secondary_cleaner.state.floatbank6_a_level          14148 non-null  float64\n",
      "dtypes: float64(86), object(1)\n",
      "memory usage: 9.4+ MB\n"
     ]
    }
   ],
   "source": [
    "data_train.info()"
   ]
  },
  {
   "cell_type": "code",
   "execution_count": 5,
   "metadata": {},
   "outputs": [
    {
     "data": {
      "text/html": [
       "<div>\n",
       "<style scoped>\n",
       "    .dataframe tbody tr th:only-of-type {\n",
       "        vertical-align: middle;\n",
       "    }\n",
       "\n",
       "    .dataframe tbody tr th {\n",
       "        vertical-align: top;\n",
       "    }\n",
       "\n",
       "    .dataframe thead th {\n",
       "        text-align: right;\n",
       "    }\n",
       "</style>\n",
       "<table border=\"1\" class=\"dataframe\">\n",
       "  <thead>\n",
       "    <tr style=\"text-align: right;\">\n",
       "      <th></th>\n",
       "      <th>0</th>\n",
       "      <th>1</th>\n",
       "      <th>2</th>\n",
       "    </tr>\n",
       "  </thead>\n",
       "  <tbody>\n",
       "    <tr>\n",
       "      <th>date</th>\n",
       "      <td>2016-01-15 00:00:00</td>\n",
       "      <td>2016-01-15 01:00:00</td>\n",
       "      <td>2016-01-15 02:00:00</td>\n",
       "    </tr>\n",
       "    <tr>\n",
       "      <th>final.output.concentrate_ag</th>\n",
       "      <td>6.055403</td>\n",
       "      <td>6.029369</td>\n",
       "      <td>6.055926</td>\n",
       "    </tr>\n",
       "    <tr>\n",
       "      <th>final.output.concentrate_pb</th>\n",
       "      <td>9.889648</td>\n",
       "      <td>9.968944</td>\n",
       "      <td>10.213995</td>\n",
       "    </tr>\n",
       "    <tr>\n",
       "      <th>final.output.concentrate_sol</th>\n",
       "      <td>5.507324</td>\n",
       "      <td>5.257781</td>\n",
       "      <td>5.383759</td>\n",
       "    </tr>\n",
       "    <tr>\n",
       "      <th>final.output.concentrate_au</th>\n",
       "      <td>42.19202</td>\n",
       "      <td>42.701629</td>\n",
       "      <td>42.657501</td>\n",
       "    </tr>\n",
       "    <tr>\n",
       "      <th>...</th>\n",
       "      <td>...</td>\n",
       "      <td>...</td>\n",
       "      <td>...</td>\n",
       "    </tr>\n",
       "    <tr>\n",
       "      <th>secondary_cleaner.state.floatbank5_a_level</th>\n",
       "      <td>-498.310211</td>\n",
       "      <td>-500.169983</td>\n",
       "      <td>-500.129135</td>\n",
       "    </tr>\n",
       "    <tr>\n",
       "      <th>secondary_cleaner.state.floatbank5_b_air</th>\n",
       "      <td>8.079666</td>\n",
       "      <td>7.984757</td>\n",
       "      <td>8.013877</td>\n",
       "    </tr>\n",
       "    <tr>\n",
       "      <th>secondary_cleaner.state.floatbank5_b_level</th>\n",
       "      <td>-500.470978</td>\n",
       "      <td>-500.582168</td>\n",
       "      <td>-500.517572</td>\n",
       "    </tr>\n",
       "    <tr>\n",
       "      <th>secondary_cleaner.state.floatbank6_a_air</th>\n",
       "      <td>14.151341</td>\n",
       "      <td>13.998353</td>\n",
       "      <td>14.028663</td>\n",
       "    </tr>\n",
       "    <tr>\n",
       "      <th>secondary_cleaner.state.floatbank6_a_level</th>\n",
       "      <td>-605.84198</td>\n",
       "      <td>-599.787184</td>\n",
       "      <td>-601.427363</td>\n",
       "    </tr>\n",
       "  </tbody>\n",
       "</table>\n",
       "<p>87 rows × 3 columns</p>\n",
       "</div>"
      ],
      "text/plain": [
       "                                                              0  \\\n",
       "date                                        2016-01-15 00:00:00   \n",
       "final.output.concentrate_ag                            6.055403   \n",
       "final.output.concentrate_pb                            9.889648   \n",
       "final.output.concentrate_sol                           5.507324   \n",
       "final.output.concentrate_au                            42.19202   \n",
       "...                                                         ...   \n",
       "secondary_cleaner.state.floatbank5_a_level          -498.310211   \n",
       "secondary_cleaner.state.floatbank5_b_air               8.079666   \n",
       "secondary_cleaner.state.floatbank5_b_level          -500.470978   \n",
       "secondary_cleaner.state.floatbank6_a_air              14.151341   \n",
       "secondary_cleaner.state.floatbank6_a_level           -605.84198   \n",
       "\n",
       "                                                              1  \\\n",
       "date                                        2016-01-15 01:00:00   \n",
       "final.output.concentrate_ag                            6.029369   \n",
       "final.output.concentrate_pb                            9.968944   \n",
       "final.output.concentrate_sol                           5.257781   \n",
       "final.output.concentrate_au                           42.701629   \n",
       "...                                                         ...   \n",
       "secondary_cleaner.state.floatbank5_a_level          -500.169983   \n",
       "secondary_cleaner.state.floatbank5_b_air               7.984757   \n",
       "secondary_cleaner.state.floatbank5_b_level          -500.582168   \n",
       "secondary_cleaner.state.floatbank6_a_air              13.998353   \n",
       "secondary_cleaner.state.floatbank6_a_level          -599.787184   \n",
       "\n",
       "                                                              2  \n",
       "date                                        2016-01-15 02:00:00  \n",
       "final.output.concentrate_ag                            6.055926  \n",
       "final.output.concentrate_pb                           10.213995  \n",
       "final.output.concentrate_sol                           5.383759  \n",
       "final.output.concentrate_au                           42.657501  \n",
       "...                                                         ...  \n",
       "secondary_cleaner.state.floatbank5_a_level          -500.129135  \n",
       "secondary_cleaner.state.floatbank5_b_air               8.013877  \n",
       "secondary_cleaner.state.floatbank5_b_level          -500.517572  \n",
       "secondary_cleaner.state.floatbank6_a_air              14.028663  \n",
       "secondary_cleaner.state.floatbank6_a_level          -601.427363  \n",
       "\n",
       "[87 rows x 3 columns]"
      ]
     },
     "execution_count": 5,
     "metadata": {},
     "output_type": "execute_result"
    }
   ],
   "source": [
    "data_train.head(3).T"
   ]
  },
  {
   "cell_type": "code",
   "execution_count": 6,
   "metadata": {},
   "outputs": [
    {
     "name": "stdout",
     "output_type": "stream",
     "text": [
      "<class 'pandas.core.frame.DataFrame'>\n",
      "RangeIndex: 5290 entries, 0 to 5289\n",
      "Data columns (total 53 columns):\n",
      " #   Column                                      Non-Null Count  Dtype  \n",
      "---  ------                                      --------------  -----  \n",
      " 0   date                                        5290 non-null   object \n",
      " 1   primary_cleaner.input.sulfate               5286 non-null   float64\n",
      " 2   primary_cleaner.input.depressant            5285 non-null   float64\n",
      " 3   primary_cleaner.input.feed_size             5290 non-null   float64\n",
      " 4   primary_cleaner.input.xanthate              5286 non-null   float64\n",
      " 5   primary_cleaner.state.floatbank8_a_air      5290 non-null   float64\n",
      " 6   primary_cleaner.state.floatbank8_a_level    5290 non-null   float64\n",
      " 7   primary_cleaner.state.floatbank8_b_air      5290 non-null   float64\n",
      " 8   primary_cleaner.state.floatbank8_b_level    5290 non-null   float64\n",
      " 9   primary_cleaner.state.floatbank8_c_air      5290 non-null   float64\n",
      " 10  primary_cleaner.state.floatbank8_c_level    5290 non-null   float64\n",
      " 11  primary_cleaner.state.floatbank8_d_air      5290 non-null   float64\n",
      " 12  primary_cleaner.state.floatbank8_d_level    5290 non-null   float64\n",
      " 13  rougher.input.feed_ag                       5290 non-null   float64\n",
      " 14  rougher.input.feed_pb                       5290 non-null   float64\n",
      " 15  rougher.input.feed_rate                     5287 non-null   float64\n",
      " 16  rougher.input.feed_size                     5289 non-null   float64\n",
      " 17  rougher.input.feed_sol                      5269 non-null   float64\n",
      " 18  rougher.input.feed_au                       5290 non-null   float64\n",
      " 19  rougher.input.floatbank10_sulfate           5285 non-null   float64\n",
      " 20  rougher.input.floatbank10_xanthate          5290 non-null   float64\n",
      " 21  rougher.input.floatbank11_sulfate           5282 non-null   float64\n",
      " 22  rougher.input.floatbank11_xanthate          5265 non-null   float64\n",
      " 23  rougher.state.floatbank10_a_air             5290 non-null   float64\n",
      " 24  rougher.state.floatbank10_a_level           5290 non-null   float64\n",
      " 25  rougher.state.floatbank10_b_air             5290 non-null   float64\n",
      " 26  rougher.state.floatbank10_b_level           5290 non-null   float64\n",
      " 27  rougher.state.floatbank10_c_air             5290 non-null   float64\n",
      " 28  rougher.state.floatbank10_c_level           5290 non-null   float64\n",
      " 29  rougher.state.floatbank10_d_air             5290 non-null   float64\n",
      " 30  rougher.state.floatbank10_d_level           5290 non-null   float64\n",
      " 31  rougher.state.floatbank10_e_air             5290 non-null   float64\n",
      " 32  rougher.state.floatbank10_e_level           5290 non-null   float64\n",
      " 33  rougher.state.floatbank10_f_air             5290 non-null   float64\n",
      " 34  rougher.state.floatbank10_f_level           5290 non-null   float64\n",
      " 35  secondary_cleaner.state.floatbank2_a_air    5287 non-null   float64\n",
      " 36  secondary_cleaner.state.floatbank2_a_level  5290 non-null   float64\n",
      " 37  secondary_cleaner.state.floatbank2_b_air    5288 non-null   float64\n",
      " 38  secondary_cleaner.state.floatbank2_b_level  5290 non-null   float64\n",
      " 39  secondary_cleaner.state.floatbank3_a_air    5281 non-null   float64\n",
      " 40  secondary_cleaner.state.floatbank3_a_level  5290 non-null   float64\n",
      " 41  secondary_cleaner.state.floatbank3_b_air    5290 non-null   float64\n",
      " 42  secondary_cleaner.state.floatbank3_b_level  5290 non-null   float64\n",
      " 43  secondary_cleaner.state.floatbank4_a_air    5290 non-null   float64\n",
      " 44  secondary_cleaner.state.floatbank4_a_level  5290 non-null   float64\n",
      " 45  secondary_cleaner.state.floatbank4_b_air    5290 non-null   float64\n",
      " 46  secondary_cleaner.state.floatbank4_b_level  5290 non-null   float64\n",
      " 47  secondary_cleaner.state.floatbank5_a_air    5290 non-null   float64\n",
      " 48  secondary_cleaner.state.floatbank5_a_level  5290 non-null   float64\n",
      " 49  secondary_cleaner.state.floatbank5_b_air    5290 non-null   float64\n",
      " 50  secondary_cleaner.state.floatbank5_b_level  5290 non-null   float64\n",
      " 51  secondary_cleaner.state.floatbank6_a_air    5290 non-null   float64\n",
      " 52  secondary_cleaner.state.floatbank6_a_level  5290 non-null   float64\n",
      "dtypes: float64(52), object(1)\n",
      "memory usage: 2.1+ MB\n"
     ]
    }
   ],
   "source": [
    "data_test.info()"
   ]
  },
  {
   "cell_type": "code",
   "execution_count": 7,
   "metadata": {
    "scrolled": true
   },
   "outputs": [
    {
     "data": {
      "text/html": [
       "<div>\n",
       "<style scoped>\n",
       "    .dataframe tbody tr th:only-of-type {\n",
       "        vertical-align: middle;\n",
       "    }\n",
       "\n",
       "    .dataframe tbody tr th {\n",
       "        vertical-align: top;\n",
       "    }\n",
       "\n",
       "    .dataframe thead th {\n",
       "        text-align: right;\n",
       "    }\n",
       "</style>\n",
       "<table border=\"1\" class=\"dataframe\">\n",
       "  <thead>\n",
       "    <tr style=\"text-align: right;\">\n",
       "      <th></th>\n",
       "      <th>0</th>\n",
       "      <th>1</th>\n",
       "      <th>2</th>\n",
       "    </tr>\n",
       "  </thead>\n",
       "  <tbody>\n",
       "    <tr>\n",
       "      <th>date</th>\n",
       "      <td>2016-09-01 00:59:59</td>\n",
       "      <td>2016-09-01 01:59:59</td>\n",
       "      <td>2016-09-01 02:59:59</td>\n",
       "    </tr>\n",
       "    <tr>\n",
       "      <th>primary_cleaner.input.sulfate</th>\n",
       "      <td>210.800909</td>\n",
       "      <td>215.392455</td>\n",
       "      <td>215.259946</td>\n",
       "    </tr>\n",
       "    <tr>\n",
       "      <th>primary_cleaner.input.depressant</th>\n",
       "      <td>14.993118</td>\n",
       "      <td>14.987471</td>\n",
       "      <td>12.884934</td>\n",
       "    </tr>\n",
       "    <tr>\n",
       "      <th>primary_cleaner.input.feed_size</th>\n",
       "      <td>8.08</td>\n",
       "      <td>8.08</td>\n",
       "      <td>7.786667</td>\n",
       "    </tr>\n",
       "    <tr>\n",
       "      <th>primary_cleaner.input.xanthate</th>\n",
       "      <td>1.005021</td>\n",
       "      <td>0.990469</td>\n",
       "      <td>0.996043</td>\n",
       "    </tr>\n",
       "    <tr>\n",
       "      <th>primary_cleaner.state.floatbank8_a_air</th>\n",
       "      <td>1398.981301</td>\n",
       "      <td>1398.777912</td>\n",
       "      <td>1398.493666</td>\n",
       "    </tr>\n",
       "    <tr>\n",
       "      <th>primary_cleaner.state.floatbank8_a_level</th>\n",
       "      <td>-500.225577</td>\n",
       "      <td>-500.057435</td>\n",
       "      <td>-500.86836</td>\n",
       "    </tr>\n",
       "    <tr>\n",
       "      <th>primary_cleaner.state.floatbank8_b_air</th>\n",
       "      <td>1399.144926</td>\n",
       "      <td>1398.055362</td>\n",
       "      <td>1398.860436</td>\n",
       "    </tr>\n",
       "    <tr>\n",
       "      <th>primary_cleaner.state.floatbank8_b_level</th>\n",
       "      <td>-499.919735</td>\n",
       "      <td>-499.778182</td>\n",
       "      <td>-499.764529</td>\n",
       "    </tr>\n",
       "    <tr>\n",
       "      <th>primary_cleaner.state.floatbank8_c_air</th>\n",
       "      <td>1400.102998</td>\n",
       "      <td>1396.151033</td>\n",
       "      <td>1398.075709</td>\n",
       "    </tr>\n",
       "    <tr>\n",
       "      <th>primary_cleaner.state.floatbank8_c_level</th>\n",
       "      <td>-500.704369</td>\n",
       "      <td>-499.240168</td>\n",
       "      <td>-502.151509</td>\n",
       "    </tr>\n",
       "    <tr>\n",
       "      <th>primary_cleaner.state.floatbank8_d_air</th>\n",
       "      <td>1399.001695</td>\n",
       "      <td>1399.508091</td>\n",
       "      <td>1399.497088</td>\n",
       "    </tr>\n",
       "    <tr>\n",
       "      <th>primary_cleaner.state.floatbank8_d_level</th>\n",
       "      <td>-499.485144</td>\n",
       "      <td>-500.416324</td>\n",
       "      <td>-499.715479</td>\n",
       "    </tr>\n",
       "    <tr>\n",
       "      <th>rougher.input.feed_ag</th>\n",
       "      <td>13.128569</td>\n",
       "      <td>13.03628</td>\n",
       "      <td>13.138412</td>\n",
       "    </tr>\n",
       "    <tr>\n",
       "      <th>rougher.input.feed_pb</th>\n",
       "      <td>5.63671</td>\n",
       "      <td>5.526065</td>\n",
       "      <td>5.426561</td>\n",
       "    </tr>\n",
       "    <tr>\n",
       "      <th>rougher.input.feed_rate</th>\n",
       "      <td>489.793655</td>\n",
       "      <td>490.104534</td>\n",
       "      <td>489.617969</td>\n",
       "    </tr>\n",
       "    <tr>\n",
       "      <th>rougher.input.feed_size</th>\n",
       "      <td>62.710452</td>\n",
       "      <td>61.961163</td>\n",
       "      <td>66.903807</td>\n",
       "    </tr>\n",
       "    <tr>\n",
       "      <th>rougher.input.feed_sol</th>\n",
       "      <td>42.02244</td>\n",
       "      <td>41.187903</td>\n",
       "      <td>42.546294</td>\n",
       "    </tr>\n",
       "    <tr>\n",
       "      <th>rougher.input.feed_au</th>\n",
       "      <td>12.084103</td>\n",
       "      <td>11.918977</td>\n",
       "      <td>12.091332</td>\n",
       "    </tr>\n",
       "    <tr>\n",
       "      <th>rougher.input.floatbank10_sulfate</th>\n",
       "      <td>16.922877</td>\n",
       "      <td>17.002532</td>\n",
       "      <td>16.99252</td>\n",
       "    </tr>\n",
       "    <tr>\n",
       "      <th>rougher.input.floatbank10_xanthate</th>\n",
       "      <td>6.153479</td>\n",
       "      <td>5.999043</td>\n",
       "      <td>5.850632</td>\n",
       "    </tr>\n",
       "    <tr>\n",
       "      <th>rougher.input.floatbank11_sulfate</th>\n",
       "      <td>16.867518</td>\n",
       "      <td>16.996063</td>\n",
       "      <td>16.982096</td>\n",
       "    </tr>\n",
       "    <tr>\n",
       "      <th>rougher.input.floatbank11_xanthate</th>\n",
       "      <td>6.150709</td>\n",
       "      <td>6.002315</td>\n",
       "      <td>5.853594</td>\n",
       "    </tr>\n",
       "    <tr>\n",
       "      <th>rougher.state.floatbank10_a_air</th>\n",
       "      <td>1001.849317</td>\n",
       "      <td>998.690785</td>\n",
       "      <td>998.51672</td>\n",
       "    </tr>\n",
       "    <tr>\n",
       "      <th>rougher.state.floatbank10_a_level</th>\n",
       "      <td>-350.301265</td>\n",
       "      <td>-350.425704</td>\n",
       "      <td>-349.783538</td>\n",
       "    </tr>\n",
       "    <tr>\n",
       "      <th>rougher.state.floatbank10_b_air</th>\n",
       "      <td>1249.738612</td>\n",
       "      <td>1248.395457</td>\n",
       "      <td>1247.440748</td>\n",
       "    </tr>\n",
       "    <tr>\n",
       "      <th>rougher.state.floatbank10_b_level</th>\n",
       "      <td>-399.107531</td>\n",
       "      <td>-399.946025</td>\n",
       "      <td>-400.26433</td>\n",
       "    </tr>\n",
       "    <tr>\n",
       "      <th>rougher.state.floatbank10_c_air</th>\n",
       "      <td>1249.75052</td>\n",
       "      <td>1249.514451</td>\n",
       "      <td>1248.207204</td>\n",
       "    </tr>\n",
       "    <tr>\n",
       "      <th>rougher.state.floatbank10_c_level</th>\n",
       "      <td>-399.39673</td>\n",
       "      <td>-399.63081</td>\n",
       "      <td>-401.074405</td>\n",
       "    </tr>\n",
       "    <tr>\n",
       "      <th>rougher.state.floatbank10_d_air</th>\n",
       "      <td>1198.287855</td>\n",
       "      <td>1200.506459</td>\n",
       "      <td>1199.770026</td>\n",
       "    </tr>\n",
       "    <tr>\n",
       "      <th>rougher.state.floatbank10_d_level</th>\n",
       "      <td>-399.488594</td>\n",
       "      <td>-399.942434</td>\n",
       "      <td>-400.790582</td>\n",
       "    </tr>\n",
       "    <tr>\n",
       "      <th>rougher.state.floatbank10_e_air</th>\n",
       "      <td>999.47225</td>\n",
       "      <td>1000.002114</td>\n",
       "      <td>999.925519</td>\n",
       "    </tr>\n",
       "    <tr>\n",
       "      <th>rougher.state.floatbank10_e_level</th>\n",
       "      <td>-399.530962</td>\n",
       "      <td>-399.491528</td>\n",
       "      <td>-399.236999</td>\n",
       "    </tr>\n",
       "    <tr>\n",
       "      <th>rougher.state.floatbank10_f_air</th>\n",
       "      <td>949.566189</td>\n",
       "      <td>950.200009</td>\n",
       "      <td>950.320481</td>\n",
       "    </tr>\n",
       "    <tr>\n",
       "      <th>rougher.state.floatbank10_f_level</th>\n",
       "      <td>-398.180807</td>\n",
       "      <td>-405.787514</td>\n",
       "      <td>-400.86434</td>\n",
       "    </tr>\n",
       "    <tr>\n",
       "      <th>secondary_cleaner.state.floatbank2_a_air</th>\n",
       "      <td>24.9382</td>\n",
       "      <td>24.923466</td>\n",
       "      <td>24.908732</td>\n",
       "    </tr>\n",
       "    <tr>\n",
       "      <th>secondary_cleaner.state.floatbank2_a_level</th>\n",
       "      <td>-500.490963</td>\n",
       "      <td>-499.813963</td>\n",
       "      <td>-500.304035</td>\n",
       "    </tr>\n",
       "    <tr>\n",
       "      <th>secondary_cleaner.state.floatbank2_b_air</th>\n",
       "      <td>14.947607</td>\n",
       "      <td>14.930873</td>\n",
       "      <td>14.996511</td>\n",
       "    </tr>\n",
       "    <tr>\n",
       "      <th>secondary_cleaner.state.floatbank2_b_level</th>\n",
       "      <td>-500.013837</td>\n",
       "      <td>-500.764452</td>\n",
       "      <td>-500.993821</td>\n",
       "    </tr>\n",
       "    <tr>\n",
       "      <th>secondary_cleaner.state.floatbank3_a_air</th>\n",
       "      <td>20.018166</td>\n",
       "      <td>19.988503</td>\n",
       "      <td>20.039689</td>\n",
       "    </tr>\n",
       "    <tr>\n",
       "      <th>secondary_cleaner.state.floatbank3_a_level</th>\n",
       "      <td>-450.395995</td>\n",
       "      <td>-450.114024</td>\n",
       "      <td>-450.263164</td>\n",
       "    </tr>\n",
       "    <tr>\n",
       "      <th>secondary_cleaner.state.floatbank3_b_air</th>\n",
       "      <td>13.987058</td>\n",
       "      <td>14.092981</td>\n",
       "      <td>14.077881</td>\n",
       "    </tr>\n",
       "    <tr>\n",
       "      <th>secondary_cleaner.state.floatbank3_b_level</th>\n",
       "      <td>-449.831513</td>\n",
       "      <td>-450.059163</td>\n",
       "      <td>-449.660997</td>\n",
       "    </tr>\n",
       "    <tr>\n",
       "      <th>secondary_cleaner.state.floatbank4_a_air</th>\n",
       "      <td>12.023554</td>\n",
       "      <td>12.05814</td>\n",
       "      <td>11.962366</td>\n",
       "    </tr>\n",
       "    <tr>\n",
       "      <th>secondary_cleaner.state.floatbank4_a_level</th>\n",
       "      <td>-497.795834</td>\n",
       "      <td>-498.695773</td>\n",
       "      <td>-498.767484</td>\n",
       "    </tr>\n",
       "    <tr>\n",
       "      <th>secondary_cleaner.state.floatbank4_b_air</th>\n",
       "      <td>8.016656</td>\n",
       "      <td>8.130979</td>\n",
       "      <td>8.096893</td>\n",
       "    </tr>\n",
       "    <tr>\n",
       "      <th>secondary_cleaner.state.floatbank4_b_level</th>\n",
       "      <td>-501.289139</td>\n",
       "      <td>-499.634209</td>\n",
       "      <td>-500.827423</td>\n",
       "    </tr>\n",
       "    <tr>\n",
       "      <th>secondary_cleaner.state.floatbank5_a_air</th>\n",
       "      <td>7.946562</td>\n",
       "      <td>7.95827</td>\n",
       "      <td>8.071056</td>\n",
       "    </tr>\n",
       "    <tr>\n",
       "      <th>secondary_cleaner.state.floatbank5_a_level</th>\n",
       "      <td>-432.31785</td>\n",
       "      <td>-525.839648</td>\n",
       "      <td>-500.801673</td>\n",
       "    </tr>\n",
       "    <tr>\n",
       "      <th>secondary_cleaner.state.floatbank5_b_air</th>\n",
       "      <td>4.872511</td>\n",
       "      <td>4.87885</td>\n",
       "      <td>4.905125</td>\n",
       "    </tr>\n",
       "    <tr>\n",
       "      <th>secondary_cleaner.state.floatbank5_b_level</th>\n",
       "      <td>-500.037437</td>\n",
       "      <td>-500.162375</td>\n",
       "      <td>-499.82851</td>\n",
       "    </tr>\n",
       "    <tr>\n",
       "      <th>secondary_cleaner.state.floatbank6_a_air</th>\n",
       "      <td>26.705889</td>\n",
       "      <td>25.01994</td>\n",
       "      <td>24.994862</td>\n",
       "    </tr>\n",
       "    <tr>\n",
       "      <th>secondary_cleaner.state.floatbank6_a_level</th>\n",
       "      <td>-499.709414</td>\n",
       "      <td>-499.819438</td>\n",
       "      <td>-500.622559</td>\n",
       "    </tr>\n",
       "  </tbody>\n",
       "</table>\n",
       "</div>"
      ],
      "text/plain": [
       "                                                              0  \\\n",
       "date                                        2016-09-01 00:59:59   \n",
       "primary_cleaner.input.sulfate                        210.800909   \n",
       "primary_cleaner.input.depressant                      14.993118   \n",
       "primary_cleaner.input.feed_size                            8.08   \n",
       "primary_cleaner.input.xanthate                         1.005021   \n",
       "primary_cleaner.state.floatbank8_a_air              1398.981301   \n",
       "primary_cleaner.state.floatbank8_a_level            -500.225577   \n",
       "primary_cleaner.state.floatbank8_b_air              1399.144926   \n",
       "primary_cleaner.state.floatbank8_b_level            -499.919735   \n",
       "primary_cleaner.state.floatbank8_c_air              1400.102998   \n",
       "primary_cleaner.state.floatbank8_c_level            -500.704369   \n",
       "primary_cleaner.state.floatbank8_d_air              1399.001695   \n",
       "primary_cleaner.state.floatbank8_d_level            -499.485144   \n",
       "rougher.input.feed_ag                                 13.128569   \n",
       "rougher.input.feed_pb                                   5.63671   \n",
       "rougher.input.feed_rate                              489.793655   \n",
       "rougher.input.feed_size                               62.710452   \n",
       "rougher.input.feed_sol                                 42.02244   \n",
       "rougher.input.feed_au                                 12.084103   \n",
       "rougher.input.floatbank10_sulfate                     16.922877   \n",
       "rougher.input.floatbank10_xanthate                     6.153479   \n",
       "rougher.input.floatbank11_sulfate                     16.867518   \n",
       "rougher.input.floatbank11_xanthate                     6.150709   \n",
       "rougher.state.floatbank10_a_air                     1001.849317   \n",
       "rougher.state.floatbank10_a_level                   -350.301265   \n",
       "rougher.state.floatbank10_b_air                     1249.738612   \n",
       "rougher.state.floatbank10_b_level                   -399.107531   \n",
       "rougher.state.floatbank10_c_air                      1249.75052   \n",
       "rougher.state.floatbank10_c_level                    -399.39673   \n",
       "rougher.state.floatbank10_d_air                     1198.287855   \n",
       "rougher.state.floatbank10_d_level                   -399.488594   \n",
       "rougher.state.floatbank10_e_air                       999.47225   \n",
       "rougher.state.floatbank10_e_level                   -399.530962   \n",
       "rougher.state.floatbank10_f_air                      949.566189   \n",
       "rougher.state.floatbank10_f_level                   -398.180807   \n",
       "secondary_cleaner.state.floatbank2_a_air                24.9382   \n",
       "secondary_cleaner.state.floatbank2_a_level          -500.490963   \n",
       "secondary_cleaner.state.floatbank2_b_air              14.947607   \n",
       "secondary_cleaner.state.floatbank2_b_level          -500.013837   \n",
       "secondary_cleaner.state.floatbank3_a_air              20.018166   \n",
       "secondary_cleaner.state.floatbank3_a_level          -450.395995   \n",
       "secondary_cleaner.state.floatbank3_b_air              13.987058   \n",
       "secondary_cleaner.state.floatbank3_b_level          -449.831513   \n",
       "secondary_cleaner.state.floatbank4_a_air              12.023554   \n",
       "secondary_cleaner.state.floatbank4_a_level          -497.795834   \n",
       "secondary_cleaner.state.floatbank4_b_air               8.016656   \n",
       "secondary_cleaner.state.floatbank4_b_level          -501.289139   \n",
       "secondary_cleaner.state.floatbank5_a_air               7.946562   \n",
       "secondary_cleaner.state.floatbank5_a_level           -432.31785   \n",
       "secondary_cleaner.state.floatbank5_b_air               4.872511   \n",
       "secondary_cleaner.state.floatbank5_b_level          -500.037437   \n",
       "secondary_cleaner.state.floatbank6_a_air              26.705889   \n",
       "secondary_cleaner.state.floatbank6_a_level          -499.709414   \n",
       "\n",
       "                                                              1  \\\n",
       "date                                        2016-09-01 01:59:59   \n",
       "primary_cleaner.input.sulfate                        215.392455   \n",
       "primary_cleaner.input.depressant                      14.987471   \n",
       "primary_cleaner.input.feed_size                            8.08   \n",
       "primary_cleaner.input.xanthate                         0.990469   \n",
       "primary_cleaner.state.floatbank8_a_air              1398.777912   \n",
       "primary_cleaner.state.floatbank8_a_level            -500.057435   \n",
       "primary_cleaner.state.floatbank8_b_air              1398.055362   \n",
       "primary_cleaner.state.floatbank8_b_level            -499.778182   \n",
       "primary_cleaner.state.floatbank8_c_air              1396.151033   \n",
       "primary_cleaner.state.floatbank8_c_level            -499.240168   \n",
       "primary_cleaner.state.floatbank8_d_air              1399.508091   \n",
       "primary_cleaner.state.floatbank8_d_level            -500.416324   \n",
       "rougher.input.feed_ag                                  13.03628   \n",
       "rougher.input.feed_pb                                  5.526065   \n",
       "rougher.input.feed_rate                              490.104534   \n",
       "rougher.input.feed_size                               61.961163   \n",
       "rougher.input.feed_sol                                41.187903   \n",
       "rougher.input.feed_au                                 11.918977   \n",
       "rougher.input.floatbank10_sulfate                     17.002532   \n",
       "rougher.input.floatbank10_xanthate                     5.999043   \n",
       "rougher.input.floatbank11_sulfate                     16.996063   \n",
       "rougher.input.floatbank11_xanthate                     6.002315   \n",
       "rougher.state.floatbank10_a_air                      998.690785   \n",
       "rougher.state.floatbank10_a_level                   -350.425704   \n",
       "rougher.state.floatbank10_b_air                     1248.395457   \n",
       "rougher.state.floatbank10_b_level                   -399.946025   \n",
       "rougher.state.floatbank10_c_air                     1249.514451   \n",
       "rougher.state.floatbank10_c_level                    -399.63081   \n",
       "rougher.state.floatbank10_d_air                     1200.506459   \n",
       "rougher.state.floatbank10_d_level                   -399.942434   \n",
       "rougher.state.floatbank10_e_air                     1000.002114   \n",
       "rougher.state.floatbank10_e_level                   -399.491528   \n",
       "rougher.state.floatbank10_f_air                      950.200009   \n",
       "rougher.state.floatbank10_f_level                   -405.787514   \n",
       "secondary_cleaner.state.floatbank2_a_air              24.923466   \n",
       "secondary_cleaner.state.floatbank2_a_level          -499.813963   \n",
       "secondary_cleaner.state.floatbank2_b_air              14.930873   \n",
       "secondary_cleaner.state.floatbank2_b_level          -500.764452   \n",
       "secondary_cleaner.state.floatbank3_a_air              19.988503   \n",
       "secondary_cleaner.state.floatbank3_a_level          -450.114024   \n",
       "secondary_cleaner.state.floatbank3_b_air              14.092981   \n",
       "secondary_cleaner.state.floatbank3_b_level          -450.059163   \n",
       "secondary_cleaner.state.floatbank4_a_air               12.05814   \n",
       "secondary_cleaner.state.floatbank4_a_level          -498.695773   \n",
       "secondary_cleaner.state.floatbank4_b_air               8.130979   \n",
       "secondary_cleaner.state.floatbank4_b_level          -499.634209   \n",
       "secondary_cleaner.state.floatbank5_a_air                7.95827   \n",
       "secondary_cleaner.state.floatbank5_a_level          -525.839648   \n",
       "secondary_cleaner.state.floatbank5_b_air                4.87885   \n",
       "secondary_cleaner.state.floatbank5_b_level          -500.162375   \n",
       "secondary_cleaner.state.floatbank6_a_air               25.01994   \n",
       "secondary_cleaner.state.floatbank6_a_level          -499.819438   \n",
       "\n",
       "                                                              2  \n",
       "date                                        2016-09-01 02:59:59  \n",
       "primary_cleaner.input.sulfate                        215.259946  \n",
       "primary_cleaner.input.depressant                      12.884934  \n",
       "primary_cleaner.input.feed_size                        7.786667  \n",
       "primary_cleaner.input.xanthate                         0.996043  \n",
       "primary_cleaner.state.floatbank8_a_air              1398.493666  \n",
       "primary_cleaner.state.floatbank8_a_level             -500.86836  \n",
       "primary_cleaner.state.floatbank8_b_air              1398.860436  \n",
       "primary_cleaner.state.floatbank8_b_level            -499.764529  \n",
       "primary_cleaner.state.floatbank8_c_air              1398.075709  \n",
       "primary_cleaner.state.floatbank8_c_level            -502.151509  \n",
       "primary_cleaner.state.floatbank8_d_air              1399.497088  \n",
       "primary_cleaner.state.floatbank8_d_level            -499.715479  \n",
       "rougher.input.feed_ag                                 13.138412  \n",
       "rougher.input.feed_pb                                  5.426561  \n",
       "rougher.input.feed_rate                              489.617969  \n",
       "rougher.input.feed_size                               66.903807  \n",
       "rougher.input.feed_sol                                42.546294  \n",
       "rougher.input.feed_au                                 12.091332  \n",
       "rougher.input.floatbank10_sulfate                      16.99252  \n",
       "rougher.input.floatbank10_xanthate                     5.850632  \n",
       "rougher.input.floatbank11_sulfate                     16.982096  \n",
       "rougher.input.floatbank11_xanthate                     5.853594  \n",
       "rougher.state.floatbank10_a_air                       998.51672  \n",
       "rougher.state.floatbank10_a_level                   -349.783538  \n",
       "rougher.state.floatbank10_b_air                     1247.440748  \n",
       "rougher.state.floatbank10_b_level                    -400.26433  \n",
       "rougher.state.floatbank10_c_air                     1248.207204  \n",
       "rougher.state.floatbank10_c_level                   -401.074405  \n",
       "rougher.state.floatbank10_d_air                     1199.770026  \n",
       "rougher.state.floatbank10_d_level                   -400.790582  \n",
       "rougher.state.floatbank10_e_air                      999.925519  \n",
       "rougher.state.floatbank10_e_level                   -399.236999  \n",
       "rougher.state.floatbank10_f_air                      950.320481  \n",
       "rougher.state.floatbank10_f_level                    -400.86434  \n",
       "secondary_cleaner.state.floatbank2_a_air              24.908732  \n",
       "secondary_cleaner.state.floatbank2_a_level          -500.304035  \n",
       "secondary_cleaner.state.floatbank2_b_air              14.996511  \n",
       "secondary_cleaner.state.floatbank2_b_level          -500.993821  \n",
       "secondary_cleaner.state.floatbank3_a_air              20.039689  \n",
       "secondary_cleaner.state.floatbank3_a_level          -450.263164  \n",
       "secondary_cleaner.state.floatbank3_b_air              14.077881  \n",
       "secondary_cleaner.state.floatbank3_b_level          -449.660997  \n",
       "secondary_cleaner.state.floatbank4_a_air              11.962366  \n",
       "secondary_cleaner.state.floatbank4_a_level          -498.767484  \n",
       "secondary_cleaner.state.floatbank4_b_air               8.096893  \n",
       "secondary_cleaner.state.floatbank4_b_level          -500.827423  \n",
       "secondary_cleaner.state.floatbank5_a_air               8.071056  \n",
       "secondary_cleaner.state.floatbank5_a_level          -500.801673  \n",
       "secondary_cleaner.state.floatbank5_b_air               4.905125  \n",
       "secondary_cleaner.state.floatbank5_b_level           -499.82851  \n",
       "secondary_cleaner.state.floatbank6_a_air              24.994862  \n",
       "secondary_cleaner.state.floatbank6_a_level          -500.622559  "
      ]
     },
     "execution_count": 7,
     "metadata": {},
     "output_type": "execute_result"
    }
   ],
   "source": [
    "data_test.head(3).T"
   ]
  },
  {
   "cell_type": "code",
   "execution_count": 8,
   "metadata": {
    "scrolled": true
   },
   "outputs": [
    {
     "name": "stdout",
     "output_type": "stream",
     "text": [
      "<class 'pandas.core.frame.DataFrame'>\n",
      "RangeIndex: 19439 entries, 0 to 19438\n",
      "Data columns (total 87 columns):\n",
      " #   Column                                              Non-Null Count  Dtype  \n",
      "---  ------                                              --------------  -----  \n",
      " 0   date                                                19439 non-null  object \n",
      " 1   final.output.concentrate_ag                         19438 non-null  float64\n",
      " 2   final.output.concentrate_pb                         19438 non-null  float64\n",
      " 3   final.output.concentrate_sol                        19228 non-null  float64\n",
      " 4   final.output.concentrate_au                         19439 non-null  float64\n",
      " 5   final.output.recovery                               19439 non-null  float64\n",
      " 6   final.output.tail_ag                                19438 non-null  float64\n",
      " 7   final.output.tail_pb                                19338 non-null  float64\n",
      " 8   final.output.tail_sol                               19433 non-null  float64\n",
      " 9   final.output.tail_au                                19439 non-null  float64\n",
      " 10  primary_cleaner.input.sulfate                       19415 non-null  float64\n",
      " 11  primary_cleaner.input.depressant                    19402 non-null  float64\n",
      " 12  primary_cleaner.input.feed_size                     19439 non-null  float64\n",
      " 13  primary_cleaner.input.xanthate                      19335 non-null  float64\n",
      " 14  primary_cleaner.output.concentrate_ag               19439 non-null  float64\n",
      " 15  primary_cleaner.output.concentrate_pb               19323 non-null  float64\n",
      " 16  primary_cleaner.output.concentrate_sol              19069 non-null  float64\n",
      " 17  primary_cleaner.output.concentrate_au               19439 non-null  float64\n",
      " 18  primary_cleaner.output.tail_ag                      19435 non-null  float64\n",
      " 19  primary_cleaner.output.tail_pb                      19418 non-null  float64\n",
      " 20  primary_cleaner.output.tail_sol                     19377 non-null  float64\n",
      " 21  primary_cleaner.output.tail_au                      19439 non-null  float64\n",
      " 22  primary_cleaner.state.floatbank8_a_air              19435 non-null  float64\n",
      " 23  primary_cleaner.state.floatbank8_a_level            19438 non-null  float64\n",
      " 24  primary_cleaner.state.floatbank8_b_air              19435 non-null  float64\n",
      " 25  primary_cleaner.state.floatbank8_b_level            19438 non-null  float64\n",
      " 26  primary_cleaner.state.floatbank8_c_air              19437 non-null  float64\n",
      " 27  primary_cleaner.state.floatbank8_c_level            19438 non-null  float64\n",
      " 28  primary_cleaner.state.floatbank8_d_air              19436 non-null  float64\n",
      " 29  primary_cleaner.state.floatbank8_d_level            19438 non-null  float64\n",
      " 30  rougher.calculation.sulfate_to_au_concentrate       19437 non-null  float64\n",
      " 31  rougher.calculation.floatbank10_sulfate_to_au_feed  19437 non-null  float64\n",
      " 32  rougher.calculation.floatbank11_sulfate_to_au_feed  19437 non-null  float64\n",
      " 33  rougher.calculation.au_pb_ratio                     19439 non-null  float64\n",
      " 34  rougher.input.feed_ag                               19439 non-null  float64\n",
      " 35  rougher.input.feed_pb                               19339 non-null  float64\n",
      " 36  rougher.input.feed_rate                             19428 non-null  float64\n",
      " 37  rougher.input.feed_size                             19294 non-null  float64\n",
      " 38  rougher.input.feed_sol                              19340 non-null  float64\n",
      " 39  rougher.input.feed_au                               19439 non-null  float64\n",
      " 40  rougher.input.floatbank10_sulfate                   19405 non-null  float64\n",
      " 41  rougher.input.floatbank10_xanthate                  19431 non-null  float64\n",
      " 42  rougher.input.floatbank11_sulfate                   19395 non-null  float64\n",
      " 43  rougher.input.floatbank11_xanthate                  18986 non-null  float64\n",
      " 44  rougher.output.concentrate_ag                       19439 non-null  float64\n",
      " 45  rougher.output.concentrate_pb                       19439 non-null  float64\n",
      " 46  rougher.output.concentrate_sol                      19416 non-null  float64\n",
      " 47  rougher.output.concentrate_au                       19439 non-null  float64\n",
      " 48  rougher.output.recovery                             19439 non-null  float64\n",
      " 49  rougher.output.tail_ag                              19438 non-null  float64\n",
      " 50  rougher.output.tail_pb                              19439 non-null  float64\n",
      " 51  rougher.output.tail_sol                             19439 non-null  float64\n",
      " 52  rougher.output.tail_au                              19439 non-null  float64\n",
      " 53  rougher.state.floatbank10_a_air                     19438 non-null  float64\n",
      " 54  rougher.state.floatbank10_a_level                   19438 non-null  float64\n",
      " 55  rougher.state.floatbank10_b_air                     19438 non-null  float64\n",
      " 56  rougher.state.floatbank10_b_level                   19438 non-null  float64\n",
      " 57  rougher.state.floatbank10_c_air                     19438 non-null  float64\n",
      " 58  rougher.state.floatbank10_c_level                   19438 non-null  float64\n",
      " 59  rougher.state.floatbank10_d_air                     19439 non-null  float64\n",
      " 60  rougher.state.floatbank10_d_level                   19439 non-null  float64\n",
      " 61  rougher.state.floatbank10_e_air                     19003 non-null  float64\n",
      " 62  rougher.state.floatbank10_e_level                   19439 non-null  float64\n",
      " 63  rougher.state.floatbank10_f_air                     19439 non-null  float64\n",
      " 64  rougher.state.floatbank10_f_level                   19439 non-null  float64\n",
      " 65  secondary_cleaner.output.tail_ag                    19437 non-null  float64\n",
      " 66  secondary_cleaner.output.tail_pb                    19427 non-null  float64\n",
      " 67  secondary_cleaner.output.tail_sol                   17691 non-null  float64\n",
      " 68  secondary_cleaner.output.tail_au                    19439 non-null  float64\n",
      " 69  secondary_cleaner.state.floatbank2_a_air            19219 non-null  float64\n",
      " 70  secondary_cleaner.state.floatbank2_a_level          19438 non-null  float64\n",
      " 71  secondary_cleaner.state.floatbank2_b_air            19416 non-null  float64\n",
      " 72  secondary_cleaner.state.floatbank2_b_level          19438 non-null  float64\n",
      " 73  secondary_cleaner.state.floatbank3_a_air            19426 non-null  float64\n",
      " 74  secondary_cleaner.state.floatbank3_a_level          19438 non-null  float64\n",
      " 75  secondary_cleaner.state.floatbank3_b_air            19438 non-null  float64\n",
      " 76  secondary_cleaner.state.floatbank3_b_level          19438 non-null  float64\n",
      " 77  secondary_cleaner.state.floatbank4_a_air            19433 non-null  float64\n",
      " 78  secondary_cleaner.state.floatbank4_a_level          19438 non-null  float64\n",
      " 79  secondary_cleaner.state.floatbank4_b_air            19438 non-null  float64\n",
      " 80  secondary_cleaner.state.floatbank4_b_level          19438 non-null  float64\n",
      " 81  secondary_cleaner.state.floatbank5_a_air            19438 non-null  float64\n",
      " 82  secondary_cleaner.state.floatbank5_a_level          19438 non-null  float64\n",
      " 83  secondary_cleaner.state.floatbank5_b_air            19438 non-null  float64\n",
      " 84  secondary_cleaner.state.floatbank5_b_level          19438 non-null  float64\n",
      " 85  secondary_cleaner.state.floatbank6_a_air            19437 non-null  float64\n",
      " 86  secondary_cleaner.state.floatbank6_a_level          19438 non-null  float64\n",
      "dtypes: float64(86), object(1)\n",
      "memory usage: 12.9+ MB\n"
     ]
    }
   ],
   "source": [
    "data_full.info()"
   ]
  },
  {
   "cell_type": "code",
   "execution_count": 9,
   "metadata": {},
   "outputs": [
    {
     "data": {
      "text/html": [
       "<div>\n",
       "<style scoped>\n",
       "    .dataframe tbody tr th:only-of-type {\n",
       "        vertical-align: middle;\n",
       "    }\n",
       "\n",
       "    .dataframe tbody tr th {\n",
       "        vertical-align: top;\n",
       "    }\n",
       "\n",
       "    .dataframe thead th {\n",
       "        text-align: right;\n",
       "    }\n",
       "</style>\n",
       "<table border=\"1\" class=\"dataframe\">\n",
       "  <thead>\n",
       "    <tr style=\"text-align: right;\">\n",
       "      <th></th>\n",
       "      <th>0</th>\n",
       "      <th>1</th>\n",
       "      <th>2</th>\n",
       "    </tr>\n",
       "  </thead>\n",
       "  <tbody>\n",
       "    <tr>\n",
       "      <th>date</th>\n",
       "      <td>2016-01-15 00:00:00</td>\n",
       "      <td>2016-01-15 01:00:00</td>\n",
       "      <td>2016-01-15 02:00:00</td>\n",
       "    </tr>\n",
       "    <tr>\n",
       "      <th>final.output.concentrate_ag</th>\n",
       "      <td>6.055403</td>\n",
       "      <td>6.029369</td>\n",
       "      <td>6.055926</td>\n",
       "    </tr>\n",
       "    <tr>\n",
       "      <th>final.output.concentrate_pb</th>\n",
       "      <td>9.889648</td>\n",
       "      <td>9.968944</td>\n",
       "      <td>10.213995</td>\n",
       "    </tr>\n",
       "    <tr>\n",
       "      <th>final.output.concentrate_sol</th>\n",
       "      <td>5.507324</td>\n",
       "      <td>5.257781</td>\n",
       "      <td>5.383759</td>\n",
       "    </tr>\n",
       "    <tr>\n",
       "      <th>final.output.concentrate_au</th>\n",
       "      <td>42.19202</td>\n",
       "      <td>42.701629</td>\n",
       "      <td>42.657501</td>\n",
       "    </tr>\n",
       "    <tr>\n",
       "      <th>...</th>\n",
       "      <td>...</td>\n",
       "      <td>...</td>\n",
       "      <td>...</td>\n",
       "    </tr>\n",
       "    <tr>\n",
       "      <th>secondary_cleaner.state.floatbank5_a_level</th>\n",
       "      <td>-498.310211</td>\n",
       "      <td>-500.169983</td>\n",
       "      <td>-500.129135</td>\n",
       "    </tr>\n",
       "    <tr>\n",
       "      <th>secondary_cleaner.state.floatbank5_b_air</th>\n",
       "      <td>8.079666</td>\n",
       "      <td>7.984757</td>\n",
       "      <td>8.013877</td>\n",
       "    </tr>\n",
       "    <tr>\n",
       "      <th>secondary_cleaner.state.floatbank5_b_level</th>\n",
       "      <td>-500.470978</td>\n",
       "      <td>-500.582168</td>\n",
       "      <td>-500.517572</td>\n",
       "    </tr>\n",
       "    <tr>\n",
       "      <th>secondary_cleaner.state.floatbank6_a_air</th>\n",
       "      <td>14.151341</td>\n",
       "      <td>13.998353</td>\n",
       "      <td>14.028663</td>\n",
       "    </tr>\n",
       "    <tr>\n",
       "      <th>secondary_cleaner.state.floatbank6_a_level</th>\n",
       "      <td>-605.84198</td>\n",
       "      <td>-599.787184</td>\n",
       "      <td>-601.427363</td>\n",
       "    </tr>\n",
       "  </tbody>\n",
       "</table>\n",
       "<p>87 rows × 3 columns</p>\n",
       "</div>"
      ],
      "text/plain": [
       "                                                              0  \\\n",
       "date                                        2016-01-15 00:00:00   \n",
       "final.output.concentrate_ag                            6.055403   \n",
       "final.output.concentrate_pb                            9.889648   \n",
       "final.output.concentrate_sol                           5.507324   \n",
       "final.output.concentrate_au                            42.19202   \n",
       "...                                                         ...   \n",
       "secondary_cleaner.state.floatbank5_a_level          -498.310211   \n",
       "secondary_cleaner.state.floatbank5_b_air               8.079666   \n",
       "secondary_cleaner.state.floatbank5_b_level          -500.470978   \n",
       "secondary_cleaner.state.floatbank6_a_air              14.151341   \n",
       "secondary_cleaner.state.floatbank6_a_level           -605.84198   \n",
       "\n",
       "                                                              1  \\\n",
       "date                                        2016-01-15 01:00:00   \n",
       "final.output.concentrate_ag                            6.029369   \n",
       "final.output.concentrate_pb                            9.968944   \n",
       "final.output.concentrate_sol                           5.257781   \n",
       "final.output.concentrate_au                           42.701629   \n",
       "...                                                         ...   \n",
       "secondary_cleaner.state.floatbank5_a_level          -500.169983   \n",
       "secondary_cleaner.state.floatbank5_b_air               7.984757   \n",
       "secondary_cleaner.state.floatbank5_b_level          -500.582168   \n",
       "secondary_cleaner.state.floatbank6_a_air              13.998353   \n",
       "secondary_cleaner.state.floatbank6_a_level          -599.787184   \n",
       "\n",
       "                                                              2  \n",
       "date                                        2016-01-15 02:00:00  \n",
       "final.output.concentrate_ag                            6.055926  \n",
       "final.output.concentrate_pb                           10.213995  \n",
       "final.output.concentrate_sol                           5.383759  \n",
       "final.output.concentrate_au                           42.657501  \n",
       "...                                                         ...  \n",
       "secondary_cleaner.state.floatbank5_a_level          -500.129135  \n",
       "secondary_cleaner.state.floatbank5_b_air               8.013877  \n",
       "secondary_cleaner.state.floatbank5_b_level          -500.517572  \n",
       "secondary_cleaner.state.floatbank6_a_air              14.028663  \n",
       "secondary_cleaner.state.floatbank6_a_level          -601.427363  \n",
       "\n",
       "[87 rows x 3 columns]"
      ]
     },
     "execution_count": 9,
     "metadata": {},
     "output_type": "execute_result"
    }
   ],
   "source": [
    "data_full.head(3).T"
   ]
  },
  {
   "cell_type": "markdown",
   "metadata": {},
   "source": [
    "Посчитаем соотношение трейн и тест"
   ]
  },
  {
   "cell_type": "code",
   "execution_count": 10,
   "metadata": {},
   "outputs": [
    {
     "data": {
      "text/plain": [
       "72.79"
      ]
     },
     "execution_count": 10,
     "metadata": {},
     "output_type": "execute_result"
    }
   ],
   "source": [
    "round(data_train.shape[0] /data_full.shape[0] * 100, 2)"
   ]
  },
  {
   "cell_type": "code",
   "execution_count": 11,
   "metadata": {},
   "outputs": [
    {
     "data": {
      "text/plain": [
       "27.21"
      ]
     },
     "execution_count": 11,
     "metadata": {},
     "output_type": "execute_result"
    }
   ],
   "source": [
    "round(data_test.shape[0] /data_full.shape[0] * 100, 2)"
   ]
  },
  {
   "cell_type": "markdown",
   "metadata": {},
   "source": [
    "#### Выводы по данным:\n",
    "* исходный датасет (data_full) содержит  19 439 записей и 87 колонок\n",
    "* обучающая выборка содержит 14149 записей и 87 колонок\n",
    "* тестовая выборка содержит 5290 записей и 53 колонки\n",
    "* обучающая и тестовая выборки поделены в пропорции 72,79% и 27,21%  (проценты от общего кол-ва строк)\n",
    "* все параметры записаны в формате float64, кроме параметра date "
   ]
  },
  {
   "cell_type": "markdown",
   "metadata": {},
   "source": [
    "Преобразуем тип данных параметра date из object в datetime"
   ]
  },
  {
   "cell_type": "code",
   "execution_count": 12,
   "metadata": {},
   "outputs": [
    {
     "data": {
      "text/plain": [
       "dtype('<M8[ns]')"
      ]
     },
     "metadata": {},
     "output_type": "display_data"
    },
    {
     "data": {
      "text/plain": [
       "dtype('<M8[ns]')"
      ]
     },
     "metadata": {},
     "output_type": "display_data"
    },
    {
     "data": {
      "text/plain": [
       "dtype('<M8[ns]')"
      ]
     },
     "metadata": {},
     "output_type": "display_data"
    }
   ],
   "source": [
    "for data in [data_full, data_train, data_test]:\n",
    "           for column in data:\n",
    "            if 'date' in column:\n",
    "                data[column]=pd.to_datetime(data[column])\n",
    "                display(data['date'].dtypes)"
   ]
  },
  {
   "cell_type": "markdown",
   "metadata": {},
   "source": [
    "## Проверим корректность расчета параметра recovery"
   ]
  },
  {
   "cell_type": "markdown",
   "metadata": {},
   "source": [
    "Используем небольшую функцию"
   ]
  },
  {
   "cell_type": "code",
   "execution_count": 13,
   "metadata": {
    "ExecuteTime": {
     "end_time": "2021-01-13T13:25:55.819129Z",
     "start_time": "2021-01-13T13:25:55.816698Z"
    },
    "id": "rBTFH4QCxI77"
   },
   "outputs": [],
   "source": [
    "def recovery_clean(row):\n",
    "    (input_au,\n",
    "     output_au,\n",
    "     output_tail) = (row[\"rougher.input.feed_au\"],\n",
    "                     row[\"rougher.output.concentrate_au\"],\n",
    "                     row[\"rougher.output.tail_au\"])\n",
    "    recovery_metric = (((output_au) * ((input_au) - (output_tail)))/\n",
    "                       (((input_au) * ((output_au) - (output_tail))))) * 100\n",
    "    return recovery_metric"
   ]
  },
  {
   "cell_type": "code",
   "execution_count": 14,
   "metadata": {
    "ExecuteTime": {
     "end_time": "2021-01-13T13:25:56.035135Z",
     "start_time": "2021-01-13T13:25:55.820285Z"
    },
    "id": "Pe9348ikxI8J"
   },
   "outputs": [],
   "source": [
    "test = data_train.dropna(subset = [\"rougher.input.feed_au\",\n",
    "                                    \"rougher.output.concentrate_au\",\n",
    "                                    \"rougher.output.tail_au\",\n",
    "                                    \"rougher.output.recovery\"],axis = 0).apply(\n",
    "                                                                        recovery_clean,axis = 1)"
   ]
  },
  {
   "cell_type": "code",
   "execution_count": 15,
   "metadata": {
    "ExecuteTime": {
     "end_time": "2021-01-13T13:25:56.047078Z",
     "start_time": "2021-01-13T13:25:56.036291Z"
    },
    "colab": {
     "base_uri": "https://localhost:8080/"
    },
    "id": "aeJIn85gxI8T",
    "outputId": "34c738e8-f765-4631-8a61-abad7e737726",
    "scrolled": true
   },
   "outputs": [
    {
     "data": {
      "text/plain": [
       "9.73512347450521e-15"
      ]
     },
     "execution_count": 15,
     "metadata": {},
     "output_type": "execute_result"
    }
   ],
   "source": [
    "MAE(data_train.dropna(subset = [\"rougher.input.feed_au\",\n",
    "                                    \"rougher.output.concentrate_au\",\n",
    "                                    \"rougher.output.tail_au\",\n",
    "                                    \"rougher.output.recovery\"])[\"rougher.output.recovery\"],\n",
    "                       test)"
   ]
  },
  {
   "cell_type": "markdown",
   "metadata": {},
   "source": [
    "### Вывод\n",
    "\n",
    "Параметр recovery в в тренировочной датасете (train) рассчитан верно"
   ]
  },
  {
   "cell_type": "markdown",
   "metadata": {},
   "source": [
    "## Найдем все столбцы, которые есть в тренировочной датасете, но нет в тестовом"
   ]
  },
  {
   "cell_type": "code",
   "execution_count": 16,
   "metadata": {
    "ExecuteTime": {
     "end_time": "2021-01-13T13:25:56.057035Z",
     "start_time": "2021-01-13T13:25:56.049793Z"
    },
    "id": "PZNJKJ6UxI8e",
    "scrolled": true
   },
   "outputs": [],
   "source": [
    "step = collections.Counter()\n",
    "type_step = collections.Counter()\n",
    "data = collections.Counter()\n",
    "list_columns = [i for i in data_train.columns if i not in data_test.columns]\n",
    "for i in list_columns:\n",
    "    words = list(map(str,i.split(\".\")))\n",
    "    step[words[0]] += 1\n",
    "    type_step[words[1]] += 1\n",
    "    data[words[2]] += 1\n",
    "    "
   ]
  },
  {
   "cell_type": "code",
   "execution_count": 17,
   "metadata": {
    "ExecuteTime": {
     "end_time": "2021-01-13T13:25:56.064532Z",
     "start_time": "2021-01-13T13:25:56.061829Z"
    },
    "colab": {
     "base_uri": "https://localhost:8080/"
    },
    "id": "AhJ0KmfRxI8m",
    "outputId": "a17d149e-35ed-4354-d4bd-d23de18b5d1d",
    "scrolled": false
   },
   "outputs": [
    {
     "data": {
      "text/plain": [
       "['final.output.concentrate_ag',\n",
       " 'final.output.concentrate_pb',\n",
       " 'final.output.concentrate_sol',\n",
       " 'final.output.concentrate_au',\n",
       " 'final.output.recovery',\n",
       " 'final.output.tail_ag',\n",
       " 'final.output.tail_pb',\n",
       " 'final.output.tail_sol',\n",
       " 'final.output.tail_au',\n",
       " 'primary_cleaner.output.concentrate_ag',\n",
       " 'primary_cleaner.output.concentrate_pb',\n",
       " 'primary_cleaner.output.concentrate_sol',\n",
       " 'primary_cleaner.output.concentrate_au',\n",
       " 'primary_cleaner.output.tail_ag',\n",
       " 'primary_cleaner.output.tail_pb',\n",
       " 'primary_cleaner.output.tail_sol',\n",
       " 'primary_cleaner.output.tail_au',\n",
       " 'rougher.calculation.sulfate_to_au_concentrate',\n",
       " 'rougher.calculation.floatbank10_sulfate_to_au_feed',\n",
       " 'rougher.calculation.floatbank11_sulfate_to_au_feed',\n",
       " 'rougher.calculation.au_pb_ratio',\n",
       " 'rougher.output.concentrate_ag',\n",
       " 'rougher.output.concentrate_pb',\n",
       " 'rougher.output.concentrate_sol',\n",
       " 'rougher.output.concentrate_au',\n",
       " 'rougher.output.recovery',\n",
       " 'rougher.output.tail_ag',\n",
       " 'rougher.output.tail_pb',\n",
       " 'rougher.output.tail_sol',\n",
       " 'rougher.output.tail_au',\n",
       " 'secondary_cleaner.output.tail_ag',\n",
       " 'secondary_cleaner.output.tail_pb',\n",
       " 'secondary_cleaner.output.tail_sol',\n",
       " 'secondary_cleaner.output.tail_au']"
      ]
     },
     "execution_count": 17,
     "metadata": {},
     "output_type": "execute_result"
    }
   ],
   "source": [
    "list_columns"
   ]
  },
  {
   "cell_type": "markdown",
   "metadata": {},
   "source": [
    "### Более подробно изучим найденные столбцы"
   ]
  },
  {
   "cell_type": "code",
   "execution_count": 18,
   "metadata": {
    "ExecuteTime": {
     "end_time": "2021-01-13T13:25:56.068801Z",
     "start_time": "2021-01-13T13:25:56.065783Z"
    },
    "colab": {
     "base_uri": "https://localhost:8080/"
    },
    "id": "EnHfaP0cxI8v",
    "outputId": "9abee4db-e557-4392-ecd7-e085a6b10f9e",
    "scrolled": false
   },
   "outputs": [
    {
     "data": {
      "text/plain": [
       "(Counter({'final': 9,\n",
       "          'primary_cleaner': 8,\n",
       "          'rougher': 13,\n",
       "          'secondary_cleaner': 4}),\n",
       " '\\n',\n",
       " Counter({'output': 30, 'calculation': 4}),\n",
       " '\\n',\n",
       " Counter({'concentrate_ag': 3,\n",
       "          'concentrate_pb': 3,\n",
       "          'concentrate_sol': 3,\n",
       "          'concentrate_au': 3,\n",
       "          'recovery': 2,\n",
       "          'tail_ag': 4,\n",
       "          'tail_pb': 4,\n",
       "          'tail_sol': 4,\n",
       "          'tail_au': 4,\n",
       "          'sulfate_to_au_concentrate': 1,\n",
       "          'floatbank10_sulfate_to_au_feed': 1,\n",
       "          'floatbank11_sulfate_to_au_feed': 1,\n",
       "          'au_pb_ratio': 1}))"
      ]
     },
     "execution_count": 18,
     "metadata": {},
     "output_type": "execute_result"
    }
   ],
   "source": [
    "step,\"\\n\",type_step,\"\\n\",data"
   ]
  },
  {
   "cell_type": "markdown",
   "metadata": {},
   "source": [
    "### Выводы"
   ]
  },
  {
   "cell_type": "markdown",
   "metadata": {
    "id": "8aCJ-qeKxI83"
   },
   "source": [
    "* Из 34 пропущенных признака 30 относятся к параметрам продукта и только 4 к расчетным характеристикам  \n",
    "\n",
    "* 9 пропущенных признаков последенго этапа (final), 8 на первичной очистке (primary_cleaner), 9 грубой очистки (rougher), 4 вторичной очистки (secondary_cleaner) относятся к параметрам продукта\n",
    "* 4 пропущенных признака этапа грубой очистки (rougher) относятся к расчетным характеристикам\n",
    "* На всех этапах отсутствует информация о хвостовых частях\n",
    "* Во всех этапах, кроме повторной очистки отсутствует информация о доле металлов \n",
    "* У финального этапа и этапа флотации отсутствуют признаки обогащения\n",
    "* Информация о некоторых реагентах на этапе флотации отсутствуют\n",
    "* Проанализированы поля недоступные в тестовой выборке: отсутствуют целевые признаки для моделей 'rougher.output.recovery', 'final.output.recovery' и  output по всем операциям по всем элементам (концентрации элементов после основных операций). Это фактические даные, получаемые в процессе реальных измерений.\n"
   ]
  },
  {
   "cell_type": "markdown",
   "metadata": {},
   "source": [
    "### Проверим дубликаты"
   ]
  },
  {
   "cell_type": "code",
   "execution_count": 19,
   "metadata": {},
   "outputs": [
    {
     "name": "stdout",
     "output_type": "stream",
     "text": [
      "Количество полных дубликатов в тренировочных данных:  0\n",
      "Количество полных дубликатов в тестовых данных:  0\n",
      "Количество полных дубликатов в исходных данных:  0\n"
     ]
    }
   ],
   "source": [
    "print('Количество полных дубликатов в тренировочных данных: ', data_train.duplicated().sum())\n",
    "print('Количество полных дубликатов в тестовых данных: ', data_test.duplicated().sum())\n",
    "print('Количество полных дубликатов в исходных данных: ', data_full.duplicated().sum())"
   ]
  },
  {
   "cell_type": "markdown",
   "metadata": {
    "id": "gFeYtvWRxI85"
   },
   "source": [
    "## Проверим возможность восстановления  параметра recovery"
   ]
  },
  {
   "cell_type": "code",
   "execution_count": 20,
   "metadata": {
    "ExecuteTime": {
     "end_time": "2021-01-13T13:25:56.078505Z",
     "start_time": "2021-01-13T13:25:56.070149Z"
    }
   },
   "outputs": [],
   "source": [
    "data_train = data_train.dropna(subset=[\"rougher.output.recovery\",\"final.output.recovery\"],axis = 0)"
   ]
  },
  {
   "cell_type": "markdown",
   "metadata": {},
   "source": [
    "## Заполнение пропусков"
   ]
  },
  {
   "cell_type": "markdown",
   "metadata": {},
   "source": [
    "#### Посмотрим на пропуски"
   ]
  },
  {
   "cell_type": "markdown",
   "metadata": {},
   "source": [
    "Проверим пропущенные значения в иcходном файле и выведем в отдельной колонке"
   ]
  },
  {
   "cell_type": "code",
   "execution_count": 21,
   "metadata": {},
   "outputs": [
    {
     "data": {
      "text/html": [
       "<div>\n",
       "<style scoped>\n",
       "    .dataframe tbody tr th:only-of-type {\n",
       "        vertical-align: middle;\n",
       "    }\n",
       "\n",
       "    .dataframe tbody tr th {\n",
       "        vertical-align: top;\n",
       "    }\n",
       "\n",
       "    .dataframe thead th {\n",
       "        text-align: right;\n",
       "    }\n",
       "</style>\n",
       "<table border=\"1\" class=\"dataframe\">\n",
       "  <thead>\n",
       "    <tr style=\"text-align: right;\">\n",
       "      <th></th>\n",
       "      <th>parameter</th>\n",
       "      <th>null_qnt</th>\n",
       "      <th>null_share</th>\n",
       "    </tr>\n",
       "  </thead>\n",
       "  <tbody>\n",
       "    <tr>\n",
       "      <th>0</th>\n",
       "      <td>secondary_cleaner.output.tail_sol</td>\n",
       "      <td>1748</td>\n",
       "      <td>8.992232</td>\n",
       "    </tr>\n",
       "    <tr>\n",
       "      <th>1</th>\n",
       "      <td>rougher.input.floatbank11_xanthate</td>\n",
       "      <td>453</td>\n",
       "      <td>2.330367</td>\n",
       "    </tr>\n",
       "    <tr>\n",
       "      <th>2</th>\n",
       "      <td>rougher.state.floatbank10_e_air</td>\n",
       "      <td>436</td>\n",
       "      <td>2.242914</td>\n",
       "    </tr>\n",
       "    <tr>\n",
       "      <th>3</th>\n",
       "      <td>primary_cleaner.output.concentrate_sol</td>\n",
       "      <td>370</td>\n",
       "      <td>1.903390</td>\n",
       "    </tr>\n",
       "    <tr>\n",
       "      <th>4</th>\n",
       "      <td>secondary_cleaner.state.floatbank2_a_air</td>\n",
       "      <td>220</td>\n",
       "      <td>1.131745</td>\n",
       "    </tr>\n",
       "    <tr>\n",
       "      <th>...</th>\n",
       "      <td>...</td>\n",
       "      <td>...</td>\n",
       "      <td>...</td>\n",
       "    </tr>\n",
       "    <tr>\n",
       "      <th>58</th>\n",
       "      <td>primary_cleaner.state.floatbank8_b_level</td>\n",
       "      <td>1</td>\n",
       "      <td>0.005144</td>\n",
       "    </tr>\n",
       "    <tr>\n",
       "      <th>59</th>\n",
       "      <td>primary_cleaner.state.floatbank8_a_level</td>\n",
       "      <td>1</td>\n",
       "      <td>0.005144</td>\n",
       "    </tr>\n",
       "    <tr>\n",
       "      <th>60</th>\n",
       "      <td>primary_cleaner.state.floatbank8_d_level</td>\n",
       "      <td>1</td>\n",
       "      <td>0.005144</td>\n",
       "    </tr>\n",
       "    <tr>\n",
       "      <th>61</th>\n",
       "      <td>rougher.output.tail_ag</td>\n",
       "      <td>1</td>\n",
       "      <td>0.005144</td>\n",
       "    </tr>\n",
       "    <tr>\n",
       "      <th>62</th>\n",
       "      <td>final.output.concentrate_pb</td>\n",
       "      <td>1</td>\n",
       "      <td>0.005144</td>\n",
       "    </tr>\n",
       "  </tbody>\n",
       "</table>\n",
       "<p>63 rows × 3 columns</p>\n",
       "</div>"
      ],
      "text/plain": [
       "                                   parameter  null_qnt  null_share\n",
       "0          secondary_cleaner.output.tail_sol      1748    8.992232\n",
       "1         rougher.input.floatbank11_xanthate       453    2.330367\n",
       "2            rougher.state.floatbank10_e_air       436    2.242914\n",
       "3     primary_cleaner.output.concentrate_sol       370    1.903390\n",
       "4   secondary_cleaner.state.floatbank2_a_air       220    1.131745\n",
       "..                                       ...       ...         ...\n",
       "58  primary_cleaner.state.floatbank8_b_level         1    0.005144\n",
       "59  primary_cleaner.state.floatbank8_a_level         1    0.005144\n",
       "60  primary_cleaner.state.floatbank8_d_level         1    0.005144\n",
       "61                    rougher.output.tail_ag         1    0.005144\n",
       "62               final.output.concentrate_pb         1    0.005144\n",
       "\n",
       "[63 rows x 3 columns]"
      ]
     },
     "metadata": {},
     "output_type": "display_data"
    }
   ],
   "source": [
    "data_full_null = data_full.isna().sum().sort_values(ascending=False).to_frame(name='null_qnt')\n",
    "data_full_null['null_share'] = data_full_null['null_qnt'] / len(data_full) *100\n",
    "data_full_null = data_full_null.reset_index().rename(columns={\"index\":'parameter'})\n",
    "data_full_null = data_full_null[data_full_null['null_qnt'] != 0]\n",
    "display(data_full_null)"
   ]
  },
  {
   "cell_type": "markdown",
   "metadata": {},
   "source": [
    "Проверим распределение данных по признаку с максимальным количеством пропущенных значений (8,99%)"
   ]
  },
  {
   "cell_type": "code",
   "execution_count": 22,
   "metadata": {},
   "outputs": [
    {
     "data": {
      "image/png": "[encoded data removed]",
      "text/plain": [
       "<Figure size 432x288 with 1 Axes>"
      ]
     },
     "metadata": {
      "needs_background": "light"
     },
     "output_type": "display_data"
    }
   ],
   "source": [
    "data_full['secondary_cleaner.output.tail_sol']\\\n",
    ".plot(kind = 'hist', \\\n",
    "      bins=100, title='Распределение данных по признаку secondary_cleaner.output.tail_sol');"
   ]
  },
  {
   "cell_type": "markdown",
   "metadata": {},
   "source": [
    "Видно, что пустых значений довольно много"
   ]
  },
  {
   "cell_type": "markdown",
   "metadata": {},
   "source": [
    "Проверяем пропущенные значения в обучающей выборке"
   ]
  },
  {
   "cell_type": "code",
   "execution_count": 23,
   "metadata": {},
   "outputs": [
    {
     "data": {
      "text/html": [
       "<div>\n",
       "<style scoped>\n",
       "    .dataframe tbody tr th:only-of-type {\n",
       "        vertical-align: middle;\n",
       "    }\n",
       "\n",
       "    .dataframe tbody tr th {\n",
       "        vertical-align: top;\n",
       "    }\n",
       "\n",
       "    .dataframe thead th {\n",
       "        text-align: right;\n",
       "    }\n",
       "</style>\n",
       "<table border=\"1\" class=\"dataframe\">\n",
       "  <thead>\n",
       "    <tr style=\"text-align: right;\">\n",
       "      <th></th>\n",
       "      <th>parameter</th>\n",
       "      <th>null_qnt</th>\n",
       "      <th>null_share</th>\n",
       "    </tr>\n",
       "  </thead>\n",
       "  <tbody>\n",
       "    <tr>\n",
       "      <th>0</th>\n",
       "      <td>secondary_cleaner.output.tail_sol</td>\n",
       "      <td>1605</td>\n",
       "      <td>11.343558</td>\n",
       "    </tr>\n",
       "    <tr>\n",
       "      <th>1</th>\n",
       "      <td>rougher.state.floatbank10_e_air</td>\n",
       "      <td>436</td>\n",
       "      <td>3.081490</td>\n",
       "    </tr>\n",
       "    <tr>\n",
       "      <th>2</th>\n",
       "      <td>rougher.input.floatbank11_xanthate</td>\n",
       "      <td>428</td>\n",
       "      <td>3.024949</td>\n",
       "    </tr>\n",
       "    <tr>\n",
       "      <th>3</th>\n",
       "      <td>primary_cleaner.output.concentrate_sol</td>\n",
       "      <td>286</td>\n",
       "      <td>2.021344</td>\n",
       "    </tr>\n",
       "    <tr>\n",
       "      <th>4</th>\n",
       "      <td>secondary_cleaner.state.floatbank2_a_air</td>\n",
       "      <td>217</td>\n",
       "      <td>1.533677</td>\n",
       "    </tr>\n",
       "    <tr>\n",
       "      <th>...</th>\n",
       "      <td>...</td>\n",
       "      <td>...</td>\n",
       "      <td>...</td>\n",
       "    </tr>\n",
       "    <tr>\n",
       "      <th>57</th>\n",
       "      <td>primary_cleaner.output.tail_ag</td>\n",
       "      <td>1</td>\n",
       "      <td>0.007068</td>\n",
       "    </tr>\n",
       "    <tr>\n",
       "      <th>58</th>\n",
       "      <td>final.output.concentrate_ag</td>\n",
       "      <td>1</td>\n",
       "      <td>0.007068</td>\n",
       "    </tr>\n",
       "    <tr>\n",
       "      <th>59</th>\n",
       "      <td>rougher.calculation.sulfate_to_au_concentrate</td>\n",
       "      <td>1</td>\n",
       "      <td>0.007068</td>\n",
       "    </tr>\n",
       "    <tr>\n",
       "      <th>60</th>\n",
       "      <td>rougher.output.tail_ag</td>\n",
       "      <td>1</td>\n",
       "      <td>0.007068</td>\n",
       "    </tr>\n",
       "    <tr>\n",
       "      <th>61</th>\n",
       "      <td>final.output.concentrate_pb</td>\n",
       "      <td>1</td>\n",
       "      <td>0.007068</td>\n",
       "    </tr>\n",
       "  </tbody>\n",
       "</table>\n",
       "<p>62 rows × 3 columns</p>\n",
       "</div>"
      ],
      "text/plain": [
       "                                        parameter  null_qnt  null_share\n",
       "0               secondary_cleaner.output.tail_sol      1605   11.343558\n",
       "1                 rougher.state.floatbank10_e_air       436    3.081490\n",
       "2              rougher.input.floatbank11_xanthate       428    3.024949\n",
       "3          primary_cleaner.output.concentrate_sol       286    2.021344\n",
       "4        secondary_cleaner.state.floatbank2_a_air       217    1.533677\n",
       "..                                            ...       ...         ...\n",
       "57                 primary_cleaner.output.tail_ag         1    0.007068\n",
       "58                    final.output.concentrate_ag         1    0.007068\n",
       "59  rougher.calculation.sulfate_to_au_concentrate         1    0.007068\n",
       "60                         rougher.output.tail_ag         1    0.007068\n",
       "61                    final.output.concentrate_pb         1    0.007068\n",
       "\n",
       "[62 rows x 3 columns]"
      ]
     },
     "metadata": {},
     "output_type": "display_data"
    }
   ],
   "source": [
    "data_train_null = data_train.isna().sum().sort_values(ascending=False).to_frame(name='null_qnt')\n",
    "data_train_null['null_share'] = data_train_null['null_qnt'] / len(data_train) *100\n",
    "data_train_null = data_train_null.reset_index().rename(columns={\"index\":'parameter'})\n",
    "data_train_null = data_train_null[data_train_null['null_qnt'] != 0]\n",
    "display(data_train_null)"
   ]
  },
  {
   "cell_type": "markdown",
   "metadata": {},
   "source": [
    "у secondary_cleaner.output.tail_sol 11,34% пропущенных"
   ]
  },
  {
   "cell_type": "markdown",
   "metadata": {},
   "source": [
    "Проверяем пропущенные значения в тестовой выборке"
   ]
  },
  {
   "cell_type": "code",
   "execution_count": 24,
   "metadata": {},
   "outputs": [
    {
     "data": {
      "text/html": [
       "<div>\n",
       "<style scoped>\n",
       "    .dataframe tbody tr th:only-of-type {\n",
       "        vertical-align: middle;\n",
       "    }\n",
       "\n",
       "    .dataframe tbody tr th {\n",
       "        vertical-align: top;\n",
       "    }\n",
       "\n",
       "    .dataframe thead th {\n",
       "        text-align: right;\n",
       "    }\n",
       "</style>\n",
       "<table border=\"1\" class=\"dataframe\">\n",
       "  <thead>\n",
       "    <tr style=\"text-align: right;\">\n",
       "      <th></th>\n",
       "      <th>parameter</th>\n",
       "      <th>null_qnt</th>\n",
       "      <th>null_share</th>\n",
       "    </tr>\n",
       "  </thead>\n",
       "  <tbody>\n",
       "    <tr>\n",
       "      <th>0</th>\n",
       "      <td>rougher.input.floatbank11_xanthate</td>\n",
       "      <td>25</td>\n",
       "      <td>0.472590</td>\n",
       "    </tr>\n",
       "    <tr>\n",
       "      <th>1</th>\n",
       "      <td>rougher.input.feed_sol</td>\n",
       "      <td>21</td>\n",
       "      <td>0.396975</td>\n",
       "    </tr>\n",
       "    <tr>\n",
       "      <th>2</th>\n",
       "      <td>secondary_cleaner.state.floatbank3_a_air</td>\n",
       "      <td>9</td>\n",
       "      <td>0.170132</td>\n",
       "    </tr>\n",
       "    <tr>\n",
       "      <th>3</th>\n",
       "      <td>rougher.input.floatbank11_sulfate</td>\n",
       "      <td>8</td>\n",
       "      <td>0.151229</td>\n",
       "    </tr>\n",
       "    <tr>\n",
       "      <th>4</th>\n",
       "      <td>primary_cleaner.input.depressant</td>\n",
       "      <td>5</td>\n",
       "      <td>0.094518</td>\n",
       "    </tr>\n",
       "    <tr>\n",
       "      <th>5</th>\n",
       "      <td>rougher.input.floatbank10_sulfate</td>\n",
       "      <td>5</td>\n",
       "      <td>0.094518</td>\n",
       "    </tr>\n",
       "    <tr>\n",
       "      <th>6</th>\n",
       "      <td>primary_cleaner.input.xanthate</td>\n",
       "      <td>4</td>\n",
       "      <td>0.075614</td>\n",
       "    </tr>\n",
       "    <tr>\n",
       "      <th>7</th>\n",
       "      <td>primary_cleaner.input.sulfate</td>\n",
       "      <td>4</td>\n",
       "      <td>0.075614</td>\n",
       "    </tr>\n",
       "    <tr>\n",
       "      <th>8</th>\n",
       "      <td>rougher.input.feed_rate</td>\n",
       "      <td>3</td>\n",
       "      <td>0.056711</td>\n",
       "    </tr>\n",
       "    <tr>\n",
       "      <th>9</th>\n",
       "      <td>secondary_cleaner.state.floatbank2_a_air</td>\n",
       "      <td>3</td>\n",
       "      <td>0.056711</td>\n",
       "    </tr>\n",
       "    <tr>\n",
       "      <th>10</th>\n",
       "      <td>secondary_cleaner.state.floatbank2_b_air</td>\n",
       "      <td>2</td>\n",
       "      <td>0.037807</td>\n",
       "    </tr>\n",
       "    <tr>\n",
       "      <th>11</th>\n",
       "      <td>rougher.input.feed_size</td>\n",
       "      <td>1</td>\n",
       "      <td>0.018904</td>\n",
       "    </tr>\n",
       "  </tbody>\n",
       "</table>\n",
       "</div>"
      ],
      "text/plain": [
       "                                   parameter  null_qnt  null_share\n",
       "0         rougher.input.floatbank11_xanthate        25    0.472590\n",
       "1                     rougher.input.feed_sol        21    0.396975\n",
       "2   secondary_cleaner.state.floatbank3_a_air         9    0.170132\n",
       "3          rougher.input.floatbank11_sulfate         8    0.151229\n",
       "4           primary_cleaner.input.depressant         5    0.094518\n",
       "5          rougher.input.floatbank10_sulfate         5    0.094518\n",
       "6             primary_cleaner.input.xanthate         4    0.075614\n",
       "7              primary_cleaner.input.sulfate         4    0.075614\n",
       "8                    rougher.input.feed_rate         3    0.056711\n",
       "9   secondary_cleaner.state.floatbank2_a_air         3    0.056711\n",
       "10  secondary_cleaner.state.floatbank2_b_air         2    0.037807\n",
       "11                   rougher.input.feed_size         1    0.018904"
      ]
     },
     "metadata": {},
     "output_type": "display_data"
    }
   ],
   "source": [
    "data_test_null = data_test.isna().sum().sort_values(ascending=False).to_frame(name='null_qnt')\n",
    "data_test_null['null_share'] = data_test_null['null_qnt'] / len(data_test) *100\n",
    "data_test_null = data_test_null.reset_index().rename(columns={\"index\":'parameter'})\n",
    "data_test_null = data_test_null[data_test_null['null_qnt'] != 0]\n",
    "display(data_test_null)"
   ]
  },
  {
   "cell_type": "markdown",
   "metadata": {},
   "source": [
    "Пропусков не так много"
   ]
  },
  {
   "cell_type": "markdown",
   "metadata": {},
   "source": [
    "Выводы\n",
    "* из 87 параметров исходного файла 63 содержат пропущенные значения\n",
    "* самая высокая доля пропущенных значений приходится на параметр secondary_cleaner.output.tail_sol = 8.99%\n",
    "* Остальные параметры содержат 3 и менее процентов пропущенных значений \n",
    "* по условиям проекта данные индексируются датой и временем получения информации (параметр date); Соседние по времени параметры часто похожи."
   ]
  },
  {
   "cell_type": "markdown",
   "metadata": {},
   "source": [
    "#### Обработка пропусков"
   ]
  },
  {
   "cell_type": "markdown",
   "metadata": {},
   "source": [
    "Пропуски можно обработать методами ffill и bffil (последнее известное и \"переднее\" известное), но для временного ряда, где мы предполагаем некую динамику процесса, на мой взгляд лучше использовать KNNImputer, который использует метод ближайших соседей. \n",
    "Проще говоря, методы ffill и bffil как бы задваивают значения, а KNNImputer ставит по среднему между известными значениями"
   ]
  },
  {
   "cell_type": "markdown",
   "metadata": {},
   "source": [
    "<div class=\"alert alert-warning\">\n",
    "    <h2> Комментарий ревьюера <a class=\"tocSkip\"> </h2>\n",
    "    \n",
    "<b>Некоторые замечания и рекомендации⚠️:</b> Тут стоит отметить, что мы работаем не с временным рядом. В нашем случае мы работаем с большим количеством итераций процесса, который имеет отдельное начало и отдельный конец (то есть по сути своей автономен и не зависит от других процессов), а временная метка - просто дата снятия показаний с оборудования. \n",
    "        \n",
    "Временной ряд - это динамика одного конкретного процесса: если бы у нас был только один замер, и мы бы имели временные метки разных его состояний - это был бы временной ряд."
   ]
  },
  {
   "cell_type": "code",
   "execution_count": 25,
   "metadata": {
    "ExecuteTime": {
     "end_time": "2021-01-13T13:26:06.722319Z",
     "start_time": "2021-01-13T13:25:56.079609Z"
    },
    "id": "-uCNAp7OxI9N"
   },
   "outputs": [],
   "source": [
    "imputer = KNNImputer()\n",
    "clean_nan = pd.DataFrame(data = imputer.fit_transform(data_train.drop(['date'],axis = 1)),\n",
    "             columns= data_train.drop(['date'],axis = 1).columns,\n",
    "             index = data_train.index)"
   ]
  },
  {
   "cell_type": "code",
   "execution_count": 26,
   "metadata": {
    "ExecuteTime": {
     "end_time": "2021-01-13T13:26:06.731939Z",
     "start_time": "2021-01-13T13:26:06.723586Z"
    }
   },
   "outputs": [],
   "source": [
    "data_test = data_test.dropna(subset= ['date'],axis = 0)"
   ]
  },
  {
   "cell_type": "code",
   "execution_count": 27,
   "metadata": {
    "ExecuteTime": {
     "end_time": "2021-01-13T13:26:06.746180Z",
     "start_time": "2021-01-13T13:26:06.733023Z"
    }
   },
   "outputs": [],
   "source": [
    "data_test_for_target = data_test.merge(data_full.loc[:,['date',\"rougher.output.recovery\",\"final.output.recovery\"]],on = 'date')"
   ]
  },
  {
   "cell_type": "code",
   "execution_count": 28,
   "metadata": {
    "ExecuteTime": {
     "end_time": "2021-01-13T13:26:06.754919Z",
     "start_time": "2021-01-13T13:26:06.747563Z"
    }
   },
   "outputs": [],
   "source": [
    "data_test_for_target = data_test_for_target.dropna(subset=[\"rougher.output.recovery\",\"final.output.recovery\"],axis = 0)"
   ]
  },
  {
   "cell_type": "code",
   "execution_count": 29,
   "metadata": {
    "ExecuteTime": {
     "end_time": "2021-01-13T13:26:06.758937Z",
     "start_time": "2021-01-13T13:26:06.756099Z"
    }
   },
   "outputs": [],
   "source": [
    "data_test = data_test_for_target.loc[:,data_test.columns]"
   ]
  },
  {
   "cell_type": "code",
   "execution_count": 30,
   "metadata": {
    "ExecuteTime": {
     "end_time": "2021-01-13T13:26:06.763077Z",
     "start_time": "2021-01-13T13:26:06.760284Z"
    }
   },
   "outputs": [],
   "source": [
    "target_test_rougher = data_test_for_target[\"rougher.output.recovery\"]\n",
    "target_test_final = data_test_for_target[\"final.output.recovery\"]"
   ]
  },
  {
   "cell_type": "code",
   "execution_count": 31,
   "metadata": {
    "ExecuteTime": {
     "end_time": "2021-01-13T13:26:06.767326Z",
     "start_time": "2021-01-13T13:26:06.764609Z"
    }
   },
   "outputs": [],
   "source": [
    "data_test = data_test.drop(\"date\",axis =1)"
   ]
  },
  {
   "cell_type": "code",
   "execution_count": 32,
   "metadata": {
    "ExecuteTime": {
     "end_time": "2021-01-13T13:26:06.811693Z",
     "start_time": "2021-01-13T13:26:06.768617Z"
    }
   },
   "outputs": [],
   "source": [
    "#imputer_test = KNNImputer()\n",
    "#test_clean_nan = pd.DataFrame(data = imputer_test.fit_transform(data_test),\n",
    "#             columns= data_test.columns,\n",
    "#             index = data_test.index)"
   ]
  },
  {
   "cell_type": "markdown",
   "metadata": {},
   "source": [
    "Поскольку мы уже обучили KNNImputer на нашем data_train, мы можем попробовать применить его к датасету data_test\n",
    "Однако для этого нужно совпадение столбцов. Поэтому используем ffill"
   ]
  },
  {
   "cell_type": "code",
   "execution_count": 33,
   "metadata": {},
   "outputs": [],
   "source": [
    "#clean_nan_test = pd.DataFrame(\n",
    "#    data=imputer.transform(data_test[data_train.drop('date', axis=1).columns]),\n",
    "#    columns=data_test[data_train.drop('date', axis=1).columns].columns,\n",
    "#    index=data_test.index\n",
    "#)\n",
    "\n",
    "test_clean_nan = data_test.fillna(method='ffill')\n"
   ]
  },
  {
   "cell_type": "markdown",
   "metadata": {},
   "source": [
    "## Выводы по этому разделу"
   ]
  },
  {
   "cell_type": "markdown",
   "metadata": {},
   "source": [
    "* исходный датасет (data_full) содержит  19 439 записей и 87 колонок\n",
    "* обучающая выборка содержит 14149 записей и 87 колонок\n",
    "* тестовая выборка содержит 5290 записей и 53 колонки\n",
    "* обучающая и тестовая выборки поделены в пропорции 72,79% и 27,21%  (проценты от общего кол-ва строк)\n",
    "* Все параметры записаны в формате float64, кроме параметра date, который был преобразован в формат \"дата\"\n",
    "* Параметр recovery в в тренировочной датасете (train) рассчитан верно\n",
    "* Пропуски заполнены методом KNNImputer\n",
    "* Полных дубликатов нет"
   ]
  },
  {
   "cell_type": "markdown",
   "metadata": {
    "id": "YACoKLSYxI9t"
   },
   "source": [
    "#  Анализ данных"
   ]
  },
  {
   "cell_type": "markdown",
   "metadata": {},
   "source": [
    "## Расчет концентрации металлов на разных этапах"
   ]
  },
  {
   "cell_type": "code",
   "execution_count": 34,
   "metadata": {},
   "outputs": [
    {
     "name": "stdout",
     "output_type": "stream",
     "text": [
      "Концентрация до флотации\n",
      "Концентрация Серебра: 8.58,Свинца: 3.52,Золота: 7.87\n",
      "\n",
      "Концентрация после флотации\n",
      "Коцентрация Серебра: 11.78,Свинца: 7.66,Золота: 19.44\n",
      "\n",
      "Концентрация после первичной очистки\n",
      "Концентрация Серебра: 8.20,Свинца: 9.58,Золота: 32.39\n",
      "\n",
      "Концентрация поле вторичной очистки\n",
      "Концентрация Серебра: 5.14,Свинца: 10.13,Золота: 44.00\n"
     ]
    }
   ],
   "source": [
    "print(\"Концентрация до флотации\")\n",
    "print(\"Концентрация Серебра:{: 0.2f},Свинца:{: 0.2f},Золота:{: 0.2f}\".\n",
    "format(clean_nan[\"rougher.input.feed_ag\"].mean(),\n",
    "clean_nan[\"rougher.input.feed_pb\"].mean(),\n",
    "clean_nan[\"rougher.input.feed_au\"].mean()))\n",
    "print()\n",
    "print(\"Концентрация после флотации\")\n",
    "print(\"Коцентрация Серебра:{: 0.2f},Свинца:{: 0.2f},Золота:{: 0.2f}\".\n",
    "format(clean_nan[\"rougher.output.concentrate_ag\"].mean(),\n",
    "clean_nan[\"rougher.output.concentrate_pb\"].mean(),\n",
    "clean_nan[\"rougher.output.concentrate_au\"].mean()))\n",
    "print()\n",
    "print(\"Концентрация после первичной очистки\")\n",
    "print(\"Концентрация Серебра:{: 0.2f},Свинца:{: 0.2f},Золота:{: 0.2f}\".\n",
    "format(clean_nan[\"primary_cleaner.output.concentrate_ag\"].mean(),\n",
    "clean_nan[\"primary_cleaner.output.concentrate_pb\"].mean(),\n",
    "clean_nan[\"primary_cleaner.output.concentrate_au\"].mean()))\n",
    "print()\n",
    "print(\"Концентрация поле вторичной очистки\")\n",
    "print(\"Концентрация Серебра:{: 0.2f},Свинца:{: 0.2f},Золота:{: 0.2f}\".\n",
    "format(clean_nan[\"final.output.concentrate_ag\"].mean(),\n",
    "clean_nan[\"final.output.concentrate_pb\"].mean(),\n",
    "clean_nan[\"final.output.concentrate_au\"].mean()))"
   ]
  },
  {
   "cell_type": "markdown",
   "metadata": {},
   "source": [
    "По представленным выше данным видно, что с каждым этапом увеличивается концентрация золота и свинца, а концетрация серебра напротив уменьшается"
   ]
  },
  {
   "cell_type": "markdown",
   "metadata": {},
   "source": [
    "Выведем список параметров, определяющих концентрацию металлов на разных этапах очистки"
   ]
  },
  {
   "cell_type": "code",
   "execution_count": 35,
   "metadata": {},
   "outputs": [
    {
     "name": "stdout",
     "output_type": "stream",
     "text": [
      "<class 'pandas.core.frame.DataFrame'>\n",
      "RangeIndex: 19439 entries, 0 to 19438\n",
      "Data columns (total 13 columns):\n",
      " #   Column                                         Non-Null Count  Dtype  \n",
      "---  ------                                         --------------  -----  \n",
      " 0   final.output.concentrate_ag                    19438 non-null  float64\n",
      " 1   final.output.concentrate_pb                    19438 non-null  float64\n",
      " 2   final.output.concentrate_sol                   19228 non-null  float64\n",
      " 3   final.output.concentrate_au                    19439 non-null  float64\n",
      " 4   primary_cleaner.output.concentrate_ag          19439 non-null  float64\n",
      " 5   primary_cleaner.output.concentrate_pb          19323 non-null  float64\n",
      " 6   primary_cleaner.output.concentrate_sol         19069 non-null  float64\n",
      " 7   primary_cleaner.output.concentrate_au          19439 non-null  float64\n",
      " 8   rougher.calculation.sulfate_to_au_concentrate  19437 non-null  float64\n",
      " 9   rougher.output.concentrate_ag                  19439 non-null  float64\n",
      " 10  rougher.output.concentrate_pb                  19439 non-null  float64\n",
      " 11  rougher.output.concentrate_sol                 19416 non-null  float64\n",
      " 12  rougher.output.concentrate_au                  19439 non-null  float64\n",
      "dtypes: float64(13)\n",
      "memory usage: 1.9 MB\n"
     ]
    }
   ],
   "source": [
    "data_full_concentrate = data_full.filter(regex = 'concentrate')\n",
    "data_full_concentrate.info()"
   ]
  },
  {
   "cell_type": "markdown",
   "metadata": {},
   "source": [
    "Построим гистограммы распределения данных"
   ]
  },
  {
   "cell_type": "code",
   "execution_count": 36,
   "metadata": {},
   "outputs": [
    {
     "data": {
      "image/png": "[encoded data removed]",
      "text/plain": [
       "<Figure size 1080x504 with 3 Axes>"
      ]
     },
     "metadata": {
      "needs_background": "light"
     },
     "output_type": "display_data"
    }
   ],
   "source": [
    "fig, ax = plt.subplots(3, 1, sharex='all', figsize=(15, 7))\n",
    "fig.suptitle('Концентрация металлов на разных этапах очистки', y=0.95, size=16)\n",
    "\n",
    "# Первый график\n",
    "ax[0].hist(data_full[data_full['rougher.output.concentrate_ag']>0.01]['rougher.output.concentrate_ag'], bins=50, alpha=0.5, label='rougher.output.concentrate_ag')\n",
    "ax[0].hist(data_full[data_full['rougher.output.concentrate_ag']>0.01]['rougher.output.concentrate_pb'], bins=50, alpha=0.5, label='rougher.output.concentrate_pb')\n",
    "ax[0].hist(data_full[data_full['rougher.output.concentrate_ag']>0.01]['rougher.output.concentrate_au'], bins=50, alpha=0.5, label='rougher.output.concentrate_au')\n",
    "ax[0].legend()\n",
    "ax[0].set_title('Концентрация металлов после флотации')\n",
    "ax[0].grid()\n",
    "ax[0].set_ylabel('Кол-во')\n",
    "ax[0].set_xlabel('Концентрация металлов')\n",
    "\n",
    "# Второй график\n",
    "ax[1].hist(data_full[data_full['primary_cleaner.output.concentrate_ag']>0.01]['primary_cleaner.output.concentrate_ag'], bins=50, alpha=0.5, label='primary_cleaner.output.concentrate_ag')\n",
    "ax[1].hist(data_full[data_full['primary_cleaner.output.concentrate_pb']>0.01]['primary_cleaner.output.concentrate_pb'], bins=50, alpha=0.5, label='primary_cleaner.output.concentrate_pb')\n",
    "ax[1].hist(data_full[data_full['primary_cleaner.output.concentrate_au']>0.01]['primary_cleaner.output.concentrate_au'], bins=50, alpha=0.5, label='primary_cleaner.output.concentrate_au')\n",
    "ax[1].legend()\n",
    "ax[1].set_title('Концентрация металлов после первого этапа очистки')\n",
    "ax[1].grid()\n",
    "ax[1].set_ylabel('Кол-во')\n",
    "ax[2].set_xlabel('Концентрация металлов')\n",
    "\n",
    "# Третий график\n",
    "ax[2].hist(data_full[data_full['final.output.concentrate_ag']>0.01]['final.output.concentrate_ag'], bins=50, alpha=0.5, label='final.output.concentrate_ag')\n",
    "ax[2].hist(data_full[data_full['final.output.concentrate_pb']>0.01]['final.output.concentrate_pb'], bins=50, alpha=0.5, label='final.output.concentrate_pb')\n",
    "ax[2].hist(data_full[data_full['final.output.concentrate_au']>0.01]['final.output.concentrate_au'], bins=50, alpha=0.5, label='final.output.concentrate_au')\n",
    "ax[2].legend()\n",
    "ax[2].set_title('Концентрация металлов в финальном концентрате')\n",
    "ax[2].grid()\n",
    "ax[2].set_ylabel('Кол-во')\n",
    "ax[2].set_xlabel('Концентрация металлов')\n",
    "\n",
    "plt.show()\n"
   ]
  },
  {
   "cell_type": "markdown",
   "metadata": {},
   "source": [
    "#### Описательная статистика по трем металлам"
   ]
  },
  {
   "cell_type": "markdown",
   "metadata": {},
   "source": [
    "Данные по серебру"
   ]
  },
  {
   "cell_type": "code",
   "execution_count": 37,
   "metadata": {},
   "outputs": [
    {
     "data": {
      "text/html": [
       "<div>\n",
       "<style scoped>\n",
       "    .dataframe tbody tr th:only-of-type {\n",
       "        vertical-align: middle;\n",
       "    }\n",
       "\n",
       "    .dataframe tbody tr th {\n",
       "        vertical-align: top;\n",
       "    }\n",
       "\n",
       "    .dataframe thead th {\n",
       "        text-align: right;\n",
       "    }\n",
       "</style>\n",
       "<table border=\"1\" class=\"dataframe\">\n",
       "  <thead>\n",
       "    <tr style=\"text-align: right;\">\n",
       "      <th></th>\n",
       "      <th>rougher.output.concentrate_ag</th>\n",
       "      <th>primary_cleaner.output.concentrate_ag</th>\n",
       "      <th>final.output.concentrate_ag</th>\n",
       "    </tr>\n",
       "  </thead>\n",
       "  <tbody>\n",
       "    <tr>\n",
       "      <th>count</th>\n",
       "      <td>19439.000000</td>\n",
       "      <td>19439.000000</td>\n",
       "      <td>19438.000000</td>\n",
       "    </tr>\n",
       "    <tr>\n",
       "      <th>mean</th>\n",
       "      <td>11.994759</td>\n",
       "      <td>8.442408</td>\n",
       "      <td>5.168470</td>\n",
       "    </tr>\n",
       "    <tr>\n",
       "      <th>std</th>\n",
       "      <td>2.733862</td>\n",
       "      <td>2.054465</td>\n",
       "      <td>1.372348</td>\n",
       "    </tr>\n",
       "    <tr>\n",
       "      <th>min</th>\n",
       "      <td>0.000000</td>\n",
       "      <td>0.000000</td>\n",
       "      <td>0.000000</td>\n",
       "    </tr>\n",
       "    <tr>\n",
       "      <th>25%</th>\n",
       "      <td>10.628337</td>\n",
       "      <td>7.263288</td>\n",
       "      <td>4.251240</td>\n",
       "    </tr>\n",
       "    <tr>\n",
       "      <th>50%</th>\n",
       "      <td>12.098115</td>\n",
       "      <td>8.507298</td>\n",
       "      <td>5.066094</td>\n",
       "    </tr>\n",
       "    <tr>\n",
       "      <th>75%</th>\n",
       "      <td>13.736996</td>\n",
       "      <td>9.809001</td>\n",
       "      <td>5.895527</td>\n",
       "    </tr>\n",
       "    <tr>\n",
       "      <th>max</th>\n",
       "      <td>24.480271</td>\n",
       "      <td>16.081632</td>\n",
       "      <td>16.001945</td>\n",
       "    </tr>\n",
       "  </tbody>\n",
       "</table>\n",
       "</div>"
      ],
      "text/plain": [
       "       rougher.output.concentrate_ag  primary_cleaner.output.concentrate_ag  \\\n",
       "count                   19439.000000                           19439.000000   \n",
       "mean                       11.994759                               8.442408   \n",
       "std                         2.733862                               2.054465   \n",
       "min                         0.000000                               0.000000   \n",
       "25%                        10.628337                               7.263288   \n",
       "50%                        12.098115                               8.507298   \n",
       "75%                        13.736996                               9.809001   \n",
       "max                        24.480271                              16.081632   \n",
       "\n",
       "       final.output.concentrate_ag  \n",
       "count                 19438.000000  \n",
       "mean                      5.168470  \n",
       "std                       1.372348  \n",
       "min                       0.000000  \n",
       "25%                       4.251240  \n",
       "50%                       5.066094  \n",
       "75%                       5.895527  \n",
       "max                      16.001945  "
      ]
     },
     "metadata": {},
     "output_type": "display_data"
    }
   ],
   "source": [
    "rougher_output_concentrate_ag = data_full['rougher.output.concentrate_ag'].describe().to_frame()\n",
    "primary_cleaner_output_concentrate_ag = data_full['primary_cleaner.output.concentrate_ag'].describe().to_frame()\n",
    "final_output_concentrate_ag = data_full['final.output.concentrate_ag'].describe().to_frame()\n",
    "\n",
    "ag = rougher_output_concentrate_ag.join(primary_cleaner_output_concentrate_ag, how='left')\\\n",
    ".join(final_output_concentrate_ag, how='left')\n",
    "display(ag)"
   ]
  },
  {
   "cell_type": "markdown",
   "metadata": {},
   "source": [
    "Данные по свинцу"
   ]
  },
  {
   "cell_type": "code",
   "execution_count": 38,
   "metadata": {},
   "outputs": [
    {
     "data": {
      "text/html": [
       "<div>\n",
       "<style scoped>\n",
       "    .dataframe tbody tr th:only-of-type {\n",
       "        vertical-align: middle;\n",
       "    }\n",
       "\n",
       "    .dataframe tbody tr th {\n",
       "        vertical-align: top;\n",
       "    }\n",
       "\n",
       "    .dataframe thead th {\n",
       "        text-align: right;\n",
       "    }\n",
       "</style>\n",
       "<table border=\"1\" class=\"dataframe\">\n",
       "  <thead>\n",
       "    <tr style=\"text-align: right;\">\n",
       "      <th></th>\n",
       "      <th>rougher.output.concentrate_pb</th>\n",
       "      <th>primary_cleaner.output.concentrate_pb</th>\n",
       "      <th>final.output.concentrate_pb</th>\n",
       "    </tr>\n",
       "  </thead>\n",
       "  <tbody>\n",
       "    <tr>\n",
       "      <th>count</th>\n",
       "      <td>19439.000000</td>\n",
       "      <td>19323.000000</td>\n",
       "      <td>19438.000000</td>\n",
       "    </tr>\n",
       "    <tr>\n",
       "      <th>mean</th>\n",
       "      <td>7.606272</td>\n",
       "      <td>9.829530</td>\n",
       "      <td>9.978895</td>\n",
       "    </tr>\n",
       "    <tr>\n",
       "      <th>std</th>\n",
       "      <td>1.796757</td>\n",
       "      <td>2.556843</td>\n",
       "      <td>1.669240</td>\n",
       "    </tr>\n",
       "    <tr>\n",
       "      <th>min</th>\n",
       "      <td>0.000000</td>\n",
       "      <td>0.000000</td>\n",
       "      <td>0.000000</td>\n",
       "    </tr>\n",
       "    <tr>\n",
       "      <th>25%</th>\n",
       "      <td>6.725987</td>\n",
       "      <td>8.702328</td>\n",
       "      <td>9.137262</td>\n",
       "    </tr>\n",
       "    <tr>\n",
       "      <th>50%</th>\n",
       "      <td>7.742580</td>\n",
       "      <td>10.152433</td>\n",
       "      <td>10.102433</td>\n",
       "    </tr>\n",
       "    <tr>\n",
       "      <th>75%</th>\n",
       "      <td>8.565199</td>\n",
       "      <td>11.424971</td>\n",
       "      <td>11.035769</td>\n",
       "    </tr>\n",
       "    <tr>\n",
       "      <th>max</th>\n",
       "      <td>13.617072</td>\n",
       "      <td>17.081278</td>\n",
       "      <td>17.031899</td>\n",
       "    </tr>\n",
       "  </tbody>\n",
       "</table>\n",
       "</div>"
      ],
      "text/plain": [
       "       rougher.output.concentrate_pb  primary_cleaner.output.concentrate_pb  \\\n",
       "count                   19439.000000                           19323.000000   \n",
       "mean                        7.606272                               9.829530   \n",
       "std                         1.796757                               2.556843   \n",
       "min                         0.000000                               0.000000   \n",
       "25%                         6.725987                               8.702328   \n",
       "50%                         7.742580                              10.152433   \n",
       "75%                         8.565199                              11.424971   \n",
       "max                        13.617072                              17.081278   \n",
       "\n",
       "       final.output.concentrate_pb  \n",
       "count                 19438.000000  \n",
       "mean                      9.978895  \n",
       "std                       1.669240  \n",
       "min                       0.000000  \n",
       "25%                       9.137262  \n",
       "50%                      10.102433  \n",
       "75%                      11.035769  \n",
       "max                      17.031899  "
      ]
     },
     "metadata": {},
     "output_type": "display_data"
    }
   ],
   "source": [
    "rougher_output_concentrate_pb = data_full['rougher.output.concentrate_pb'].describe().to_frame()\n",
    "primary_cleaner_output_concentrate_pb = data_full['primary_cleaner.output.concentrate_pb'].describe().to_frame()\n",
    "final_output_concentrate_pb = data_full['final.output.concentrate_pb'].describe().to_frame()\n",
    "\n",
    "pb = rougher_output_concentrate_pb.join(primary_cleaner_output_concentrate_pb, how='left')\\\n",
    ".join(final_output_concentrate_pb, how='left')\n",
    "display(pb)\n"
   ]
  },
  {
   "cell_type": "markdown",
   "metadata": {},
   "source": [
    "Данные по золоту"
   ]
  },
  {
   "cell_type": "code",
   "execution_count": 39,
   "metadata": {},
   "outputs": [
    {
     "data": {
      "text/html": [
       "<div>\n",
       "<style scoped>\n",
       "    .dataframe tbody tr th:only-of-type {\n",
       "        vertical-align: middle;\n",
       "    }\n",
       "\n",
       "    .dataframe tbody tr th {\n",
       "        vertical-align: top;\n",
       "    }\n",
       "\n",
       "    .dataframe thead th {\n",
       "        text-align: right;\n",
       "    }\n",
       "</style>\n",
       "<table border=\"1\" class=\"dataframe\">\n",
       "  <thead>\n",
       "    <tr style=\"text-align: right;\">\n",
       "      <th></th>\n",
       "      <th>rougher.output.concentrate_au</th>\n",
       "      <th>primary_cleaner.output.concentrate_au</th>\n",
       "      <th>final.output.concentrate_au</th>\n",
       "    </tr>\n",
       "  </thead>\n",
       "  <tbody>\n",
       "    <tr>\n",
       "      <th>count</th>\n",
       "      <td>19439.000000</td>\n",
       "      <td>19439.000000</td>\n",
       "      <td>19439.000000</td>\n",
       "    </tr>\n",
       "    <tr>\n",
       "      <th>mean</th>\n",
       "      <td>19.772000</td>\n",
       "      <td>32.119400</td>\n",
       "      <td>44.076513</td>\n",
       "    </tr>\n",
       "    <tr>\n",
       "      <th>std</th>\n",
       "      <td>3.753600</td>\n",
       "      <td>5.627611</td>\n",
       "      <td>5.129784</td>\n",
       "    </tr>\n",
       "    <tr>\n",
       "      <th>min</th>\n",
       "      <td>0.000000</td>\n",
       "      <td>0.000000</td>\n",
       "      <td>0.000000</td>\n",
       "    </tr>\n",
       "    <tr>\n",
       "      <th>25%</th>\n",
       "      <td>18.802523</td>\n",
       "      <td>30.463140</td>\n",
       "      <td>43.402215</td>\n",
       "    </tr>\n",
       "    <tr>\n",
       "      <th>50%</th>\n",
       "      <td>20.280214</td>\n",
       "      <td>32.841295</td>\n",
       "      <td>45.011244</td>\n",
       "    </tr>\n",
       "    <tr>\n",
       "      <th>75%</th>\n",
       "      <td>21.717843</td>\n",
       "      <td>35.048006</td>\n",
       "      <td>46.275313</td>\n",
       "    </tr>\n",
       "    <tr>\n",
       "      <th>max</th>\n",
       "      <td>28.824507</td>\n",
       "      <td>45.933934</td>\n",
       "      <td>52.756638</td>\n",
       "    </tr>\n",
       "  </tbody>\n",
       "</table>\n",
       "</div>"
      ],
      "text/plain": [
       "       rougher.output.concentrate_au  primary_cleaner.output.concentrate_au  \\\n",
       "count                   19439.000000                           19439.000000   \n",
       "mean                       19.772000                              32.119400   \n",
       "std                         3.753600                               5.627611   \n",
       "min                         0.000000                               0.000000   \n",
       "25%                        18.802523                              30.463140   \n",
       "50%                        20.280214                              32.841295   \n",
       "75%                        21.717843                              35.048006   \n",
       "max                        28.824507                              45.933934   \n",
       "\n",
       "       final.output.concentrate_au  \n",
       "count                 19439.000000  \n",
       "mean                     44.076513  \n",
       "std                       5.129784  \n",
       "min                       0.000000  \n",
       "25%                      43.402215  \n",
       "50%                      45.011244  \n",
       "75%                      46.275313  \n",
       "max                      52.756638  "
      ]
     },
     "metadata": {},
     "output_type": "display_data"
    }
   ],
   "source": [
    "rougher_output_concentrate_au = data_full['rougher.output.concentrate_au'].describe().to_frame()\n",
    "primary_cleaner_output_concentrate_au = data_full['primary_cleaner.output.concentrate_au'].describe().to_frame()\n",
    "final_output_concentrate_au = data_full['final.output.concentrate_au'].describe().to_frame()\n",
    "\n",
    "au = rougher_output_concentrate_au.join(primary_cleaner_output_concentrate_au, how='left')\\\n",
    ".join(final_output_concentrate_au, how='left')\n",
    "display(au)"
   ]
  },
  {
   "cell_type": "markdown",
   "metadata": {},
   "source": [
    "#### Выводы\n",
    "В ходе технологического процесса обработки золотоносной руды концетрация интересующих нас металлов (серебро, свинец и золото)  меняется следующим образом:\n",
    "\n",
    "* концентрация **серебра** в процессе обработки **снижается**:\n",
    "\n",
    "-- среднее значение падает с 11.59 до 5.16 \n",
    "\n",
    "-- преимущественно снижение происходит после первого этапа очистки\n",
    "\n",
    "\n",
    "* концентрация **свинца** в процессе обработки **растет**:\n",
    "\n",
    "-- среднее значение возрастает с 7.6 до 9.98\n",
    "\n",
    "-- в основном изменения происходят после очистки первого этапа\n",
    "\n",
    "\n",
    "* концентрация **золота** в процессе обработки **существенно возрастает** (что собственно и должно происходить):\n",
    "\n",
    "-- среднее значение вырастает с 19.77 до 44.08\n",
    "\n",
    "-- прирост концентрации происходит более-менее равномерно на каждом этапе (технологи не зря зарплату получают на этом заводе)\n"
   ]
  },
  {
   "cell_type": "markdown",
   "metadata": {},
   "source": [
    "## График распределения размера гранул"
   ]
  },
  {
   "cell_type": "markdown",
   "metadata": {},
   "source": [
    "Необходимо сравнить распределения размеров гранул сырья на обучающей и тестовой выборках. Так как, если распределения сильно отличаются друг от друга, оценка модели будет неправильной."
   ]
  },
  {
   "cell_type": "markdown",
   "metadata": {},
   "source": [
    "Построим графики и выведем описательную статистику"
   ]
  },
  {
   "cell_type": "markdown",
   "metadata": {},
   "source": [
    "Распределение концентрации размера сырья на входе флотации train и test"
   ]
  },
  {
   "cell_type": "code",
   "execution_count": 40,
   "metadata": {},
   "outputs": [
    {
     "data": {
      "image/png": "[encoded data removed]",
      "text/plain": [
       "<Figure size 1080x360 with 1 Axes>"
      ]
     },
     "metadata": {
      "needs_background": "light"
     },
     "output_type": "display_data"
    }
   ],
   "source": [
    "plt.figure(figsize=(15, 5))\n",
    "sns.kdeplot(data_train['rougher.input.feed_size'], label='train rougher.input.feed_size', alpha=0.5, shade=True)\n",
    "sns.kdeplot(data_test['rougher.input.feed_size'], label='test rougher.input.feed_size', alpha=0.7, shade=True)\n",
    "plt.xlim([0, 175])\n",
    "plt.xlabel('Значения')\n",
    "plt.ylabel('Плотность вероятности непрерывной величины')\n",
    "plt.legend(loc='upper right')\n",
    "plt.show()"
   ]
  },
  {
   "cell_type": "code",
   "execution_count": 41,
   "metadata": {},
   "outputs": [
    {
     "name": "stdout",
     "output_type": "stream",
     "text": [
      "count    14005.000000\n",
      "mean        60.110518\n",
      "std         22.418485\n",
      "min          9.659576\n",
      "25%         48.973027\n",
      "50%         55.373885\n",
      "75%         66.080172\n",
      "max        484.967466\n",
      "Name: rougher.input.feed_size, dtype: float64\n",
      "count    5289.000000\n",
      "mean       55.951097\n",
      "std        19.081758\n",
      "min         0.046369\n",
      "25%        43.906347\n",
      "50%        50.841029\n",
      "75%        62.431047\n",
      "max       392.494040\n",
      "Name: rougher.input.feed_size, dtype: float64\n"
     ]
    }
   ],
   "source": [
    "print(data_train['rougher.input.feed_size'].describe())\n",
    "print(data_test['rougher.input.feed_size'].describe())"
   ]
  },
  {
   "cell_type": "markdown",
   "metadata": {},
   "source": [
    "Пики немного смещены: медианы 55.33 и 50.84"
   ]
  },
  {
   "cell_type": "markdown",
   "metadata": {},
   "source": [
    "Распределение концентрации размера сырья на входе финальной очистки train и test"
   ]
  },
  {
   "cell_type": "code",
   "execution_count": 42,
   "metadata": {},
   "outputs": [
    {
     "data": {
      "image/png": "[encoded data removed]",
      "text/plain": [
       "<Figure size 1080x360 with 1 Axes>"
      ]
     },
     "metadata": {
      "needs_background": "light"
     },
     "output_type": "display_data"
    }
   ],
   "source": [
    "plt.figure(figsize=(15, 5))\n",
    "sns.kdeplot(data_train['primary_cleaner.input.feed_size'], \n",
    "         label='train primary_cleaner.input.feed_size', alpha=0.3, shade=True)\n",
    "sns.kdeplot(data_test['primary_cleaner.input.feed_size'],  \n",
    "         label='test primary_cleaner.input.feed_size', alpha=0.3, shade=True)\n",
    "plt.xlim([5, 10])\n",
    "plt.xlabel('Значения')\n",
    "plt.ylabel('Плотность вероятности')\n",
    "plt.legend(loc='upper right')\n",
    "plt.show()"
   ]
  },
  {
   "cell_type": "code",
   "execution_count": 43,
   "metadata": {},
   "outputs": [
    {
     "name": "stdout",
     "output_type": "stream",
     "text": [
      "count    14149.000000\n",
      "mean         7.322310\n",
      "std          0.614062\n",
      "min          1.080000\n",
      "25%          6.960000\n",
      "50%          7.290000\n",
      "75%          7.700000\n",
      "max         10.470000\n",
      "Name: primary_cleaner.input.feed_size, dtype: float64\n",
      "count    5290.000000\n",
      "mean        7.266339\n",
      "std         0.610219\n",
      "min         5.650000\n",
      "25%         6.890000\n",
      "50%         7.250000\n",
      "75%         7.600000\n",
      "max        15.500000\n",
      "Name: primary_cleaner.input.feed_size, dtype: float64\n"
     ]
    }
   ],
   "source": [
    "print(data_train['primary_cleaner.input.feed_size'].describe())\n",
    "print(data_test['primary_cleaner.input.feed_size'].describe())"
   ]
  },
  {
   "cell_type": "markdown",
   "metadata": {},
   "source": [
    "Пики довольно близки друг к другу. Медианы: 7,3 и 7,25"
   ]
  },
  {
   "cell_type": "markdown",
   "metadata": {},
   "source": [
    "#### Выводы\n",
    "* распределения размеров гранул сырья на обучающей и тестовой выборках весьма схожи (и это хорошо)\n",
    "* на входе оба распределения имеют скошенность вправо с длинными хвостами\n",
    "* после флотации оба распределения стремятся к нормальному и одинаково центрированы\n",
    "* сильных отличий не вывлено: ожидаем корректность расчета модели"
   ]
  },
  {
   "cell_type": "markdown",
   "metadata": {},
   "source": [
    "<div class=\"alert alert-success\">\n",
    "\n",
    "Чуть более интересным решением было бы использование статистического теста (например, `ttest`) для сравнения распределений в выборках."
   ]
  },
  {
   "cell_type": "markdown",
   "metadata": {},
   "source": [
    "## Расчет суммарной концентрации"
   ]
  },
  {
   "cell_type": "code",
   "execution_count": 44,
   "metadata": {
    "ExecuteTime": {
     "end_time": "2021-01-13T13:26:07.178615Z",
     "start_time": "2021-01-13T13:25:53.585Z"
    },
    "id": "tp4NwISTxI94"
   },
   "outputs": [],
   "source": [
    "def summary_of_concentarution(row):\n",
    "    list_of_steps = [\"rougher\",\"primary_cleaner\",\"final\"]\n",
    "    input_feed_au = row[\"rougher.input.feed_au\"]\n",
    "    input_feed_ag = row[\"rougher.input.feed_ag\"]\n",
    "    input_feed_pb = row[\"rougher.input.feed_pb\"]\n",
    "    input_feed_sol = row[\"rougher.input.feed_sol\"]\n",
    "    out_rougher = []\n",
    "    out_primary_cleaner = []\n",
    "    out_final = []\n",
    "    list_of_arrays =[out_rougher,out_primary_cleaner,out_final]\n",
    "    for step,array in zip(list_of_steps,list_of_arrays):\n",
    "        array.append(row[step+\".output.concentrate_au\"])\n",
    "        array.append(row[step+\".output.concentrate_ag\"])\n",
    "        array.append(row[step+\".output.concentrate_pb\"])\n",
    "        array.append(row[step+\".output.concentrate_sol\"])\n",
    "    sum_before_steps = input_feed_ag+input_feed_au+input_feed_pb+input_feed_sol\n",
    "    sum_rougher = sum(out_rougher)\n",
    "    sum_primary = sum(out_primary_cleaner)\n",
    "    sum_final = sum(out_final)\n",
    "    return pd.Series([sum_before_steps,sum_rougher,sum_primary,sum_final])\n",
    "    "
   ]
  },
  {
   "cell_type": "code",
   "execution_count": 45,
   "metadata": {
    "ExecuteTime": {
     "end_time": "2021-01-13T13:26:07.179793Z",
     "start_time": "2021-01-13T13:25:53.588Z"
    },
    "id": "ijLtt76bxI98",
    "scrolled": true
   },
   "outputs": [],
   "source": [
    "sum_values = clean_nan.apply(summary_of_concentarution,axis = 1)\n",
    "sum_values.columns = [\"before_rougher\",\"rougher\",\"primary_cleaner\",\"final\"]"
   ]
  },
  {
   "cell_type": "code",
   "execution_count": 46,
   "metadata": {
    "ExecuteTime": {
     "end_time": "2021-01-13T13:26:07.181036Z",
     "start_time": "2021-01-13T13:25:53.592Z"
    },
    "colab": {
     "base_uri": "https://localhost:8080/",
     "height": 407
    },
    "id": "ttrcZn6axI9_",
    "outputId": "4adaec4b-019d-4c49-fabe-dbe0c73cb722",
    "scrolled": true
   },
   "outputs": [
    {
     "data": {
      "text/html": [
       "<div>\n",
       "<style scoped>\n",
       "    .dataframe tbody tr th:only-of-type {\n",
       "        vertical-align: middle;\n",
       "    }\n",
       "\n",
       "    .dataframe tbody tr th {\n",
       "        vertical-align: top;\n",
       "    }\n",
       "\n",
       "    .dataframe thead th {\n",
       "        text-align: right;\n",
       "    }\n",
       "</style>\n",
       "<table border=\"1\" class=\"dataframe\">\n",
       "  <thead>\n",
       "    <tr style=\"text-align: right;\">\n",
       "      <th></th>\n",
       "      <th>before_rougher</th>\n",
       "      <th>rougher</th>\n",
       "      <th>primary_cleaner</th>\n",
       "      <th>final</th>\n",
       "    </tr>\n",
       "  </thead>\n",
       "  <tbody>\n",
       "    <tr>\n",
       "      <th>0</th>\n",
       "      <td>51.680034</td>\n",
       "      <td>66.424950</td>\n",
       "      <td>72.640924</td>\n",
       "      <td>63.644396</td>\n",
       "    </tr>\n",
       "    <tr>\n",
       "      <th>1</th>\n",
       "      <td>50.659114</td>\n",
       "      <td>67.012710</td>\n",
       "      <td>72.543485</td>\n",
       "      <td>63.957723</td>\n",
       "    </tr>\n",
       "    <tr>\n",
       "      <th>2</th>\n",
       "      <td>50.609929</td>\n",
       "      <td>66.103793</td>\n",
       "      <td>72.095042</td>\n",
       "      <td>64.311180</td>\n",
       "    </tr>\n",
       "    <tr>\n",
       "      <th>3</th>\n",
       "      <td>51.061546</td>\n",
       "      <td>65.752751</td>\n",
       "      <td>59.957723</td>\n",
       "      <td>63.573449</td>\n",
       "    </tr>\n",
       "    <tr>\n",
       "      <th>4</th>\n",
       "      <td>47.859163</td>\n",
       "      <td>65.908382</td>\n",
       "      <td>71.321010</td>\n",
       "      <td>64.004667</td>\n",
       "    </tr>\n",
       "    <tr>\n",
       "      <th>...</th>\n",
       "      <td>...</td>\n",
       "      <td>...</td>\n",
       "      <td>...</td>\n",
       "      <td>...</td>\n",
       "    </tr>\n",
       "    <tr>\n",
       "      <th>14144</th>\n",
       "      <td>53.415050</td>\n",
       "      <td>70.781325</td>\n",
       "      <td>59.001692</td>\n",
       "      <td>68.098589</td>\n",
       "    </tr>\n",
       "    <tr>\n",
       "      <th>14145</th>\n",
       "      <td>53.696482</td>\n",
       "      <td>70.539603</td>\n",
       "      <td>59.703912</td>\n",
       "      <td>68.274362</td>\n",
       "    </tr>\n",
       "    <tr>\n",
       "      <th>14146</th>\n",
       "      <td>54.589604</td>\n",
       "      <td>55.376330</td>\n",
       "      <td>59.561096</td>\n",
       "      <td>68.226068</td>\n",
       "    </tr>\n",
       "    <tr>\n",
       "      <th>14147</th>\n",
       "      <td>54.027355</td>\n",
       "      <td>69.201689</td>\n",
       "      <td>57.216686</td>\n",
       "      <td>68.200449</td>\n",
       "    </tr>\n",
       "    <tr>\n",
       "      <th>14148</th>\n",
       "      <td>53.535054</td>\n",
       "      <td>69.544003</td>\n",
       "      <td>55.748041</td>\n",
       "      <td>68.353154</td>\n",
       "    </tr>\n",
       "  </tbody>\n",
       "</table>\n",
       "<p>14149 rows × 4 columns</p>\n",
       "</div>"
      ],
      "text/plain": [
       "       before_rougher    rougher  primary_cleaner      final\n",
       "0           51.680034  66.424950        72.640924  63.644396\n",
       "1           50.659114  67.012710        72.543485  63.957723\n",
       "2           50.609929  66.103793        72.095042  64.311180\n",
       "3           51.061546  65.752751        59.957723  63.573449\n",
       "4           47.859163  65.908382        71.321010  64.004667\n",
       "...               ...        ...              ...        ...\n",
       "14144       53.415050  70.781325        59.001692  68.098589\n",
       "14145       53.696482  70.539603        59.703912  68.274362\n",
       "14146       54.589604  55.376330        59.561096  68.226068\n",
       "14147       54.027355  69.201689        57.216686  68.200449\n",
       "14148       53.535054  69.544003        55.748041  68.353154\n",
       "\n",
       "[14149 rows x 4 columns]"
      ]
     },
     "execution_count": 46,
     "metadata": {},
     "output_type": "execute_result"
    }
   ],
   "source": [
    "sum_values"
   ]
  },
  {
   "cell_type": "code",
   "execution_count": 47,
   "metadata": {
    "ExecuteTime": {
     "end_time": "2021-01-13T13:26:07.181864Z",
     "start_time": "2021-01-13T13:25:53.595Z"
    },
    "colab": {
     "base_uri": "https://localhost:8080/",
     "height": 1000
    },
    "id": "3zMTQ0M5xI-G",
    "outputId": "ce9f0ed9-0fe0-43c3-afa6-1331c3454122",
    "scrolled": false
   },
   "outputs": [
    {
     "data": {
      "image/png": "[encoded data removed]",
      "text/plain": [
       "<Figure size 1440x2160 with 4 Axes>"
      ]
     },
     "metadata": {
      "needs_background": "light"
     },
     "output_type": "display_data"
    }
   ],
   "source": [
    "fig, ax = plt.subplots(4, 1, figsize=(20, 30))\n",
    "\n",
    "ax[0].hist(sum_values[\"before_rougher\"], bins=40)\n",
    "ax[1].hist(sum_values[\"rougher\"], bins=40)\n",
    "ax[2].hist(sum_values[\"primary_cleaner\"], bins=40)\n",
    "ax[3].hist(sum_values[\"final\"], bins=40)\n",
    "\n",
    "ax[0].set_xlabel(\"Сумма долей компонентов\")\n",
    "ax[1].set_xlabel(\"Сумма долей компонентов\")\n",
    "ax[2].set_xlabel(\"Сумма долей компонентов\")\n",
    "ax[3].set_xlabel(\"Сумма долей компонентов\")\n",
    "\n",
    "ax[0].set_ylabel(\"Количество\")\n",
    "ax[1].set_ylabel(\"Количество\")\n",
    "ax[2].set_ylabel(\"Количество\")\n",
    "ax[3].set_ylabel(\"Количество\")\n",
    "\n",
    "ax[0].set_title(\"Концентрация компонентов до флотации\")\n",
    "ax[1].set_title(\"Концентрация компонентов после флотации\")\n",
    "ax[2].set_title(\"Концентрация компонентов после первичной очистки\")\n",
    "ax[3].set_title(\"Концентрация компонентов после финального этапа\")\n",
    "\n",
    "plt.show()"
   ]
  },
  {
   "cell_type": "markdown",
   "metadata": {
    "id": "C_LHaZeWxI-K"
   },
   "source": [
    "Можно заметить, что распределениях присутствует пик около нулевого значения. Он очень далек от общего распределения, его следует удалить. Это явный выброс\n",
    "\n",
    "Мы видим, что аномалии в основном присутствуют на черновом этапе очистке, особенном много значений в районе нуля. На этапе сырья их почти нет, в финальном концентрате есть, но не так много как на черновом. \n",
    "\n",
    "В процессе очистки также уменьшается дисперсия, данные после очистки концетрируются у медианы\n"
   ]
  },
  {
   "cell_type": "markdown",
   "metadata": {},
   "source": [
    "## Удаление выбросов"
   ]
  },
  {
   "cell_type": "code",
   "execution_count": 48,
   "metadata": {
    "ExecuteTime": {
     "end_time": "2021-01-13T13:26:07.182772Z",
     "start_time": "2021-01-13T13:25:53.598Z"
    },
    "id": "VeX34UU6xI-T"
   },
   "outputs": [],
   "source": [
    "clean_nan = clean_nan.drop(index = clean_nan[clean_nan[\"rougher.input.feed_au\"] < 1].index,\n",
    "                               axis = 0)\n",
    "clean_nan = clean_nan.drop(index = clean_nan[clean_nan[\"rougher.input.feed_ag\"] < 1].index,\n",
    "                               axis = 0)\n",
    "clean_nan = clean_nan.drop(index = clean_nan[clean_nan[\"rougher.input.feed_pb\"] < 1].index,\n",
    "                               axis = 0)\n",
    "clean_nan = clean_nan.drop(index = clean_nan[clean_nan[\"rougher.input.feed_sol\"] < 1].index,\n",
    "                               axis = 0)\n",
    "\n",
    "\n",
    "clean_nan = clean_nan.drop(index = clean_nan[clean_nan[\"rougher.output.concentrate_au\"] < 1].index,\n",
    "                               axis = 0)\n",
    "clean_nan = clean_nan.drop(index = clean_nan[clean_nan[\"rougher.output.concentrate_ag\"] < 1].index,\n",
    "                               axis = 0)\n",
    "clean_nan = clean_nan.drop(index = clean_nan[clean_nan[\"rougher.output.concentrate_pb\"] < 1].index,\n",
    "                               axis = 0)\n",
    "clean_nan = clean_nan.drop(index = clean_nan[clean_nan[\"rougher.output.concentrate_sol\"] < 1].index,\n",
    "                               axis = 0)\n",
    "\n",
    "clean_nan = clean_nan.drop(index = clean_nan[clean_nan[\"primary_cleaner.output.concentrate_au\"] < 1].index,\n",
    "                               axis = 0)\n",
    "clean_nan = clean_nan.drop(index = clean_nan[clean_nan[\"primary_cleaner.output.concentrate_ag\"] < 1].index,\n",
    "                               axis = 0)\n",
    "clean_nan = clean_nan.drop(index = clean_nan[clean_nan[\"primary_cleaner.output.concentrate_pb\"] < 1].index,\n",
    "                               axis = 0)\n",
    "clean_nan = clean_nan.drop(index = clean_nan[clean_nan[\"primary_cleaner.output.concentrate_sol\"] < 1].index,\n",
    "                               axis = 0)\n",
    "\n",
    "clean_nan = clean_nan.drop(index = clean_nan[clean_nan[\"final.output.concentrate_au\"] < 1].index,\n",
    "                               axis = 0)\n",
    "clean_nan = clean_nan.drop(index = clean_nan[clean_nan[\"final.output.concentrate_ag\"] < 1].index,\n",
    "                               axis = 0)\n",
    "clean_nan = clean_nan.drop(index = clean_nan[clean_nan[\"final.output.concentrate_pb\"] < 1].index,\n",
    "                               axis = 0)\n",
    "clean_nan = clean_nan.drop(index = clean_nan[clean_nan[\"final.output.concentrate_sol\"] < 1].index,\n",
    "                               axis = 0)\n"
   ]
  },
  {
   "cell_type": "markdown",
   "metadata": {},
   "source": [
    "## График суммарной концентрации после удаления выбросов"
   ]
  },
  {
   "cell_type": "code",
   "execution_count": 49,
   "metadata": {
    "ExecuteTime": {
     "end_time": "2021-01-13T13:26:07.183612Z",
     "start_time": "2021-01-13T13:25:53.601Z"
    }
   },
   "outputs": [
    {
     "data": {
      "image/png": "[encoded data removed]",
      "text/plain": [
       "<Figure size 1440x2160 with 4 Axes>"
      ]
     },
     "metadata": {
      "needs_background": "light"
     },
     "output_type": "display_data"
    }
   ],
   "source": [
    "fig,ax = plt.subplots(4,1,figsize = (20,30))\n",
    "\n",
    "ax[0].hist(sum_values[\"before_rougher\"],bins = 40)\n",
    "ax[1].hist(sum_values[\"rougher\"],bins = 40)\n",
    "ax[2].hist(sum_values[\"primary_cleaner\"],bins = 40)\n",
    "ax[3].hist(sum_values[\"final\"],bins = 40)\n",
    "\n",
    "ax[0].set_xlabel(\"Сумма долей компонентов\")\n",
    "ax[1].set_xlabel(\"Сумма долей компонентов\")\n",
    "ax[2].set_xlabel(\"Сумма долей компонентов\")\n",
    "ax[3].set_xlabel(\"Сумма долей компонентов\")\n",
    "\n",
    "ax[0].set_title(\"Концентрация компонентов до флотации\")\n",
    "ax[1].set_title(\"Концентрация компонентов после флотации\")\n",
    "ax[2].set_title(\"Концентрация компонентов после первичной очистки\")\n",
    "ax[3].set_title(\"Концентрация компонентов после финального этапа\")\n",
    "plt.show()"
   ]
  },
  {
   "cell_type": "markdown",
   "metadata": {},
   "source": [
    "Почистим еще раз"
   ]
  },
  {
   "cell_type": "code",
   "execution_count": 50,
   "metadata": {
    "ExecuteTime": {
     "end_time": "2021-01-13T13:26:07.184419Z",
     "start_time": "2021-01-13T13:25:53.604Z"
    },
    "id": "ETIza0b7xI-V"
   },
   "outputs": [],
   "source": [
    "data_test = data_test.drop(index = data_test[data_test[\"rougher.input.feed_au\"] < 1].index,\n",
    "                               axis = 0)\n",
    "data_test = data_test.drop(index = data_test[data_test[\"rougher.input.feed_ag\"] < 1].index,\n",
    "                               axis = 0)\n",
    "data_test = data_test.drop(index = data_test[data_test[\"rougher.input.feed_pb\"] < 1].index,\n",
    "                               axis = 0)\n",
    "data_test = data_test.drop(index = data_test[data_test[\"rougher.input.feed_sol\"] < 1].index,\n",
    "                               axis = 0)\n"
   ]
  },
  {
   "cell_type": "markdown",
   "metadata": {},
   "source": [
    "<b>Все отлично!👍:</b> Удалили аномалии в виде нулевых концентраций из данных."
   ]
  },
  {
   "cell_type": "markdown",
   "metadata": {},
   "source": [
    "Подготовим фичи и таргеты для дальнейшего построения моделей"
   ]
  },
  {
   "cell_type": "code",
   "execution_count": 51,
   "metadata": {
    "ExecuteTime": {
     "end_time": "2021-01-13T13:26:07.185327Z",
     "start_time": "2021-01-13T13:25:53.607Z"
    },
    "id": "bldWSvYJ5Hpt"
   },
   "outputs": [],
   "source": [
    "train_features_dataset_rougher = clean_nan.loc[:,data_test.columns]\n",
    "train_target_dataset_rougher = clean_nan['rougher.output.recovery']\n",
    "train_features_dataset_final = train_features_dataset_rougher \n",
    "train_target_dataset_final = clean_nan['final.output.recovery']"
   ]
  },
  {
   "cell_type": "markdown",
   "metadata": {},
   "source": [
    "<b>Все отлично!👍:</b> Синхронизировали тренировочную и тестовую выборки по набору признаков, выделили признаки для обучения и целевые признаки - отлично!\n"
   ]
  },
  {
   "cell_type": "markdown",
   "metadata": {},
   "source": [
    "#### Выводы\n",
    "* по результату прохождения этапов обработки суммарная концентрация веществ сокращает разброс данных\n",
    "* распределение уплотняется вокруг моды, мода растет\n",
    "* анализ нулевых значений показал очевидное наличие ошибки внесения данных по результатам первичного этапа обработки, влияющей на целевую переменную"
   ]
  },
  {
   "cell_type": "markdown",
   "metadata": {
    "id": "0u7D1h_uxI-Y"
   },
   "source": [
    "#  Построение модели"
   ]
  },
  {
   "cell_type": "markdown",
   "metadata": {},
   "source": [
    "## Определим метрики"
   ]
  },
  {
   "cell_type": "code",
   "execution_count": 52,
   "metadata": {
    "ExecuteTime": {
     "end_time": "2021-01-13T13:26:07.186180Z",
     "start_time": "2021-01-13T13:25:53.610Z"
    },
    "id": "R7ZAqkRXxI-Y"
   },
   "outputs": [],
   "source": [
    "def sMAPE(y_true,y_pred):\n",
    "    error = np.mean(abs(y_true - y_pred)/((abs(y_true)+abs(y_pred))/2))*100\n",
    "    return error"
   ]
  },
  {
   "cell_type": "code",
   "execution_count": 53,
   "metadata": {
    "ExecuteTime": {
     "end_time": "2021-01-13T13:26:07.186837Z",
     "start_time": "2021-01-13T13:25:53.613Z"
    }
   },
   "outputs": [],
   "source": [
    "def final_sMAPE(sMAPE_rougher,sMAPE_final):\n",
    "    return (0.25*sMAPE_rougher + 0.75*sMAPE_final)"
   ]
  },
  {
   "cell_type": "code",
   "execution_count": 54,
   "metadata": {
    "ExecuteTime": {
     "end_time": "2021-01-13T13:26:07.187647Z",
     "start_time": "2021-01-13T13:25:53.616Z"
    },
    "scrolled": true
   },
   "outputs": [],
   "source": [
    "custom_score = make_scorer(sMAPE,greater_is_better=False)"
   ]
  },
  {
   "cell_type": "markdown",
   "metadata": {},
   "source": [
    "<div class=\"alert alert-success\">\n",
    "<b>Все отлично!👍:</b> Есть функции для частного и взвешенного `sMAPE`, а также пользовательский скорринг для кросс-валидации - супер!\n",
    "</div>"
   ]
  },
  {
   "cell_type": "markdown",
   "metadata": {},
   "source": [
    "## Инициализация pipeline"
   ]
  },
  {
   "cell_type": "code",
   "execution_count": 55,
   "metadata": {
    "ExecuteTime": {
     "end_time": "2021-01-13T13:26:07.188629Z",
     "start_time": "2021-01-13T13:25:53.618Z"
    }
   },
   "outputs": [],
   "source": [
    "model = make_pipeline(StandardScaler(),RandomForestRegressor(random_state = 42))\n",
    "model2 = make_pipeline(StandardScaler(),DecisionTreeRegressor(random_state = 42))"
   ]
  },
  {
   "cell_type": "code",
   "execution_count": 56,
   "metadata": {
    "ExecuteTime": {
     "end_time": "2021-01-13T13:26:07.189398Z",
     "start_time": "2021-01-13T13:25:53.620Z"
    }
   },
   "outputs": [],
   "source": [
    "# Инициализация параметров для GridSearchCV\n",
    "\n",
    "params_RF = {\n",
    "    \"randomforestregressor__n_estimators\": range(5, 101, 20),  # от 5 до 100 с шагом 30\n",
    "    \"randomforestregressor__max_depth\": range(1, 11, 2),         # от 1 до 10 с шагом 2\n",
    "    \"randomforestregressor__n_jobs\": [-1]\n",
    "}\n",
    "\n",
    "params_DT = {\n",
    "    \"decisiontreeregressor__max_depth\": range(1, 11, 2)          # от 1 до 10 с шагом 2\n",
    "}"
   ]
  },
  {
   "cell_type": "code",
   "execution_count": 57,
   "metadata": {
    "ExecuteTime": {
     "end_time": "2021-01-13T13:26:07.190239Z",
     "start_time": "2021-01-13T13:25:53.625Z"
    }
   },
   "outputs": [],
   "source": [
    "grid_rougher = GridSearchCV(model,param_grid = params_RF,scoring=custom_score)\n",
    "grid_final = GridSearchCV(model,param_grid = params_RF,scoring=custom_score)\n",
    "grid_rougher_DT = GridSearchCV(model2,param_grid = params_DT,scoring=custom_score)\n",
    "grid_final_DT = GridSearchCV(model2,param_grid = params_DT,scoring=custom_score)"
   ]
  },
  {
   "cell_type": "markdown",
   "metadata": {},
   "source": [
    "## Обучение"
   ]
  },
  {
   "cell_type": "code",
   "execution_count": 58,
   "metadata": {
    "ExecuteTime": {
     "end_time": "2021-01-13T13:26:07.191068Z",
     "start_time": "2021-01-13T13:25:53.628Z"
    },
    "scrolled": true
   },
   "outputs": [
    {
     "name": "stdout",
     "output_type": "stream",
     "text": [
      "CPU times: user 29min 28s, sys: 905 ms, total: 29min 29s\n",
      "Wall time: 29min 30s\n"
     ]
    },
    {
     "data": {
      "text/plain": [
       "GridSearchCV(estimator=Pipeline(steps=[('standardscaler', StandardScaler()),\n",
       "                                       ('decisiontreeregressor',\n",
       "                                        DecisionTreeRegressor(random_state=42))]),\n",
       "             param_grid={'decisiontreeregressor__max_depth': range(1, 11, 2)},\n",
       "             scoring=make_scorer(sMAPE, greater_is_better=False))"
      ]
     },
     "execution_count": 58,
     "metadata": {},
     "output_type": "execute_result"
    }
   ],
   "source": [
    "%%time\n",
    "\n",
    "grid_rougher.fit(train_features_dataset_rougher,train_target_dataset_rougher)\n",
    "grid_final.fit(train_features_dataset_final,train_target_dataset_final)\n",
    "grid_rougher_DT.fit(train_features_dataset_rougher,train_target_dataset_rougher)\n",
    "grid_final_DT.fit(train_features_dataset_final,train_target_dataset_final)"
   ]
  },
  {
   "cell_type": "code",
   "execution_count": 59,
   "metadata": {
    "ExecuteTime": {
     "end_time": "2021-01-13T13:26:07.191792Z",
     "start_time": "2021-01-13T13:25:53.631Z"
    }
   },
   "outputs": [
    {
     "name": "stdout",
     "output_type": "stream",
     "text": [
      "Лучшие модели\n",
      "Pipeline(steps=[('standardscaler', StandardScaler()),\n",
      "                ('randomforestregressor',\n",
      "                 RandomForestRegressor(max_depth=5, n_estimators=65, n_jobs=-1,\n",
      "                                       random_state=42))])\n",
      "Pipeline(steps=[('standardscaler', StandardScaler()),\n",
      "                ('randomforestregressor',\n",
      "                 RandomForestRegressor(max_depth=5, n_estimators=65, n_jobs=-1,\n",
      "                                       random_state=42))])\n",
      "Pipeline(steps=[('standardscaler', StandardScaler()),\n",
      "                ('decisiontreeregressor',\n",
      "                 DecisionTreeRegressor(max_depth=3, random_state=42))])\n",
      "Pipeline(steps=[('standardscaler', StandardScaler()),\n",
      "                ('decisiontreeregressor',\n",
      "                 DecisionTreeRegressor(max_depth=3, random_state=42))])\n"
     ]
    }
   ],
   "source": [
    "print(\"Лучшие модели\")\n",
    "print(grid_rougher.best_estimator_)\n",
    "print(grid_rougher.best_estimator_)\n",
    "print(grid_rougher_DT.best_estimator_)\n",
    "print(grid_final_DT.best_estimator_)"
   ]
  },
  {
   "cell_type": "code",
   "execution_count": 60,
   "metadata": {
    "ExecuteTime": {
     "end_time": "2021-01-13T13:26:07.192587Z",
     "start_time": "2021-01-13T13:25:53.636Z"
    }
   },
   "outputs": [],
   "source": [
    "best_score_rougher = grid_rougher.best_score_\n",
    "best_score_final = grid_final.best_score_\n",
    "best_score_rougher_DT = grid_rougher_DT.best_score_\n",
    "best_score_final_DT = grid_final_DT.best_score_"
   ]
  },
  {
   "cell_type": "markdown",
   "metadata": {},
   "source": [
    "Определим лучшую модель для каждого целевого признака"
   ]
  },
  {
   "cell_type": "code",
   "execution_count": 61,
   "metadata": {
    "ExecuteTime": {
     "end_time": "2021-01-13T13:26:07.193430Z",
     "start_time": "2021-01-13T13:25:53.646Z"
    },
    "scrolled": true
   },
   "outputs": [
    {
     "name": "stdout",
     "output_type": "stream",
     "text": [
      "rougher\n",
      "RandomForest 6.1335387066137335 DecisionTree 7.367017319375698\n",
      "final\n",
      "RandomForest 8.893874534193895 DecisionTree 9.170906341084086\n"
     ]
    }
   ],
   "source": [
    "print (\"rougher\")\n",
    "print(\"RandomForest\", abs(best_score_rougher),\"DecisionTree\", abs(best_score_rougher_DT))\n",
    "print(\"final\")\n",
    "print(\"RandomForest\", abs(best_score_final),\"DecisionTree\", abs(best_score_final_DT))"
   ]
  },
  {
   "cell_type": "markdown",
   "metadata": {},
   "source": [
    "Видно, что лучше всего справляется RandomForest, так что как лучшую модель возьмем именно его"
   ]
  },
  {
   "cell_type": "markdown",
   "metadata": {},
   "source": [
    "## Лучшие результаты на тренировочной выборке"
   ]
  },
  {
   "cell_type": "markdown",
   "metadata": {},
   "source": [
    "Финальный sMAPE рандомного леса"
   ]
  },
  {
   "cell_type": "code",
   "execution_count": 62,
   "metadata": {
    "ExecuteTime": {
     "end_time": "2021-01-13T13:26:07.194345Z",
     "start_time": "2021-01-13T13:25:53.654Z"
    }
   },
   "outputs": [
    {
     "data": {
      "text/plain": [
       "8.203790577298854"
      ]
     },
     "execution_count": 62,
     "metadata": {},
     "output_type": "execute_result"
    }
   ],
   "source": [
    "abs(final_sMAPE(best_score_rougher,best_score_final))"
   ]
  },
  {
   "cell_type": "markdown",
   "metadata": {},
   "source": [
    "Финальный sMAPE решающего дерева"
   ]
  },
  {
   "cell_type": "code",
   "execution_count": 63,
   "metadata": {
    "ExecuteTime": {
     "end_time": "2021-01-13T13:26:07.195500Z",
     "start_time": "2021-01-13T13:25:53.658Z"
    },
    "scrolled": true
   },
   "outputs": [
    {
     "data": {
      "text/plain": [
       "8.71993408565699"
      ]
     },
     "execution_count": 63,
     "metadata": {},
     "output_type": "execute_result"
    }
   ],
   "source": [
    "abs(final_sMAPE(best_score_rougher_DT,best_score_final_DT))"
   ]
  },
  {
   "cell_type": "markdown",
   "metadata": {},
   "source": [
    "Наименьшую ошибку мы получили при использовании рандомного леса"
   ]
  },
  {
   "cell_type": "code",
   "execution_count": 64,
   "metadata": {
    "ExecuteTime": {
     "end_time": "2021-01-13T13:26:07.196687Z",
     "start_time": "2021-01-13T13:25:53.661Z"
    }
   },
   "outputs": [],
   "source": [
    "rogher_test = grid_rougher.predict(test_clean_nan)"
   ]
  },
  {
   "cell_type": "code",
   "execution_count": 65,
   "metadata": {
    "ExecuteTime": {
     "end_time": "2021-01-13T13:26:07.197598Z",
     "start_time": "2021-01-13T13:25:53.665Z"
    }
   },
   "outputs": [],
   "source": [
    "final_test = grid_final.predict(test_clean_nan)"
   ]
  },
  {
   "cell_type": "markdown",
   "metadata": {},
   "source": [
    "## Финальная ошибка на тестовой выборке"
   ]
  },
  {
   "cell_type": "code",
   "execution_count": 66,
   "metadata": {
    "ExecuteTime": {
     "end_time": "2021-01-13T13:26:07.198364Z",
     "start_time": "2021-01-13T13:25:53.671Z"
    },
    "scrolled": false
   },
   "outputs": [
    {
     "data": {
      "text/plain": [
       "9.191721947915202"
      ]
     },
     "execution_count": 66,
     "metadata": {},
     "output_type": "execute_result"
    }
   ],
   "source": [
    "final_sMAPE(sMAPE(target_test_rougher,rogher_test),sMAPE(target_test_final,final_test))"
   ]
  },
  {
   "cell_type": "markdown",
   "metadata": {},
   "source": [
    "## Инициализируем и обучим DummyRegressor по медиане"
   ]
  },
  {
   "cell_type": "code",
   "execution_count": 67,
   "metadata": {
    "ExecuteTime": {
     "end_time": "2021-01-13T13:26:07.199206Z",
     "start_time": "2021-01-13T13:25:53.677Z"
    }
   },
   "outputs": [],
   "source": [
    "base = DummyRegressor(strategy=\"median\")\n",
    "base_final = DummyRegressor(strategy=\"median\")"
   ]
  },
  {
   "cell_type": "code",
   "execution_count": 68,
   "metadata": {
    "ExecuteTime": {
     "end_time": "2021-01-13T13:26:07.200239Z",
     "start_time": "2021-01-13T13:25:53.680Z"
    },
    "scrolled": true
   },
   "outputs": [
    {
     "data": {
      "text/plain": [
       "DummyRegressor(strategy='median')"
      ]
     },
     "execution_count": 68,
     "metadata": {},
     "output_type": "execute_result"
    }
   ],
   "source": [
    "base.fit(train_features_dataset_rougher,train_target_dataset_rougher)\n",
    "base_final.fit(train_features_dataset_final,train_target_dataset_final)"
   ]
  },
  {
   "cell_type": "markdown",
   "metadata": {},
   "source": [
    "Предскажем метки\n"
   ]
  },
  {
   "cell_type": "code",
   "execution_count": 69,
   "metadata": {
    "ExecuteTime": {
     "end_time": "2021-01-13T13:26:07.201095Z",
     "start_time": "2021-01-13T13:25:53.683Z"
    }
   },
   "outputs": [],
   "source": [
    "base_rougher = base.predict(test_clean_nan)\n",
    "base_final_pred = base_final.predict(test_clean_nan)"
   ]
  },
  {
   "cell_type": "code",
   "execution_count": 70,
   "metadata": {
    "ExecuteTime": {
     "end_time": "2021-01-13T13:26:07.201971Z",
     "start_time": "2021-01-13T13:25:53.685Z"
    },
    "scrolled": true
   },
   "outputs": [
    {
     "data": {
      "text/plain": [
       "9.44138312943423"
      ]
     },
     "execution_count": 70,
     "metadata": {},
     "output_type": "execute_result"
    }
   ],
   "source": [
    "final_sMAPE(sMAPE(target_test_rougher,base_rougher),sMAPE(target_test_final,base_final_pred))"
   ]
  },
  {
   "cell_type": "markdown",
   "metadata": {},
   "source": [
    "#### Вывод после сравнения результатов"
   ]
  },
  {
   "cell_type": "markdown",
   "metadata": {},
   "source": [
    "Ошибка на тесте приемлемая, так как она меньше чем на константном алгоритме\n"
   ]
  },
  {
   "cell_type": "markdown",
   "metadata": {},
   "source": [
    "### Вывод"
   ]
  },
  {
   "cell_type": "markdown",
   "metadata": {},
   "source": [
    "- Итоговая модель построена на алгоритме Случайный лес (RandomForest)\n",
    "- Ошибка на тестовой выборке: 9.16\n",
    "- Параметр recovery в тренировочной выборке был рассчитан верно"
   ]
  },
  {
   "cell_type": "markdown",
   "metadata": {},
   "source": [
    "# Общие выводы"
   ]
  },
  {
   "cell_type": "markdown",
   "metadata": {},
   "source": [
    "Подготовка данных:\n",
    "\n",
    "* исходный датасет (data_full) содержит  19 439 записей и 87 колонок\n",
    "* обучающая выборка содержит 14149 записей и 87 колонок\n",
    "* тестовая выборка содержит 5290 записей и 53 колонки\n",
    "* обучающая и тестовая выборки поделены в пропорции 72,79% и 27,21%  (проценты от общего кол-ва строк)\n",
    "* Все параметры записаны в формате float64, кроме параметра date, который был преобразован в формат \"дата\"\n",
    "* Параметр recovery в в тренировочной датасете (train) рассчитан верно\n",
    "* Пропуски заполнены методом KNNImputer и Ffill\n",
    "* Полных дубликатов нет\n",
    "\n",
    "Анализ данных:\n",
    "\n",
    "* по результату прохождения этапов обработки суммарная концентрация веществ сокращает разброс данных\n",
    "* распределение уплотняется вокруг моды, мода растет\n",
    "* анализ нулевых значений показал очевидное наличие ошибки внесения данных по результатам первичного этапа обработки, влияющей на целевую переменную\n",
    "\n",
    "Построение моделей:\n",
    "\n",
    "* написана  функцию для вычисления итоговой sMAPE.\n",
    "* Обучены разные модели и проведена их качество кросс-валидацией с помощью GridSearchCV\n",
    "* Лучшая модель Random Forest, ее проверили на тестовой выборке (9.19)\n",
    "* Проверка с помощью наивной модели (DummyRegressor) показала результат (9.44)\n",
    "* Ошибка на тесте приемлемая, так как она меньше чем на алгоритме DummyRegressor\n",
    "\n"
   ]
  }
 ],
 "metadata": {
  "ExecuteTimeLog": [
   {
    "duration": 10,
    "start_time": "2023-11-14T07:24:55.824Z"
   },
   {
    "duration": 1692,
    "start_time": "2023-11-14T07:24:55.837Z"
   },
   {
    "duration": 19,
    "start_time": "2023-11-14T07:24:57.531Z"
   },
   {
    "duration": 42,
    "start_time": "2023-11-14T07:24:57.552Z"
   },
   {
    "duration": 16,
    "start_time": "2023-11-14T07:24:57.596Z"
   },
   {
    "duration": 42,
    "start_time": "2023-11-14T07:24:57.613Z"
   },
   {
    "duration": 28,
    "start_time": "2023-11-14T07:24:57.657Z"
   },
   {
    "duration": 22,
    "start_time": "2023-11-14T07:24:57.687Z"
   },
   {
    "duration": 14,
    "start_time": "2023-11-14T07:24:57.711Z"
   },
   {
    "duration": 19,
    "start_time": "2023-11-14T07:24:57.728Z"
   },
   {
    "duration": 7,
    "start_time": "2023-11-14T07:24:57.749Z"
   },
   {
    "duration": 38,
    "start_time": "2023-11-14T07:24:57.758Z"
   },
   {
    "duration": 37,
    "start_time": "2023-11-14T07:24:57.798Z"
   },
   {
    "duration": 347,
    "start_time": "2023-11-14T07:24:57.838Z"
   },
   {
    "duration": 10,
    "start_time": "2023-11-14T07:24:58.186Z"
   },
   {
    "duration": 25,
    "start_time": "2023-11-14T07:24:58.197Z"
   },
   {
    "duration": 11,
    "start_time": "2023-11-14T07:24:58.224Z"
   },
   {
    "duration": 22,
    "start_time": "2023-11-14T07:24:58.237Z"
   },
   {
    "duration": 290,
    "start_time": "2023-11-14T07:24:58.261Z"
   },
   {
    "duration": 7,
    "start_time": "2023-11-14T07:24:58.553Z"
   },
   {
    "duration": 30,
    "start_time": "2023-11-14T07:24:58.562Z"
   },
   {
    "duration": 290,
    "start_time": "2023-11-14T07:24:58.594Z"
   },
   {
    "duration": 18,
    "start_time": "2023-11-14T07:24:58.886Z"
   },
   {
    "duration": 13,
    "start_time": "2023-11-14T07:24:58.906Z"
   },
   {
    "duration": 22678,
    "start_time": "2023-11-14T07:24:58.920Z"
   },
   {
    "duration": 7,
    "start_time": "2023-11-14T07:25:21.600Z"
   },
   {
    "duration": 27,
    "start_time": "2023-11-14T07:25:21.608Z"
   },
   {
    "duration": 20,
    "start_time": "2023-11-14T07:25:21.636Z"
   },
   {
    "duration": 7,
    "start_time": "2023-11-14T07:25:21.657Z"
   },
   {
    "duration": 13,
    "start_time": "2023-11-14T07:25:21.671Z"
   },
   {
    "duration": 7,
    "start_time": "2023-11-14T07:25:21.685Z"
   },
   {
    "duration": 199,
    "start_time": "2023-11-14T07:25:21.693Z"
   },
   {
    "duration": 12,
    "start_time": "2023-11-14T07:25:21.894Z"
   },
   {
    "duration": 1433,
    "start_time": "2023-11-14T07:25:21.907Z"
   },
   {
    "duration": 38,
    "start_time": "2023-11-14T07:25:23.342Z"
   },
   {
    "duration": 21,
    "start_time": "2023-11-14T07:25:23.381Z"
   },
   {
    "duration": 19,
    "start_time": "2023-11-14T07:25:23.403Z"
   },
   {
    "duration": 488,
    "start_time": "2023-11-14T07:25:23.424Z"
   },
   {
    "duration": 10,
    "start_time": "2023-11-14T07:25:23.914Z"
   },
   {
    "duration": 471,
    "start_time": "2023-11-14T07:25:23.926Z"
   },
   {
    "duration": 11,
    "start_time": "2023-11-14T07:25:24.402Z"
   },
   {
    "duration": 6,
    "start_time": "2023-11-14T07:25:24.415Z"
   },
   {
    "duration": 3359,
    "start_time": "2023-11-14T07:25:24.422Z"
   },
   {
    "duration": 1549,
    "start_time": "2023-11-14T07:25:27.782Z"
   },
   {
    "duration": 921,
    "start_time": "2023-11-14T07:25:29.333Z"
   },
   {
    "duration": 71,
    "start_time": "2023-11-14T07:25:30.256Z"
   },
   {
    "duration": 873,
    "start_time": "2023-11-14T07:25:30.328Z"
   },
   {
    "duration": 11,
    "start_time": "2023-11-14T07:25:31.203Z"
   },
   {
    "duration": 63,
    "start_time": "2023-11-14T07:25:31.216Z"
   },
   {
    "duration": 67,
    "start_time": "2023-11-14T07:25:31.282Z"
   },
   {
    "duration": 49,
    "start_time": "2023-11-14T07:25:31.351Z"
   },
   {
    "duration": 38,
    "start_time": "2023-11-14T07:25:31.402Z"
   },
   {
    "duration": 32,
    "start_time": "2023-11-14T07:25:31.442Z"
   },
   {
    "duration": 42,
    "start_time": "2023-11-14T07:25:31.478Z"
   },
   {
    "duration": 43,
    "start_time": "2023-11-14T07:25:31.521Z"
   },
   {
    "duration": 417349,
    "start_time": "2023-11-14T07:25:31.566Z"
   },
   {
    "duration": 9,
    "start_time": "2023-11-14T07:32:28.916Z"
   },
   {
    "duration": 6,
    "start_time": "2023-11-14T07:32:28.926Z"
   },
   {
    "duration": 8,
    "start_time": "2023-11-14T07:32:28.933Z"
   },
   {
    "duration": 3,
    "start_time": "2023-11-14T07:32:28.943Z"
   },
   {
    "duration": 4,
    "start_time": "2023-11-14T07:32:28.966Z"
   },
   {
    "duration": 49,
    "start_time": "2023-11-14T07:32:28.971Z"
   },
   {
    "duration": 18,
    "start_time": "2023-11-14T07:32:29.021Z"
   },
   {
    "duration": 25,
    "start_time": "2023-11-14T07:32:29.041Z"
   },
   {
    "duration": 4,
    "start_time": "2023-11-14T07:32:29.068Z"
   },
   {
    "duration": 21,
    "start_time": "2023-11-14T07:32:29.074Z"
   },
   {
    "duration": 19,
    "start_time": "2023-11-14T07:32:29.096Z"
   },
   {
    "duration": 15,
    "start_time": "2023-11-14T07:32:29.116Z"
   },
   {
    "duration": 8,
    "start_time": "2023-11-14T08:01:01.352Z"
   },
   {
    "duration": 214,
    "start_time": "2023-11-14T08:01:11.009Z"
   },
   {
    "duration": 4,
    "start_time": "2023-11-14T08:25:08.612Z"
   },
   {
    "duration": 16,
    "start_time": "2023-11-14T08:40:20.746Z"
   },
   {
    "duration": 80,
    "start_time": "2023-11-14T08:41:47.741Z"
   },
   {
    "duration": 15,
    "start_time": "2023-11-14T08:46:07.543Z"
   },
   {
    "duration": 12,
    "start_time": "2023-11-14T08:47:28.932Z"
   },
   {
    "duration": 18,
    "start_time": "2023-11-14T08:51:44.730Z"
   },
   {
    "duration": 13,
    "start_time": "2023-11-14T08:53:24.087Z"
   },
   {
    "duration": 795,
    "start_time": "2023-11-14T08:57:36.466Z"
   },
   {
    "duration": 870,
    "start_time": "2023-11-14T09:04:59.015Z"
   },
   {
    "duration": 3,
    "start_time": "2023-11-14T09:10:21.467Z"
   },
   {
    "duration": 71,
    "start_time": "2023-11-14T09:13:48.349Z"
   },
   {
    "duration": 13,
    "start_time": "2023-11-14T09:13:55.661Z"
   },
   {
    "duration": 5,
    "start_time": "2023-11-14T09:14:24.203Z"
   },
   {
    "duration": 6,
    "start_time": "2023-11-14T09:14:40.667Z"
   },
   {
    "duration": 81,
    "start_time": "2023-11-14T09:15:13.571Z"
   },
   {
    "duration": 6,
    "start_time": "2023-11-14T09:15:24.631Z"
   },
   {
    "duration": 4,
    "start_time": "2023-11-14T09:16:20.843Z"
   },
   {
    "duration": 4,
    "start_time": "2023-11-14T09:16:27.908Z"
   },
   {
    "duration": 3,
    "start_time": "2023-11-14T09:17:37.163Z"
   },
   {
    "duration": 4,
    "start_time": "2023-11-14T09:20:04.835Z"
   },
   {
    "duration": 74,
    "start_time": "2023-11-14T09:20:52.371Z"
   },
   {
    "duration": 3,
    "start_time": "2023-11-14T09:21:10.683Z"
   },
   {
    "duration": 1383,
    "start_time": "2023-11-14T09:21:46.903Z"
   },
   {
    "duration": 1744,
    "start_time": "2023-11-14T09:21:48.288Z"
   },
   {
    "duration": 17,
    "start_time": "2023-11-14T09:21:50.034Z"
   },
   {
    "duration": 28,
    "start_time": "2023-11-14T09:21:50.053Z"
   },
   {
    "duration": 12,
    "start_time": "2023-11-14T09:21:50.083Z"
   },
   {
    "duration": 17,
    "start_time": "2023-11-14T09:21:50.097Z"
   },
   {
    "duration": 12,
    "start_time": "2023-11-14T09:21:50.115Z"
   },
   {
    "duration": 50,
    "start_time": "2023-11-14T09:21:50.129Z"
   },
   {
    "duration": 11,
    "start_time": "2023-11-14T09:21:50.181Z"
   },
   {
    "duration": 8,
    "start_time": "2023-11-14T09:21:50.194Z"
   },
   {
    "duration": 13,
    "start_time": "2023-11-14T09:21:50.203Z"
   },
   {
    "duration": 18,
    "start_time": "2023-11-14T09:21:50.217Z"
   },
   {
    "duration": 4,
    "start_time": "2023-11-14T09:21:50.236Z"
   },
   {
    "duration": 287,
    "start_time": "2023-11-14T09:21:50.242Z"
   },
   {
    "duration": 11,
    "start_time": "2023-11-14T09:21:50.531Z"
   },
   {
    "duration": 5,
    "start_time": "2023-11-14T09:21:50.544Z"
   },
   {
    "duration": 4,
    "start_time": "2023-11-14T09:21:50.566Z"
   },
   {
    "duration": 8,
    "start_time": "2023-11-14T09:21:50.572Z"
   },
   {
    "duration": 250,
    "start_time": "2023-11-14T09:21:50.582Z"
   },
   {
    "duration": 9,
    "start_time": "2023-11-14T09:21:50.834Z"
   },
   {
    "duration": 35,
    "start_time": "2023-11-14T09:21:50.844Z"
   },
   {
    "duration": 317,
    "start_time": "2023-11-14T09:21:50.880Z"
   },
   {
    "duration": 15,
    "start_time": "2023-11-14T09:21:51.199Z"
   },
   {
    "duration": 15,
    "start_time": "2023-11-14T09:21:51.215Z"
   },
   {
    "duration": 12840,
    "start_time": "2023-11-14T09:21:51.232Z"
   },
   {
    "duration": 6,
    "start_time": "2023-11-14T09:22:04.073Z"
   },
   {
    "duration": 31,
    "start_time": "2023-11-14T09:22:04.080Z"
   },
   {
    "duration": 12,
    "start_time": "2023-11-14T09:22:04.115Z"
   },
   {
    "duration": 4,
    "start_time": "2023-11-14T09:22:04.128Z"
   },
   {
    "duration": 11,
    "start_time": "2023-11-14T09:22:04.133Z"
   },
   {
    "duration": 6,
    "start_time": "2023-11-14T09:22:04.145Z"
   },
   {
    "duration": 19,
    "start_time": "2023-11-14T09:22:04.152Z"
   },
   {
    "duration": 126,
    "start_time": "2023-11-14T09:22:04.172Z"
   },
   {
    "duration": 1,
    "start_time": "2023-11-14T09:22:04.300Z"
   },
   {
    "duration": 0,
    "start_time": "2023-11-14T09:22:04.302Z"
   },
   {
    "duration": 0,
    "start_time": "2023-11-14T09:22:04.304Z"
   },
   {
    "duration": 0,
    "start_time": "2023-11-14T09:22:04.305Z"
   },
   {
    "duration": 0,
    "start_time": "2023-11-14T09:22:04.307Z"
   },
   {
    "duration": 0,
    "start_time": "2023-11-14T09:22:04.308Z"
   },
   {
    "duration": 0,
    "start_time": "2023-11-14T09:22:04.310Z"
   },
   {
    "duration": 0,
    "start_time": "2023-11-14T09:22:04.311Z"
   },
   {
    "duration": 0,
    "start_time": "2023-11-14T09:22:04.313Z"
   },
   {
    "duration": 0,
    "start_time": "2023-11-14T09:22:04.314Z"
   },
   {
    "duration": 0,
    "start_time": "2023-11-14T09:22:04.316Z"
   },
   {
    "duration": 0,
    "start_time": "2023-11-14T09:22:04.317Z"
   },
   {
    "duration": 0,
    "start_time": "2023-11-14T09:22:04.319Z"
   },
   {
    "duration": 0,
    "start_time": "2023-11-14T09:22:04.320Z"
   },
   {
    "duration": 0,
    "start_time": "2023-11-14T09:22:04.322Z"
   },
   {
    "duration": 0,
    "start_time": "2023-11-14T09:22:04.323Z"
   },
   {
    "duration": 0,
    "start_time": "2023-11-14T09:22:04.325Z"
   },
   {
    "duration": 0,
    "start_time": "2023-11-14T09:22:04.366Z"
   },
   {
    "duration": 0,
    "start_time": "2023-11-14T09:22:04.368Z"
   },
   {
    "duration": 0,
    "start_time": "2023-11-14T09:22:04.369Z"
   },
   {
    "duration": 0,
    "start_time": "2023-11-14T09:22:04.371Z"
   },
   {
    "duration": 0,
    "start_time": "2023-11-14T09:22:04.372Z"
   },
   {
    "duration": 1,
    "start_time": "2023-11-14T09:22:04.373Z"
   },
   {
    "duration": 0,
    "start_time": "2023-11-14T09:22:04.375Z"
   },
   {
    "duration": 0,
    "start_time": "2023-11-14T09:22:04.377Z"
   },
   {
    "duration": 0,
    "start_time": "2023-11-14T09:22:04.378Z"
   },
   {
    "duration": 0,
    "start_time": "2023-11-14T09:22:04.380Z"
   },
   {
    "duration": 0,
    "start_time": "2023-11-14T09:22:04.381Z"
   },
   {
    "duration": 0,
    "start_time": "2023-11-14T09:22:04.383Z"
   },
   {
    "duration": 0,
    "start_time": "2023-11-14T09:22:04.384Z"
   },
   {
    "duration": 0,
    "start_time": "2023-11-14T09:22:04.386Z"
   },
   {
    "duration": 0,
    "start_time": "2023-11-14T09:22:04.387Z"
   },
   {
    "duration": 0,
    "start_time": "2023-11-14T09:22:04.388Z"
   },
   {
    "duration": 0,
    "start_time": "2023-11-14T09:22:04.389Z"
   },
   {
    "duration": 0,
    "start_time": "2023-11-14T09:22:04.390Z"
   },
   {
    "duration": 0,
    "start_time": "2023-11-14T09:22:04.391Z"
   },
   {
    "duration": 0,
    "start_time": "2023-11-14T09:22:04.392Z"
   },
   {
    "duration": 35,
    "start_time": "2023-11-14T09:25:25.657Z"
   },
   {
    "duration": 22,
    "start_time": "2023-11-14T09:25:48.418Z"
   },
   {
    "duration": 190,
    "start_time": "2023-11-14T09:26:00.113Z"
   },
   {
    "duration": 28,
    "start_time": "2023-11-14T09:29:24.665Z"
   },
   {
    "duration": 109,
    "start_time": "2023-11-14T09:30:34.635Z"
   },
   {
    "duration": 15,
    "start_time": "2023-11-14T09:31:27.106Z"
   },
   {
    "duration": 44,
    "start_time": "2023-11-14T13:19:44.872Z"
   },
   {
    "duration": 1532,
    "start_time": "2023-11-14T13:20:13.579Z"
   },
   {
    "duration": 1799,
    "start_time": "2023-11-14T13:20:15.113Z"
   },
   {
    "duration": 17,
    "start_time": "2023-11-14T13:20:16.913Z"
   },
   {
    "duration": 34,
    "start_time": "2023-11-14T13:20:16.931Z"
   },
   {
    "duration": 26,
    "start_time": "2023-11-14T13:20:16.966Z"
   },
   {
    "duration": 30,
    "start_time": "2023-11-14T13:20:16.994Z"
   },
   {
    "duration": 18,
    "start_time": "2023-11-14T13:20:17.026Z"
   },
   {
    "duration": 37,
    "start_time": "2023-11-14T13:20:17.045Z"
   },
   {
    "duration": 12,
    "start_time": "2023-11-14T13:20:17.083Z"
   },
   {
    "duration": 19,
    "start_time": "2023-11-14T13:20:17.097Z"
   },
   {
    "duration": 30,
    "start_time": "2023-11-14T13:20:17.117Z"
   },
   {
    "duration": 31,
    "start_time": "2023-11-14T13:20:17.148Z"
   },
   {
    "duration": 16,
    "start_time": "2023-11-14T13:20:17.181Z"
   },
   {
    "duration": 316,
    "start_time": "2023-11-14T13:20:17.198Z"
   },
   {
    "duration": 10,
    "start_time": "2023-11-14T13:20:17.515Z"
   },
   {
    "duration": 40,
    "start_time": "2023-11-14T13:20:17.526Z"
   },
   {
    "duration": 31,
    "start_time": "2023-11-14T13:20:17.567Z"
   },
   {
    "duration": 37,
    "start_time": "2023-11-14T13:20:17.599Z"
   },
   {
    "duration": 251,
    "start_time": "2023-11-14T13:20:17.638Z"
   },
   {
    "duration": 7,
    "start_time": "2023-11-14T13:20:17.891Z"
   },
   {
    "duration": 47,
    "start_time": "2023-11-14T13:20:17.899Z"
   },
   {
    "duration": 338,
    "start_time": "2023-11-14T13:20:17.948Z"
   },
   {
    "duration": 15,
    "start_time": "2023-11-14T13:20:18.288Z"
   },
   {
    "duration": 17,
    "start_time": "2023-11-14T13:20:18.304Z"
   },
   {
    "duration": 11093,
    "start_time": "2023-11-14T13:20:18.322Z"
   },
   {
    "duration": 7,
    "start_time": "2023-11-14T13:20:29.416Z"
   },
   {
    "duration": 12,
    "start_time": "2023-11-14T13:20:29.424Z"
   },
   {
    "duration": 15,
    "start_time": "2023-11-14T13:20:29.440Z"
   },
   {
    "duration": 9,
    "start_time": "2023-11-14T13:20:29.457Z"
   },
   {
    "duration": 8,
    "start_time": "2023-11-14T13:20:29.467Z"
   },
   {
    "duration": 7,
    "start_time": "2023-11-14T13:20:29.477Z"
   },
   {
    "duration": 7,
    "start_time": "2023-11-14T13:20:29.485Z"
   },
   {
    "duration": 82,
    "start_time": "2023-11-14T13:20:29.493Z"
   },
   {
    "duration": 3,
    "start_time": "2023-11-14T13:21:33.732Z"
   },
   {
    "duration": 4,
    "start_time": "2023-11-14T13:21:57.652Z"
   },
   {
    "duration": 1877,
    "start_time": "2023-11-14T13:21:57.658Z"
   },
   {
    "duration": 19,
    "start_time": "2023-11-14T13:21:59.537Z"
   },
   {
    "duration": 16,
    "start_time": "2023-11-14T13:21:59.557Z"
   },
   {
    "duration": 14,
    "start_time": "2023-11-14T13:21:59.575Z"
   },
   {
    "duration": 18,
    "start_time": "2023-11-14T13:21:59.591Z"
   },
   {
    "duration": 12,
    "start_time": "2023-11-14T13:21:59.611Z"
   },
   {
    "duration": 18,
    "start_time": "2023-11-14T13:21:59.656Z"
   },
   {
    "duration": 11,
    "start_time": "2023-11-14T13:21:59.675Z"
   },
   {
    "duration": 17,
    "start_time": "2023-11-14T13:21:59.688Z"
   },
   {
    "duration": 15,
    "start_time": "2023-11-14T13:21:59.709Z"
   },
   {
    "duration": 37,
    "start_time": "2023-11-14T13:21:59.726Z"
   },
   {
    "duration": 4,
    "start_time": "2023-11-14T13:21:59.765Z"
   },
   {
    "duration": 326,
    "start_time": "2023-11-14T13:21:59.771Z"
   },
   {
    "duration": 10,
    "start_time": "2023-11-14T13:22:00.098Z"
   },
   {
    "duration": 28,
    "start_time": "2023-11-14T13:22:00.110Z"
   },
   {
    "duration": 137,
    "start_time": "2023-11-14T13:22:00.140Z"
   },
   {
    "duration": 342,
    "start_time": "2023-11-14T13:22:00.279Z"
   },
   {
    "duration": 266,
    "start_time": "2023-11-14T13:22:00.622Z"
   },
   {
    "duration": 7,
    "start_time": "2023-11-14T13:22:00.890Z"
   },
   {
    "duration": 71,
    "start_time": "2023-11-14T13:22:00.899Z"
   },
   {
    "duration": 262,
    "start_time": "2023-11-14T13:22:00.972Z"
   },
   {
    "duration": 21,
    "start_time": "2023-11-14T13:22:01.236Z"
   },
   {
    "duration": 59,
    "start_time": "2023-11-14T13:22:01.258Z"
   },
   {
    "duration": 14625,
    "start_time": "2023-11-14T13:22:01.318Z"
   },
   {
    "duration": 5,
    "start_time": "2023-11-14T13:22:15.944Z"
   },
   {
    "duration": 12,
    "start_time": "2023-11-14T13:22:15.955Z"
   },
   {
    "duration": 7,
    "start_time": "2023-11-14T13:22:15.969Z"
   },
   {
    "duration": 9,
    "start_time": "2023-11-14T13:22:15.980Z"
   },
   {
    "duration": 13,
    "start_time": "2023-11-14T13:22:15.990Z"
   },
   {
    "duration": 6,
    "start_time": "2023-11-14T13:22:16.004Z"
   },
   {
    "duration": 10,
    "start_time": "2023-11-14T13:22:16.012Z"
   },
   {
    "duration": 5,
    "start_time": "2023-11-14T13:22:16.024Z"
   },
   {
    "duration": 11,
    "start_time": "2023-11-14T13:22:16.031Z"
   },
   {
    "duration": 25,
    "start_time": "2023-11-14T13:22:16.043Z"
   },
   {
    "duration": 1876,
    "start_time": "2023-11-14T13:22:16.070Z"
   },
   {
    "duration": 28,
    "start_time": "2023-11-14T13:22:17.947Z"
   },
   {
    "duration": 33,
    "start_time": "2023-11-14T13:22:17.976Z"
   },
   {
    "duration": 17,
    "start_time": "2023-11-14T13:22:18.011Z"
   },
   {
    "duration": 475,
    "start_time": "2023-11-14T13:22:18.030Z"
   },
   {
    "duration": 11,
    "start_time": "2023-11-14T13:22:18.507Z"
   },
   {
    "duration": 448,
    "start_time": "2023-11-14T13:22:18.519Z"
   },
   {
    "duration": 10,
    "start_time": "2023-11-14T13:22:18.970Z"
   },
   {
    "duration": 9,
    "start_time": "2023-11-14T13:22:18.982Z"
   },
   {
    "duration": 2928,
    "start_time": "2023-11-14T13:22:18.992Z"
   },
   {
    "duration": 10,
    "start_time": "2023-11-14T13:22:21.921Z"
   },
   {
    "duration": 762,
    "start_time": "2023-11-14T13:22:21.932Z"
   },
   {
    "duration": 64,
    "start_time": "2023-11-14T13:22:22.696Z"
   },
   {
    "duration": 713,
    "start_time": "2023-11-14T13:22:22.762Z"
   },
   {
    "duration": 14,
    "start_time": "2023-11-14T13:22:23.477Z"
   },
   {
    "duration": 10,
    "start_time": "2023-11-14T13:22:23.493Z"
   },
   {
    "duration": 23,
    "start_time": "2023-11-14T13:22:23.505Z"
   },
   {
    "duration": 23,
    "start_time": "2023-11-14T13:22:23.530Z"
   },
   {
    "duration": 41,
    "start_time": "2023-11-14T13:22:23.555Z"
   },
   {
    "duration": 24,
    "start_time": "2023-11-14T13:22:23.598Z"
   },
   {
    "duration": 28,
    "start_time": "2023-11-14T13:22:23.623Z"
   },
   {
    "duration": 31,
    "start_time": "2023-11-14T13:22:23.653Z"
   },
   {
    "duration": 1545,
    "start_time": "2023-11-14T15:40:01.352Z"
   },
   {
    "duration": 2228,
    "start_time": "2023-11-14T15:40:02.899Z"
   },
   {
    "duration": 16,
    "start_time": "2023-11-14T15:40:05.129Z"
   },
   {
    "duration": 29,
    "start_time": "2023-11-14T15:40:05.147Z"
   },
   {
    "duration": 25,
    "start_time": "2023-11-14T15:40:05.178Z"
   },
   {
    "duration": 35,
    "start_time": "2023-11-14T15:40:05.205Z"
   },
   {
    "duration": 42,
    "start_time": "2023-11-14T15:40:05.242Z"
   },
   {
    "duration": 51,
    "start_time": "2023-11-14T15:40:05.285Z"
   },
   {
    "duration": 37,
    "start_time": "2023-11-14T15:40:05.337Z"
   },
   {
    "duration": 15,
    "start_time": "2023-11-14T15:40:05.376Z"
   },
   {
    "duration": 41,
    "start_time": "2023-11-14T15:40:05.393Z"
   },
   {
    "duration": 60,
    "start_time": "2023-11-14T15:40:05.436Z"
   },
   {
    "duration": 39,
    "start_time": "2023-11-14T15:40:05.498Z"
   },
   {
    "duration": 349,
    "start_time": "2023-11-14T15:40:05.539Z"
   },
   {
    "duration": 12,
    "start_time": "2023-11-14T15:40:05.889Z"
   },
   {
    "duration": 40,
    "start_time": "2023-11-14T15:40:05.902Z"
   },
   {
    "duration": 29,
    "start_time": "2023-11-14T15:40:05.944Z"
   },
   {
    "duration": 37,
    "start_time": "2023-11-14T15:40:05.974Z"
   },
   {
    "duration": 305,
    "start_time": "2023-11-14T15:40:06.013Z"
   },
   {
    "duration": 8,
    "start_time": "2023-11-14T15:40:06.319Z"
   },
   {
    "duration": 52,
    "start_time": "2023-11-14T15:40:06.329Z"
   },
   {
    "duration": 362,
    "start_time": "2023-11-14T15:40:06.383Z"
   },
   {
    "duration": 25,
    "start_time": "2023-11-14T15:40:06.747Z"
   },
   {
    "duration": 16,
    "start_time": "2023-11-14T15:40:06.779Z"
   },
   {
    "duration": 18942,
    "start_time": "2023-11-14T15:40:06.797Z"
   },
   {
    "duration": 6,
    "start_time": "2023-11-14T15:40:25.740Z"
   },
   {
    "duration": 19,
    "start_time": "2023-11-14T15:40:25.747Z"
   },
   {
    "duration": 22,
    "start_time": "2023-11-14T15:40:25.770Z"
   },
   {
    "duration": 11,
    "start_time": "2023-11-14T15:40:25.793Z"
   },
   {
    "duration": 9,
    "start_time": "2023-11-14T15:40:25.805Z"
   },
   {
    "duration": 26,
    "start_time": "2023-11-14T15:40:25.816Z"
   },
   {
    "duration": 34,
    "start_time": "2023-11-14T15:40:25.844Z"
   },
   {
    "duration": 11,
    "start_time": "2023-11-14T15:40:25.880Z"
   },
   {
    "duration": 11,
    "start_time": "2023-11-14T15:40:25.893Z"
   },
   {
    "duration": 25,
    "start_time": "2023-11-14T15:40:25.905Z"
   },
   {
    "duration": 2264,
    "start_time": "2023-11-14T15:40:25.932Z"
   },
   {
    "duration": 19,
    "start_time": "2023-11-14T15:40:28.197Z"
   },
   {
    "duration": 19,
    "start_time": "2023-11-14T15:40:28.217Z"
   },
   {
    "duration": 39,
    "start_time": "2023-11-14T15:40:28.237Z"
   },
   {
    "duration": 509,
    "start_time": "2023-11-14T15:40:28.278Z"
   },
   {
    "duration": 11,
    "start_time": "2023-11-14T15:40:28.792Z"
   },
   {
    "duration": 480,
    "start_time": "2023-11-14T15:40:28.804Z"
   },
   {
    "duration": 12,
    "start_time": "2023-11-14T15:40:29.286Z"
   },
   {
    "duration": 8,
    "start_time": "2023-11-14T15:40:29.300Z"
   },
   {
    "duration": 3235,
    "start_time": "2023-11-14T15:40:29.310Z"
   },
   {
    "duration": 27,
    "start_time": "2023-11-14T15:40:32.547Z"
   },
   {
    "duration": 775,
    "start_time": "2023-11-14T15:40:32.576Z"
   },
   {
    "duration": 66,
    "start_time": "2023-11-14T15:40:33.353Z"
   },
   {
    "duration": 1941,
    "start_time": "2023-11-14T15:40:33.420Z"
   },
   {
    "duration": 11,
    "start_time": "2023-11-14T15:40:35.365Z"
   },
   {
    "duration": 9,
    "start_time": "2023-11-14T15:40:35.378Z"
   },
   {
    "duration": 3,
    "start_time": "2023-11-14T15:40:35.389Z"
   },
   {
    "duration": 4,
    "start_time": "2023-11-14T15:40:35.393Z"
   },
   {
    "duration": 3,
    "start_time": "2023-11-14T15:40:35.398Z"
   },
   {
    "duration": 57,
    "start_time": "2023-11-14T15:40:35.403Z"
   },
   {
    "duration": 7,
    "start_time": "2023-11-14T15:40:35.474Z"
   },
   {
    "duration": 5,
    "start_time": "2023-11-14T15:40:35.483Z"
   },
   {
    "duration": 1735065,
    "start_time": "2023-11-14T15:40:35.490Z"
   },
   {
    "duration": 11,
    "start_time": "2023-11-14T16:09:30.556Z"
   },
   {
    "duration": 13,
    "start_time": "2023-11-14T16:09:30.568Z"
   },
   {
    "duration": 44,
    "start_time": "2023-11-14T16:09:30.583Z"
   },
   {
    "duration": 24,
    "start_time": "2023-11-14T16:09:30.629Z"
   },
   {
    "duration": 25,
    "start_time": "2023-11-14T16:09:30.654Z"
   },
   {
    "duration": 132,
    "start_time": "2023-11-14T16:09:30.681Z"
   },
   {
    "duration": 0,
    "start_time": "2023-11-14T16:09:30.815Z"
   },
   {
    "duration": 0,
    "start_time": "2023-11-14T16:09:30.816Z"
   },
   {
    "duration": 1,
    "start_time": "2023-11-14T16:09:30.817Z"
   },
   {
    "duration": 0,
    "start_time": "2023-11-14T16:09:30.819Z"
   },
   {
    "duration": 0,
    "start_time": "2023-11-14T16:09:30.820Z"
   },
   {
    "duration": 0,
    "start_time": "2023-11-14T16:09:30.821Z"
   },
   {
    "duration": 4,
    "start_time": "2023-11-14T16:24:08.591Z"
   },
   {
    "duration": 4,
    "start_time": "2023-11-14T16:24:56.149Z"
   },
   {
    "duration": 4,
    "start_time": "2023-11-14T16:25:05.953Z"
   },
   {
    "duration": 1852,
    "start_time": "2023-11-14T16:25:05.959Z"
   },
   {
    "duration": 18,
    "start_time": "2023-11-14T16:25:07.813Z"
   },
   {
    "duration": 106,
    "start_time": "2023-11-14T16:25:07.833Z"
   },
   {
    "duration": 51,
    "start_time": "2023-11-14T16:25:07.940Z"
   },
   {
    "duration": 48,
    "start_time": "2023-11-14T16:25:07.993Z"
   },
   {
    "duration": 15,
    "start_time": "2023-11-14T16:25:08.042Z"
   },
   {
    "duration": 59,
    "start_time": "2023-11-14T16:25:08.059Z"
   },
   {
    "duration": 10,
    "start_time": "2023-11-14T16:25:08.121Z"
   },
   {
    "duration": 11,
    "start_time": "2023-11-14T16:25:08.133Z"
   },
   {
    "duration": 10,
    "start_time": "2023-11-14T16:25:08.145Z"
   },
   {
    "duration": 33,
    "start_time": "2023-11-14T16:25:08.157Z"
   },
   {
    "duration": 7,
    "start_time": "2023-11-14T16:25:08.192Z"
   },
   {
    "duration": 267,
    "start_time": "2023-11-14T16:25:08.200Z"
   },
   {
    "duration": 10,
    "start_time": "2023-11-14T16:25:08.468Z"
   },
   {
    "duration": 3,
    "start_time": "2023-11-14T16:25:08.480Z"
   },
   {
    "duration": 20,
    "start_time": "2023-11-14T16:25:08.485Z"
   },
   {
    "duration": 8,
    "start_time": "2023-11-14T16:25:08.506Z"
   },
   {
    "duration": 223,
    "start_time": "2023-11-14T16:25:08.516Z"
   },
   {
    "duration": 14,
    "start_time": "2023-11-14T16:25:08.741Z"
   },
   {
    "duration": 30,
    "start_time": "2023-11-14T16:25:08.758Z"
   },
   {
    "duration": 219,
    "start_time": "2023-11-14T16:25:08.790Z"
   },
   {
    "duration": 16,
    "start_time": "2023-11-14T16:25:09.010Z"
   },
   {
    "duration": 27,
    "start_time": "2023-11-14T16:25:09.029Z"
   },
   {
    "duration": 18046,
    "start_time": "2023-11-14T16:25:09.058Z"
   },
   {
    "duration": 6,
    "start_time": "2023-11-14T16:25:27.106Z"
   },
   {
    "duration": 23,
    "start_time": "2023-11-14T16:25:27.113Z"
   },
   {
    "duration": 41,
    "start_time": "2023-11-14T16:25:27.138Z"
   },
   {
    "duration": 17,
    "start_time": "2023-11-14T16:25:27.180Z"
   },
   {
    "duration": 30,
    "start_time": "2023-11-14T16:25:27.198Z"
   },
   {
    "duration": 40,
    "start_time": "2023-11-14T16:25:27.229Z"
   },
   {
    "duration": 15,
    "start_time": "2023-11-14T16:25:27.271Z"
   },
   {
    "duration": 9,
    "start_time": "2023-11-14T16:25:27.287Z"
   },
   {
    "duration": 26,
    "start_time": "2023-11-14T16:25:27.298Z"
   },
   {
    "duration": 32,
    "start_time": "2023-11-14T16:25:27.326Z"
   },
   {
    "duration": 1150,
    "start_time": "2023-11-14T16:25:27.360Z"
   },
   {
    "duration": 19,
    "start_time": "2023-11-14T16:25:28.512Z"
   },
   {
    "duration": 67,
    "start_time": "2023-11-14T16:25:28.532Z"
   },
   {
    "duration": 49,
    "start_time": "2023-11-14T16:25:28.601Z"
   },
   {
    "duration": 406,
    "start_time": "2023-11-14T16:25:28.651Z"
   },
   {
    "duration": 10,
    "start_time": "2023-11-14T16:25:29.058Z"
   },
   {
    "duration": 493,
    "start_time": "2023-11-14T16:25:29.069Z"
   },
   {
    "duration": 9,
    "start_time": "2023-11-14T16:25:29.563Z"
   },
   {
    "duration": 7,
    "start_time": "2023-11-14T16:25:29.574Z"
   },
   {
    "duration": 2847,
    "start_time": "2023-11-14T16:25:29.582Z"
   },
   {
    "duration": 12,
    "start_time": "2023-11-14T16:25:32.430Z"
   },
   {
    "duration": 739,
    "start_time": "2023-11-14T16:25:32.443Z"
   },
   {
    "duration": 55,
    "start_time": "2023-11-14T16:25:33.183Z"
   },
   {
    "duration": 727,
    "start_time": "2023-11-14T16:25:33.240Z"
   },
   {
    "duration": 14,
    "start_time": "2023-11-14T16:25:33.969Z"
   },
   {
    "duration": 5,
    "start_time": "2023-11-14T16:25:33.985Z"
   },
   {
    "duration": 5,
    "start_time": "2023-11-14T16:25:33.991Z"
   },
   {
    "duration": 5,
    "start_time": "2023-11-14T16:25:33.998Z"
   },
   {
    "duration": 5,
    "start_time": "2023-11-14T16:25:34.005Z"
   },
   {
    "duration": 5,
    "start_time": "2023-11-14T16:25:34.012Z"
   },
   {
    "duration": 5,
    "start_time": "2023-11-14T16:25:34.019Z"
   },
   {
    "duration": 16,
    "start_time": "2023-11-14T16:25:34.025Z"
   },
   {
    "duration": 1760120,
    "start_time": "2023-11-14T16:25:34.056Z"
   },
   {
    "duration": 12,
    "start_time": "2023-11-14T16:54:54.178Z"
   },
   {
    "duration": 3,
    "start_time": "2023-11-14T16:54:54.191Z"
   },
   {
    "duration": 5,
    "start_time": "2023-11-14T16:54:54.195Z"
   },
   {
    "duration": 21,
    "start_time": "2023-11-14T16:54:54.201Z"
   },
   {
    "duration": 7,
    "start_time": "2023-11-14T16:54:54.224Z"
   },
   {
    "duration": 40,
    "start_time": "2023-11-14T16:54:54.232Z"
   },
   {
    "duration": 17,
    "start_time": "2023-11-14T16:54:54.280Z"
   },
   {
    "duration": 9,
    "start_time": "2023-11-14T16:54:54.298Z"
   },
   {
    "duration": 4,
    "start_time": "2023-11-14T16:54:54.308Z"
   },
   {
    "duration": 9,
    "start_time": "2023-11-14T16:54:54.313Z"
   },
   {
    "duration": 7,
    "start_time": "2023-11-14T16:54:54.326Z"
   },
   {
    "duration": 10,
    "start_time": "2023-11-14T16:54:54.334Z"
   },
   {
    "duration": 1524,
    "start_time": "2023-11-19T10:52:32.370Z"
   },
   {
    "duration": 1733,
    "start_time": "2023-11-19T10:52:33.896Z"
   },
   {
    "duration": 24,
    "start_time": "2023-11-19T10:52:35.630Z"
   },
   {
    "duration": 16,
    "start_time": "2023-11-19T10:52:35.656Z"
   },
   {
    "duration": 12,
    "start_time": "2023-11-19T10:52:35.674Z"
   },
   {
    "duration": 20,
    "start_time": "2023-11-19T10:52:35.687Z"
   },
   {
    "duration": 14,
    "start_time": "2023-11-19T10:52:35.708Z"
   },
   {
    "duration": 32,
    "start_time": "2023-11-19T10:52:35.723Z"
   },
   {
    "duration": 10,
    "start_time": "2023-11-19T10:52:35.757Z"
   },
   {
    "duration": 16,
    "start_time": "2023-11-19T10:52:35.770Z"
   },
   {
    "duration": 6,
    "start_time": "2023-11-19T10:52:35.788Z"
   },
   {
    "duration": 34,
    "start_time": "2023-11-19T10:52:35.796Z"
   },
   {
    "duration": 7,
    "start_time": "2023-11-19T10:52:35.832Z"
   },
   {
    "duration": 273,
    "start_time": "2023-11-19T10:52:35.841Z"
   },
   {
    "duration": 10,
    "start_time": "2023-11-19T10:52:36.116Z"
   },
   {
    "duration": 23,
    "start_time": "2023-11-19T10:52:36.127Z"
   },
   {
    "duration": 18,
    "start_time": "2023-11-19T10:52:36.151Z"
   },
   {
    "duration": 11,
    "start_time": "2023-11-19T10:52:36.170Z"
   },
   {
    "duration": 219,
    "start_time": "2023-11-19T10:52:36.182Z"
   },
   {
    "duration": 7,
    "start_time": "2023-11-19T10:52:36.402Z"
   },
   {
    "duration": 44,
    "start_time": "2023-11-19T10:52:36.410Z"
   },
   {
    "duration": 308,
    "start_time": "2023-11-19T10:52:36.456Z"
   },
   {
    "duration": 16,
    "start_time": "2023-11-19T10:52:36.766Z"
   },
   {
    "duration": 12,
    "start_time": "2023-11-19T10:52:36.784Z"
   },
   {
    "duration": 9297,
    "start_time": "2023-11-19T10:52:36.798Z"
   },
   {
    "duration": 6,
    "start_time": "2023-11-19T10:52:46.097Z"
   },
   {
    "duration": 20,
    "start_time": "2023-11-19T10:52:46.104Z"
   },
   {
    "duration": 6,
    "start_time": "2023-11-19T10:52:46.128Z"
   },
   {
    "duration": 11,
    "start_time": "2023-11-19T10:52:46.135Z"
   },
   {
    "duration": 6,
    "start_time": "2023-11-19T10:52:46.147Z"
   },
   {
    "duration": 11,
    "start_time": "2023-11-19T10:52:46.154Z"
   },
   {
    "duration": 14,
    "start_time": "2023-11-19T10:52:46.166Z"
   },
   {
    "duration": 7,
    "start_time": "2023-11-19T10:52:46.181Z"
   },
   {
    "duration": 18,
    "start_time": "2023-11-19T10:52:46.189Z"
   },
   {
    "duration": 13,
    "start_time": "2023-11-19T10:52:46.208Z"
   },
   {
    "duration": 1107,
    "start_time": "2023-11-19T10:52:46.223Z"
   },
   {
    "duration": 17,
    "start_time": "2023-11-19T10:52:47.332Z"
   },
   {
    "duration": 47,
    "start_time": "2023-11-19T10:52:47.350Z"
   },
   {
    "duration": 90,
    "start_time": "2023-11-19T10:52:47.399Z"
   },
   {
    "duration": 456,
    "start_time": "2023-11-19T10:52:47.491Z"
   },
   {
    "duration": 9,
    "start_time": "2023-11-19T10:52:47.949Z"
   },
   {
    "duration": 388,
    "start_time": "2023-11-19T10:52:47.959Z"
   },
   {
    "duration": 10,
    "start_time": "2023-11-19T10:52:48.348Z"
   },
   {
    "duration": 5,
    "start_time": "2023-11-19T10:52:48.359Z"
   },
   {
    "duration": 2904,
    "start_time": "2023-11-19T10:52:48.365Z"
   },
   {
    "duration": 9,
    "start_time": "2023-11-19T10:52:51.271Z"
   },
   {
    "duration": 755,
    "start_time": "2023-11-19T10:52:51.282Z"
   },
   {
    "duration": 54,
    "start_time": "2023-11-19T10:52:52.039Z"
   },
   {
    "duration": 836,
    "start_time": "2023-11-19T10:52:52.094Z"
   },
   {
    "duration": 17,
    "start_time": "2023-11-19T10:52:52.931Z"
   },
   {
    "duration": 4,
    "start_time": "2023-11-19T10:52:52.950Z"
   },
   {
    "duration": 18,
    "start_time": "2023-11-19T10:52:52.955Z"
   },
   {
    "duration": 5,
    "start_time": "2023-11-19T10:52:52.974Z"
   },
   {
    "duration": 5,
    "start_time": "2023-11-19T10:52:52.980Z"
   },
   {
    "duration": 7,
    "start_time": "2023-11-19T10:52:52.986Z"
   },
   {
    "duration": 7,
    "start_time": "2023-11-19T10:52:52.994Z"
   },
   {
    "duration": 7,
    "start_time": "2023-11-19T10:52:53.003Z"
   },
   {
    "duration": 1691619,
    "start_time": "2023-11-19T10:52:53.012Z"
   },
   {
    "duration": 14,
    "start_time": "2023-11-19T11:21:04.632Z"
   },
   {
    "duration": 8,
    "start_time": "2023-11-19T11:21:04.647Z"
   },
   {
    "duration": 17,
    "start_time": "2023-11-19T11:21:04.656Z"
   },
   {
    "duration": 10,
    "start_time": "2023-11-19T11:21:04.674Z"
   },
   {
    "duration": 4,
    "start_time": "2023-11-19T11:21:04.686Z"
   },
   {
    "duration": 28,
    "start_time": "2023-11-19T11:21:04.691Z"
   },
   {
    "duration": 17,
    "start_time": "2023-11-19T11:21:04.721Z"
   },
   {
    "duration": 22,
    "start_time": "2023-11-19T11:21:04.739Z"
   },
   {
    "duration": 33,
    "start_time": "2023-11-19T11:21:04.762Z"
   },
   {
    "duration": 6,
    "start_time": "2023-11-19T11:21:04.797Z"
   },
   {
    "duration": 18,
    "start_time": "2023-11-19T11:21:04.804Z"
   },
   {
    "duration": 8,
    "start_time": "2023-11-19T11:21:04.824Z"
   },
   {
    "duration": 1601,
    "start_time": "2023-11-22T05:28:34.828Z"
   },
   {
    "duration": 2006,
    "start_time": "2023-11-22T05:28:36.431Z"
   },
   {
    "duration": 26,
    "start_time": "2023-11-22T05:28:38.439Z"
   },
   {
    "duration": 18,
    "start_time": "2023-11-22T05:28:38.467Z"
   },
   {
    "duration": 15,
    "start_time": "2023-11-22T05:28:38.487Z"
   },
   {
    "duration": 14,
    "start_time": "2023-11-22T05:28:38.503Z"
   },
   {
    "duration": 42,
    "start_time": "2023-11-22T05:28:38.518Z"
   },
   {
    "duration": 19,
    "start_time": "2023-11-22T05:28:38.562Z"
   },
   {
    "duration": 12,
    "start_time": "2023-11-22T05:28:38.584Z"
   },
   {
    "duration": 4,
    "start_time": "2023-11-22T05:28:38.600Z"
   },
   {
    "duration": 5,
    "start_time": "2023-11-22T05:28:38.605Z"
   },
   {
    "duration": 58,
    "start_time": "2023-11-22T05:28:38.612Z"
   },
   {
    "duration": 5,
    "start_time": "2023-11-22T05:28:38.671Z"
   },
   {
    "duration": 290,
    "start_time": "2023-11-22T05:28:38.677Z"
   },
   {
    "duration": 10,
    "start_time": "2023-11-22T05:28:38.968Z"
   },
   {
    "duration": 30,
    "start_time": "2023-11-22T05:28:38.979Z"
   },
   {
    "duration": 5,
    "start_time": "2023-11-22T05:28:39.011Z"
   },
   {
    "duration": 6,
    "start_time": "2023-11-22T05:28:39.017Z"
   },
   {
    "duration": 221,
    "start_time": "2023-11-22T05:28:39.025Z"
   },
   {
    "duration": 15,
    "start_time": "2023-11-22T05:28:39.248Z"
   },
   {
    "duration": 18,
    "start_time": "2023-11-22T05:28:39.264Z"
   },
   {
    "duration": 319,
    "start_time": "2023-11-22T05:28:39.283Z"
   },
   {
    "duration": 17,
    "start_time": "2023-11-22T05:28:39.604Z"
   },
   {
    "duration": 11,
    "start_time": "2023-11-22T05:28:39.622Z"
   },
   {
    "duration": 11669,
    "start_time": "2023-11-22T05:28:39.635Z"
   },
   {
    "duration": 6,
    "start_time": "2023-11-22T05:28:51.306Z"
   },
   {
    "duration": 11,
    "start_time": "2023-11-22T05:28:51.313Z"
   },
   {
    "duration": 6,
    "start_time": "2023-11-22T05:28:51.328Z"
   },
   {
    "duration": 24,
    "start_time": "2023-11-22T05:28:51.335Z"
   },
   {
    "duration": 9,
    "start_time": "2023-11-22T05:28:51.360Z"
   },
   {
    "duration": 15,
    "start_time": "2023-11-22T05:28:51.370Z"
   },
   {
    "duration": 10,
    "start_time": "2023-11-22T05:28:51.387Z"
   },
   {
    "duration": 15,
    "start_time": "2023-11-22T05:28:51.399Z"
   },
   {
    "duration": 11,
    "start_time": "2023-11-22T05:28:51.416Z"
   },
   {
    "duration": 24,
    "start_time": "2023-11-22T05:28:51.428Z"
   },
   {
    "duration": 1165,
    "start_time": "2023-11-22T05:28:51.454Z"
   },
   {
    "duration": 20,
    "start_time": "2023-11-22T05:28:52.622Z"
   },
   {
    "duration": 19,
    "start_time": "2023-11-22T05:28:52.643Z"
   },
   {
    "duration": 18,
    "start_time": "2023-11-22T05:28:52.664Z"
   },
   {
    "duration": 385,
    "start_time": "2023-11-22T05:28:52.683Z"
   },
   {
    "duration": 10,
    "start_time": "2023-11-22T05:28:53.070Z"
   },
   {
    "duration": 407,
    "start_time": "2023-11-22T05:28:53.082Z"
   },
   {
    "duration": 10,
    "start_time": "2023-11-22T05:28:53.490Z"
   },
   {
    "duration": 18,
    "start_time": "2023-11-22T05:28:53.502Z"
   },
   {
    "duration": 3033,
    "start_time": "2023-11-22T05:28:53.521Z"
   },
   {
    "duration": 9,
    "start_time": "2023-11-22T05:28:56.558Z"
   },
   {
    "duration": 772,
    "start_time": "2023-11-22T05:28:56.569Z"
   },
   {
    "duration": 65,
    "start_time": "2023-11-22T05:28:57.342Z"
   },
   {
    "duration": 827,
    "start_time": "2023-11-22T05:28:57.408Z"
   },
   {
    "duration": 21,
    "start_time": "2023-11-22T05:28:58.237Z"
   },
   {
    "duration": 5,
    "start_time": "2023-11-22T05:28:58.260Z"
   },
   {
    "duration": 4,
    "start_time": "2023-11-22T05:28:58.266Z"
   },
   {
    "duration": 4,
    "start_time": "2023-11-22T05:28:58.271Z"
   },
   {
    "duration": 3,
    "start_time": "2023-11-22T05:28:58.277Z"
   },
   {
    "duration": 7,
    "start_time": "2023-11-22T05:28:58.281Z"
   },
   {
    "duration": 5,
    "start_time": "2023-11-22T05:28:58.290Z"
   },
   {
    "duration": 8,
    "start_time": "2023-11-22T05:28:58.296Z"
   },
   {
    "duration": 1770831,
    "start_time": "2023-11-22T05:28:58.305Z"
   },
   {
    "duration": 21,
    "start_time": "2023-11-22T05:58:29.139Z"
   },
   {
    "duration": 15,
    "start_time": "2023-11-22T05:58:29.162Z"
   },
   {
    "duration": 22,
    "start_time": "2023-11-22T05:58:29.179Z"
   },
   {
    "duration": 6,
    "start_time": "2023-11-22T05:58:29.203Z"
   },
   {
    "duration": 7,
    "start_time": "2023-11-22T05:58:29.210Z"
   },
   {
    "duration": 21,
    "start_time": "2023-11-22T05:58:29.218Z"
   },
   {
    "duration": 21,
    "start_time": "2023-11-22T05:58:29.241Z"
   },
   {
    "duration": 7,
    "start_time": "2023-11-22T05:58:29.263Z"
   },
   {
    "duration": 22,
    "start_time": "2023-11-22T05:58:29.271Z"
   },
   {
    "duration": 8,
    "start_time": "2023-11-22T05:58:29.294Z"
   },
   {
    "duration": 12,
    "start_time": "2023-11-22T05:58:29.303Z"
   },
   {
    "duration": 9,
    "start_time": "2023-11-22T05:58:29.316Z"
   }
  ],
  "colab": {
   "collapsed_sections": [],
   "name": "gold_recovery.ipynb",
   "provenance": []
  },
  "hide_input": false,
  "kernelspec": {
   "display_name": "Python 3 (ipykernel)",
   "language": "python",
   "name": "python3"
  },
  "language_info": {
   "codemirror_mode": {
    "name": "ipython",
    "version": 3
   },
   "file_extension": ".py",
   "mimetype": "text/x-python",
   "name": "python",
   "nbconvert_exporter": "python",
   "pygments_lexer": "ipython3",
   "version": "3.11.5"
  },
  "toc": {
   "base_numbering": 1,
   "nav_menu": {},
   "number_sections": true,
   "sideBar": true,
   "skip_h1_title": false,
   "title_cell": "Содержание",
   "title_sidebar": "Contents",
   "toc_cell": true,
   "toc_position": {
    "height": "calc(100% - 180px)",
    "left": "10px",
    "top": "150px",
    "width": "336.172px"
   },
   "toc_section_display": true,
   "toc_window_display": true
  },
  "varInspector": {
   "cols": {
    "lenName": 16,
    "lenType": 16,
    "lenVar": 40
   },
   "kernels_config": {
    "python": {
     "delete_cmd_postfix": "",
     "delete_cmd_prefix": "del ",
     "library": "var_list.py",
     "varRefreshCmd": "print(var_dic_list())"
    },
    "r": {
     "delete_cmd_postfix": ") ",
     "delete_cmd_prefix": "rm(",
     "library": "var_list.r",
     "varRefreshCmd": "cat(var_dic_list()) "
    }
   },
   "position": {
    "height": "469.71429443359375px",
    "left": "412.0000305175781px",
    "right": "20px",
    "top": "108.00000762939453px",
    "width": "668.7142944335938px"
   },
   "types_to_exclude": [
    "module",
    "function",
    "builtin_function_or_method",
    "instance",
    "_Feature"
   ],
   "window_display": false
  }
 },
 "nbformat": 4,
 "nbformat_minor": 1
}
