{
 "cells": [
  {
   "cell_type": "markdown",
   "id": "f3f7baed",
   "metadata": {},
   "source": [
    "# Описание проекта"
   ]
  },
  {
   "cell_type": "markdown",
   "id": "7cbf0b5c",
   "metadata": {},
   "source": [
    "TED (от англ. technology, education, design — «технологии, образование, дизайн») — некоммерческий фонд, который проводит популярные конференции. На них выступают специалисты из разных областей и читают лекции на актуальные социальные, культурные и научные темы. \n",
    "В разное время на TED-конференциях выступали математик Бенуа Мандельброт, теоретик искусственного интеллекта Марвин Минский, спортсменка Дана Ньяд и основатель Google Ларри Пейдж. В истории TED также были неоднозначные и даже скандальные выступления. Например, в 2010 году на конференции выступил Рэнди Пауэлл с рассказом о псевдонаучной «вихревой математике», а в 2014 году в конференции TEDMED участвовала Элизабет Холмс — основательница печально известного стартапа Theranos.\n",
    "В этом проекте мы исследуем историю TED-конференций с помощью Tableau."
   ]
  },
  {
   "cell_type": "markdown",
   "id": "992c1eb3",
   "metadata": {},
   "source": [
    "Ссылка на онлайн версию\n",
    "https://public.tableau.com/app/profile/valeratal.tallin/viz/TED_16983893673540/TED_Pres?publish=yes"
   ]
  },
  {
   "cell_type": "markdown",
   "id": "788c2b6f",
   "metadata": {},
   "source": [
    "Ссылка на презентацию: https://disk.yandex.ru/i/orNNU9AjzdJOaw"
   ]
  },
  {
   "cell_type": "markdown",
   "id": "b9110129",
   "metadata": {},
   "source": []
  },
  {
   "cell_type": "code",
   "execution_count": null,
   "id": "51d61e2f",
   "metadata": {},
   "outputs": [],
   "source": []
  }
 ],
 "metadata": {
  "ExecuteTimeLog": [
   {
    "duration": 120,
    "start_time": "2023-10-27T13:03:30.494Z"
   },
   {
    "duration": 12,
    "start_time": "2023-10-27T14:31:43.869Z"
   },
   {
    "duration": 75,
    "start_time": "2023-10-27T14:32:18.591Z"
   },
   {
    "duration": 113,
    "start_time": "2023-10-27T17:27:43.185Z"
   },
   {
    "duration": 126,
    "start_time": "2023-10-27T17:40:30.680Z"
   },
   {
    "duration": 80,
    "start_time": "2023-10-27T17:53:33.026Z"
   },
   {
    "duration": 102,
    "start_time": "2023-10-27T17:58:15.448Z"
   },
   {
    "duration": 82,
    "start_time": "2023-10-28T19:25:10.192Z"
   },
   {
    "duration": 90,
    "start_time": "2023-10-28T19:27:29.344Z"
   }
  ],
  "kernelspec": {
   "display_name": "Python 3 (ipykernel)",
   "language": "python",
   "name": "python3"
  },
  "language_info": {
   "codemirror_mode": {
    "name": "ipython",
    "version": 3
   },
   "file_extension": ".py",
   "mimetype": "text/x-python",
   "name": "python",
   "nbconvert_exporter": "python",
   "pygments_lexer": "ipython3",
   "version": "3.11.5"
  },
  "toc": {
   "base_numbering": 1,
   "nav_menu": {},
   "number_sections": true,
   "sideBar": true,
   "skip_h1_title": true,
   "title_cell": "Table of Contents",
   "title_sidebar": "Contents",
   "toc_cell": false,
   "toc_position": {},
   "toc_section_display": true,
   "toc_window_display": false
  }
 },
 "nbformat": 4,
 "nbformat_minor": 5
}
