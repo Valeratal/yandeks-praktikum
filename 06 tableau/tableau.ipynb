{
 "cells": [
  {
   "cell_type": "markdown",
   "id": "f3f7baed",
   "metadata": {},
   "source": [
    "# Описание проекта"
   ]
  },
  {
   "cell_type": "markdown",
   "id": "7cbf0b5c",
   "metadata": {},
   "source": [
    "TED (от англ. technology, education, design — «технологии, образование, дизайн») — некоммерческий фонд, который проводит популярные конференции. На них выступают специалисты из разных областей и читают лекции на актуальные социальные, культурные и научные темы. \n",
    "В разное время на TED-конференциях выступали математик Бенуа Мандельброт, теоретик искусственного интеллекта Марвин Минский, спортсменка Дана Ньяд и основатель Google Ларри Пейдж. В истории TED также были неоднозначные и даже скандальные выступления. Например, в 2010 году на конференции выступил Рэнди Пауэлл с рассказом о псевдонаучной «вихревой математике», а в 2014 году в конференции TEDMED участвовала Элизабет Холмс — основательница печально известного стартапа Theranos.\n",
    "В этом проекте мы исследуем историю TED-конференций с помощью Tableau."
   ]
  },
  {
   "cell_type": "markdown",
   "id": "992c1eb3",
   "metadata": {},
   "source": [
    "Ссылка на онлайн версию\n",
    "https://public.tableau.com/app/profile/valeratal.tallin/viz/TED_16983893673540/TED_Pres?publish=yes"
   ]
  },
  {
   "cell_type": "markdown",
   "id": "788c2b6f",
   "metadata": {},
   "source": [
    "Ссылка на презентацию: https://disk.yandex.ru/i/orNNU9AjzdJOaw"
   ]
  },
  {
   "cell_type": "markdown",
   "id": "b9110129",
   "metadata": {},
   "source": []
  },
  {
   "cell_type": "markdown",
   "id": "814fa1ec-c488-4640-bf49-5f69f95a42f8",
   "metadata": {},
   "source": [
    "В этом проекте вы исследуете историю TED-конференций с помощью Tableau.\n",
    "\n",
    "Описание данных\n",
    "\n",
    "tableau_project_data_1.csv\n",
    "\n",
    "tableau_project_data_2.csv\n",
    "\n",
    "tableau_project_data_3.csv\n",
    "\n",
    "tableau_project_event_dict.csv\n",
    "\n",
    "tableau_project_speakers_dict.csv\n",
    "\n",
    "Файлы tableau_project_data_1.csv, tableau_project_data_2.csv, tableau_project_data_3.csv хранят данные выступлений. У них одинаковая структура:\n",
    "\n",
    "- talk_id — идентификатор выступления;\n",
    "- url — ссылка на запись выступления;\n",
    "- title — название выступления;\n",
    "- description — краткое описание;\n",
    "- film_date — дата записи выступления;\n",
    "- duration — длительность в секундах;\n",
    "- views — количество просмотров;\n",
    "- main_tag — основная категория, к которой относится выступление;\n",
    "- speaker_id — уникальный идентификатор автора выступления;\n",
    "- laughter_count — количество раз, когда аудитория смеялась в ходе выступления;\n",
    "- applause_count — количество раз, когда аудитория аплодировала в ходе выступления;\n",
    "- language — язык, на котором велось выступление;\n",
    "- event_id — уникальный идентификатор конференции.\n",
    "\n",
    "Файл tableau_project_event_dict.csv — справочник конференций. Описание таблицы:\n",
    "\n",
    "- conf_id — уникальный идентификатор конференции;\n",
    "- event — название конференции;\n",
    "- country — страна проведения конференции.\n",
    "\n",
    "Файл tableau_project_speakers_dict.csv — справочник авторов выступления. Описание таблицы:\n",
    "\n",
    "- author_id — уникальный идентификатор автора выступления;\n",
    "- speaker_name — имя автора;\n",
    "- speaker_occupation — профессиональная область автора;\n",
    "speaker_description — описание профессиональной деятельности автора.\n",
    "Набор данных проекта мог вам напомнить известный датасет TED Talks, размещённый в библиотеке Kaggle. Он не является его копией: мы собрали данные на основе материалов сайта TED с помощью специальной программы.\n"
   ]
  }
 ],
 "metadata": {
  "ExecuteTimeLog": [
   {
    "duration": 120,
    "start_time": "2023-10-27T13:03:30.494Z"
   },
   {
    "duration": 12,
    "start_time": "2023-10-27T14:31:43.869Z"
   },
   {
    "duration": 75,
    "start_time": "2023-10-27T14:32:18.591Z"
   },
   {
    "duration": 113,
    "start_time": "2023-10-27T17:27:43.185Z"
   },
   {
    "duration": 126,
    "start_time": "2023-10-27T17:40:30.680Z"
   },
   {
    "duration": 80,
    "start_time": "2023-10-27T17:53:33.026Z"
   },
   {
    "duration": 102,
    "start_time": "2023-10-27T17:58:15.448Z"
   },
   {
    "duration": 82,
    "start_time": "2023-10-28T19:25:10.192Z"
   },
   {
    "duration": 90,
    "start_time": "2023-10-28T19:27:29.344Z"
   }
  ],
  "kernelspec": {
   "display_name": "Python 3 (ipykernel)",
   "language": "python",
   "name": "python3"
  },
  "language_info": {
   "codemirror_mode": {
    "name": "ipython",
    "version": 3
   },
   "file_extension": ".py",
   "mimetype": "text/x-python",
   "name": "python",
   "nbconvert_exporter": "python",
   "pygments_lexer": "ipython3",
   "version": "3.11.5"
  },
  "toc": {
   "base_numbering": 1,
   "nav_menu": {},
   "number_sections": true,
   "sideBar": true,
   "skip_h1_title": true,
   "title_cell": "Table of Contents",
   "title_sidebar": "Contents",
   "toc_cell": false,
   "toc_position": {},
   "toc_section_display": true,
   "toc_window_display": false
  }
 },
 "nbformat": 4,
 "nbformat_minor": 5
}
