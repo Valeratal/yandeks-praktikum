{
 "cells": [
  {
   "cell_type": "markdown",
   "id": "386f2ae7",
   "metadata": {
    "deletable": false,
    "id": "386f2ae7"
   },
   "source": [
    "# Исследование надежности заемщиков\n"
   ]
  },
  {
   "cell_type": "markdown",
   "id": "ffe86f65",
   "metadata": {
    "deletable": false,
    "id": "ffe86f65"
   },
   "source": [
    "\n",
    "\n"
   ]
  },
  {
   "cell_type": "markdown",
   "id": "26613308",
   "metadata": {
    "deletable": false,
    "id": "26613308"
   },
   "source": [
    "## Откройте таблицу и изучите общую информацию о данных"
   ]
  },
  {
   "cell_type": "markdown",
   "id": "3c9f838e",
   "metadata": {
    "deletable": false,
    "id": "3c9f838e"
   },
   "source": [
    "**Задание 1. Импортируйте библиотеку pandas. Считайте данные из csv-файла в датафрейм и сохраните в переменную `data`. Путь к файлу:**\n",
    "\n",
    "`/datasets/data.csv`"
   ]
  },
  {
   "cell_type": "code",
   "execution_count": 2,
   "id": "77a68a90",
   "metadata": {
    "deletable": false,
    "id": "77a68a90"
   },
   "outputs": [],
   "source": [
    "import pandas as pd\n",
    "\n",
    "try:\n",
    "    data = pd.read_csv('/datasets/data.csv')\n",
    "except:\n",
    "    data = pd.read_csv('https://code.s3.yandex.net/datasets/data.csv')"
   ]
  },
  {
   "cell_type": "markdown",
   "id": "45365635",
   "metadata": {
    "deletable": false,
    "id": "45365635"
   },
   "source": [
    "**Задание 2. Выведите первые 20 строчек датафрейма `data` на экран.**"
   ]
  },
  {
   "cell_type": "code",
   "execution_count": 3,
   "id": "b0451a9a",
   "metadata": {
    "deletable": false,
    "id": "b0451a9a",
    "outputId": "1a8f3ef2-d323-4ec2-ddf7-89670b5944c4"
   },
   "outputs": [
    {
     "data": {
      "text/html": [
       "<div>\n",
       "<style scoped>\n",
       "    .dataframe tbody tr th:only-of-type {\n",
       "        vertical-align: middle;\n",
       "    }\n",
       "\n",
       "    .dataframe tbody tr th {\n",
       "        vertical-align: top;\n",
       "    }\n",
       "\n",
       "    .dataframe thead th {\n",
       "        text-align: right;\n",
       "    }\n",
       "</style>\n",
       "<table border=\"1\" class=\"dataframe\">\n",
       "  <thead>\n",
       "    <tr style=\"text-align: right;\">\n",
       "      <th></th>\n",
       "      <th>children</th>\n",
       "      <th>days_employed</th>\n",
       "      <th>dob_years</th>\n",
       "      <th>education</th>\n",
       "      <th>education_id</th>\n",
       "      <th>family_status</th>\n",
       "      <th>family_status_id</th>\n",
       "      <th>gender</th>\n",
       "      <th>income_type</th>\n",
       "      <th>debt</th>\n",
       "      <th>total_income</th>\n",
       "      <th>purpose</th>\n",
       "    </tr>\n",
       "  </thead>\n",
       "  <tbody>\n",
       "    <tr>\n",
       "      <th>0</th>\n",
       "      <td>1</td>\n",
       "      <td>-8437.673028</td>\n",
       "      <td>42</td>\n",
       "      <td>высшее</td>\n",
       "      <td>0</td>\n",
       "      <td>женат / замужем</td>\n",
       "      <td>0</td>\n",
       "      <td>F</td>\n",
       "      <td>сотрудник</td>\n",
       "      <td>0</td>\n",
       "      <td>253875.639453</td>\n",
       "      <td>покупка жилья</td>\n",
       "    </tr>\n",
       "    <tr>\n",
       "      <th>1</th>\n",
       "      <td>1</td>\n",
       "      <td>-4024.803754</td>\n",
       "      <td>36</td>\n",
       "      <td>среднее</td>\n",
       "      <td>1</td>\n",
       "      <td>женат / замужем</td>\n",
       "      <td>0</td>\n",
       "      <td>F</td>\n",
       "      <td>сотрудник</td>\n",
       "      <td>0</td>\n",
       "      <td>112080.014102</td>\n",
       "      <td>приобретение автомобиля</td>\n",
       "    </tr>\n",
       "    <tr>\n",
       "      <th>2</th>\n",
       "      <td>0</td>\n",
       "      <td>-5623.422610</td>\n",
       "      <td>33</td>\n",
       "      <td>Среднее</td>\n",
       "      <td>1</td>\n",
       "      <td>женат / замужем</td>\n",
       "      <td>0</td>\n",
       "      <td>M</td>\n",
       "      <td>сотрудник</td>\n",
       "      <td>0</td>\n",
       "      <td>145885.952297</td>\n",
       "      <td>покупка жилья</td>\n",
       "    </tr>\n",
       "    <tr>\n",
       "      <th>3</th>\n",
       "      <td>3</td>\n",
       "      <td>-4124.747207</td>\n",
       "      <td>32</td>\n",
       "      <td>среднее</td>\n",
       "      <td>1</td>\n",
       "      <td>женат / замужем</td>\n",
       "      <td>0</td>\n",
       "      <td>M</td>\n",
       "      <td>сотрудник</td>\n",
       "      <td>0</td>\n",
       "      <td>267628.550329</td>\n",
       "      <td>дополнительное образование</td>\n",
       "    </tr>\n",
       "    <tr>\n",
       "      <th>4</th>\n",
       "      <td>0</td>\n",
       "      <td>340266.072047</td>\n",
       "      <td>53</td>\n",
       "      <td>среднее</td>\n",
       "      <td>1</td>\n",
       "      <td>гражданский брак</td>\n",
       "      <td>1</td>\n",
       "      <td>F</td>\n",
       "      <td>пенсионер</td>\n",
       "      <td>0</td>\n",
       "      <td>158616.077870</td>\n",
       "      <td>сыграть свадьбу</td>\n",
       "    </tr>\n",
       "    <tr>\n",
       "      <th>5</th>\n",
       "      <td>0</td>\n",
       "      <td>-926.185831</td>\n",
       "      <td>27</td>\n",
       "      <td>высшее</td>\n",
       "      <td>0</td>\n",
       "      <td>гражданский брак</td>\n",
       "      <td>1</td>\n",
       "      <td>M</td>\n",
       "      <td>компаньон</td>\n",
       "      <td>0</td>\n",
       "      <td>255763.565419</td>\n",
       "      <td>покупка жилья</td>\n",
       "    </tr>\n",
       "    <tr>\n",
       "      <th>6</th>\n",
       "      <td>0</td>\n",
       "      <td>-2879.202052</td>\n",
       "      <td>43</td>\n",
       "      <td>высшее</td>\n",
       "      <td>0</td>\n",
       "      <td>женат / замужем</td>\n",
       "      <td>0</td>\n",
       "      <td>F</td>\n",
       "      <td>компаньон</td>\n",
       "      <td>0</td>\n",
       "      <td>240525.971920</td>\n",
       "      <td>операции с жильем</td>\n",
       "    </tr>\n",
       "    <tr>\n",
       "      <th>7</th>\n",
       "      <td>0</td>\n",
       "      <td>-152.779569</td>\n",
       "      <td>50</td>\n",
       "      <td>СРЕДНЕЕ</td>\n",
       "      <td>1</td>\n",
       "      <td>женат / замужем</td>\n",
       "      <td>0</td>\n",
       "      <td>M</td>\n",
       "      <td>сотрудник</td>\n",
       "      <td>0</td>\n",
       "      <td>135823.934197</td>\n",
       "      <td>образование</td>\n",
       "    </tr>\n",
       "    <tr>\n",
       "      <th>8</th>\n",
       "      <td>2</td>\n",
       "      <td>-6929.865299</td>\n",
       "      <td>35</td>\n",
       "      <td>ВЫСШЕЕ</td>\n",
       "      <td>0</td>\n",
       "      <td>гражданский брак</td>\n",
       "      <td>1</td>\n",
       "      <td>F</td>\n",
       "      <td>сотрудник</td>\n",
       "      <td>0</td>\n",
       "      <td>95856.832424</td>\n",
       "      <td>на проведение свадьбы</td>\n",
       "    </tr>\n",
       "    <tr>\n",
       "      <th>9</th>\n",
       "      <td>0</td>\n",
       "      <td>-2188.756445</td>\n",
       "      <td>41</td>\n",
       "      <td>среднее</td>\n",
       "      <td>1</td>\n",
       "      <td>женат / замужем</td>\n",
       "      <td>0</td>\n",
       "      <td>M</td>\n",
       "      <td>сотрудник</td>\n",
       "      <td>0</td>\n",
       "      <td>144425.938277</td>\n",
       "      <td>покупка жилья для семьи</td>\n",
       "    </tr>\n",
       "    <tr>\n",
       "      <th>10</th>\n",
       "      <td>2</td>\n",
       "      <td>-4171.483647</td>\n",
       "      <td>36</td>\n",
       "      <td>высшее</td>\n",
       "      <td>0</td>\n",
       "      <td>женат / замужем</td>\n",
       "      <td>0</td>\n",
       "      <td>M</td>\n",
       "      <td>компаньон</td>\n",
       "      <td>0</td>\n",
       "      <td>113943.491460</td>\n",
       "      <td>покупка недвижимости</td>\n",
       "    </tr>\n",
       "    <tr>\n",
       "      <th>11</th>\n",
       "      <td>0</td>\n",
       "      <td>-792.701887</td>\n",
       "      <td>40</td>\n",
       "      <td>среднее</td>\n",
       "      <td>1</td>\n",
       "      <td>женат / замужем</td>\n",
       "      <td>0</td>\n",
       "      <td>F</td>\n",
       "      <td>сотрудник</td>\n",
       "      <td>0</td>\n",
       "      <td>77069.234271</td>\n",
       "      <td>покупка коммерческой недвижимости</td>\n",
       "    </tr>\n",
       "    <tr>\n",
       "      <th>12</th>\n",
       "      <td>0</td>\n",
       "      <td>NaN</td>\n",
       "      <td>65</td>\n",
       "      <td>среднее</td>\n",
       "      <td>1</td>\n",
       "      <td>гражданский брак</td>\n",
       "      <td>1</td>\n",
       "      <td>M</td>\n",
       "      <td>пенсионер</td>\n",
       "      <td>0</td>\n",
       "      <td>NaN</td>\n",
       "      <td>сыграть свадьбу</td>\n",
       "    </tr>\n",
       "    <tr>\n",
       "      <th>13</th>\n",
       "      <td>0</td>\n",
       "      <td>-1846.641941</td>\n",
       "      <td>54</td>\n",
       "      <td>неоконченное высшее</td>\n",
       "      <td>2</td>\n",
       "      <td>женат / замужем</td>\n",
       "      <td>0</td>\n",
       "      <td>F</td>\n",
       "      <td>сотрудник</td>\n",
       "      <td>0</td>\n",
       "      <td>130458.228857</td>\n",
       "      <td>приобретение автомобиля</td>\n",
       "    </tr>\n",
       "    <tr>\n",
       "      <th>14</th>\n",
       "      <td>0</td>\n",
       "      <td>-1844.956182</td>\n",
       "      <td>56</td>\n",
       "      <td>высшее</td>\n",
       "      <td>0</td>\n",
       "      <td>гражданский брак</td>\n",
       "      <td>1</td>\n",
       "      <td>F</td>\n",
       "      <td>компаньон</td>\n",
       "      <td>1</td>\n",
       "      <td>165127.911772</td>\n",
       "      <td>покупка жилой недвижимости</td>\n",
       "    </tr>\n",
       "    <tr>\n",
       "      <th>15</th>\n",
       "      <td>1</td>\n",
       "      <td>-972.364419</td>\n",
       "      <td>26</td>\n",
       "      <td>среднее</td>\n",
       "      <td>1</td>\n",
       "      <td>женат / замужем</td>\n",
       "      <td>0</td>\n",
       "      <td>F</td>\n",
       "      <td>сотрудник</td>\n",
       "      <td>0</td>\n",
       "      <td>116820.904450</td>\n",
       "      <td>строительство собственной недвижимости</td>\n",
       "    </tr>\n",
       "    <tr>\n",
       "      <th>16</th>\n",
       "      <td>0</td>\n",
       "      <td>-1719.934226</td>\n",
       "      <td>35</td>\n",
       "      <td>среднее</td>\n",
       "      <td>1</td>\n",
       "      <td>женат / замужем</td>\n",
       "      <td>0</td>\n",
       "      <td>F</td>\n",
       "      <td>сотрудник</td>\n",
       "      <td>0</td>\n",
       "      <td>289202.704229</td>\n",
       "      <td>недвижимость</td>\n",
       "    </tr>\n",
       "    <tr>\n",
       "      <th>17</th>\n",
       "      <td>0</td>\n",
       "      <td>-2369.999720</td>\n",
       "      <td>33</td>\n",
       "      <td>высшее</td>\n",
       "      <td>0</td>\n",
       "      <td>гражданский брак</td>\n",
       "      <td>1</td>\n",
       "      <td>M</td>\n",
       "      <td>сотрудник</td>\n",
       "      <td>0</td>\n",
       "      <td>90410.586745</td>\n",
       "      <td>строительство недвижимости</td>\n",
       "    </tr>\n",
       "    <tr>\n",
       "      <th>18</th>\n",
       "      <td>0</td>\n",
       "      <td>400281.136913</td>\n",
       "      <td>53</td>\n",
       "      <td>среднее</td>\n",
       "      <td>1</td>\n",
       "      <td>вдовец / вдова</td>\n",
       "      <td>2</td>\n",
       "      <td>F</td>\n",
       "      <td>пенсионер</td>\n",
       "      <td>0</td>\n",
       "      <td>56823.777243</td>\n",
       "      <td>на покупку подержанного автомобиля</td>\n",
       "    </tr>\n",
       "    <tr>\n",
       "      <th>19</th>\n",
       "      <td>0</td>\n",
       "      <td>-10038.818549</td>\n",
       "      <td>48</td>\n",
       "      <td>СРЕДНЕЕ</td>\n",
       "      <td>1</td>\n",
       "      <td>в разводе</td>\n",
       "      <td>3</td>\n",
       "      <td>F</td>\n",
       "      <td>сотрудник</td>\n",
       "      <td>0</td>\n",
       "      <td>242831.107982</td>\n",
       "      <td>на покупку своего автомобиля</td>\n",
       "    </tr>\n",
       "  </tbody>\n",
       "</table>\n",
       "</div>"
      ],
      "text/plain": [
       "    children  days_employed  dob_years            education  education_id  \\\n",
       "0          1   -8437.673028         42               высшее             0   \n",
       "1          1   -4024.803754         36              среднее             1   \n",
       "2          0   -5623.422610         33              Среднее             1   \n",
       "3          3   -4124.747207         32              среднее             1   \n",
       "4          0  340266.072047         53              среднее             1   \n",
       "5          0    -926.185831         27               высшее             0   \n",
       "6          0   -2879.202052         43               высшее             0   \n",
       "7          0    -152.779569         50              СРЕДНЕЕ             1   \n",
       "8          2   -6929.865299         35               ВЫСШЕЕ             0   \n",
       "9          0   -2188.756445         41              среднее             1   \n",
       "10         2   -4171.483647         36               высшее             0   \n",
       "11         0    -792.701887         40              среднее             1   \n",
       "12         0            NaN         65              среднее             1   \n",
       "13         0   -1846.641941         54  неоконченное высшее             2   \n",
       "14         0   -1844.956182         56               высшее             0   \n",
       "15         1    -972.364419         26              среднее             1   \n",
       "16         0   -1719.934226         35              среднее             1   \n",
       "17         0   -2369.999720         33               высшее             0   \n",
       "18         0  400281.136913         53              среднее             1   \n",
       "19         0  -10038.818549         48              СРЕДНЕЕ             1   \n",
       "\n",
       "       family_status  family_status_id gender income_type  debt  \\\n",
       "0    женат / замужем                 0      F   сотрудник     0   \n",
       "1    женат / замужем                 0      F   сотрудник     0   \n",
       "2    женат / замужем                 0      M   сотрудник     0   \n",
       "3    женат / замужем                 0      M   сотрудник     0   \n",
       "4   гражданский брак                 1      F   пенсионер     0   \n",
       "5   гражданский брак                 1      M   компаньон     0   \n",
       "6    женат / замужем                 0      F   компаньон     0   \n",
       "7    женат / замужем                 0      M   сотрудник     0   \n",
       "8   гражданский брак                 1      F   сотрудник     0   \n",
       "9    женат / замужем                 0      M   сотрудник     0   \n",
       "10   женат / замужем                 0      M   компаньон     0   \n",
       "11   женат / замужем                 0      F   сотрудник     0   \n",
       "12  гражданский брак                 1      M   пенсионер     0   \n",
       "13   женат / замужем                 0      F   сотрудник     0   \n",
       "14  гражданский брак                 1      F   компаньон     1   \n",
       "15   женат / замужем                 0      F   сотрудник     0   \n",
       "16   женат / замужем                 0      F   сотрудник     0   \n",
       "17  гражданский брак                 1      M   сотрудник     0   \n",
       "18    вдовец / вдова                 2      F   пенсионер     0   \n",
       "19         в разводе                 3      F   сотрудник     0   \n",
       "\n",
       "     total_income                                 purpose  \n",
       "0   253875.639453                           покупка жилья  \n",
       "1   112080.014102                 приобретение автомобиля  \n",
       "2   145885.952297                           покупка жилья  \n",
       "3   267628.550329              дополнительное образование  \n",
       "4   158616.077870                         сыграть свадьбу  \n",
       "5   255763.565419                           покупка жилья  \n",
       "6   240525.971920                       операции с жильем  \n",
       "7   135823.934197                             образование  \n",
       "8    95856.832424                   на проведение свадьбы  \n",
       "9   144425.938277                 покупка жилья для семьи  \n",
       "10  113943.491460                    покупка недвижимости  \n",
       "11   77069.234271       покупка коммерческой недвижимости  \n",
       "12            NaN                         сыграть свадьбу  \n",
       "13  130458.228857                 приобретение автомобиля  \n",
       "14  165127.911772              покупка жилой недвижимости  \n",
       "15  116820.904450  строительство собственной недвижимости  \n",
       "16  289202.704229                            недвижимость  \n",
       "17   90410.586745              строительство недвижимости  \n",
       "18   56823.777243      на покупку подержанного автомобиля  \n",
       "19  242831.107982            на покупку своего автомобиля  "
      ]
     },
     "execution_count": 3,
     "metadata": {},
     "output_type": "execute_result"
    }
   ],
   "source": [
    "data.head(20)"
   ]
  },
  {
   "cell_type": "markdown",
   "id": "0ed8f27f",
   "metadata": {
    "deletable": false,
    "id": "0ed8f27f"
   },
   "source": [
    "**Задание 3. Выведите основную информацию о датафрейме с помощью метода `info()`.**"
   ]
  },
  {
   "cell_type": "code",
   "execution_count": 4,
   "id": "ab3f863b",
   "metadata": {
    "deletable": false,
    "id": "ab3f863b",
    "outputId": "15376089-8dad-46c9-b520-c05248d43158"
   },
   "outputs": [
    {
     "name": "stdout",
     "output_type": "stream",
     "text": [
      "<class 'pandas.core.frame.DataFrame'>\n",
      "RangeIndex: 21525 entries, 0 to 21524\n",
      "Data columns (total 12 columns):\n",
      " #   Column            Non-Null Count  Dtype  \n",
      "---  ------            --------------  -----  \n",
      " 0   children          21525 non-null  int64  \n",
      " 1   days_employed     19351 non-null  float64\n",
      " 2   dob_years         21525 non-null  int64  \n",
      " 3   education         21525 non-null  object \n",
      " 4   education_id      21525 non-null  int64  \n",
      " 5   family_status     21525 non-null  object \n",
      " 6   family_status_id  21525 non-null  int64  \n",
      " 7   gender            21525 non-null  object \n",
      " 8   income_type       21525 non-null  object \n",
      " 9   debt              21525 non-null  int64  \n",
      " 10  total_income      19351 non-null  float64\n",
      " 11  purpose           21525 non-null  object \n",
      "dtypes: float64(2), int64(5), object(5)\n",
      "memory usage: 2.0+ MB\n"
     ]
    }
   ],
   "source": [
    "data.info()"
   ]
  },
  {
   "cell_type": "markdown",
   "id": "60e3e22d",
   "metadata": {
    "deletable": false,
    "id": "60e3e22d"
   },
   "source": [
    "## Предобработка данных"
   ]
  },
  {
   "cell_type": "markdown",
   "id": "03dc170c",
   "metadata": {
    "deletable": false,
    "id": "03dc170c"
   },
   "source": [
    "### Удаление пропусков"
   ]
  },
  {
   "cell_type": "markdown",
   "id": "a4f54eef",
   "metadata": {
    "deletable": false,
    "id": "a4f54eef"
   },
   "source": [
    "**Задание 4. Выведите количество пропущенных значений для каждого столбца. Используйте комбинацию двух методов.**"
   ]
  },
  {
   "cell_type": "code",
   "execution_count": 5,
   "id": "2dc372b2",
   "metadata": {
    "deletable": false,
    "id": "2dc372b2",
    "outputId": "81f4d817-781c-465c-ed15-91ce4446810d"
   },
   "outputs": [
    {
     "data": {
      "text/plain": [
       "children               0\n",
       "days_employed       2174\n",
       "dob_years              0\n",
       "education              0\n",
       "education_id           0\n",
       "family_status          0\n",
       "family_status_id       0\n",
       "gender                 0\n",
       "income_type            0\n",
       "debt                   0\n",
       "total_income        2174\n",
       "purpose                0\n",
       "dtype: int64"
      ]
     },
     "execution_count": 5,
     "metadata": {},
     "output_type": "execute_result"
    }
   ],
   "source": [
    "data.isna().sum()"
   ]
  },
  {
   "cell_type": "markdown",
   "id": "14f011b1",
   "metadata": {
    "deletable": false,
    "id": "14f011b1"
   },
   "source": [
    "**Задание 5. В двух столбцах есть пропущенные значения. Один из них — `days_employed`. Пропуски в этом столбце вы обработаете на следующем этапе. Другой столбец с пропущенными значениями — `total_income` — хранит данные о доходах. На сумму дохода сильнее всего влияет тип занятости, поэтому заполнить пропуски в этом столбце нужно медианным значением по каждому типу из столбца `income_type`. Например, у человека с типом занятости `сотрудник` пропуск в столбце `total_income` должен быть заполнен медианным доходом среди всех записей с тем же типом.**"
   ]
  },
  {
   "cell_type": "code",
   "execution_count": 6,
   "id": "bdabfb6e",
   "metadata": {
    "deletable": false,
    "id": "bdabfb6e"
   },
   "outputs": [],
   "source": [
    "for t in data['income_type'].unique():\n",
    "    data.loc[(data['income_type'] == t) & (data['total_income'].isna()), 'total_income'] = \\\n",
    "    data.loc[(data['income_type'] == t), 'total_income'].median()\n",
    "#  Альтернативный вариант  \n",
    "# data['total_income'] = data['total_income'].fillna(data.groupby('income_type')['total_income'].transform('median'))"
   ]
  },
  {
   "cell_type": "markdown",
   "id": "5be34059",
   "metadata": {
    "deletable": false,
    "id": "5be34059"
   },
   "source": [
    "### Обработка аномальных значений"
   ]
  },
  {
   "cell_type": "markdown",
   "id": "a87606cb",
   "metadata": {
    "deletable": false,
    "id": "a87606cb"
   },
   "source": [
    "**Задание 6. В данных могут встречаться артефакты (аномалии) — значения, которые не отражают действительность и появились по какой-то ошибке. таким артефактом будет отрицательное количество дней трудового стажа в столбце `days_employed`. Для реальных данных это нормально. Обработайте значения в этом столбце: замените все отрицательные значения положительными с помощью метода `abs()`.**"
   ]
  },
  {
   "cell_type": "code",
   "execution_count": 7,
   "id": "020c46cc",
   "metadata": {
    "deletable": false,
    "id": "020c46cc"
   },
   "outputs": [],
   "source": [
    "data['days_employed'] = data['days_employed'].abs()"
   ]
  },
  {
   "cell_type": "markdown",
   "id": "45538a3a",
   "metadata": {
    "deletable": false,
    "id": "45538a3a"
   },
   "source": [
    "**Задание 7. Для каждого типа занятости выведите медианное значение трудового стажа `days_employed` в днях.**"
   ]
  },
  {
   "cell_type": "code",
   "execution_count": 8,
   "id": "cd3e6328",
   "metadata": {
    "deletable": false,
    "id": "cd3e6328",
    "outputId": "801ef80e-522b-4668-f34e-565af7432bcf"
   },
   "outputs": [
    {
     "data": {
      "text/plain": [
       "income_type\n",
       "безработный        366413.652744\n",
       "в декрете            3296.759962\n",
       "госслужащий          2689.368353\n",
       "компаньон            1547.382223\n",
       "пенсионер          365213.306266\n",
       "предприниматель       520.848083\n",
       "сотрудник            1574.202821\n",
       "студент               578.751554\n",
       "Name: days_employed, dtype: float64"
      ]
     },
     "execution_count": 8,
     "metadata": {},
     "output_type": "execute_result"
    }
   ],
   "source": [
    "data.groupby('income_type')['days_employed'].agg('median')"
   ]
  },
  {
   "cell_type": "markdown",
   "id": "90c5f058",
   "metadata": {
    "deletable": false,
    "id": "90c5f058"
   },
   "source": [
    "У двух типов (безработные и пенсионеры) получатся аномально большие значения. Исправить такие значения сложно, поэтому оставьте их как есть."
   ]
  },
  {
   "cell_type": "markdown",
   "id": "9652e50d",
   "metadata": {
    "deletable": false,
    "id": "9652e50d"
   },
   "source": [
    "**Задание 8. Выведите перечень уникальных значений столбца `children`.**"
   ]
  },
  {
   "cell_type": "code",
   "execution_count": 9,
   "id": "dbb37b8e",
   "metadata": {
    "deletable": false,
    "id": "dbb37b8e",
    "outputId": "6975b15c-7f95-4697-d16d-a0c79b657b03"
   },
   "outputs": [
    {
     "data": {
      "text/plain": [
       "array([ 1,  0,  3,  2, -1,  4, 20,  5])"
      ]
     },
     "execution_count": 9,
     "metadata": {},
     "output_type": "execute_result"
    }
   ],
   "source": [
    "data['children'].unique()"
   ]
  },
  {
   "cell_type": "markdown",
   "id": "2b8b0715",
   "metadata": {
    "deletable": false,
    "id": "2b8b0715"
   },
   "source": [
    "**Задание 9. В столбце `children` есть два аномальных значения. Удалите строки, в которых встречаются такие аномальные значения из датафрейма `data`.**"
   ]
  },
  {
   "cell_type": "code",
   "execution_count": 10,
   "id": "20009df8",
   "metadata": {
    "deletable": false,
    "id": "20009df8"
   },
   "outputs": [],
   "source": [
    "data = data[(data['children'] != -1) & (data['children'] != 20)]"
   ]
  },
  {
   "cell_type": "markdown",
   "id": "8c6ac9f1",
   "metadata": {
    "deletable": false,
    "id": "8c6ac9f1"
   },
   "source": [
    "**Задание 10. Ещё раз выведите перечень уникальных значений столбца `children`, чтобы убедиться, что артефакты удалены.**"
   ]
  },
  {
   "cell_type": "code",
   "execution_count": 11,
   "id": "07337b81",
   "metadata": {
    "deletable": false,
    "id": "07337b81",
    "outputId": "b2097101-d49d-44d9-901b-32a65c9463d1"
   },
   "outputs": [
    {
     "data": {
      "text/plain": [
       "array([1, 0, 3, 2, 4, 5])"
      ]
     },
     "execution_count": 11,
     "metadata": {},
     "output_type": "execute_result"
    }
   ],
   "source": [
    "data['children'].unique()"
   ]
  },
  {
   "cell_type": "markdown",
   "id": "ee3f52d4",
   "metadata": {
    "deletable": false,
    "id": "ee3f52d4"
   },
   "source": [
    "### Удаление пропусков (продолжение)"
   ]
  },
  {
   "cell_type": "markdown",
   "id": "a700b0e4",
   "metadata": {
    "deletable": false,
    "id": "a700b0e4"
   },
   "source": [
    "**Задание 11. Заполните пропуски в столбце `days_employed` медианными значениями по каждого типа занятости `income_type`.**"
   ]
  },
  {
   "cell_type": "code",
   "execution_count": 12,
   "id": "61946b83",
   "metadata": {
    "deletable": false,
    "id": "61946b83"
   },
   "outputs": [],
   "source": [
    "for t in data['income_type'].unique():\n",
    "    data.loc[(data['income_type'] == t) & (data['days_employed'].isna()), 'days_employed'] = \\\n",
    "    data.loc[(data['income_type'] == t), 'days_employed'].median()"
   ]
  },
  {
   "cell_type": "markdown",
   "id": "550dcd9b",
   "metadata": {
    "deletable": false,
    "id": "550dcd9b"
   },
   "source": [
    "**Задание 12. Убедитесь, что все пропуски заполнены. Проверьте себя и ещё раз выведите количество пропущенных значений для каждого столбца с помощью двух методов.**"
   ]
  },
  {
   "cell_type": "code",
   "execution_count": 13,
   "id": "937c7014",
   "metadata": {
    "deletable": false,
    "id": "937c7014",
    "outputId": "8da1e4e1-358e-4e87-98c9-f261bce0a7b2"
   },
   "outputs": [
    {
     "data": {
      "text/plain": [
       "children            0\n",
       "days_employed       0\n",
       "dob_years           0\n",
       "education           0\n",
       "education_id        0\n",
       "family_status       0\n",
       "family_status_id    0\n",
       "gender              0\n",
       "income_type         0\n",
       "debt                0\n",
       "total_income        0\n",
       "purpose             0\n",
       "dtype: int64"
      ]
     },
     "execution_count": 13,
     "metadata": {},
     "output_type": "execute_result"
    }
   ],
   "source": [
    "data.isna().sum()"
   ]
  },
  {
   "cell_type": "markdown",
   "id": "d522e295",
   "metadata": {
    "deletable": false,
    "id": "d522e295"
   },
   "source": [
    "### Изменение типов данных"
   ]
  },
  {
   "cell_type": "markdown",
   "id": "c229c581",
   "metadata": {
    "deletable": false,
    "id": "c229c581"
   },
   "source": [
    "**Задание 13. Замените вещественный тип данных в столбце `total_income` на целочисленный с помощью метода `astype()`.**"
   ]
  },
  {
   "cell_type": "code",
   "execution_count": 14,
   "id": "31036462",
   "metadata": {
    "deletable": false,
    "id": "31036462"
   },
   "outputs": [],
   "source": [
    "data['total_income'] = data['total_income'].astype(int)"
   ]
  },
  {
   "cell_type": "markdown",
   "id": "b8e3d1d9",
   "metadata": {
    "deletable": false,
    "id": "b8e3d1d9"
   },
   "source": [
    "### Обработка дубликатов"
   ]
  },
  {
   "cell_type": "markdown",
   "id": "9be53c49",
   "metadata": {
    "deletable": false,
    "id": "9be53c49"
   },
   "source": [
    "**Задание 14. Обработайте неявные дубликаты в столбце `education`. В этом столбце есть одни и те же значения, но записанные по-разному: с использованием заглавных и строчных букв. Приведите их к нижнему регистру.**"
   ]
  },
  {
   "cell_type": "code",
   "execution_count": 15,
   "id": "d89e73e1",
   "metadata": {
    "deletable": false,
    "id": "d89e73e1"
   },
   "outputs": [],
   "source": [
    "data['education'] = data['education'].str.lower()"
   ]
  },
  {
   "cell_type": "markdown",
   "id": "01d4500e",
   "metadata": {
    "deletable": false,
    "id": "01d4500e"
   },
   "source": [
    "**Задание 15. Выведите на экран количество строк-дубликатов в данных. Если такие строки присутствуют, удалите их.**"
   ]
  },
  {
   "cell_type": "code",
   "execution_count": 16,
   "id": "e10efb23",
   "metadata": {
    "deletable": false,
    "id": "e10efb23",
    "outputId": "9684deba-1934-42d1-99e1-cda61740f822"
   },
   "outputs": [
    {
     "data": {
      "text/plain": [
       "71"
      ]
     },
     "execution_count": 16,
     "metadata": {},
     "output_type": "execute_result"
    }
   ],
   "source": [
    "data.duplicated().sum()"
   ]
  },
  {
   "cell_type": "code",
   "execution_count": 17,
   "id": "df853f20",
   "metadata": {
    "deletable": false,
    "id": "df853f20"
   },
   "outputs": [],
   "source": [
    "data = data.drop_duplicates()"
   ]
  },
  {
   "cell_type": "markdown",
   "id": "627be38f",
   "metadata": {
    "deletable": false,
    "id": "627be38f"
   },
   "source": [
    "### Категоризация данных"
   ]
  },
  {
   "cell_type": "markdown",
   "id": "4684c3e0",
   "metadata": {
    "deletable": false,
    "id": "4684c3e0"
   },
   "source": [
    "**Задание 16. На основании диапазонов, указанных ниже, создайте в датафрейме `data` столбец `total_income_category` с категориями:**\n",
    "\n",
    "- 0–30000 — `'E'`;\n",
    "- 30001–50000 — `'D'`;\n",
    "- 50001–200000 — `'C'`;\n",
    "- 200001–1000000 — `'B'`;\n",
    "- 1000001 и выше — `'A'`.\n",
    "\n",
    "\n",
    "**Например, кредитополучателю с доходом 25000 нужно назначить категорию `'E'`, а клиенту, получающему 235000, — `'B'`. Используйте собственную функцию с именем `categorize_income()` и метод `apply()`.**"
   ]
  },
  {
   "cell_type": "code",
   "execution_count": 18,
   "id": "78965238",
   "metadata": {
    "deletable": false,
    "id": "78965238"
   },
   "outputs": [],
   "source": [
    "def categorize_income(income):\n",
    "    try:\n",
    "        if 0 <= income <= 30000:\n",
    "            return 'E'\n",
    "        elif 30001 <= income <= 50000:\n",
    "            return 'D'\n",
    "        elif 50001 <= income <= 200000:\n",
    "            return 'C'\n",
    "        elif 200001 <= income <= 1000000:\n",
    "            return 'B'\n",
    "        elif income >= 1000001:\n",
    "            return 'A'\n",
    "    except:\n",
    "        pass"
   ]
  },
  {
   "cell_type": "code",
   "execution_count": 19,
   "id": "0980ada1",
   "metadata": {
    "deletable": false,
    "id": "0980ada1"
   },
   "outputs": [],
   "source": [
    "data['total_income_category'] = data['total_income'].apply(categorize_income)"
   ]
  },
  {
   "cell_type": "markdown",
   "id": "9917bba0",
   "metadata": {
    "deletable": false,
    "id": "9917bba0"
   },
   "source": [
    "**Задание 17. Выведите на экран перечень уникальных целей взятия кредита из столбца `purpose`.**"
   ]
  },
  {
   "cell_type": "code",
   "execution_count": 20,
   "id": "ee07b65e",
   "metadata": {
    "deletable": false,
    "id": "ee07b65e",
    "outputId": "673c12d9-7d7e-4ae0-9812-c622c89dd244"
   },
   "outputs": [
    {
     "data": {
      "text/plain": [
       "array(['покупка жилья', 'приобретение автомобиля',\n",
       "       'дополнительное образование', 'сыграть свадьбу',\n",
       "       'операции с жильем', 'образование', 'на проведение свадьбы',\n",
       "       'покупка жилья для семьи', 'покупка недвижимости',\n",
       "       'покупка коммерческой недвижимости', 'покупка жилой недвижимости',\n",
       "       'строительство собственной недвижимости', 'недвижимость',\n",
       "       'строительство недвижимости', 'на покупку подержанного автомобиля',\n",
       "       'на покупку своего автомобиля',\n",
       "       'операции с коммерческой недвижимостью',\n",
       "       'строительство жилой недвижимости', 'жилье',\n",
       "       'операции со своей недвижимостью', 'автомобили',\n",
       "       'заняться образованием', 'сделка с подержанным автомобилем',\n",
       "       'получение образования', 'автомобиль', 'свадьба',\n",
       "       'получение дополнительного образования', 'покупка своего жилья',\n",
       "       'операции с недвижимостью', 'получение высшего образования',\n",
       "       'свой автомобиль', 'сделка с автомобилем',\n",
       "       'профильное образование', 'высшее образование',\n",
       "       'покупка жилья для сдачи', 'на покупку автомобиля', 'ремонт жилью',\n",
       "       'заняться высшим образованием'], dtype=object)"
      ]
     },
     "execution_count": 20,
     "metadata": {},
     "output_type": "execute_result"
    }
   ],
   "source": [
    "data['purpose'].unique()"
   ]
  },
  {
   "cell_type": "markdown",
   "id": "52b79d56",
   "metadata": {
    "deletable": false,
    "id": "52b79d56"
   },
   "source": [
    "**Задание 18. Создайте функцию, которая на основании данных из столбца `purpose` сформирует новый столбец `purpose_category`, в который войдут следующие категории:**\n",
    "\n",
    "- `'операции с автомобилем'`,\n",
    "- `'операции с недвижимостью'`,\n",
    "- `'проведение свадьбы'`,\n",
    "- `'получение образования'`.\n",
    "\n",
    "**Например, если в столбце `purpose` находится подстрока `'на покупку автомобиля'`, то в столбце `purpose_category` должна появиться строка `'операции с автомобилем'`.**\n",
    "\n",
    "**Используйте собственную функцию с именем `categorize_purpose()` и метод `apply()`. Изучите данные в столбце `purpose` и определите, какие подстроки помогут вам правильно определить категорию.**"
   ]
  },
  {
   "cell_type": "code",
   "execution_count": 21,
   "id": "be41da5d",
   "metadata": {
    "deletable": false,
    "id": "be41da5d"
   },
   "outputs": [],
   "source": [
    "def categorize_purpose(row):\n",
    "    try:\n",
    "        if 'автом' in row:\n",
    "            return 'операции с автомобилем'\n",
    "        elif 'жил' in row or 'недвиж' in row:\n",
    "            return 'операции с недвижимостью'\n",
    "        elif 'свад' in row:\n",
    "            return 'проведение свадьбы'\n",
    "        elif 'образов' in row:\n",
    "            return 'получение образования'\n",
    "    except:\n",
    "        return 'нет категории'"
   ]
  },
  {
   "cell_type": "code",
   "execution_count": 22,
   "id": "94c4a19a",
   "metadata": {
    "deletable": false,
    "id": "94c4a19a"
   },
   "outputs": [],
   "source": [
    "data['purpose_category'] = data['purpose'].apply(categorize_purpose)"
   ]
  },
  {
   "cell_type": "markdown",
   "id": "3d596c34",
   "metadata": {
    "deletable": false,
    "id": "3d596c34"
   },
   "source": [
    "### Шаг 3. Исследуйте данные и ответьте на вопросы"
   ]
  },
  {
   "cell_type": "markdown",
   "id": "648db036",
   "metadata": {
    "deletable": false,
    "id": "648db036"
   },
   "source": [
    "#### 3.1 Есть ли зависимость между количеством детей и возвратом кредита в срок?"
   ]
  },
  {
   "cell_type": "markdown",
   "id": "60e0a506",
   "metadata": {
    "deletable": false,
    "id": "7fcff25e"
   },
   "source": [
    "В буквальном смысле \"зависимость\" определяют другими стат. методами. \n",
    "\n",
    "Тут мы можем увидеть максимум какие-то \"ковариации-корреляции\"\n",
    "\n",
    "Определимся с двумя гипотезами и контр-гипотезами\n",
    "\n",
    "1. Люди с детьми более ответственны и чаще возвращают кредиты (контр-гипотеза, соответственно наоборот)\n",
    "2. Чем больше детей, тем хуже возвращают кредиты (и наоборот)\n",
    "\n",
    "\n",
    "\n"
   ]
  },
  {
   "cell_type": "markdown",
   "id": "b32604f8",
   "metadata": {},
   "source": [
    "Посмотрим на дата-фрейм\n",
    "\n",
    "Сейчас нас интересуют колонки children и debt"
   ]
  },
  {
   "cell_type": "code",
   "execution_count": 23,
   "id": "c0bca39a",
   "metadata": {},
   "outputs": [
    {
     "data": {
      "text/html": [
       "<div>\n",
       "<style scoped>\n",
       "    .dataframe tbody tr th:only-of-type {\n",
       "        vertical-align: middle;\n",
       "    }\n",
       "\n",
       "    .dataframe tbody tr th {\n",
       "        vertical-align: top;\n",
       "    }\n",
       "\n",
       "    .dataframe thead th {\n",
       "        text-align: right;\n",
       "    }\n",
       "</style>\n",
       "<table border=\"1\" class=\"dataframe\">\n",
       "  <thead>\n",
       "    <tr style=\"text-align: right;\">\n",
       "      <th></th>\n",
       "      <th>children</th>\n",
       "      <th>days_employed</th>\n",
       "      <th>dob_years</th>\n",
       "      <th>education</th>\n",
       "      <th>education_id</th>\n",
       "      <th>family_status</th>\n",
       "      <th>family_status_id</th>\n",
       "      <th>gender</th>\n",
       "      <th>income_type</th>\n",
       "      <th>debt</th>\n",
       "      <th>total_income</th>\n",
       "      <th>purpose</th>\n",
       "      <th>total_income_category</th>\n",
       "      <th>purpose_category</th>\n",
       "    </tr>\n",
       "  </thead>\n",
       "  <tbody>\n",
       "    <tr>\n",
       "      <th>0</th>\n",
       "      <td>1</td>\n",
       "      <td>8437.673028</td>\n",
       "      <td>42</td>\n",
       "      <td>высшее</td>\n",
       "      <td>0</td>\n",
       "      <td>женат / замужем</td>\n",
       "      <td>0</td>\n",
       "      <td>F</td>\n",
       "      <td>сотрудник</td>\n",
       "      <td>0</td>\n",
       "      <td>253875</td>\n",
       "      <td>покупка жилья</td>\n",
       "      <td>B</td>\n",
       "      <td>операции с недвижимостью</td>\n",
       "    </tr>\n",
       "    <tr>\n",
       "      <th>1</th>\n",
       "      <td>1</td>\n",
       "      <td>4024.803754</td>\n",
       "      <td>36</td>\n",
       "      <td>среднее</td>\n",
       "      <td>1</td>\n",
       "      <td>женат / замужем</td>\n",
       "      <td>0</td>\n",
       "      <td>F</td>\n",
       "      <td>сотрудник</td>\n",
       "      <td>0</td>\n",
       "      <td>112080</td>\n",
       "      <td>приобретение автомобиля</td>\n",
       "      <td>C</td>\n",
       "      <td>операции с автомобилем</td>\n",
       "    </tr>\n",
       "    <tr>\n",
       "      <th>2</th>\n",
       "      <td>0</td>\n",
       "      <td>5623.422610</td>\n",
       "      <td>33</td>\n",
       "      <td>среднее</td>\n",
       "      <td>1</td>\n",
       "      <td>женат / замужем</td>\n",
       "      <td>0</td>\n",
       "      <td>M</td>\n",
       "      <td>сотрудник</td>\n",
       "      <td>0</td>\n",
       "      <td>145885</td>\n",
       "      <td>покупка жилья</td>\n",
       "      <td>C</td>\n",
       "      <td>операции с недвижимостью</td>\n",
       "    </tr>\n",
       "    <tr>\n",
       "      <th>3</th>\n",
       "      <td>3</td>\n",
       "      <td>4124.747207</td>\n",
       "      <td>32</td>\n",
       "      <td>среднее</td>\n",
       "      <td>1</td>\n",
       "      <td>женат / замужем</td>\n",
       "      <td>0</td>\n",
       "      <td>M</td>\n",
       "      <td>сотрудник</td>\n",
       "      <td>0</td>\n",
       "      <td>267628</td>\n",
       "      <td>дополнительное образование</td>\n",
       "      <td>B</td>\n",
       "      <td>получение образования</td>\n",
       "    </tr>\n",
       "    <tr>\n",
       "      <th>4</th>\n",
       "      <td>0</td>\n",
       "      <td>340266.072047</td>\n",
       "      <td>53</td>\n",
       "      <td>среднее</td>\n",
       "      <td>1</td>\n",
       "      <td>гражданский брак</td>\n",
       "      <td>1</td>\n",
       "      <td>F</td>\n",
       "      <td>пенсионер</td>\n",
       "      <td>0</td>\n",
       "      <td>158616</td>\n",
       "      <td>сыграть свадьбу</td>\n",
       "      <td>C</td>\n",
       "      <td>проведение свадьбы</td>\n",
       "    </tr>\n",
       "  </tbody>\n",
       "</table>\n",
       "</div>"
      ],
      "text/plain": [
       "   children  days_employed  dob_years education  education_id  \\\n",
       "0         1    8437.673028         42    высшее             0   \n",
       "1         1    4024.803754         36   среднее             1   \n",
       "2         0    5623.422610         33   среднее             1   \n",
       "3         3    4124.747207         32   среднее             1   \n",
       "4         0  340266.072047         53   среднее             1   \n",
       "\n",
       "      family_status  family_status_id gender income_type  debt  total_income  \\\n",
       "0   женат / замужем                 0      F   сотрудник     0        253875   \n",
       "1   женат / замужем                 0      F   сотрудник     0        112080   \n",
       "2   женат / замужем                 0      M   сотрудник     0        145885   \n",
       "3   женат / замужем                 0      M   сотрудник     0        267628   \n",
       "4  гражданский брак                 1      F   пенсионер     0        158616   \n",
       "\n",
       "                      purpose total_income_category          purpose_category  \n",
       "0               покупка жилья                     B  операции с недвижимостью  \n",
       "1     приобретение автомобиля                     C    операции с автомобилем  \n",
       "2               покупка жилья                     C  операции с недвижимостью  \n",
       "3  дополнительное образование                     B     получение образования  \n",
       "4             сыграть свадьбу                     C        проведение свадьбы  "
      ]
     },
     "execution_count": 23,
     "metadata": {},
     "output_type": "execute_result"
    }
   ],
   "source": [
    "data.head()"
   ]
  },
  {
   "cell_type": "markdown",
   "id": "f567551c",
   "metadata": {},
   "source": [
    "*Проверяем первую гипотезу*"
   ]
  },
  {
   "cell_type": "code",
   "execution_count": 24,
   "id": "abae5508",
   "metadata": {},
   "outputs": [
    {
     "name": "stdout",
     "output_type": "stream",
     "text": [
      "Среднее кол-во просрочек у заемщиков без детей: 0.075\n",
      "Среднее кол-во просрочек у заемщиков с детьми: 0.092\n"
     ]
    }
   ],
   "source": [
    "# Применяем loc и округляем для удобства\n",
    "deby_with_ch = round(data['debt'].loc[data['children'] == 0].mean(), 3)\n",
    "deby_without_ch = round(data['debt'].loc[data['children'] != 0].mean(), 3)\n",
    "\n",
    "print('Среднее кол-во просрочек у заемщиков без детей:', deby_with_ch)\n",
    "print('Среднее кол-во просрочек у заемщиков с детьми:', deby_without_ch)"
   ]
  },
  {
   "cell_type": "code",
   "execution_count": 25,
   "id": "497f69f8",
   "metadata": {},
   "outputs": [],
   "source": [
    "# Как можно заметить, у заемщиков с детьми просрочек больше, но не сказать чтобы сильно больше\n",
    "# 1-я Гипотеза не подтверждается (хотя корректней проводить стат. тест)"
   ]
  },
  {
   "cell_type": "markdown",
   "id": "f3564f22",
   "metadata": {},
   "source": [
    "*Проверяем вторую гипотезу*"
   ]
  },
  {
   "cell_type": "code",
   "execution_count": 26,
   "id": "b42356e5",
   "metadata": {},
   "outputs": [
    {
     "data": {
      "text/html": [
       "<div>\n",
       "<style scoped>\n",
       "    .dataframe tbody tr th:only-of-type {\n",
       "        vertical-align: middle;\n",
       "    }\n",
       "\n",
       "    .dataframe tbody tr th {\n",
       "        vertical-align: top;\n",
       "    }\n",
       "\n",
       "    .dataframe thead th {\n",
       "        text-align: right;\n",
       "    }\n",
       "</style>\n",
       "<table border=\"1\" class=\"dataframe\">\n",
       "  <thead>\n",
       "    <tr style=\"text-align: right;\">\n",
       "      <th></th>\n",
       "      <th>debt</th>\n",
       "    </tr>\n",
       "    <tr>\n",
       "      <th>children</th>\n",
       "      <th></th>\n",
       "    </tr>\n",
       "  </thead>\n",
       "  <tbody>\n",
       "    <tr>\n",
       "      <th>0</th>\n",
       "      <td>7.54</td>\n",
       "    </tr>\n",
       "    <tr>\n",
       "      <th>1</th>\n",
       "      <td>9.23</td>\n",
       "    </tr>\n",
       "    <tr>\n",
       "      <th>2</th>\n",
       "      <td>9.45</td>\n",
       "    </tr>\n",
       "    <tr>\n",
       "      <th>3</th>\n",
       "      <td>8.18</td>\n",
       "    </tr>\n",
       "    <tr>\n",
       "      <th>4</th>\n",
       "      <td>9.76</td>\n",
       "    </tr>\n",
       "    <tr>\n",
       "      <th>5</th>\n",
       "      <td>0.00</td>\n",
       "    </tr>\n",
       "  </tbody>\n",
       "</table>\n",
       "</div>"
      ],
      "text/plain": [
       "          debt\n",
       "children      \n",
       "0         7.54\n",
       "1         9.23\n",
       "2         9.45\n",
       "3         8.18\n",
       "4         9.76\n",
       "5         0.00"
      ]
     },
     "execution_count": 26,
     "metadata": {},
     "output_type": "execute_result"
    }
   ],
   "source": [
    "# Применяем группировку умножаем и округляем для удобства\n",
    "round(data.groupby('children')[['debt']].mean(), 4)*100"
   ]
  },
  {
   "cell_type": "markdown",
   "id": "71fc84a8",
   "metadata": {},
   "source": [
    "Как можно заметить, чаще всего не возвращают кредиты люди с 4-мя детьми, но разница между группами не слишком большая. \n",
    "А у людей с 5-ю кредитами нет вообще просрочек? Сделаемсводнут таблицу и посмотрим кол-во \n"
   ]
  },
  {
   "cell_type": "code",
   "execution_count": 27,
   "id": "c89cf7c8",
   "metadata": {},
   "outputs": [],
   "source": [
    "# Посчитаем кол-во, а не среднее\n",
    "# round(data.groupby('children')[['debt']].count(), 2)"
   ]
  },
  {
   "cell_type": "code",
   "execution_count": 28,
   "id": "13848835",
   "metadata": {},
   "outputs": [
    {
     "data": {
      "text/html": [
       "<div>\n",
       "<style scoped>\n",
       "    .dataframe tbody tr th:only-of-type {\n",
       "        vertical-align: middle;\n",
       "    }\n",
       "\n",
       "    .dataframe tbody tr th {\n",
       "        vertical-align: top;\n",
       "    }\n",
       "\n",
       "    .dataframe thead th {\n",
       "        text-align: right;\n",
       "    }\n",
       "</style>\n",
       "<table border=\"1\" class=\"dataframe\">\n",
       "  <thead>\n",
       "    <tr style=\"text-align: right;\">\n",
       "      <th></th>\n",
       "      <th>count_children</th>\n",
       "      <th>sum_children</th>\n",
       "      <th>Просрочки %</th>\n",
       "    </tr>\n",
       "    <tr>\n",
       "      <th>children</th>\n",
       "      <th></th>\n",
       "      <th></th>\n",
       "      <th></th>\n",
       "    </tr>\n",
       "  </thead>\n",
       "  <tbody>\n",
       "    <tr>\n",
       "      <th>0</th>\n",
       "      <td>14091</td>\n",
       "      <td>1063</td>\n",
       "      <td>7.54</td>\n",
       "    </tr>\n",
       "    <tr>\n",
       "      <th>1</th>\n",
       "      <td>4808</td>\n",
       "      <td>444</td>\n",
       "      <td>9.23</td>\n",
       "    </tr>\n",
       "    <tr>\n",
       "      <th>2</th>\n",
       "      <td>2052</td>\n",
       "      <td>194</td>\n",
       "      <td>9.45</td>\n",
       "    </tr>\n",
       "    <tr>\n",
       "      <th>3</th>\n",
       "      <td>330</td>\n",
       "      <td>27</td>\n",
       "      <td>8.18</td>\n",
       "    </tr>\n",
       "    <tr>\n",
       "      <th>4</th>\n",
       "      <td>41</td>\n",
       "      <td>4</td>\n",
       "      <td>9.76</td>\n",
       "    </tr>\n",
       "    <tr>\n",
       "      <th>5</th>\n",
       "      <td>9</td>\n",
       "      <td>0</td>\n",
       "      <td>0.00</td>\n",
       "    </tr>\n",
       "  </tbody>\n",
       "</table>\n",
       "</div>"
      ],
      "text/plain": [
       "          count_children  sum_children  Просрочки %\n",
       "children                                           \n",
       "0                  14091          1063         7.54\n",
       "1                   4808           444         9.23\n",
       "2                   2052           194         9.45\n",
       "3                    330            27         8.18\n",
       "4                     41             4         9.76\n",
       "5                      9             0         0.00"
      ]
     },
     "execution_count": 28,
     "metadata": {},
     "output_type": "execute_result"
    }
   ],
   "source": [
    "# Посмотрим группировками\n",
    "debt_from_children = pd.DataFrame() # создаем пустой датафрейм\n",
    "debt_from_children['count_children'] = data.groupby('children')['debt'].count()\n",
    "debt_from_children['sum_children'] = data.groupby('children')['debt'].sum()\n",
    "debt_from_children['Просрочки %'] = round((debt_from_children['sum_children'] / \n",
    "                                               debt_from_children['count_children']*100), 2) \n",
    "debt_from_children"
   ]
  },
  {
   "cell_type": "markdown",
   "id": "386f7880",
   "metadata": {},
   "source": [
    "Другие варианты группировок"
   ]
  },
  {
   "cell_type": "code",
   "execution_count": 29,
   "id": "24b8f4e3",
   "metadata": {},
   "outputs": [],
   "source": [
    "\n",
    "# chil_debt=data.groupby('children').agg({'debt':['count','sum']})\n",
    "# chil_quality=chil_debt['debt']['sum']/chil_debt['debt']['count']*100"
   ]
  },
  {
   "cell_type": "markdown",
   "id": "c5e1a4d8",
   "metadata": {},
   "source": [
    "Заемщиков с 5-ю детьми слишком мало. Да и с 4-я детьми тоже не много. Основные кредито-братели это бездетные"
   ]
  },
  {
   "cell_type": "code",
   "execution_count": 30,
   "id": "684e2149",
   "metadata": {},
   "outputs": [
    {
     "name": "stdout",
     "output_type": "stream",
     "text": [
      "          (Кол-во, count)  (Сумма, sum)  (Среднее, mean)  Доля задолженности %\n",
      "children                                                                      \n",
      "0                   14091          1063         0.075438                  7.54\n",
      "1                    4808           444         0.092346                  9.23\n",
      "2                    2052           194         0.094542                  9.45\n",
      "3                     330            27         0.081818                  8.18\n",
      "4                      41             4         0.097561                  9.76\n",
      "5                       9             0         0.000000                  0.00\n"
     ]
    }
   ],
   "source": [
    "# Делаем сводную таблицу\n",
    "data_ch_pivot = data.pivot_table(index='children', values='debt', aggfunc=['count', 'sum', 'mean'])\n",
    "\n",
    "\n",
    "data_ch_pivot['Доля задолженности %'] =  data_ch_pivot['sum'] / data_ch_pivot['count']\n",
    "\n",
    "# округлим и умножим на 100\n",
    "data_ch_pivot['Доля задолженности %'] =  round((data_ch_pivot['Доля задолженности %']), 4)*100\n",
    "\n",
    "# Переименуем столцбы для красоты \n",
    "data_ch_pivot.columns = [('Кол-во', 'count'), ('Сумма', 'sum'), ('Среднее', 'mean'), ('Доля задолженности %')]\n",
    "\n",
    "print(data_ch_pivot)\n"
   ]
  },
  {
   "cell_type": "markdown",
   "id": "2eb9088e",
   "metadata": {
    "deletable": false,
    "id": "2eb9088e"
   },
   "source": [
    "**Вывод:** \n",
    "В среднем, заемщики с детьми чаще допускают просрочки по кредитам, из заемщиков с детьми чаще всего просрочки встречаются у семей с 2-я и 4-мя детьми, однако группа заемщиков с 4-мя и 5-ю детьми небольшая, поэтому нерепрезентативна. Таким образом, самые ненадежные заемщики - это люди с двумя детьми"
   ]
  },
  {
   "cell_type": "markdown",
   "id": "74c9b3a7",
   "metadata": {
    "deletable": false,
    "id": "74c9b3a7"
   },
   "source": [
    "#### 3.2 Есть ли зависимость между семейным положением и возвратом кредита в срок?"
   ]
  },
  {
   "cell_type": "markdown",
   "id": "41845c8c",
   "metadata": {
    "deletable": false,
    "id": "8098ab3b"
   },
   "source": [
    "Для разнообразия, используем другой метод\n"
   ]
  },
  {
   "cell_type": "code",
   "execution_count": 31,
   "id": "58390eab",
   "metadata": {},
   "outputs": [
    {
     "data": {
      "text/html": [
       "<div>\n",
       "<style scoped>\n",
       "    .dataframe tbody tr th:only-of-type {\n",
       "        vertical-align: middle;\n",
       "    }\n",
       "\n",
       "    .dataframe tbody tr th {\n",
       "        vertical-align: top;\n",
       "    }\n",
       "\n",
       "    .dataframe thead th {\n",
       "        text-align: right;\n",
       "    }\n",
       "</style>\n",
       "<table border=\"1\" class=\"dataframe\">\n",
       "  <thead>\n",
       "    <tr style=\"text-align: right;\">\n",
       "      <th></th>\n",
       "      <th>debt</th>\n",
       "      <th>number</th>\n",
       "      <th>mean, %</th>\n",
       "    </tr>\n",
       "    <tr>\n",
       "      <th>family_status</th>\n",
       "      <th></th>\n",
       "      <th></th>\n",
       "      <th></th>\n",
       "    </tr>\n",
       "  </thead>\n",
       "  <tbody>\n",
       "    <tr>\n",
       "      <th>Не женат / не замужем</th>\n",
       "      <td>2796</td>\n",
       "      <td>273</td>\n",
       "      <td>9.763948</td>\n",
       "    </tr>\n",
       "    <tr>\n",
       "      <th>гражданский брак</th>\n",
       "      <td>4134</td>\n",
       "      <td>385</td>\n",
       "      <td>9.313014</td>\n",
       "    </tr>\n",
       "    <tr>\n",
       "      <th>женат / замужем</th>\n",
       "      <td>12261</td>\n",
       "      <td>927</td>\n",
       "      <td>7.560558</td>\n",
       "    </tr>\n",
       "    <tr>\n",
       "      <th>в разводе</th>\n",
       "      <td>1189</td>\n",
       "      <td>84</td>\n",
       "      <td>7.064760</td>\n",
       "    </tr>\n",
       "    <tr>\n",
       "      <th>вдовец / вдова</th>\n",
       "      <td>951</td>\n",
       "      <td>63</td>\n",
       "      <td>6.624606</td>\n",
       "    </tr>\n",
       "  </tbody>\n",
       "</table>\n",
       "</div>"
      ],
      "text/plain": [
       "                        debt  number   mean, %\n",
       "family_status                                 \n",
       "Не женат / не замужем   2796     273  9.763948\n",
       "гражданский брак        4134     385  9.313014\n",
       "женат / замужем        12261     927  7.560558\n",
       "в разводе               1189      84  7.064760\n",
       "вдовец / вдова           951      63  6.624606"
      ]
     },
     "execution_count": 31,
     "metadata": {},
     "output_type": "execute_result"
    }
   ],
   "source": [
    " deb_fam_stat = data[['family_status', 'debt']]\n",
    " deb_fam_stat_grouped =  deb_fam_stat.groupby('family_status').count()\n",
    " deb_fam_stat_grouped['number'] =  deb_fam_stat.loc[deb_fam_stat['debt'] == 1].groupby('family_status').sum()\n",
    " deb_fam_stat_grouped['mean, %'] =  deb_fam_stat_grouped['number'] /  deb_fam_stat_grouped['debt'] * 100  # умножил на 100\n",
    " deb_fam_stat_grouped.sort_values('mean, %', ascending=False)"
   ]
  },
  {
   "cell_type": "markdown",
   "id": "c389ca63",
   "metadata": {
    "deletable": false,
    "id": "c389ca63"
   },
   "source": [
    "**Вывод:** \n",
    "\n",
    "Как можно заметить, люди не состоящие в браке или живущие совместно (то есть в \"гражданском браке\") чаще склонны к просрочке кредитов\n",
    "Меньше всего просрочка кредитов у людей в разводе и вдоцов/вдов, однако кол-во таких заемщиков относительно небольшое\n",
    "\n",
    "Проще говоря люди, имевшие опыт семейных отношений, более добросовестно относятся к выплате кредитов"
   ]
  },
  {
   "cell_type": "markdown",
   "id": "9529de68",
   "metadata": {
    "deletable": false,
    "id": "9529de68"
   },
   "source": [
    "#### 3.3 Есть ли зависимость между уровнем дохода и возвратом кредита в срок?"
   ]
  },
  {
   "cell_type": "code",
   "execution_count": 32,
   "id": "8787f44a",
   "metadata": {
    "deletable": false,
    "id": "8787f44a"
   },
   "outputs": [],
   "source": [
    "# На этот раз попробуем посчитать циклом"
   ]
  },
  {
   "cell_type": "code",
   "execution_count": 33,
   "id": "018624ea",
   "metadata": {},
   "outputs": [
    {
     "name": "stdout",
     "output_type": "stream",
     "text": [
      "доля невозвращенных кредитов в срок в категории: B составляет 7.06\n",
      "доля невозвращенных кредитов в срок в категории: C составляет 8.5\n",
      "доля невозвращенных кредитов в срок в категории: D составляет 6.02\n",
      "доля невозвращенных кредитов в срок в категории: E составляет 9.09\n",
      "доля невозвращенных кредитов в срок в категории: A составляет 8.0\n"
     ]
    }
   ],
   "source": [
    "for i in data['total_income_category'].unique():\n",
    "    print('доля невозвращенных кредитов в срок в категории:', i, 'составляет', \\\n",
    "    round(100*data['debt'].loc[data['total_income_category'] == i].mean(), 2))\n",
    "    \n",
    "\n"
   ]
  },
  {
   "cell_type": "code",
   "execution_count": 34,
   "id": "800ebabc",
   "metadata": {},
   "outputs": [
    {
     "data": {
      "text/plain": [
       "C    15921\n",
       "B     5014\n",
       "D      349\n",
       "A       25\n",
       "E       22\n",
       "Name: total_income_category, dtype: int64"
      ]
     },
     "execution_count": 34,
     "metadata": {},
     "output_type": "execute_result"
    }
   ],
   "source": [
    "# Посмотрим сколько всего в каждой категории\n",
    "data['total_income_category'].value_counts()\n"
   ]
  },
  {
   "cell_type": "code",
   "execution_count": 44,
   "id": "2d2b6d62",
   "metadata": {},
   "outputs": [
    {
     "data": {
      "text/html": [
       "<div>\n",
       "<style scoped>\n",
       "    .dataframe tbody tr th:only-of-type {\n",
       "        vertical-align: middle;\n",
       "    }\n",
       "\n",
       "    .dataframe tbody tr th {\n",
       "        vertical-align: top;\n",
       "    }\n",
       "\n",
       "    .dataframe thead th {\n",
       "        text-align: right;\n",
       "    }\n",
       "</style>\n",
       "<table border=\"1\" class=\"dataframe\">\n",
       "  <thead>\n",
       "    <tr style=\"text-align: right;\">\n",
       "      <th></th>\n",
       "      <th>(Кол-во, count)</th>\n",
       "      <th>(Сумма, sum)</th>\n",
       "      <th>(Среднее, mean)</th>\n",
       "      <th>Доля задолженности %</th>\n",
       "    </tr>\n",
       "    <tr>\n",
       "      <th>total_income_category</th>\n",
       "      <th></th>\n",
       "      <th></th>\n",
       "      <th></th>\n",
       "      <th></th>\n",
       "    </tr>\n",
       "  </thead>\n",
       "  <tbody>\n",
       "    <tr>\n",
       "      <th>A</th>\n",
       "      <td>25</td>\n",
       "      <td>2</td>\n",
       "      <td>0.080000</td>\n",
       "      <td>8.00</td>\n",
       "    </tr>\n",
       "    <tr>\n",
       "      <th>B</th>\n",
       "      <td>5014</td>\n",
       "      <td>354</td>\n",
       "      <td>0.070602</td>\n",
       "      <td>7.06</td>\n",
       "    </tr>\n",
       "    <tr>\n",
       "      <th>C</th>\n",
       "      <td>15921</td>\n",
       "      <td>1353</td>\n",
       "      <td>0.084982</td>\n",
       "      <td>8.50</td>\n",
       "    </tr>\n",
       "    <tr>\n",
       "      <th>D</th>\n",
       "      <td>349</td>\n",
       "      <td>21</td>\n",
       "      <td>0.060172</td>\n",
       "      <td>6.02</td>\n",
       "    </tr>\n",
       "    <tr>\n",
       "      <th>E</th>\n",
       "      <td>22</td>\n",
       "      <td>2</td>\n",
       "      <td>0.090909</td>\n",
       "      <td>9.09</td>\n",
       "    </tr>\n",
       "  </tbody>\n",
       "</table>\n",
       "</div>"
      ],
      "text/plain": [
       "                       (Кол-во, count)  (Сумма, sum)  (Среднее, mean)  \\\n",
       "total_income_category                                                   \n",
       "A                                   25             2         0.080000   \n",
       "B                                 5014           354         0.070602   \n",
       "C                                15921          1353         0.084982   \n",
       "D                                  349            21         0.060172   \n",
       "E                                   22             2         0.090909   \n",
       "\n",
       "                       Доля задолженности %  \n",
       "total_income_category                        \n",
       "A                                      8.00  \n",
       "B                                      7.06  \n",
       "C                                      8.50  \n",
       "D                                      6.02  \n",
       "E                                      9.09  "
      ]
     },
     "metadata": {},
     "output_type": "display_data"
    }
   ],
   "source": [
    "# сделаем простую сводную таблицу\n",
    "data_ch_pivot = data.pivot_table(index='total_income_category', values='debt', aggfunc=['count', 'sum', 'mean'])\n",
    "\n",
    "\n",
    "data_ch_pivot['Доля задолженности %'] =  data_ch_pivot['sum'] / data_ch_pivot['count']\n",
    "\n",
    "# округлим и умножим на 100\n",
    "data_ch_pivot['Доля задолженности %'] =  round((data_ch_pivot['Доля задолженности %']), 4)*100\n",
    "\n",
    "# Переименуем столцбы для красоты \n",
    "data_ch_pivot.columns = [('Кол-во', 'count'), ('Сумма', 'sum'), ('Среднее', 'mean'), ('Доля задолженности %')]\n",
    "\n",
    "display(data_ch_pivot)"
   ]
  },
  {
   "cell_type": "markdown",
   "id": "6dd14b57",
   "metadata": {
    "deletable": false,
    "id": "6dd14b57"
   },
   "source": [
    "**Вывод:** \n",
    "Первая тройка категорий по просроченности кредитов это\n",
    " - E (9.09%) с доходом от 30 до 50-и тысяч\n",
    " - C (8,50%) с доходом от 50-и до 200 тысяч\n",
    " - A (8.00%) от одного миллиона и выше\n",
    " \n",
    "Можно сделать вывод, что первые 2 категории это физические лица, которые берут кредиты на текущие нужды. А категория А - предприниматели и руководители бизнеса\n",
    "\n",
    "Заемщики с доходом от 200 тысяч до миллиона лучше справляются с долговой нагрузкой, а вот людям с меньшим доходом выплата кредитов в срок дается сложнее\n",
    "\n"
   ]
  },
  {
   "cell_type": "markdown",
   "id": "1dcc9b12",
   "metadata": {
    "deletable": false,
    "id": "1dcc9b12"
   },
   "source": [
    "#### 3.4 Как разные цели кредита влияют на его возврат в срок?"
   ]
  },
  {
   "cell_type": "code",
   "execution_count": 45,
   "id": "7203ddb6",
   "metadata": {},
   "outputs": [
    {
     "data": {
      "text/html": [
       "<div>\n",
       "<style scoped>\n",
       "    .dataframe tbody tr th:only-of-type {\n",
       "        vertical-align: middle;\n",
       "    }\n",
       "\n",
       "    .dataframe tbody tr th {\n",
       "        vertical-align: top;\n",
       "    }\n",
       "\n",
       "    .dataframe thead th {\n",
       "        text-align: right;\n",
       "    }\n",
       "</style>\n",
       "<table border=\"1\" class=\"dataframe\">\n",
       "  <thead>\n",
       "    <tr style=\"text-align: right;\">\n",
       "      <th></th>\n",
       "      <th>total</th>\n",
       "      <th>target</th>\n",
       "      <th>Соотношение</th>\n",
       "    </tr>\n",
       "    <tr>\n",
       "      <th>purpose_category</th>\n",
       "      <th></th>\n",
       "      <th></th>\n",
       "      <th></th>\n",
       "    </tr>\n",
       "  </thead>\n",
       "  <tbody>\n",
       "    <tr>\n",
       "      <th>операции с недвижимостью</th>\n",
       "      <td>10751</td>\n",
       "      <td>780</td>\n",
       "      <td>0.0726</td>\n",
       "    </tr>\n",
       "    <tr>\n",
       "      <th>проведение свадьбы</th>\n",
       "      <td>2313</td>\n",
       "      <td>183</td>\n",
       "      <td>0.0791</td>\n",
       "    </tr>\n",
       "    <tr>\n",
       "      <th>получение образования</th>\n",
       "      <td>3988</td>\n",
       "      <td>369</td>\n",
       "      <td>0.0925</td>\n",
       "    </tr>\n",
       "    <tr>\n",
       "      <th>операции с автомобилем</th>\n",
       "      <td>4279</td>\n",
       "      <td>400</td>\n",
       "      <td>0.0935</td>\n",
       "    </tr>\n",
       "  </tbody>\n",
       "</table>\n",
       "</div>"
      ],
      "text/plain": [
       "                          total  target  Соотношение\n",
       "purpose_category                                    \n",
       "операции с недвижимостью  10751     780       0.0726\n",
       "проведение свадьбы         2313     183       0.0791\n",
       "получение образования      3988     369       0.0925\n",
       "операции с автомобилем     4279     400       0.0935"
      ]
     },
     "metadata": {},
     "output_type": "display_data"
    }
   ],
   "source": [
    "# Посчитаем сводной таблицей\n",
    "target_credit = data.pivot_table(index = [ 'purpose_category'], values = 'debt', aggfunc = {'count','sum'})\n",
    "target_credit = target_credit.rename(columns={'count':'total','sum':'target'})\n",
    "target_credit['Соотношение'] = round(target_credit['target']/target_credit['total'], 4)\n",
    "target_credit  = target_credit .sort_values(by='Соотношение', ascending=True)\n",
    "display(target_credit)"
   ]
  },
  {
   "cell_type": "code",
   "execution_count": 46,
   "id": "c602bc8b",
   "metadata": {
    "deletable": false,
    "id": "c602bc8b"
   },
   "outputs": [
    {
     "data": {
      "text/html": [
       "<div>\n",
       "<style scoped>\n",
       "    .dataframe tbody tr th:only-of-type {\n",
       "        vertical-align: middle;\n",
       "    }\n",
       "\n",
       "    .dataframe tbody tr th {\n",
       "        vertical-align: top;\n",
       "    }\n",
       "\n",
       "    .dataframe thead th {\n",
       "        text-align: right;\n",
       "    }\n",
       "</style>\n",
       "<table border=\"1\" class=\"dataframe\">\n",
       "  <thead>\n",
       "    <tr style=\"text-align: right;\">\n",
       "      <th></th>\n",
       "      <th>count</th>\n",
       "      <th>sum</th>\n",
       "      <th>Соотношение</th>\n",
       "    </tr>\n",
       "    <tr>\n",
       "      <th>purpose_category</th>\n",
       "      <th></th>\n",
       "      <th></th>\n",
       "      <th></th>\n",
       "    </tr>\n",
       "  </thead>\n",
       "  <tbody>\n",
       "    <tr>\n",
       "      <th>операции с недвижимостью</th>\n",
       "      <td>10751</td>\n",
       "      <td>780</td>\n",
       "      <td>0.073</td>\n",
       "    </tr>\n",
       "    <tr>\n",
       "      <th>проведение свадьбы</th>\n",
       "      <td>2313</td>\n",
       "      <td>183</td>\n",
       "      <td>0.079</td>\n",
       "    </tr>\n",
       "    <tr>\n",
       "      <th>операции с автомобилем</th>\n",
       "      <td>4279</td>\n",
       "      <td>400</td>\n",
       "      <td>0.093</td>\n",
       "    </tr>\n",
       "    <tr>\n",
       "      <th>получение образования</th>\n",
       "      <td>3988</td>\n",
       "      <td>369</td>\n",
       "      <td>0.093</td>\n",
       "    </tr>\n",
       "  </tbody>\n",
       "</table>\n",
       "</div>"
      ],
      "text/plain": [
       "                          count  sum  Соотношение\n",
       "purpose_category                                 \n",
       "операции с недвижимостью  10751  780        0.073\n",
       "проведение свадьбы         2313  183        0.079\n",
       "операции с автомобилем     4279  400        0.093\n",
       "получение образования      3988  369        0.093"
      ]
     },
     "metadata": {},
     "output_type": "display_data"
    }
   ],
   "source": [
    "# Альтернативный вариант \n",
    "# Посчитаем сумму и счет отдельно\n",
    "count_credit = data.pivot_table(index=['purpose_category'], values='debt', aggfunc='count')\n",
    "sum_credit = data.pivot_table(index=['purpose_category'], values='debt', aggfunc='sum')\n",
    "\n",
    "# Объединяем в один дата-фрейм\n",
    "target_credit = pd.merge(count_credit, sum_credit, on='purpose_category')\n",
    "\n",
    "# Переименуем названия колонок\n",
    "target_credit = target_credit.rename(columns={'debt_x': 'count', 'debt_y': 'sum'})\n",
    "\n",
    "# Рассчитаем соотношение и сортируем\n",
    "target_credit['Соотношение'] = round(target_credit['sum'] / target_credit['count'], 3)\n",
    "target_credit = target_credit.sort_values(by='Соотношение', ascending=True)\n",
    "\n",
    "# Печатаем\n",
    "display(target_credit)"
   ]
  },
  {
   "cell_type": "markdown",
   "id": "cf05ed63",
   "metadata": {
    "deletable": false,
    "id": "cf05ed63"
   },
   "source": [
    "**Вывод:** \n",
    "Как можно заметить, заемщики, берущие кредит на операции с недвижимостью и проведение свадьбы более ответственно относятся к выплате кредитов"
   ]
  },
  {
   "cell_type": "markdown",
   "id": "46c1f10b",
   "metadata": {
    "deletable": false,
    "id": "46c1f10b"
   },
   "source": [
    "#### 3.5 Приведите возможные причины появления пропусков в исходных данных."
   ]
  },
  {
   "cell_type": "markdown",
   "id": "3697d2a9",
   "metadata": {
    "deletable": false,
    "id": "3697d2a9"
   },
   "source": [
    "*Ответ:* Невнимательность, Агрегация с разных баз данных и утеря в процессе, возможно для каких-то кредитов не нужна полная инофрмация о заемщике (например при зарплатных проектах банка)"
   ]
  },
  {
   "cell_type": "markdown",
   "id": "3137d257",
   "metadata": {
    "deletable": false,
    "id": "3137d257"
   },
   "source": [
    "#### 3.6 Объясните, почему заполнить пропуски медианным значением — лучшее решение для количественных переменных."
   ]
  },
  {
   "cell_type": "markdown",
   "id": "cf40012a",
   "metadata": {
    "deletable": false,
    "id": "cf40012a"
   },
   "source": [
    "*Ответ:*  медиана менее подвержена смещению и более показательна, когда данные распределены \"Ненормально\", не по нормальному распределению"
   ]
  },
  {
   "cell_type": "markdown",
   "id": "57bc304e",
   "metadata": {
    "deletable": false,
    "id": "57bc304e"
   },
   "source": [
    "### Шаг 4: общий вывод."
   ]
  },
  {
   "cell_type": "markdown",
   "id": "1ab75d1c",
   "metadata": {
    "deletable": false,
    "id": "1ab75d1c"
   },
   "source": [
    "По итогам настоящего исследования, можно сделать следующий вывод: Наиболее надежный заемщик - это человек без детей, но с опытом жизни в официальном браке (а лучше даже разведенный или вдовец/вдова). С доходом выше 200 тысяч рублей, берущий кредит для целей операций с недвижимостью\n",
    "\n",
    "С другой стороны, наиболее ненадежные заемщики - это люди без опыта жизни в браке, с детьми и берущие кредит на покупку автомобиля"
   ]
  }
 ],
 "metadata": {
  "ExecuteTimeLog": [
   {
    "duration": 49,
    "start_time": "2023-07-21T07:08:16.376Z"
   },
   {
    "duration": 512,
    "start_time": "2023-07-21T07:08:25.625Z"
   },
   {
    "duration": 25,
    "start_time": "2023-07-21T07:08:26.139Z"
   },
   {
    "duration": 21,
    "start_time": "2023-07-21T07:08:26.166Z"
   },
   {
    "duration": 9,
    "start_time": "2023-07-21T07:08:26.188Z"
   },
   {
    "duration": 38,
    "start_time": "2023-07-21T07:08:26.199Z"
   },
   {
    "duration": 4,
    "start_time": "2023-07-21T07:08:26.239Z"
   },
   {
    "duration": 28,
    "start_time": "2023-07-21T07:08:26.245Z"
   },
   {
    "duration": 4,
    "start_time": "2023-07-21T07:08:26.274Z"
   },
   {
    "duration": 21,
    "start_time": "2023-07-21T07:08:26.280Z"
   },
   {
    "duration": 7,
    "start_time": "2023-07-21T07:08:26.303Z"
   },
   {
    "duration": 34,
    "start_time": "2023-07-21T07:08:26.312Z"
   },
   {
    "duration": 23,
    "start_time": "2023-07-21T07:08:26.348Z"
   },
   {
    "duration": 5,
    "start_time": "2023-07-21T07:08:26.373Z"
   },
   {
    "duration": 26,
    "start_time": "2023-07-21T07:08:26.380Z"
   },
   {
    "duration": 30,
    "start_time": "2023-07-21T07:08:26.408Z"
   },
   {
    "duration": 19,
    "start_time": "2023-07-21T07:08:26.440Z"
   },
   {
    "duration": 4,
    "start_time": "2023-07-21T07:08:26.468Z"
   },
   {
    "duration": 27,
    "start_time": "2023-07-21T07:08:26.474Z"
   },
   {
    "duration": 43,
    "start_time": "2023-07-21T07:08:26.502Z"
   },
   {
    "duration": 11,
    "start_time": "2023-07-21T07:08:26.546Z"
   },
   {
    "duration": 14,
    "start_time": "2023-07-21T07:08:26.559Z"
   },
   {
    "duration": 8,
    "start_time": "2023-07-21T07:08:26.574Z"
   },
   {
    "duration": 27,
    "start_time": "2023-07-21T07:08:26.583Z"
   },
   {
    "duration": 6,
    "start_time": "2023-07-21T07:08:26.611Z"
   },
   {
    "duration": 4,
    "start_time": "2023-07-21T07:08:26.618Z"
   },
   {
    "duration": 8,
    "start_time": "2023-07-21T07:08:26.624Z"
   },
   {
    "duration": 126,
    "start_time": "2023-07-21T07:34:58.139Z"
   },
   {
    "duration": 17,
    "start_time": "2023-07-21T07:35:17.873Z"
   },
   {
    "duration": 9,
    "start_time": "2023-07-21T07:38:27.896Z"
   },
   {
    "duration": 14,
    "start_time": "2023-07-21T07:38:34.799Z"
   },
   {
    "duration": 15,
    "start_time": "2023-07-21T07:41:50.981Z"
   },
   {
    "duration": 12,
    "start_time": "2023-07-21T07:43:09.176Z"
   },
   {
    "duration": 12,
    "start_time": "2023-07-21T07:44:49.691Z"
   },
   {
    "duration": 148,
    "start_time": "2023-07-21T07:49:52.118Z"
   },
   {
    "duration": 3,
    "start_time": "2023-07-21T07:50:01.636Z"
   },
   {
    "duration": 9,
    "start_time": "2023-07-21T07:53:38.797Z"
   },
   {
    "duration": 11,
    "start_time": "2023-07-21T07:53:53.496Z"
   },
   {
    "duration": 2,
    "start_time": "2023-07-21T07:53:59.524Z"
   },
   {
    "duration": 132,
    "start_time": "2023-07-21T07:54:17.225Z"
   },
   {
    "duration": 10,
    "start_time": "2023-07-21T07:55:11.362Z"
   },
   {
    "duration": 121,
    "start_time": "2023-07-21T08:14:45.796Z"
   },
   {
    "duration": 128,
    "start_time": "2023-07-21T08:14:52.087Z"
   },
   {
    "duration": 43,
    "start_time": "2023-07-21T08:14:59.806Z"
   },
   {
    "duration": 14,
    "start_time": "2023-07-21T08:15:19.007Z"
   },
   {
    "duration": 6,
    "start_time": "2023-07-21T08:16:37.973Z"
   },
   {
    "duration": 7,
    "start_time": "2023-07-21T08:17:40.648Z"
   },
   {
    "duration": 8,
    "start_time": "2023-07-21T08:18:08.540Z"
   },
   {
    "duration": 8,
    "start_time": "2023-07-21T08:18:53.595Z"
   },
   {
    "duration": 5,
    "start_time": "2023-07-21T08:19:42.924Z"
   },
   {
    "duration": 8,
    "start_time": "2023-07-21T08:19:50.346Z"
   },
   {
    "duration": 8,
    "start_time": "2023-07-21T08:37:55.426Z"
   },
   {
    "duration": 8,
    "start_time": "2023-07-21T08:38:19.983Z"
   },
   {
    "duration": 6,
    "start_time": "2023-07-21T08:38:28.039Z"
   },
   {
    "duration": 193,
    "start_time": "2023-07-21T08:39:07.314Z"
   },
   {
    "duration": 2,
    "start_time": "2023-07-21T08:39:13.852Z"
   },
   {
    "duration": 3,
    "start_time": "2023-07-21T08:39:16.309Z"
   },
   {
    "duration": 2,
    "start_time": "2023-07-21T08:39:54.426Z"
   },
   {
    "duration": 12,
    "start_time": "2023-07-21T08:49:33.146Z"
   },
   {
    "duration": 20,
    "start_time": "2023-07-21T08:49:57.992Z"
   },
   {
    "duration": 24,
    "start_time": "2023-07-21T08:51:49.090Z"
   },
   {
    "duration": 14,
    "start_time": "2023-07-21T09:02:24.848Z"
   },
   {
    "duration": 21,
    "start_time": "2023-07-21T10:00:35.166Z"
   },
   {
    "duration": 134,
    "start_time": "2023-07-21T10:09:29.606Z"
   },
   {
    "duration": 174,
    "start_time": "2023-07-21T10:09:48.152Z"
   },
   {
    "duration": 139,
    "start_time": "2023-07-21T10:10:29.846Z"
   },
   {
    "duration": 15,
    "start_time": "2023-07-21T10:12:15.004Z"
   },
   {
    "duration": 194,
    "start_time": "2023-07-21T10:12:32.246Z"
   },
   {
    "duration": 134,
    "start_time": "2023-07-21T10:14:06.401Z"
   },
   {
    "duration": 17,
    "start_time": "2023-07-21T10:14:11.147Z"
   },
   {
    "duration": 13,
    "start_time": "2023-07-21T10:14:27.601Z"
   },
   {
    "duration": 17,
    "start_time": "2023-07-21T10:14:34.959Z"
   },
   {
    "duration": 20,
    "start_time": "2023-07-21T10:14:55.250Z"
   },
   {
    "duration": 6,
    "start_time": "2023-07-21T10:16:44.589Z"
   },
   {
    "duration": 6,
    "start_time": "2023-07-21T10:16:56.928Z"
   },
   {
    "duration": 5,
    "start_time": "2023-07-21T10:16:59.536Z"
   },
   {
    "duration": 9,
    "start_time": "2023-07-21T10:17:19.300Z"
   },
   {
    "duration": 8,
    "start_time": "2023-07-21T10:17:57.593Z"
   },
   {
    "duration": 26,
    "start_time": "2023-07-21T10:36:41.605Z"
   },
   {
    "duration": 1948,
    "start_time": "2023-07-21T10:37:37.058Z"
   },
   {
    "duration": 23,
    "start_time": "2023-07-21T10:39:24.337Z"
   },
   {
    "duration": 26,
    "start_time": "2023-07-21T10:39:34.490Z"
   },
   {
    "duration": 2116,
    "start_time": "2023-07-21T10:40:31.237Z"
   },
   {
    "duration": 2043,
    "start_time": "2023-07-21T10:41:43.457Z"
   },
   {
    "duration": 1965,
    "start_time": "2023-07-21T10:43:42.530Z"
   },
   {
    "duration": 2026,
    "start_time": "2023-07-21T10:44:00.096Z"
   },
   {
    "duration": 32,
    "start_time": "2023-07-21T10:44:58.799Z"
   },
   {
    "duration": 32,
    "start_time": "2023-07-21T10:46:38.658Z"
   },
   {
    "duration": 30,
    "start_time": "2023-07-21T10:51:05.271Z"
   },
   {
    "duration": 30,
    "start_time": "2023-07-21T10:51:12.606Z"
   },
   {
    "duration": 32,
    "start_time": "2023-07-21T10:51:36.137Z"
   },
   {
    "duration": 30,
    "start_time": "2023-07-21T10:51:50.679Z"
   },
   {
    "duration": 27,
    "start_time": "2023-07-21T10:52:26.912Z"
   },
   {
    "duration": 94,
    "start_time": "2023-07-21T11:01:23.636Z"
   },
   {
    "duration": 18,
    "start_time": "2023-07-21T11:01:23.732Z"
   },
   {
    "duration": 25,
    "start_time": "2023-07-21T11:01:23.767Z"
   },
   {
    "duration": 11,
    "start_time": "2023-07-21T11:01:23.793Z"
   },
   {
    "duration": 62,
    "start_time": "2023-07-21T11:01:23.807Z"
   },
   {
    "duration": 8,
    "start_time": "2023-07-21T11:01:23.871Z"
   },
   {
    "duration": 23,
    "start_time": "2023-07-21T11:01:23.881Z"
   },
   {
    "duration": 11,
    "start_time": "2023-07-21T11:01:23.906Z"
   },
   {
    "duration": 35,
    "start_time": "2023-07-21T11:01:23.920Z"
   },
   {
    "duration": 7,
    "start_time": "2023-07-21T11:01:23.958Z"
   },
   {
    "duration": 81,
    "start_time": "2023-07-21T11:01:23.968Z"
   },
   {
    "duration": 10,
    "start_time": "2023-07-21T11:01:24.052Z"
   },
   {
    "duration": 12,
    "start_time": "2023-07-21T11:01:24.067Z"
   },
   {
    "duration": 42,
    "start_time": "2023-07-21T11:01:24.082Z"
   },
   {
    "duration": 63,
    "start_time": "2023-07-21T11:01:24.126Z"
   },
   {
    "duration": 29,
    "start_time": "2023-07-21T11:01:24.191Z"
   },
   {
    "duration": 5,
    "start_time": "2023-07-21T11:01:24.223Z"
   },
   {
    "duration": 31,
    "start_time": "2023-07-21T11:01:24.230Z"
   },
   {
    "duration": 27,
    "start_time": "2023-07-21T11:01:24.263Z"
   },
   {
    "duration": 7,
    "start_time": "2023-07-21T11:01:24.292Z"
   },
   {
    "duration": 42,
    "start_time": "2023-07-21T11:01:24.301Z"
   },
   {
    "duration": 149,
    "start_time": "2023-07-21T11:01:24.345Z"
   },
   {
    "duration": 0,
    "start_time": "2023-07-21T11:01:24.496Z"
   },
   {
    "duration": 0,
    "start_time": "2023-07-21T11:01:24.497Z"
   },
   {
    "duration": 0,
    "start_time": "2023-07-21T11:01:24.499Z"
   },
   {
    "duration": 0,
    "start_time": "2023-07-21T11:01:24.501Z"
   },
   {
    "duration": 0,
    "start_time": "2023-07-21T11:01:24.502Z"
   },
   {
    "duration": 0,
    "start_time": "2023-07-21T11:01:24.503Z"
   },
   {
    "duration": 0,
    "start_time": "2023-07-21T11:01:24.505Z"
   },
   {
    "duration": 0,
    "start_time": "2023-07-21T11:01:24.505Z"
   },
   {
    "duration": 0,
    "start_time": "2023-07-21T11:01:24.507Z"
   },
   {
    "duration": 0,
    "start_time": "2023-07-21T11:01:24.508Z"
   },
   {
    "duration": 0,
    "start_time": "2023-07-21T11:01:24.510Z"
   },
   {
    "duration": 0,
    "start_time": "2023-07-21T11:01:24.511Z"
   },
   {
    "duration": 0,
    "start_time": "2023-07-21T11:01:24.513Z"
   },
   {
    "duration": 0,
    "start_time": "2023-07-21T11:01:24.514Z"
   },
   {
    "duration": 0,
    "start_time": "2023-07-21T11:01:24.516Z"
   },
   {
    "duration": 3,
    "start_time": "2023-07-21T11:02:25.506Z"
   },
   {
    "duration": 15,
    "start_time": "2023-07-21T11:02:28.640Z"
   },
   {
    "duration": 19,
    "start_time": "2023-07-21T11:02:45.790Z"
   },
   {
    "duration": 32,
    "start_time": "2023-07-21T11:03:14.098Z"
   },
   {
    "duration": 31,
    "start_time": "2023-07-21T11:03:24.204Z"
   },
   {
    "duration": 90,
    "start_time": "2023-07-21T11:03:46.496Z"
   },
   {
    "duration": 17,
    "start_time": "2023-07-21T11:03:46.589Z"
   },
   {
    "duration": 38,
    "start_time": "2023-07-21T11:03:46.608Z"
   },
   {
    "duration": 51,
    "start_time": "2023-07-21T11:03:46.648Z"
   },
   {
    "duration": 69,
    "start_time": "2023-07-21T11:03:46.701Z"
   },
   {
    "duration": 4,
    "start_time": "2023-07-21T11:03:46.779Z"
   },
   {
    "duration": 86,
    "start_time": "2023-07-21T11:03:46.785Z"
   },
   {
    "duration": 41,
    "start_time": "2023-07-21T11:03:46.875Z"
   },
   {
    "duration": 22,
    "start_time": "2023-07-21T11:03:46.918Z"
   },
   {
    "duration": 36,
    "start_time": "2023-07-21T11:03:46.943Z"
   },
   {
    "duration": 45,
    "start_time": "2023-07-21T11:03:46.984Z"
   },
   {
    "duration": 11,
    "start_time": "2023-07-21T11:03:47.031Z"
   },
   {
    "duration": 21,
    "start_time": "2023-07-21T11:03:47.044Z"
   },
   {
    "duration": 38,
    "start_time": "2023-07-21T11:03:47.068Z"
   },
   {
    "duration": 33,
    "start_time": "2023-07-21T11:03:47.108Z"
   },
   {
    "duration": 36,
    "start_time": "2023-07-21T11:03:47.144Z"
   },
   {
    "duration": 8,
    "start_time": "2023-07-21T11:03:47.182Z"
   },
   {
    "duration": 47,
    "start_time": "2023-07-21T11:03:47.192Z"
   },
   {
    "duration": 8,
    "start_time": "2023-07-21T11:03:47.241Z"
   },
   {
    "duration": 29,
    "start_time": "2023-07-21T11:03:47.252Z"
   },
   {
    "duration": 14,
    "start_time": "2023-07-21T11:03:47.282Z"
   },
   {
    "duration": 9,
    "start_time": "2023-07-21T11:03:47.298Z"
   },
   {
    "duration": 32,
    "start_time": "2023-07-21T11:03:47.309Z"
   },
   {
    "duration": 31,
    "start_time": "2023-07-21T11:03:47.344Z"
   },
   {
    "duration": 19,
    "start_time": "2023-07-21T11:03:47.377Z"
   },
   {
    "duration": 23,
    "start_time": "2023-07-21T11:03:47.397Z"
   },
   {
    "duration": 12,
    "start_time": "2023-07-21T11:03:47.423Z"
   },
   {
    "duration": 40,
    "start_time": "2023-07-21T11:03:47.437Z"
   },
   {
    "duration": 33,
    "start_time": "2023-07-21T11:03:47.480Z"
   },
   {
    "duration": 17,
    "start_time": "2023-07-21T11:03:47.515Z"
   },
   {
    "duration": 25,
    "start_time": "2023-07-21T11:03:47.535Z"
   },
   {
    "duration": 11,
    "start_time": "2023-07-21T11:03:47.562Z"
   },
   {
    "duration": 36,
    "start_time": "2023-07-21T11:03:47.575Z"
   },
   {
    "duration": 164,
    "start_time": "2023-07-21T11:03:47.612Z"
   },
   {
    "duration": 0,
    "start_time": "2023-07-21T11:03:47.778Z"
   },
   {
    "duration": 0,
    "start_time": "2023-07-21T11:03:47.780Z"
   },
   {
    "duration": 8,
    "start_time": "2023-07-21T11:04:37.900Z"
   },
   {
    "duration": 96,
    "start_time": "2023-07-21T11:05:01.547Z"
   },
   {
    "duration": 48,
    "start_time": "2023-07-21T11:05:01.646Z"
   },
   {
    "duration": 115,
    "start_time": "2023-07-21T11:05:01.696Z"
   },
   {
    "duration": 69,
    "start_time": "2023-07-21T11:05:01.813Z"
   },
   {
    "duration": 106,
    "start_time": "2023-07-21T11:05:01.885Z"
   },
   {
    "duration": 136,
    "start_time": "2023-07-21T11:05:01.993Z"
   },
   {
    "duration": 73,
    "start_time": "2023-07-21T11:05:02.131Z"
   },
   {
    "duration": 84,
    "start_time": "2023-07-21T11:05:02.206Z"
   },
   {
    "duration": 64,
    "start_time": "2023-07-21T11:05:02.293Z"
   },
   {
    "duration": 64,
    "start_time": "2023-07-21T11:05:02.359Z"
   },
   {
    "duration": 147,
    "start_time": "2023-07-21T11:05:02.424Z"
   },
   {
    "duration": 111,
    "start_time": "2023-07-21T11:05:02.578Z"
   },
   {
    "duration": 84,
    "start_time": "2023-07-21T11:05:02.691Z"
   },
   {
    "duration": 29,
    "start_time": "2023-07-21T11:05:02.780Z"
   },
   {
    "duration": 29,
    "start_time": "2023-07-21T11:05:02.811Z"
   },
   {
    "duration": 42,
    "start_time": "2023-07-21T11:05:02.842Z"
   },
   {
    "duration": 4,
    "start_time": "2023-07-21T11:05:02.887Z"
   },
   {
    "duration": 43,
    "start_time": "2023-07-21T11:05:02.894Z"
   },
   {
    "duration": 48,
    "start_time": "2023-07-21T11:05:02.939Z"
   },
   {
    "duration": 14,
    "start_time": "2023-07-21T11:05:02.990Z"
   },
   {
    "duration": 22,
    "start_time": "2023-07-21T11:05:03.006Z"
   },
   {
    "duration": 23,
    "start_time": "2023-07-21T11:05:03.030Z"
   },
   {
    "duration": 55,
    "start_time": "2023-07-21T11:05:03.054Z"
   },
   {
    "duration": 14,
    "start_time": "2023-07-21T11:05:03.111Z"
   },
   {
    "duration": 35,
    "start_time": "2023-07-21T11:05:03.127Z"
   },
   {
    "duration": 32,
    "start_time": "2023-07-21T11:05:03.164Z"
   },
   {
    "duration": 3,
    "start_time": "2023-07-21T11:05:03.199Z"
   },
   {
    "duration": 23,
    "start_time": "2023-07-21T11:05:03.204Z"
   },
   {
    "duration": 34,
    "start_time": "2023-07-21T11:05:03.230Z"
   },
   {
    "duration": 46,
    "start_time": "2023-07-21T11:05:03.266Z"
   },
   {
    "duration": 35,
    "start_time": "2023-07-21T11:05:03.314Z"
   },
   {
    "duration": 28,
    "start_time": "2023-07-21T11:05:03.351Z"
   },
   {
    "duration": 54,
    "start_time": "2023-07-21T11:05:03.381Z"
   },
   {
    "duration": 67,
    "start_time": "2023-07-21T11:05:03.437Z"
   },
   {
    "duration": 81,
    "start_time": "2023-07-21T11:05:03.506Z"
   },
   {
    "duration": 50,
    "start_time": "2023-07-21T11:05:03.589Z"
   },
   {
    "duration": 684,
    "start_time": "2023-07-22T08:38:08.737Z"
   },
   {
    "duration": 43,
    "start_time": "2023-07-22T08:38:09.430Z"
   },
   {
    "duration": 44,
    "start_time": "2023-07-22T08:38:09.486Z"
   },
   {
    "duration": 9,
    "start_time": "2023-07-22T08:38:09.532Z"
   },
   {
    "duration": 71,
    "start_time": "2023-07-22T08:38:09.544Z"
   },
   {
    "duration": 4,
    "start_time": "2023-07-22T08:38:09.619Z"
   },
   {
    "duration": 12,
    "start_time": "2023-07-22T08:38:09.625Z"
   },
   {
    "duration": 7,
    "start_time": "2023-07-22T08:38:09.638Z"
   },
   {
    "duration": 273,
    "start_time": "2023-07-22T08:38:09.646Z"
   },
   {
    "duration": 7,
    "start_time": "2023-07-22T08:38:09.921Z"
   },
   {
    "duration": 64,
    "start_time": "2023-07-22T08:38:09.930Z"
   },
   {
    "duration": 21,
    "start_time": "2023-07-22T08:38:09.996Z"
   },
   {
    "duration": 19,
    "start_time": "2023-07-22T08:38:10.021Z"
   },
   {
    "duration": 36,
    "start_time": "2023-07-22T08:38:10.043Z"
   },
   {
    "duration": 60,
    "start_time": "2023-07-22T08:38:10.087Z"
   },
   {
    "duration": 36,
    "start_time": "2023-07-22T08:38:10.148Z"
   },
   {
    "duration": 41,
    "start_time": "2023-07-22T08:38:10.186Z"
   },
   {
    "duration": 14,
    "start_time": "2023-07-22T08:38:10.229Z"
   },
   {
    "duration": 6,
    "start_time": "2023-07-22T08:38:10.244Z"
   },
   {
    "duration": 47,
    "start_time": "2023-07-22T08:38:10.258Z"
   },
   {
    "duration": 29,
    "start_time": "2023-07-22T08:38:10.307Z"
   },
   {
    "duration": 10,
    "start_time": "2023-07-22T08:38:10.338Z"
   },
   {
    "duration": 41,
    "start_time": "2023-07-22T08:38:10.349Z"
   },
   {
    "duration": 48,
    "start_time": "2023-07-22T08:38:10.392Z"
   },
   {
    "duration": 6,
    "start_time": "2023-07-22T08:38:10.442Z"
   },
   {
    "duration": 86,
    "start_time": "2023-07-22T08:38:10.450Z"
   },
   {
    "duration": 3,
    "start_time": "2023-07-22T08:38:10.537Z"
   },
   {
    "duration": 40,
    "start_time": "2023-07-22T08:38:10.543Z"
   },
   {
    "duration": 33,
    "start_time": "2023-07-22T08:38:10.592Z"
   },
   {
    "duration": 6,
    "start_time": "2023-07-22T08:38:10.627Z"
   },
   {
    "duration": 32,
    "start_time": "2023-07-22T08:38:10.635Z"
   },
   {
    "duration": 46,
    "start_time": "2023-07-22T08:38:10.669Z"
   },
   {
    "duration": 31,
    "start_time": "2023-07-22T08:38:10.719Z"
   },
   {
    "duration": 7,
    "start_time": "2023-07-22T08:38:10.752Z"
   },
   {
    "duration": 177,
    "start_time": "2023-07-22T08:38:10.768Z"
   },
   {
    "duration": 0,
    "start_time": "2023-07-22T08:38:10.947Z"
   },
   {
    "duration": 52,
    "start_time": "2023-07-22T11:07:03.359Z"
   },
   {
    "duration": 8,
    "start_time": "2023-07-22T11:07:25.753Z"
   },
   {
    "duration": 8,
    "start_time": "2023-07-22T11:09:57.542Z"
   },
   {
    "duration": 554,
    "start_time": "2023-07-22T11:10:05.632Z"
   },
   {
    "duration": 35,
    "start_time": "2023-07-22T11:10:06.189Z"
   },
   {
    "duration": 18,
    "start_time": "2023-07-22T11:10:06.226Z"
   },
   {
    "duration": 25,
    "start_time": "2023-07-22T11:10:06.246Z"
   },
   {
    "duration": 36,
    "start_time": "2023-07-22T11:10:06.274Z"
   },
   {
    "duration": 4,
    "start_time": "2023-07-22T11:10:06.312Z"
   },
   {
    "duration": 43,
    "start_time": "2023-07-22T11:10:06.317Z"
   },
   {
    "duration": 7,
    "start_time": "2023-07-22T11:10:06.362Z"
   },
   {
    "duration": 36,
    "start_time": "2023-07-22T11:10:06.371Z"
   },
   {
    "duration": 8,
    "start_time": "2023-07-22T11:10:06.410Z"
   },
   {
    "duration": 57,
    "start_time": "2023-07-22T11:10:06.420Z"
   },
   {
    "duration": 13,
    "start_time": "2023-07-22T11:10:06.479Z"
   },
   {
    "duration": 16,
    "start_time": "2023-07-22T11:10:06.495Z"
   },
   {
    "duration": 32,
    "start_time": "2023-07-22T11:10:06.514Z"
   },
   {
    "duration": 35,
    "start_time": "2023-07-22T11:10:06.549Z"
   },
   {
    "duration": 57,
    "start_time": "2023-07-22T11:10:06.586Z"
   },
   {
    "duration": 5,
    "start_time": "2023-07-22T11:10:06.645Z"
   },
   {
    "duration": 39,
    "start_time": "2023-07-22T11:10:06.652Z"
   },
   {
    "duration": 13,
    "start_time": "2023-07-22T11:10:06.693Z"
   },
   {
    "duration": 11,
    "start_time": "2023-07-22T11:10:06.708Z"
   },
   {
    "duration": 22,
    "start_time": "2023-07-22T11:10:06.721Z"
   },
   {
    "duration": 4,
    "start_time": "2023-07-22T11:10:06.745Z"
   },
   {
    "duration": 25,
    "start_time": "2023-07-22T11:10:06.751Z"
   },
   {
    "duration": 16,
    "start_time": "2023-07-22T11:10:06.777Z"
   },
   {
    "duration": 10,
    "start_time": "2023-07-22T11:10:06.795Z"
   },
   {
    "duration": 19,
    "start_time": "2023-07-22T11:10:06.807Z"
   },
   {
    "duration": 3,
    "start_time": "2023-07-22T11:10:06.828Z"
   },
   {
    "duration": 37,
    "start_time": "2023-07-22T11:10:06.834Z"
   },
   {
    "duration": 3,
    "start_time": "2023-07-22T11:10:06.873Z"
   },
   {
    "duration": 5,
    "start_time": "2023-07-22T11:10:06.877Z"
   },
   {
    "duration": 22,
    "start_time": "2023-07-22T11:10:06.885Z"
   },
   {
    "duration": 3,
    "start_time": "2023-07-22T11:10:06.909Z"
   },
   {
    "duration": 58,
    "start_time": "2023-07-22T11:10:06.913Z"
   },
   {
    "duration": 10,
    "start_time": "2023-07-22T11:10:06.974Z"
   },
   {
    "duration": 81,
    "start_time": "2023-07-22T11:10:06.986Z"
   },
   {
    "duration": 0,
    "start_time": "2023-07-22T11:10:07.069Z"
   },
   {
    "duration": 822,
    "start_time": "2023-07-23T05:21:53.382Z"
   },
   {
    "duration": 41,
    "start_time": "2023-07-23T05:21:54.206Z"
   },
   {
    "duration": 41,
    "start_time": "2023-07-23T05:21:54.249Z"
   },
   {
    "duration": 10,
    "start_time": "2023-07-23T05:21:54.292Z"
   },
   {
    "duration": 49,
    "start_time": "2023-07-23T05:21:54.305Z"
   },
   {
    "duration": 4,
    "start_time": "2023-07-23T05:21:54.356Z"
   },
   {
    "duration": 30,
    "start_time": "2023-07-23T05:21:54.362Z"
   },
   {
    "duration": 4,
    "start_time": "2023-07-23T05:21:54.394Z"
   },
   {
    "duration": 17,
    "start_time": "2023-07-23T05:21:54.399Z"
   },
   {
    "duration": 38,
    "start_time": "2023-07-23T05:21:54.418Z"
   },
   {
    "duration": 47,
    "start_time": "2023-07-23T05:21:54.458Z"
   },
   {
    "duration": 9,
    "start_time": "2023-07-23T05:21:54.506Z"
   },
   {
    "duration": 11,
    "start_time": "2023-07-23T05:21:54.517Z"
   },
   {
    "duration": 62,
    "start_time": "2023-07-23T05:21:54.530Z"
   },
   {
    "duration": 22,
    "start_time": "2023-07-23T05:21:54.593Z"
   },
   {
    "duration": 28,
    "start_time": "2023-07-23T05:21:54.617Z"
   },
   {
    "duration": 26,
    "start_time": "2023-07-23T05:21:54.654Z"
   },
   {
    "duration": 11,
    "start_time": "2023-07-23T05:21:54.682Z"
   },
   {
    "duration": 6,
    "start_time": "2023-07-23T05:21:54.695Z"
   },
   {
    "duration": 4,
    "start_time": "2023-07-23T05:21:54.702Z"
   },
   {
    "duration": 12,
    "start_time": "2023-07-23T05:21:54.707Z"
   },
   {
    "duration": 68,
    "start_time": "2023-07-23T05:21:54.724Z"
   },
   {
    "duration": 16,
    "start_time": "2023-07-23T05:21:54.793Z"
   },
   {
    "duration": 34,
    "start_time": "2023-07-23T05:21:54.811Z"
   },
   {
    "duration": 52,
    "start_time": "2023-07-23T05:21:54.847Z"
   },
   {
    "duration": 11,
    "start_time": "2023-07-23T05:21:54.902Z"
   },
   {
    "duration": 78,
    "start_time": "2023-07-23T05:21:54.915Z"
   },
   {
    "duration": 10,
    "start_time": "2023-07-23T05:21:54.995Z"
   },
   {
    "duration": 54,
    "start_time": "2023-07-23T05:21:55.006Z"
   },
   {
    "duration": 39,
    "start_time": "2023-07-23T05:21:55.064Z"
   },
   {
    "duration": 55,
    "start_time": "2023-07-23T05:21:55.111Z"
   },
   {
    "duration": 27,
    "start_time": "2023-07-23T05:21:55.168Z"
   },
   {
    "duration": 119,
    "start_time": "2023-07-23T05:21:55.197Z"
   },
   {
    "duration": 0,
    "start_time": "2023-07-23T05:21:55.318Z"
   },
   {
    "duration": 35,
    "start_time": "2023-07-23T05:22:26.649Z"
   },
   {
    "duration": 44,
    "start_time": "2023-07-23T06:26:12.551Z"
   },
   {
    "duration": 11,
    "start_time": "2023-07-23T06:29:03.689Z"
   },
   {
    "duration": 17,
    "start_time": "2023-07-23T06:30:14.978Z"
   },
   {
    "duration": 17,
    "start_time": "2023-07-23T06:30:19.521Z"
   },
   {
    "duration": 19,
    "start_time": "2023-07-23T06:30:32.229Z"
   },
   {
    "duration": 3,
    "start_time": "2023-07-23T06:31:07.267Z"
   },
   {
    "duration": 14,
    "start_time": "2023-07-23T06:31:54.307Z"
   },
   {
    "duration": 15,
    "start_time": "2023-07-23T06:32:11.555Z"
   },
   {
    "duration": 12,
    "start_time": "2023-07-23T06:33:25.687Z"
   },
   {
    "duration": 13,
    "start_time": "2023-07-23T06:33:30.788Z"
   },
   {
    "duration": 20,
    "start_time": "2023-07-23T06:33:54.868Z"
   },
   {
    "duration": 12,
    "start_time": "2023-07-23T06:34:03.907Z"
   },
   {
    "duration": 15,
    "start_time": "2023-07-23T06:34:30.378Z"
   },
   {
    "duration": 16,
    "start_time": "2023-07-23T06:34:36.137Z"
   },
   {
    "duration": 12,
    "start_time": "2023-07-23T06:34:43.498Z"
   },
   {
    "duration": 14,
    "start_time": "2023-07-23T06:35:25.958Z"
   },
   {
    "duration": 16,
    "start_time": "2023-07-23T06:35:41.732Z"
   },
   {
    "duration": 85,
    "start_time": "2023-07-23T06:35:58.507Z"
   },
   {
    "duration": 13,
    "start_time": "2023-07-23T06:35:58.593Z"
   },
   {
    "duration": 24,
    "start_time": "2023-07-23T06:35:58.607Z"
   },
   {
    "duration": 14,
    "start_time": "2023-07-23T06:35:58.636Z"
   },
   {
    "duration": 33,
    "start_time": "2023-07-23T06:35:58.653Z"
   },
   {
    "duration": 3,
    "start_time": "2023-07-23T06:35:58.688Z"
   },
   {
    "duration": 14,
    "start_time": "2023-07-23T06:35:58.692Z"
   },
   {
    "duration": 14,
    "start_time": "2023-07-23T06:35:58.707Z"
   },
   {
    "duration": 20,
    "start_time": "2023-07-23T06:35:58.725Z"
   },
   {
    "duration": 5,
    "start_time": "2023-07-23T06:35:58.747Z"
   },
   {
    "duration": 35,
    "start_time": "2023-07-23T06:35:58.754Z"
   },
   {
    "duration": 8,
    "start_time": "2023-07-23T06:35:58.791Z"
   },
   {
    "duration": 4,
    "start_time": "2023-07-23T06:35:58.800Z"
   },
   {
    "duration": 18,
    "start_time": "2023-07-23T06:35:58.808Z"
   },
   {
    "duration": 25,
    "start_time": "2023-07-23T06:35:58.828Z"
   },
   {
    "duration": 16,
    "start_time": "2023-07-23T06:35:58.855Z"
   },
   {
    "duration": 4,
    "start_time": "2023-07-23T06:35:58.872Z"
   },
   {
    "duration": 11,
    "start_time": "2023-07-23T06:35:58.878Z"
   },
   {
    "duration": 5,
    "start_time": "2023-07-23T06:35:58.891Z"
   },
   {
    "duration": 36,
    "start_time": "2023-07-23T06:35:58.898Z"
   },
   {
    "duration": 13,
    "start_time": "2023-07-23T06:35:58.935Z"
   },
   {
    "duration": 14,
    "start_time": "2023-07-23T06:35:58.949Z"
   },
   {
    "duration": 10,
    "start_time": "2023-07-23T06:35:58.964Z"
   },
   {
    "duration": 4,
    "start_time": "2023-07-23T06:35:58.975Z"
   },
   {
    "duration": 16,
    "start_time": "2023-07-23T06:35:58.980Z"
   },
   {
    "duration": 65,
    "start_time": "2023-07-23T06:35:58.998Z"
   },
   {
    "duration": 0,
    "start_time": "2023-07-23T06:35:59.065Z"
   },
   {
    "duration": 0,
    "start_time": "2023-07-23T06:35:59.066Z"
   },
   {
    "duration": 0,
    "start_time": "2023-07-23T06:35:59.068Z"
   },
   {
    "duration": 0,
    "start_time": "2023-07-23T06:35:59.069Z"
   },
   {
    "duration": 0,
    "start_time": "2023-07-23T06:35:59.070Z"
   },
   {
    "duration": 0,
    "start_time": "2023-07-23T06:35:59.072Z"
   },
   {
    "duration": 0,
    "start_time": "2023-07-23T06:35:59.073Z"
   },
   {
    "duration": 0,
    "start_time": "2023-07-23T06:35:59.074Z"
   },
   {
    "duration": 0,
    "start_time": "2023-07-23T06:35:59.075Z"
   },
   {
    "duration": 80,
    "start_time": "2023-07-23T06:36:14.608Z"
   },
   {
    "duration": 15,
    "start_time": "2023-07-23T06:36:14.690Z"
   },
   {
    "duration": 54,
    "start_time": "2023-07-23T06:36:14.707Z"
   },
   {
    "duration": 21,
    "start_time": "2023-07-23T06:36:14.765Z"
   },
   {
    "duration": 73,
    "start_time": "2023-07-23T06:36:14.788Z"
   },
   {
    "duration": 9,
    "start_time": "2023-07-23T06:36:14.863Z"
   },
   {
    "duration": 27,
    "start_time": "2023-07-23T06:36:14.875Z"
   },
   {
    "duration": 43,
    "start_time": "2023-07-23T06:36:14.905Z"
   },
   {
    "duration": 26,
    "start_time": "2023-07-23T06:36:14.950Z"
   },
   {
    "duration": 25,
    "start_time": "2023-07-23T06:36:14.978Z"
   },
   {
    "duration": 93,
    "start_time": "2023-07-23T06:36:15.005Z"
   },
   {
    "duration": 37,
    "start_time": "2023-07-23T06:36:15.099Z"
   },
   {
    "duration": 21,
    "start_time": "2023-07-23T06:36:15.137Z"
   },
   {
    "duration": 28,
    "start_time": "2023-07-23T06:36:15.161Z"
   },
   {
    "duration": 68,
    "start_time": "2023-07-23T06:36:15.191Z"
   },
   {
    "duration": 17,
    "start_time": "2023-07-23T06:36:15.261Z"
   },
   {
    "duration": 22,
    "start_time": "2023-07-23T06:36:15.280Z"
   },
   {
    "duration": 77,
    "start_time": "2023-07-23T06:36:15.303Z"
   },
   {
    "duration": 55,
    "start_time": "2023-07-23T06:36:15.382Z"
   },
   {
    "duration": 23,
    "start_time": "2023-07-23T06:36:15.439Z"
   },
   {
    "duration": 37,
    "start_time": "2023-07-23T06:36:15.464Z"
   },
   {
    "duration": 72,
    "start_time": "2023-07-23T06:36:15.502Z"
   },
   {
    "duration": 32,
    "start_time": "2023-07-23T06:36:15.576Z"
   },
   {
    "duration": 44,
    "start_time": "2023-07-23T06:36:15.610Z"
   },
   {
    "duration": 52,
    "start_time": "2023-07-23T06:36:15.656Z"
   },
   {
    "duration": 106,
    "start_time": "2023-07-23T06:36:15.710Z"
   },
   {
    "duration": 0,
    "start_time": "2023-07-23T06:36:15.818Z"
   },
   {
    "duration": 0,
    "start_time": "2023-07-23T06:36:15.819Z"
   },
   {
    "duration": 0,
    "start_time": "2023-07-23T06:36:15.820Z"
   },
   {
    "duration": 0,
    "start_time": "2023-07-23T06:36:15.823Z"
   },
   {
    "duration": 0,
    "start_time": "2023-07-23T06:36:15.824Z"
   },
   {
    "duration": 0,
    "start_time": "2023-07-23T06:36:15.824Z"
   },
   {
    "duration": 0,
    "start_time": "2023-07-23T06:36:15.828Z"
   },
   {
    "duration": 0,
    "start_time": "2023-07-23T06:36:15.829Z"
   },
   {
    "duration": 1,
    "start_time": "2023-07-23T06:36:15.830Z"
   },
   {
    "duration": 27,
    "start_time": "2023-07-23T06:36:28.507Z"
   },
   {
    "duration": 9,
    "start_time": "2023-07-23T06:36:53.837Z"
   },
   {
    "duration": 66,
    "start_time": "2023-07-23T06:37:20.238Z"
   },
   {
    "duration": 15,
    "start_time": "2023-07-23T06:37:20.306Z"
   },
   {
    "duration": 31,
    "start_time": "2023-07-23T06:37:20.328Z"
   },
   {
    "duration": 19,
    "start_time": "2023-07-23T06:37:20.361Z"
   },
   {
    "duration": 43,
    "start_time": "2023-07-23T06:37:20.383Z"
   },
   {
    "duration": 5,
    "start_time": "2023-07-23T06:37:20.430Z"
   },
   {
    "duration": 39,
    "start_time": "2023-07-23T06:37:20.437Z"
   },
   {
    "duration": 26,
    "start_time": "2023-07-23T06:37:20.477Z"
   },
   {
    "duration": 53,
    "start_time": "2023-07-23T06:37:20.504Z"
   },
   {
    "duration": 32,
    "start_time": "2023-07-23T06:37:20.559Z"
   },
   {
    "duration": 56,
    "start_time": "2023-07-23T06:37:20.592Z"
   },
   {
    "duration": 9,
    "start_time": "2023-07-23T06:37:20.650Z"
   },
   {
    "duration": 16,
    "start_time": "2023-07-23T06:37:20.660Z"
   },
   {
    "duration": 32,
    "start_time": "2023-07-23T06:37:20.680Z"
   },
   {
    "duration": 79,
    "start_time": "2023-07-23T06:37:20.713Z"
   },
   {
    "duration": 16,
    "start_time": "2023-07-23T06:37:20.794Z"
   },
   {
    "duration": 7,
    "start_time": "2023-07-23T06:37:20.811Z"
   },
   {
    "duration": 35,
    "start_time": "2023-07-23T06:37:20.819Z"
   },
   {
    "duration": 5,
    "start_time": "2023-07-23T06:37:20.856Z"
   },
   {
    "duration": 20,
    "start_time": "2023-07-23T06:37:20.862Z"
   },
   {
    "duration": 25,
    "start_time": "2023-07-23T06:37:20.883Z"
   },
   {
    "duration": 49,
    "start_time": "2023-07-23T06:37:20.909Z"
   },
   {
    "duration": 16,
    "start_time": "2023-07-23T06:37:20.960Z"
   },
   {
    "duration": 23,
    "start_time": "2023-07-23T06:37:20.978Z"
   },
   {
    "duration": 59,
    "start_time": "2023-07-23T06:37:21.002Z"
   },
   {
    "duration": 33,
    "start_time": "2023-07-23T06:37:21.063Z"
   },
   {
    "duration": 56,
    "start_time": "2023-07-23T06:37:21.098Z"
   },
   {
    "duration": 80,
    "start_time": "2023-07-23T06:37:21.155Z"
   },
   {
    "duration": 0,
    "start_time": "2023-07-23T06:37:21.237Z"
   },
   {
    "duration": 0,
    "start_time": "2023-07-23T06:37:21.240Z"
   },
   {
    "duration": 0,
    "start_time": "2023-07-23T06:37:21.242Z"
   },
   {
    "duration": 0,
    "start_time": "2023-07-23T06:37:21.242Z"
   },
   {
    "duration": 0,
    "start_time": "2023-07-23T06:37:21.244Z"
   },
   {
    "duration": 0,
    "start_time": "2023-07-23T06:37:21.245Z"
   },
   {
    "duration": 11,
    "start_time": "2023-07-23T06:38:31.888Z"
   },
   {
    "duration": 12,
    "start_time": "2023-07-23T06:38:57.279Z"
   },
   {
    "duration": 16,
    "start_time": "2023-07-23T06:38:57.293Z"
   },
   {
    "duration": 43,
    "start_time": "2023-07-23T06:38:57.311Z"
   },
   {
    "duration": 40,
    "start_time": "2023-07-23T06:38:57.356Z"
   },
   {
    "duration": 13,
    "start_time": "2023-07-23T06:38:57.397Z"
   },
   {
    "duration": 67,
    "start_time": "2023-07-23T06:38:57.412Z"
   },
   {
    "duration": 45,
    "start_time": "2023-07-23T06:38:57.480Z"
   },
   {
    "duration": 77,
    "start_time": "2023-07-23T06:39:08.679Z"
   },
   {
    "duration": 15,
    "start_time": "2023-07-23T06:39:08.758Z"
   },
   {
    "duration": 49,
    "start_time": "2023-07-23T06:39:08.775Z"
   },
   {
    "duration": 82,
    "start_time": "2023-07-23T06:39:08.828Z"
   },
   {
    "duration": 62,
    "start_time": "2023-07-23T06:39:08.913Z"
   },
   {
    "duration": 4,
    "start_time": "2023-07-23T06:39:08.976Z"
   },
   {
    "duration": 25,
    "start_time": "2023-07-23T06:39:08.982Z"
   },
   {
    "duration": 9,
    "start_time": "2023-07-23T06:39:09.009Z"
   },
   {
    "duration": 28,
    "start_time": "2023-07-23T06:39:09.022Z"
   },
   {
    "duration": 12,
    "start_time": "2023-07-23T06:39:09.051Z"
   },
   {
    "duration": 48,
    "start_time": "2023-07-23T06:39:09.065Z"
   },
   {
    "duration": 24,
    "start_time": "2023-07-23T06:39:09.115Z"
   },
   {
    "duration": 16,
    "start_time": "2023-07-23T06:39:09.141Z"
   },
   {
    "duration": 28,
    "start_time": "2023-07-23T06:39:09.162Z"
   },
   {
    "duration": 38,
    "start_time": "2023-07-23T06:39:09.192Z"
   },
   {
    "duration": 17,
    "start_time": "2023-07-23T06:39:09.231Z"
   },
   {
    "duration": 11,
    "start_time": "2023-07-23T06:39:09.249Z"
   },
   {
    "duration": 41,
    "start_time": "2023-07-23T06:39:09.261Z"
   },
   {
    "duration": 51,
    "start_time": "2023-07-23T06:39:09.304Z"
   },
   {
    "duration": 16,
    "start_time": "2023-07-23T06:39:09.357Z"
   },
   {
    "duration": 16,
    "start_time": "2023-07-23T06:39:09.375Z"
   },
   {
    "duration": 19,
    "start_time": "2023-07-23T06:39:09.393Z"
   },
   {
    "duration": 25,
    "start_time": "2023-07-23T06:39:09.413Z"
   },
   {
    "duration": 5,
    "start_time": "2023-07-23T06:39:09.439Z"
   },
   {
    "duration": 17,
    "start_time": "2023-07-23T06:39:09.446Z"
   },
   {
    "duration": 2,
    "start_time": "2023-07-23T06:39:09.465Z"
   },
   {
    "duration": 60,
    "start_time": "2023-07-23T06:39:09.469Z"
   },
   {
    "duration": 50,
    "start_time": "2023-07-23T06:39:09.533Z"
   },
   {
    "duration": 3,
    "start_time": "2023-07-23T06:39:09.584Z"
   },
   {
    "duration": 21,
    "start_time": "2023-07-23T06:39:09.588Z"
   },
   {
    "duration": 26,
    "start_time": "2023-07-23T06:39:09.611Z"
   },
   {
    "duration": 44,
    "start_time": "2023-07-23T06:39:09.639Z"
   },
   {
    "duration": 24,
    "start_time": "2023-07-23T06:39:09.685Z"
   },
   {
    "duration": 17,
    "start_time": "2023-07-23T06:39:55.097Z"
   },
   {
    "duration": 13,
    "start_time": "2023-07-23T06:42:32.588Z"
   },
   {
    "duration": 9,
    "start_time": "2023-07-23T06:42:57.900Z"
   },
   {
    "duration": 5,
    "start_time": "2023-07-23T06:44:18.178Z"
   },
   {
    "duration": 6,
    "start_time": "2023-07-23T06:44:27.888Z"
   },
   {
    "duration": 9,
    "start_time": "2023-07-23T06:44:37.831Z"
   },
   {
    "duration": 13,
    "start_time": "2023-07-23T06:45:08.549Z"
   },
   {
    "duration": 13,
    "start_time": "2023-07-23T06:45:37.530Z"
   },
   {
    "duration": 13,
    "start_time": "2023-07-23T06:45:45.400Z"
   },
   {
    "duration": 11,
    "start_time": "2023-07-23T06:45:50.280Z"
   },
   {
    "duration": 15,
    "start_time": "2023-07-23T06:46:59.931Z"
   },
   {
    "duration": 11,
    "start_time": "2023-07-23T06:47:18.989Z"
   },
   {
    "duration": 16,
    "start_time": "2023-07-23T06:48:51.067Z"
   },
   {
    "duration": 15,
    "start_time": "2023-07-23T06:52:04.390Z"
   },
   {
    "duration": 12,
    "start_time": "2023-07-23T06:55:15.680Z"
   },
   {
    "duration": 71,
    "start_time": "2023-07-23T06:55:30.171Z"
   },
   {
    "duration": 14,
    "start_time": "2023-07-23T06:55:30.244Z"
   },
   {
    "duration": 66,
    "start_time": "2023-07-23T06:55:30.260Z"
   },
   {
    "duration": 62,
    "start_time": "2023-07-23T06:55:30.331Z"
   },
   {
    "duration": 67,
    "start_time": "2023-07-23T06:55:30.395Z"
   },
   {
    "duration": 29,
    "start_time": "2023-07-23T06:55:30.464Z"
   },
   {
    "duration": 48,
    "start_time": "2023-07-23T06:55:30.495Z"
   },
   {
    "duration": 54,
    "start_time": "2023-07-23T06:55:30.545Z"
   },
   {
    "duration": 130,
    "start_time": "2023-07-23T06:55:30.601Z"
   },
   {
    "duration": 74,
    "start_time": "2023-07-23T06:55:30.733Z"
   },
   {
    "duration": 241,
    "start_time": "2023-07-23T06:55:30.808Z"
   },
   {
    "duration": 31,
    "start_time": "2023-07-23T06:55:31.051Z"
   },
   {
    "duration": 66,
    "start_time": "2023-07-23T06:55:31.083Z"
   },
   {
    "duration": 31,
    "start_time": "2023-07-23T06:55:31.152Z"
   },
   {
    "duration": 63,
    "start_time": "2023-07-23T06:55:31.184Z"
   },
   {
    "duration": 61,
    "start_time": "2023-07-23T06:55:31.249Z"
   },
   {
    "duration": 61,
    "start_time": "2023-07-23T06:55:31.313Z"
   },
   {
    "duration": 64,
    "start_time": "2023-07-23T06:55:31.375Z"
   },
   {
    "duration": 69,
    "start_time": "2023-07-23T06:55:31.440Z"
   },
   {
    "duration": 300,
    "start_time": "2023-07-23T06:55:31.511Z"
   },
   {
    "duration": 38,
    "start_time": "2023-07-23T06:55:31.813Z"
   },
   {
    "duration": 50,
    "start_time": "2023-07-23T06:55:31.853Z"
   },
   {
    "duration": 58,
    "start_time": "2023-07-23T06:55:31.904Z"
   },
   {
    "duration": 24,
    "start_time": "2023-07-23T06:55:31.964Z"
   },
   {
    "duration": 63,
    "start_time": "2023-07-23T06:55:31.989Z"
   },
   {
    "duration": 37,
    "start_time": "2023-07-23T06:55:32.053Z"
   },
   {
    "duration": 45,
    "start_time": "2023-07-23T06:55:32.091Z"
   },
   {
    "duration": 30,
    "start_time": "2023-07-23T06:55:32.141Z"
   },
   {
    "duration": 29,
    "start_time": "2023-07-23T06:55:32.173Z"
   },
   {
    "duration": 54,
    "start_time": "2023-07-23T06:55:32.204Z"
   },
   {
    "duration": 24,
    "start_time": "2023-07-23T06:55:32.260Z"
   },
   {
    "duration": 55,
    "start_time": "2023-07-23T06:55:32.286Z"
   },
   {
    "duration": 35,
    "start_time": "2023-07-23T06:55:32.343Z"
   },
   {
    "duration": 149,
    "start_time": "2023-07-23T06:55:32.381Z"
   },
   {
    "duration": 106,
    "start_time": "2023-07-23T06:55:32.532Z"
   },
   {
    "duration": 10,
    "start_time": "2023-07-23T06:56:08.260Z"
   },
   {
    "duration": 18,
    "start_time": "2023-07-23T07:02:57.756Z"
   },
   {
    "duration": 4,
    "start_time": "2023-07-23T07:04:57.437Z"
   },
   {
    "duration": 29,
    "start_time": "2023-07-23T07:05:02.604Z"
   },
   {
    "duration": 19,
    "start_time": "2023-07-23T07:05:39.561Z"
   },
   {
    "duration": 7,
    "start_time": "2023-07-23T07:08:16.498Z"
   },
   {
    "duration": 129,
    "start_time": "2023-07-23T07:11:17.518Z"
   },
   {
    "duration": 408,
    "start_time": "2023-07-23T07:11:24.136Z"
   },
   {
    "duration": 456,
    "start_time": "2023-07-23T07:11:46.120Z"
   },
   {
    "duration": 376,
    "start_time": "2023-07-23T07:11:58.904Z"
   },
   {
    "duration": 350,
    "start_time": "2023-07-23T07:12:45.753Z"
   },
   {
    "duration": 22,
    "start_time": "2023-07-23T07:15:28.651Z"
   },
   {
    "duration": 24,
    "start_time": "2023-07-23T07:17:45.407Z"
   },
   {
    "duration": 133,
    "start_time": "2023-07-23T07:20:03.805Z"
   },
   {
    "duration": 39,
    "start_time": "2023-07-23T07:22:06.513Z"
   },
   {
    "duration": 25,
    "start_time": "2023-07-23T07:23:43.779Z"
   },
   {
    "duration": 1328,
    "start_time": "2023-07-23T07:24:09.482Z"
   },
   {
    "duration": 33,
    "start_time": "2023-07-23T07:24:38.782Z"
   },
   {
    "duration": 28,
    "start_time": "2023-07-23T07:27:04.161Z"
   },
   {
    "duration": 36,
    "start_time": "2023-07-23T07:27:12.759Z"
   },
   {
    "duration": 29,
    "start_time": "2023-07-23T07:27:59.978Z"
   },
   {
    "duration": 28,
    "start_time": "2023-07-23T07:28:05.155Z"
   },
   {
    "duration": 36,
    "start_time": "2023-07-23T07:29:13.148Z"
   },
   {
    "duration": 38,
    "start_time": "2023-07-23T07:33:37.994Z"
   },
   {
    "duration": 4,
    "start_time": "2023-07-23T07:37:30.039Z"
   },
   {
    "duration": 35,
    "start_time": "2023-07-23T07:38:16.069Z"
   },
   {
    "duration": 20,
    "start_time": "2023-07-23T07:40:09.364Z"
   },
   {
    "duration": 19,
    "start_time": "2023-07-23T10:20:58.050Z"
   },
   {
    "duration": 14,
    "start_time": "2023-07-23T10:21:52.538Z"
   },
   {
    "duration": 70,
    "start_time": "2023-07-23T10:22:57.917Z"
   },
   {
    "duration": 14,
    "start_time": "2023-07-23T10:22:57.989Z"
   },
   {
    "duration": 55,
    "start_time": "2023-07-23T10:22:58.005Z"
   },
   {
    "duration": 39,
    "start_time": "2023-07-23T10:22:58.061Z"
   },
   {
    "duration": 70,
    "start_time": "2023-07-23T10:22:58.102Z"
   },
   {
    "duration": 24,
    "start_time": "2023-07-23T10:22:58.173Z"
   },
   {
    "duration": 52,
    "start_time": "2023-07-23T10:22:58.199Z"
   },
   {
    "duration": 41,
    "start_time": "2023-07-23T10:22:58.252Z"
   },
   {
    "duration": 50,
    "start_time": "2023-07-23T10:22:58.295Z"
   },
   {
    "duration": 49,
    "start_time": "2023-07-23T10:22:58.347Z"
   },
   {
    "duration": 60,
    "start_time": "2023-07-23T10:22:58.398Z"
   },
   {
    "duration": 43,
    "start_time": "2023-07-23T10:22:58.460Z"
   },
   {
    "duration": 61,
    "start_time": "2023-07-23T10:22:58.505Z"
   },
   {
    "duration": 57,
    "start_time": "2023-07-23T10:22:58.569Z"
   },
   {
    "duration": 45,
    "start_time": "2023-07-23T10:22:58.637Z"
   },
   {
    "duration": 61,
    "start_time": "2023-07-23T10:22:58.683Z"
   },
   {
    "duration": 30,
    "start_time": "2023-07-23T10:22:58.746Z"
   },
   {
    "duration": 59,
    "start_time": "2023-07-23T10:22:58.778Z"
   },
   {
    "duration": 9,
    "start_time": "2023-07-23T10:22:58.838Z"
   },
   {
    "duration": 18,
    "start_time": "2023-07-23T10:22:58.849Z"
   },
   {
    "duration": 47,
    "start_time": "2023-07-23T10:22:58.869Z"
   },
   {
    "duration": 40,
    "start_time": "2023-07-23T10:22:58.917Z"
   },
   {
    "duration": 14,
    "start_time": "2023-07-23T10:22:58.959Z"
   },
   {
    "duration": 13,
    "start_time": "2023-07-23T10:22:58.975Z"
   },
   {
    "duration": 18,
    "start_time": "2023-07-23T10:22:58.990Z"
   },
   {
    "duration": 2,
    "start_time": "2023-07-23T10:22:59.010Z"
   },
   {
    "duration": 35,
    "start_time": "2023-07-23T10:22:59.013Z"
   },
   {
    "duration": 57,
    "start_time": "2023-07-23T10:22:59.049Z"
   },
   {
    "duration": 6,
    "start_time": "2023-07-23T10:22:59.107Z"
   },
   {
    "duration": 56,
    "start_time": "2023-07-23T10:22:59.115Z"
   },
   {
    "duration": 18,
    "start_time": "2023-07-23T10:22:59.173Z"
   },
   {
    "duration": 15,
    "start_time": "2023-07-23T10:22:59.192Z"
   },
   {
    "duration": 33,
    "start_time": "2023-07-23T10:22:59.208Z"
   },
   {
    "duration": 14,
    "start_time": "2023-07-23T10:22:59.243Z"
   },
   {
    "duration": 44,
    "start_time": "2023-07-23T10:22:59.259Z"
   },
   {
    "duration": 30,
    "start_time": "2023-07-23T10:22:59.305Z"
   },
   {
    "duration": 24,
    "start_time": "2023-07-23T10:22:59.337Z"
   },
   {
    "duration": 20,
    "start_time": "2023-07-23T10:26:58.166Z"
   },
   {
    "duration": 14,
    "start_time": "2023-07-23T10:28:14.436Z"
   },
   {
    "duration": 3,
    "start_time": "2023-07-23T10:29:15.930Z"
   },
   {
    "duration": 502,
    "start_time": "2023-07-23T10:34:06.647Z"
   },
   {
    "duration": 26,
    "start_time": "2023-07-23T10:34:07.150Z"
   },
   {
    "duration": 39,
    "start_time": "2023-07-23T10:34:07.178Z"
   },
   {
    "duration": 49,
    "start_time": "2023-07-23T10:34:07.218Z"
   },
   {
    "duration": 47,
    "start_time": "2023-07-23T10:34:07.269Z"
   },
   {
    "duration": 32,
    "start_time": "2023-07-23T10:34:07.317Z"
   },
   {
    "duration": 84,
    "start_time": "2023-07-23T10:34:07.350Z"
   },
   {
    "duration": 51,
    "start_time": "2023-07-23T10:34:07.435Z"
   },
   {
    "duration": 78,
    "start_time": "2023-07-23T10:34:07.487Z"
   },
   {
    "duration": 16,
    "start_time": "2023-07-23T10:34:07.566Z"
   },
   {
    "duration": 46,
    "start_time": "2023-07-23T10:34:07.584Z"
   },
   {
    "duration": 15,
    "start_time": "2023-07-23T10:34:07.632Z"
   },
   {
    "duration": 17,
    "start_time": "2023-07-23T10:34:07.648Z"
   },
   {
    "duration": 22,
    "start_time": "2023-07-23T10:34:07.668Z"
   },
   {
    "duration": 114,
    "start_time": "2023-07-23T10:34:07.692Z"
   },
   {
    "duration": 59,
    "start_time": "2023-07-23T10:34:07.808Z"
   },
   {
    "duration": 17,
    "start_time": "2023-07-23T10:34:07.869Z"
   },
   {
    "duration": 83,
    "start_time": "2023-07-23T10:34:07.888Z"
   },
   {
    "duration": 35,
    "start_time": "2023-07-23T10:34:07.974Z"
   },
   {
    "duration": 46,
    "start_time": "2023-07-23T10:34:08.011Z"
   },
   {
    "duration": 29,
    "start_time": "2023-07-23T10:34:08.059Z"
   },
   {
    "duration": 18,
    "start_time": "2023-07-23T10:34:08.090Z"
   },
   {
    "duration": 9,
    "start_time": "2023-07-23T10:34:08.110Z"
   },
   {
    "duration": 35,
    "start_time": "2023-07-23T10:34:08.123Z"
   },
   {
    "duration": 64,
    "start_time": "2023-07-23T10:34:08.159Z"
   },
   {
    "duration": 53,
    "start_time": "2023-07-23T10:34:08.225Z"
   },
   {
    "duration": 140,
    "start_time": "2023-07-23T10:34:08.279Z"
   },
   {
    "duration": 0,
    "start_time": "2023-07-23T10:34:08.423Z"
   },
   {
    "duration": 0,
    "start_time": "2023-07-23T10:34:08.424Z"
   },
   {
    "duration": 0,
    "start_time": "2023-07-23T10:34:08.425Z"
   },
   {
    "duration": 0,
    "start_time": "2023-07-23T10:34:08.426Z"
   },
   {
    "duration": 0,
    "start_time": "2023-07-23T10:34:08.428Z"
   },
   {
    "duration": 0,
    "start_time": "2023-07-23T10:34:08.429Z"
   },
   {
    "duration": 0,
    "start_time": "2023-07-23T10:34:08.434Z"
   },
   {
    "duration": 0,
    "start_time": "2023-07-23T10:34:08.436Z"
   },
   {
    "duration": 0,
    "start_time": "2023-07-23T10:34:08.437Z"
   },
   {
    "duration": 99,
    "start_time": "2023-07-23T10:35:22.586Z"
   },
   {
    "duration": 15,
    "start_time": "2023-07-23T10:35:22.688Z"
   },
   {
    "duration": 38,
    "start_time": "2023-07-23T10:35:22.705Z"
   },
   {
    "duration": 23,
    "start_time": "2023-07-23T10:35:22.748Z"
   },
   {
    "duration": 43,
    "start_time": "2023-07-23T10:35:22.774Z"
   },
   {
    "duration": 7,
    "start_time": "2023-07-23T10:35:22.818Z"
   },
   {
    "duration": 49,
    "start_time": "2023-07-23T10:35:22.827Z"
   },
   {
    "duration": 15,
    "start_time": "2023-07-23T10:35:22.878Z"
   },
   {
    "duration": 18,
    "start_time": "2023-07-23T10:35:22.895Z"
   },
   {
    "duration": 34,
    "start_time": "2023-07-23T10:35:22.915Z"
   },
   {
    "duration": 50,
    "start_time": "2023-07-23T10:35:22.951Z"
   },
   {
    "duration": 10,
    "start_time": "2023-07-23T10:35:23.003Z"
   },
   {
    "duration": 55,
    "start_time": "2023-07-23T10:35:23.015Z"
   },
   {
    "duration": 51,
    "start_time": "2023-07-23T10:35:23.073Z"
   },
   {
    "duration": 45,
    "start_time": "2023-07-23T10:35:23.131Z"
   },
   {
    "duration": 18,
    "start_time": "2023-07-23T10:35:23.178Z"
   },
   {
    "duration": 4,
    "start_time": "2023-07-23T10:35:23.198Z"
   },
   {
    "duration": 29,
    "start_time": "2023-07-23T10:35:23.204Z"
   },
   {
    "duration": 32,
    "start_time": "2023-07-23T10:35:23.235Z"
   },
   {
    "duration": 4,
    "start_time": "2023-07-23T10:35:23.269Z"
   },
   {
    "duration": 18,
    "start_time": "2023-07-23T10:35:23.275Z"
   },
   {
    "duration": 16,
    "start_time": "2023-07-23T10:35:23.296Z"
   },
   {
    "duration": 54,
    "start_time": "2023-07-23T10:35:23.314Z"
   },
   {
    "duration": 13,
    "start_time": "2023-07-23T10:35:23.369Z"
   },
   {
    "duration": 386,
    "start_time": "2023-07-23T10:35:50.591Z"
   },
   {
    "duration": 10,
    "start_time": "2023-07-23T10:36:12.349Z"
   },
   {
    "duration": 95,
    "start_time": "2023-07-23T10:36:31.738Z"
   },
   {
    "duration": 57,
    "start_time": "2023-07-23T10:36:31.836Z"
   },
   {
    "duration": 80,
    "start_time": "2023-07-23T10:36:31.895Z"
   },
   {
    "duration": 17,
    "start_time": "2023-07-23T10:36:31.977Z"
   },
   {
    "duration": 113,
    "start_time": "2023-07-23T10:36:31.996Z"
   },
   {
    "duration": 69,
    "start_time": "2023-07-23T10:36:32.110Z"
   },
   {
    "duration": 91,
    "start_time": "2023-07-23T10:36:32.180Z"
   },
   {
    "duration": 129,
    "start_time": "2023-07-23T10:36:32.273Z"
   },
   {
    "duration": 54,
    "start_time": "2023-07-23T10:36:32.403Z"
   },
   {
    "duration": 45,
    "start_time": "2023-07-23T10:36:32.458Z"
   },
   {
    "duration": 87,
    "start_time": "2023-07-23T10:36:32.505Z"
   },
   {
    "duration": 17,
    "start_time": "2023-07-23T10:36:32.594Z"
   },
   {
    "duration": 66,
    "start_time": "2023-07-23T10:36:32.613Z"
   },
   {
    "duration": 101,
    "start_time": "2023-07-23T10:36:32.682Z"
   },
   {
    "duration": 82,
    "start_time": "2023-07-23T10:36:32.785Z"
   },
   {
    "duration": 41,
    "start_time": "2023-07-23T10:36:32.869Z"
   },
   {
    "duration": 60,
    "start_time": "2023-07-23T10:36:32.913Z"
   },
   {
    "duration": 40,
    "start_time": "2023-07-23T10:36:32.974Z"
   },
   {
    "duration": 73,
    "start_time": "2023-07-23T10:36:33.015Z"
   },
   {
    "duration": 62,
    "start_time": "2023-07-23T10:36:33.090Z"
   },
   {
    "duration": 52,
    "start_time": "2023-07-23T10:36:33.154Z"
   },
   {
    "duration": 85,
    "start_time": "2023-07-23T10:36:33.207Z"
   },
   {
    "duration": 48,
    "start_time": "2023-07-23T10:36:33.293Z"
   },
   {
    "duration": 29,
    "start_time": "2023-07-23T10:36:33.345Z"
   },
   {
    "duration": 46,
    "start_time": "2023-07-23T10:36:33.376Z"
   },
   {
    "duration": 38,
    "start_time": "2023-07-23T10:36:33.424Z"
   },
   {
    "duration": 43,
    "start_time": "2023-07-23T10:36:33.464Z"
   },
   {
    "duration": 0,
    "start_time": "2023-07-23T10:36:33.509Z"
   },
   {
    "duration": 0,
    "start_time": "2023-07-23T10:36:33.510Z"
   },
   {
    "duration": 0,
    "start_time": "2023-07-23T10:36:33.511Z"
   },
   {
    "duration": 0,
    "start_time": "2023-07-23T10:36:33.513Z"
   },
   {
    "duration": 0,
    "start_time": "2023-07-23T10:36:33.514Z"
   },
   {
    "duration": 0,
    "start_time": "2023-07-23T10:36:33.515Z"
   },
   {
    "duration": 0,
    "start_time": "2023-07-23T10:36:33.518Z"
   },
   {
    "duration": 1,
    "start_time": "2023-07-23T10:36:33.519Z"
   },
   {
    "duration": 0,
    "start_time": "2023-07-23T10:36:33.521Z"
   },
   {
    "duration": 11,
    "start_time": "2023-07-23T10:40:09.031Z"
   },
   {
    "duration": 13,
    "start_time": "2023-07-23T10:41:27.382Z"
   },
   {
    "duration": 23,
    "start_time": "2023-07-23T10:42:40.095Z"
   },
   {
    "duration": 76,
    "start_time": "2023-07-23T10:42:46.395Z"
   },
   {
    "duration": 15,
    "start_time": "2023-07-23T10:42:46.473Z"
   },
   {
    "duration": 66,
    "start_time": "2023-07-23T10:42:46.489Z"
   },
   {
    "duration": 37,
    "start_time": "2023-07-23T10:42:46.556Z"
   },
   {
    "duration": 61,
    "start_time": "2023-07-23T10:42:46.596Z"
   },
   {
    "duration": 13,
    "start_time": "2023-07-23T10:42:46.659Z"
   },
   {
    "duration": 34,
    "start_time": "2023-07-23T10:42:46.673Z"
   },
   {
    "duration": 38,
    "start_time": "2023-07-23T10:42:46.709Z"
   },
   {
    "duration": 43,
    "start_time": "2023-07-23T10:42:46.748Z"
   },
   {
    "duration": 50,
    "start_time": "2023-07-23T10:42:46.793Z"
   },
   {
    "duration": 70,
    "start_time": "2023-07-23T10:42:46.845Z"
   },
   {
    "duration": 46,
    "start_time": "2023-07-23T10:42:46.916Z"
   },
   {
    "duration": 24,
    "start_time": "2023-07-23T10:42:46.964Z"
   },
   {
    "duration": 52,
    "start_time": "2023-07-23T10:42:46.991Z"
   },
   {
    "duration": 50,
    "start_time": "2023-07-23T10:42:47.044Z"
   },
   {
    "duration": 38,
    "start_time": "2023-07-23T10:42:47.095Z"
   },
   {
    "duration": 11,
    "start_time": "2023-07-23T10:42:47.134Z"
   },
   {
    "duration": 42,
    "start_time": "2023-07-23T10:42:47.147Z"
   },
   {
    "duration": 45,
    "start_time": "2023-07-23T10:42:47.191Z"
   },
   {
    "duration": 23,
    "start_time": "2023-07-23T10:42:47.238Z"
   },
   {
    "duration": 31,
    "start_time": "2023-07-23T10:42:47.262Z"
   },
   {
    "duration": 20,
    "start_time": "2023-07-23T10:42:47.294Z"
   },
   {
    "duration": 28,
    "start_time": "2023-07-23T10:42:47.315Z"
   },
   {
    "duration": 23,
    "start_time": "2023-07-23T10:42:47.345Z"
   },
   {
    "duration": 74,
    "start_time": "2023-07-23T10:42:47.369Z"
   },
   {
    "duration": 6,
    "start_time": "2023-07-23T10:42:47.445Z"
   },
   {
    "duration": 32,
    "start_time": "2023-07-23T10:42:47.453Z"
   },
   {
    "duration": 18,
    "start_time": "2023-07-23T10:42:47.486Z"
   },
   {
    "duration": 51,
    "start_time": "2023-07-23T10:42:47.506Z"
   },
   {
    "duration": 14,
    "start_time": "2023-07-23T10:42:47.559Z"
   },
   {
    "duration": 15,
    "start_time": "2023-07-23T10:42:47.574Z"
   },
   {
    "duration": 42,
    "start_time": "2023-07-23T10:42:47.590Z"
   },
   {
    "duration": 17,
    "start_time": "2023-07-23T10:42:47.634Z"
   },
   {
    "duration": 49,
    "start_time": "2023-07-23T10:42:47.653Z"
   },
   {
    "duration": 22,
    "start_time": "2023-07-23T10:42:47.704Z"
   },
   {
    "duration": 46,
    "start_time": "2023-07-23T10:42:47.728Z"
   },
   {
    "duration": 183,
    "start_time": "2023-07-24T18:37:51.193Z"
   },
   {
    "duration": 593,
    "start_time": "2023-07-24T18:37:59.996Z"
   },
   {
    "duration": 36,
    "start_time": "2023-07-24T18:38:00.591Z"
   },
   {
    "duration": 370,
    "start_time": "2023-07-24T18:38:00.629Z"
   },
   {
    "duration": 33,
    "start_time": "2023-07-24T18:38:01.003Z"
   },
   {
    "duration": 69,
    "start_time": "2023-07-24T18:38:01.039Z"
   },
   {
    "duration": 11,
    "start_time": "2023-07-24T18:38:01.110Z"
   },
   {
    "duration": 27,
    "start_time": "2023-07-24T18:38:01.126Z"
   },
   {
    "duration": 26,
    "start_time": "2023-07-24T18:38:01.154Z"
   },
   {
    "duration": 50,
    "start_time": "2023-07-24T18:38:01.181Z"
   },
   {
    "duration": 25,
    "start_time": "2023-07-24T18:38:01.236Z"
   },
   {
    "duration": 43,
    "start_time": "2023-07-24T18:38:01.263Z"
   },
   {
    "duration": 26,
    "start_time": "2023-07-24T18:38:01.308Z"
   },
   {
    "duration": 6,
    "start_time": "2023-07-24T18:38:01.346Z"
   },
   {
    "duration": 27,
    "start_time": "2023-07-24T18:38:01.354Z"
   },
   {
    "duration": 64,
    "start_time": "2023-07-24T18:38:01.383Z"
   },
   {
    "duration": 25,
    "start_time": "2023-07-24T18:38:01.449Z"
   },
   {
    "duration": 20,
    "start_time": "2023-07-24T18:38:01.475Z"
   },
   {
    "duration": 77,
    "start_time": "2023-07-24T18:38:01.496Z"
   },
   {
    "duration": 71,
    "start_time": "2023-07-24T18:38:01.575Z"
   },
   {
    "duration": 155,
    "start_time": "2023-07-24T18:38:01.648Z"
   },
   {
    "duration": 300,
    "start_time": "2023-07-24T18:38:01.804Z"
   },
   {
    "duration": 62,
    "start_time": "2023-07-24T18:38:02.106Z"
   },
   {
    "duration": 114,
    "start_time": "2023-07-24T18:38:02.170Z"
   },
   {
    "duration": 19,
    "start_time": "2023-07-24T18:38:02.287Z"
   },
   {
    "duration": 58,
    "start_time": "2023-07-24T18:38:02.309Z"
   },
   {
    "duration": 25,
    "start_time": "2023-07-24T18:38:02.370Z"
   },
   {
    "duration": 100,
    "start_time": "2023-07-24T18:38:02.398Z"
   },
   {
    "duration": 46,
    "start_time": "2023-07-24T18:38:02.501Z"
   },
   {
    "duration": 79,
    "start_time": "2023-07-24T18:38:02.549Z"
   },
   {
    "duration": 42,
    "start_time": "2023-07-24T18:38:02.635Z"
   },
   {
    "duration": 233,
    "start_time": "2023-07-24T18:38:02.679Z"
   },
   {
    "duration": 52,
    "start_time": "2023-07-24T18:38:02.914Z"
   },
   {
    "duration": 186,
    "start_time": "2023-07-24T18:38:02.968Z"
   },
   {
    "duration": 137,
    "start_time": "2023-07-24T18:38:03.156Z"
   },
   {
    "duration": 0,
    "start_time": "2023-07-24T18:38:03.295Z"
   },
   {
    "duration": 0,
    "start_time": "2023-07-24T18:38:03.296Z"
   },
   {
    "duration": 109,
    "start_time": "2023-07-24T18:39:54.190Z"
   },
   {
    "duration": 174,
    "start_time": "2023-07-24T18:40:08.290Z"
   },
   {
    "duration": 35,
    "start_time": "2023-07-24T18:41:06.595Z"
   },
   {
    "duration": 29,
    "start_time": "2023-07-24T18:42:00.755Z"
   },
   {
    "duration": 48,
    "start_time": "2023-07-24T18:43:18.827Z"
   },
   {
    "duration": 27,
    "start_time": "2023-07-24T18:44:54.036Z"
   },
   {
    "duration": 42,
    "start_time": "2023-07-24T18:45:44.491Z"
   },
   {
    "duration": 36,
    "start_time": "2023-07-24T18:49:19.256Z"
   },
   {
    "duration": 35,
    "start_time": "2023-07-24T18:50:34.691Z"
   },
   {
    "duration": 25,
    "start_time": "2023-07-24T18:50:41.389Z"
   },
   {
    "duration": 26,
    "start_time": "2023-07-24T18:50:50.148Z"
   }
  ],
  "colab": {
   "provenance": []
  },
  "kernelspec": {
   "display_name": "Python 3 (ipykernel)",
   "language": "python",
   "name": "python3"
  },
  "language_info": {
   "codemirror_mode": {
    "name": "ipython",
    "version": 3
   },
   "file_extension": ".py",
   "mimetype": "text/x-python",
   "name": "python",
   "nbconvert_exporter": "python",
   "pygments_lexer": "ipython3",
   "version": "3.11.5"
  },
  "toc": {
   "base_numbering": 1,
   "nav_menu": {},
   "number_sections": true,
   "sideBar": true,
   "skip_h1_title": true,
   "title_cell": "Table of Contents",
   "title_sidebar": "Contents",
   "toc_cell": false,
   "toc_position": {
    "height": "calc(100% - 180px)",
    "left": "10px",
    "top": "150px",
    "width": "336.179px"
   },
   "toc_section_display": true,
   "toc_window_display": true
  }
 },
 "nbformat": 4,
 "nbformat_minor": 5
}
