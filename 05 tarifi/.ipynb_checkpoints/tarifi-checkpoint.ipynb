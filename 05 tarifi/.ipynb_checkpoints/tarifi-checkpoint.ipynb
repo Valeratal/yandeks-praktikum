{
 "cells": [
  {
   "cell_type": "markdown",
   "metadata": {},
   "source": [
    "# Рекомендация тарифов"
   ]
  },
  {
   "cell_type": "markdown",
   "metadata": {},
   "source": [
    "В вашем распоряжении данные о поведении клиентов, которые уже перешли на эти тарифы (из проекта курса «Статистический анализ данных»). Нужно построить модель для задачи классификации, которая выберет подходящий тариф. Предобработка данных не понадобится — вы её уже сделали.\n",
    "\n",
    "Постройте модель с максимально большим значением *accuracy*. Чтобы сдать проект успешно, нужно довести долю правильных ответов по крайней мере до 0.75. Проверьте *accuracy* на тестовой выборке самостоятельно."
   ]
  },
  {
   "cell_type": "markdown",
   "metadata": {},
   "source": [
    "## Откройте и изучите файл"
   ]
  },
  {
   "cell_type": "markdown",
   "metadata": {},
   "source": [
    "Импорт библиотек"
   ]
  },
  {
   "cell_type": "code",
   "execution_count": 1,
   "metadata": {},
   "outputs": [],
   "source": [
    "import pandas as pd\n",
    "from sklearn.model_selection import train_test_split\n",
    "\n",
    "from sklearn.tree import DecisionTreeClassifier\n",
    "from sklearn.linear_model import LogisticRegression\n",
    "from sklearn.ensemble import RandomForestClassifier\n",
    "from sklearn.dummy import DummyClassifier\n",
    "\n",
    "import matplotlib.pyplot as plt  \n",
    "import seaborn as sns\n",
    "from sklearn import tree\n",
    "from sklearn.tree import plot_tree\n",
    "\n",
    "from tqdm import tqdm"
   ]
  },
  {
   "cell_type": "code",
   "execution_count": 2,
   "metadata": {},
   "outputs": [],
   "source": [
    "# Открываем файл\n",
    "df = pd.read_csv('/datasets/users_behavior.csv')"
   ]
  },
  {
   "cell_type": "code",
   "execution_count": 3,
   "metadata": {},
   "outputs": [
    {
     "data": {
      "text/html": [
       "<div>\n",
       "<style scoped>\n",
       "    .dataframe tbody tr th:only-of-type {\n",
       "        vertical-align: middle;\n",
       "    }\n",
       "\n",
       "    .dataframe tbody tr th {\n",
       "        vertical-align: top;\n",
       "    }\n",
       "\n",
       "    .dataframe thead th {\n",
       "        text-align: right;\n",
       "    }\n",
       "</style>\n",
       "<table border=\"1\" class=\"dataframe\">\n",
       "  <thead>\n",
       "    <tr style=\"text-align: right;\">\n",
       "      <th></th>\n",
       "      <th>calls</th>\n",
       "      <th>minutes</th>\n",
       "      <th>messages</th>\n",
       "      <th>mb_used</th>\n",
       "      <th>is_ultra</th>\n",
       "    </tr>\n",
       "  </thead>\n",
       "  <tbody>\n",
       "    <tr>\n",
       "      <th>0</th>\n",
       "      <td>40.0</td>\n",
       "      <td>311.90</td>\n",
       "      <td>83.0</td>\n",
       "      <td>19915.42</td>\n",
       "      <td>0</td>\n",
       "    </tr>\n",
       "    <tr>\n",
       "      <th>1</th>\n",
       "      <td>85.0</td>\n",
       "      <td>516.75</td>\n",
       "      <td>56.0</td>\n",
       "      <td>22696.96</td>\n",
       "      <td>0</td>\n",
       "    </tr>\n",
       "    <tr>\n",
       "      <th>2</th>\n",
       "      <td>77.0</td>\n",
       "      <td>467.66</td>\n",
       "      <td>86.0</td>\n",
       "      <td>21060.45</td>\n",
       "      <td>0</td>\n",
       "    </tr>\n",
       "    <tr>\n",
       "      <th>3</th>\n",
       "      <td>106.0</td>\n",
       "      <td>745.53</td>\n",
       "      <td>81.0</td>\n",
       "      <td>8437.39</td>\n",
       "      <td>1</td>\n",
       "    </tr>\n",
       "    <tr>\n",
       "      <th>4</th>\n",
       "      <td>66.0</td>\n",
       "      <td>418.74</td>\n",
       "      <td>1.0</td>\n",
       "      <td>14502.75</td>\n",
       "      <td>0</td>\n",
       "    </tr>\n",
       "  </tbody>\n",
       "</table>\n",
       "</div>"
      ],
      "text/plain": [
       "   calls  minutes  messages   mb_used  is_ultra\n",
       "0   40.0   311.90      83.0  19915.42         0\n",
       "1   85.0   516.75      56.0  22696.96         0\n",
       "2   77.0   467.66      86.0  21060.45         0\n",
       "3  106.0   745.53      81.0   8437.39         1\n",
       "4   66.0   418.74       1.0  14502.75         0"
      ]
     },
     "execution_count": 3,
     "metadata": {},
     "output_type": "execute_result"
    }
   ],
   "source": [
    "# Посмотрим на него (широко открытыми глазами)\n",
    "df.head()"
   ]
  },
  {
   "cell_type": "code",
   "execution_count": 4,
   "metadata": {},
   "outputs": [
    {
     "name": "stdout",
     "output_type": "stream",
     "text": [
      "<class 'pandas.core.frame.DataFrame'>\n",
      "RangeIndex: 3214 entries, 0 to 3213\n",
      "Data columns (total 5 columns):\n",
      " #   Column    Non-Null Count  Dtype  \n",
      "---  ------    --------------  -----  \n",
      " 0   calls     3214 non-null   float64\n",
      " 1   minutes   3214 non-null   float64\n",
      " 2   messages  3214 non-null   float64\n",
      " 3   mb_used   3214 non-null   float64\n",
      " 4   is_ultra  3214 non-null   int64  \n",
      "dtypes: float64(4), int64(1)\n",
      "memory usage: 125.7 KB\n"
     ]
    }
   ],
   "source": [
    "# Посмотрим на типы данных и пропуски\n",
    "df.info()"
   ]
  },
  {
   "cell_type": "markdown",
   "metadata": {},
   "source": [
    "**Описание данных**\n",
    "- `сalls` — количество звонков,\n",
    "- `minutes` — суммарная длительность звонков в минутах,\n",
    "- `messages` — количество sms-сообщений,\n",
    "- `mb_used` — израсходованный интернет-трафик в Мб,\n",
    "- `is_ultra` — каким тарифом пользовался в течение месяца («Ультра» — 1, «Смарт» — 0)."
   ]
  },
  {
   "cell_type": "markdown",
   "metadata": {},
   "source": [
    "Изменим тип столбца `messages` на int  (сообщения дробными не бывают)"
   ]
  },
  {
   "cell_type": "code",
   "execution_count": 5,
   "metadata": {},
   "outputs": [],
   "source": [
    "df['messages']=df['messages'].astype(\"int\")"
   ]
  },
  {
   "cell_type": "code",
   "execution_count": 6,
   "metadata": {},
   "outputs": [
    {
     "name": "stdout",
     "output_type": "stream",
     "text": [
      "<class 'pandas.core.frame.DataFrame'>\n",
      "RangeIndex: 3214 entries, 0 to 3213\n",
      "Data columns (total 5 columns):\n",
      " #   Column    Non-Null Count  Dtype  \n",
      "---  ------    --------------  -----  \n",
      " 0   calls     3214 non-null   float64\n",
      " 1   minutes   3214 non-null   float64\n",
      " 2   messages  3214 non-null   int64  \n",
      " 3   mb_used   3214 non-null   float64\n",
      " 4   is_ultra  3214 non-null   int64  \n",
      "dtypes: float64(3), int64(2)\n",
      "memory usage: 125.7 KB\n"
     ]
    }
   ],
   "source": [
    "# проверим\n",
    "df.info()"
   ]
  },
  {
   "cell_type": "code",
   "execution_count": 7,
   "metadata": {},
   "outputs": [
    {
     "data": {
      "text/plain": [
       "0"
      ]
     },
     "execution_count": 7,
     "metadata": {},
     "output_type": "execute_result"
    }
   ],
   "source": [
    "# Проверим дубликаты на всякий случай \n",
    "df.duplicated().sum()"
   ]
  },
  {
   "cell_type": "code",
   "execution_count": 8,
   "metadata": {},
   "outputs": [
    {
     "data": {
      "text/html": [
       "<div>\n",
       "<style scoped>\n",
       "    .dataframe tbody tr th:only-of-type {\n",
       "        vertical-align: middle;\n",
       "    }\n",
       "\n",
       "    .dataframe tbody tr th {\n",
       "        vertical-align: top;\n",
       "    }\n",
       "\n",
       "    .dataframe thead th {\n",
       "        text-align: right;\n",
       "    }\n",
       "</style>\n",
       "<table border=\"1\" class=\"dataframe\">\n",
       "  <thead>\n",
       "    <tr style=\"text-align: right;\">\n",
       "      <th></th>\n",
       "      <th>calls</th>\n",
       "      <th>minutes</th>\n",
       "      <th>messages</th>\n",
       "      <th>mb_used</th>\n",
       "      <th>is_ultra</th>\n",
       "    </tr>\n",
       "  </thead>\n",
       "  <tbody>\n",
       "    <tr>\n",
       "      <th>count</th>\n",
       "      <td>3214.000000</td>\n",
       "      <td>3214.000000</td>\n",
       "      <td>3214.000000</td>\n",
       "      <td>3214.000000</td>\n",
       "      <td>3214.000000</td>\n",
       "    </tr>\n",
       "    <tr>\n",
       "      <th>mean</th>\n",
       "      <td>63.038892</td>\n",
       "      <td>438.208787</td>\n",
       "      <td>38.281269</td>\n",
       "      <td>17207.673836</td>\n",
       "      <td>0.306472</td>\n",
       "    </tr>\n",
       "    <tr>\n",
       "      <th>std</th>\n",
       "      <td>33.236368</td>\n",
       "      <td>234.569872</td>\n",
       "      <td>36.148326</td>\n",
       "      <td>7570.968246</td>\n",
       "      <td>0.461100</td>\n",
       "    </tr>\n",
       "    <tr>\n",
       "      <th>min</th>\n",
       "      <td>0.000000</td>\n",
       "      <td>0.000000</td>\n",
       "      <td>0.000000</td>\n",
       "      <td>0.000000</td>\n",
       "      <td>0.000000</td>\n",
       "    </tr>\n",
       "    <tr>\n",
       "      <th>25%</th>\n",
       "      <td>40.000000</td>\n",
       "      <td>274.575000</td>\n",
       "      <td>9.000000</td>\n",
       "      <td>12491.902500</td>\n",
       "      <td>0.000000</td>\n",
       "    </tr>\n",
       "    <tr>\n",
       "      <th>50%</th>\n",
       "      <td>62.000000</td>\n",
       "      <td>430.600000</td>\n",
       "      <td>30.000000</td>\n",
       "      <td>16943.235000</td>\n",
       "      <td>0.000000</td>\n",
       "    </tr>\n",
       "    <tr>\n",
       "      <th>75%</th>\n",
       "      <td>82.000000</td>\n",
       "      <td>571.927500</td>\n",
       "      <td>57.000000</td>\n",
       "      <td>21424.700000</td>\n",
       "      <td>1.000000</td>\n",
       "    </tr>\n",
       "    <tr>\n",
       "      <th>max</th>\n",
       "      <td>244.000000</td>\n",
       "      <td>1632.060000</td>\n",
       "      <td>224.000000</td>\n",
       "      <td>49745.730000</td>\n",
       "      <td>1.000000</td>\n",
       "    </tr>\n",
       "  </tbody>\n",
       "</table>\n",
       "</div>"
      ],
      "text/plain": [
       "             calls      minutes     messages       mb_used     is_ultra\n",
       "count  3214.000000  3214.000000  3214.000000   3214.000000  3214.000000\n",
       "mean     63.038892   438.208787    38.281269  17207.673836     0.306472\n",
       "std      33.236368   234.569872    36.148326   7570.968246     0.461100\n",
       "min       0.000000     0.000000     0.000000      0.000000     0.000000\n",
       "25%      40.000000   274.575000     9.000000  12491.902500     0.000000\n",
       "50%      62.000000   430.600000    30.000000  16943.235000     0.000000\n",
       "75%      82.000000   571.927500    57.000000  21424.700000     1.000000\n",
       "max     244.000000  1632.060000   224.000000  49745.730000     1.000000"
      ]
     },
     "execution_count": 8,
     "metadata": {},
     "output_type": "execute_result"
    }
   ],
   "source": [
    "# Описательная статистика\n",
    "df.describe()"
   ]
  },
  {
   "cell_type": "code",
   "execution_count": 9,
   "metadata": {},
   "outputs": [
    {
     "data": {
      "text/plain": [
       "0    2229\n",
       "1     985\n",
       "Name: is_ultra, dtype: int64"
      ]
     },
     "execution_count": 9,
     "metadata": {},
     "output_type": "execute_result"
    }
   ],
   "source": [
    "# Проверим на сбалансированность (нулей больше заметно)\n",
    "df['is_ultra'].value_counts()"
   ]
  },
  {
   "cell_type": "markdown",
   "metadata": {},
   "source": [
    "#### Проверка мультиколлинеарности\n",
    "Два метода проверки мультиколлинеарности:\n",
    "\n",
    "- Построение тепловой карты для понимания корреляции\n",
    "\n",
    "- Использовать коэффициент инфляции дисперсии\n"
   ]
  },
  {
   "cell_type": "code",
   "execution_count": null,
   "metadata": {},
   "outputs": [],
   "source": []
  },
  {
   "cell_type": "code",
   "execution_count": 10,
   "metadata": {},
   "outputs": [
    {
     "data": {
      "text/html": [
       "<div>\n",
       "<style scoped>\n",
       "    .dataframe tbody tr th:only-of-type {\n",
       "        vertical-align: middle;\n",
       "    }\n",
       "\n",
       "    .dataframe tbody tr th {\n",
       "        vertical-align: top;\n",
       "    }\n",
       "\n",
       "    .dataframe thead th {\n",
       "        text-align: right;\n",
       "    }\n",
       "</style>\n",
       "<table border=\"1\" class=\"dataframe\">\n",
       "  <thead>\n",
       "    <tr style=\"text-align: right;\">\n",
       "      <th></th>\n",
       "      <th>calls</th>\n",
       "      <th>minutes</th>\n",
       "      <th>messages</th>\n",
       "      <th>mb_used</th>\n",
       "      <th>is_ultra</th>\n",
       "    </tr>\n",
       "  </thead>\n",
       "  <tbody>\n",
       "    <tr>\n",
       "      <th>calls</th>\n",
       "      <td>1.000000</td>\n",
       "      <td>0.982083</td>\n",
       "      <td>0.177385</td>\n",
       "      <td>0.286442</td>\n",
       "      <td>0.207122</td>\n",
       "    </tr>\n",
       "    <tr>\n",
       "      <th>minutes</th>\n",
       "      <td>0.982083</td>\n",
       "      <td>1.000000</td>\n",
       "      <td>0.173110</td>\n",
       "      <td>0.280967</td>\n",
       "      <td>0.206955</td>\n",
       "    </tr>\n",
       "    <tr>\n",
       "      <th>messages</th>\n",
       "      <td>0.177385</td>\n",
       "      <td>0.173110</td>\n",
       "      <td>1.000000</td>\n",
       "      <td>0.195721</td>\n",
       "      <td>0.203830</td>\n",
       "    </tr>\n",
       "    <tr>\n",
       "      <th>mb_used</th>\n",
       "      <td>0.286442</td>\n",
       "      <td>0.280967</td>\n",
       "      <td>0.195721</td>\n",
       "      <td>1.000000</td>\n",
       "      <td>0.198568</td>\n",
       "    </tr>\n",
       "    <tr>\n",
       "      <th>is_ultra</th>\n",
       "      <td>0.207122</td>\n",
       "      <td>0.206955</td>\n",
       "      <td>0.203830</td>\n",
       "      <td>0.198568</td>\n",
       "      <td>1.000000</td>\n",
       "    </tr>\n",
       "  </tbody>\n",
       "</table>\n",
       "</div>"
      ],
      "text/plain": [
       "             calls   minutes  messages   mb_used  is_ultra\n",
       "calls     1.000000  0.982083  0.177385  0.286442  0.207122\n",
       "minutes   0.982083  1.000000  0.173110  0.280967  0.206955\n",
       "messages  0.177385  0.173110  1.000000  0.195721  0.203830\n",
       "mb_used   0.286442  0.280967  0.195721  1.000000  0.198568\n",
       "is_ultra  0.207122  0.206955  0.203830  0.198568  1.000000"
      ]
     },
     "execution_count": 10,
     "metadata": {},
     "output_type": "execute_result"
    }
   ],
   "source": [
    "# Посмотрим корреляции\n",
    "df.corr()"
   ]
  },
  {
   "cell_type": "code",
   "execution_count": 11,
   "metadata": {},
   "outputs": [
    {
     "data": {
      "image/png": "[encoded data removed]",
      "text/plain": [
       "<Figure size 432x288 with 2 Axes>"
      ]
     },
     "metadata": {
      "needs_background": "light"
     },
     "output_type": "display_data"
    }
   ],
   "source": [
    "# Построим тепловую карту\n",
    "df_plot = sns.heatmap(df.corr(), cmap=\"YlGnBu\", annot=True)  \n",
    "plt.show()\n"
   ]
  },
  {
   "cell_type": "markdown",
   "metadata": {},
   "source": [
    "Cильная корреляция между минутами и звонками, что приводит к мультиколлинеарности.\n",
    "\n",
    "Проблемы, которые могут возникнуть из-за мультиколлинеарности.\n",
    "\n",
    "Поскольку существует сильная взаимосвязь, определение значимых переменных будет сложной задачей.\n",
    "\n",
    "Коэффициенты, которые мы получим для переменных, могут быть нестабильными, и, как следствие, интерпретация модели будет утомительной работой. Может произойти переобучение, и точность модели изменится в зависимости от набора данных.\n"
   ]
  },
  {
   "cell_type": "markdown",
   "metadata": {},
   "source": [
    "Коэффициент инфляции дисперсии\n",
    "\n",
    "Фактор инфляции дисперсии — это мера мультиколлинеарности, которая существует в наборе переменных, участвующих в множественных регрессиях. Как правило, значение vif выше 10 указывает на высокую корреляцию с другими независимыми переменными."
   ]
  },
  {
   "cell_type": "markdown",
   "metadata": {},
   "source": [
    "Различные способы решения проблемы Мультиколлинеарности\n",
    "\n",
    "*Выбор переменных*\n",
    "\n",
    "Переменные следует выбирать таким образом, чтобы те, которые сильно коррелированы, были удалены, и мы использовали только значимые переменные.\n",
    "\n",
    "*Преобразование переменных*\n",
    "\n",
    "Преобразование переменных является неотъемлемым шагом, и здесь цель состоит в том, чтобы сохранить функцию, но выполнение преобразования может дать нам диапазон, который не приведет к предвзятому результату.\n",
    "\n",
    "*Анализ главных компонентов*\n",
    "\n",
    "Анализ основных компонентов — это метод уменьшения размерности, с помощью которого мы можем получить важные характеристики набора данных, которые сильно влияют на нашу целевую переменную.\n",
    "\n",
    "Одна вещь, о которой мы должны позаботиться при реализации PCA, заключается в том, что мы не должны терять основные функции и пытаться уменьшить их таким образом, чтобы собрать максимально возможную информацию."
   ]
  },
  {
   "cell_type": "code",
   "execution_count": null,
   "metadata": {},
   "outputs": [],
   "source": []
  },
  {
   "cell_type": "code",
   "execution_count": null,
   "metadata": {},
   "outputs": [],
   "source": []
  },
  {
   "cell_type": "markdown",
   "metadata": {},
   "source": [
    "**Вывод**\n",
    "\n",
    "- Пропущенных значений не обнаружено\n",
    "\n",
    "- Типы столбцов немного \"причесали\"\n",
    "\n",
    "- Дубликатов нет\n",
    "\n",
    "- Построена корреляционная матрица и тепловая карта по ней. Заметно коррелируют звонки и минуты, что в целом логично, но приводи к мультиколлинеарности\n",
    "\n"
   ]
  },
  {
   "cell_type": "markdown",
   "metadata": {},
   "source": [
    "<div class=\"alert alert-success\">\n",
    "<font size=\"5\"><b>Комментарий ревьюера</b></font>\n",
    "\n",
    "Успех:\n",
    "\n",
    "👍 Данные изучены.\n",
    "\n",
    "\n",
    "\n",
    "<div class=\"alert alert-warning\">\n",
    "\n",
    "\n",
    "\n",
    "Совет: \n",
    "\n",
    "\n",
    "- .info (дает тебе информацию о пропусках и типах данных), а .describe (медианы, квантили, max, min итд) это такой джентльменский набор при первичной разведке данных (EDA).  \n",
    "\n",
    "\n",
    "\n",
    "- Можно еще отдельно проверить датасет на сбалансированность классов в таргете. Это помогло бы решить бонусное задание сразу (Только не надо балансировать данные, это тема следующего проекта).\n",
    "\n",
    "\n",
    "\n",
    "\n",
    "- Можно посмотреть корреляцию признаков. Знаешь что такое мультиколлинеарность, какие два типа проблем возникает, для каких моделей и какие варианты решения?\n",
    "\n",
    "\n",
    "\n",
    "\n",
    "</div>\n"
   ]
  },
  {
   "cell_type": "markdown",
   "metadata": {},
   "source": [
    "## Разбейте данные на выборки"
   ]
  },
  {
   "cell_type": "markdown",
   "metadata": {},
   "source": [
    "**Типы выборок**\n",
    "\n",
    "- features_train, target_train - обучающая выборка\n",
    "- features_valid, target_valid - валидационная выборка\n",
    "- features_test, target_test - тестовая выборка"
   ]
  },
  {
   "cell_type": "markdown",
   "metadata": {},
   "source": [
    "### Разобъем выборки на Тренировочную (80%) и Тестовую (20%)"
   ]
  },
  {
   "cell_type": "code",
   "execution_count": 12,
   "metadata": {},
   "outputs": [],
   "source": [
    "df_train, df_test = train_test_split(df, test_size=0.4, random_state=123456)\n",
    "features = df_test.drop('is_ultra', axis=1)\n",
    "target = df_test['is_ultra']"
   ]
  },
  {
   "cell_type": "code",
   "execution_count": 13,
   "metadata": {},
   "outputs": [
    {
     "name": "stdout",
     "output_type": "stream",
     "text": [
      "(1928, 5)\n",
      "(1286, 5)\n"
     ]
    }
   ],
   "source": [
    "print(df_train.shape)\n",
    "print(df_test.shape)"
   ]
  },
  {
   "cell_type": "markdown",
   "metadata": {},
   "source": [
    "### Разобъем выборки на валидационную (20%) и тестовую (20%)"
   ]
  },
  {
   "cell_type": "code",
   "execution_count": 14,
   "metadata": {},
   "outputs": [],
   "source": [
    "features_valid, features_test, target_valid, target_test = train_test_split(features,\n",
    "target,test_size=0.5, random_state=123456)"
   ]
  },
  {
   "cell_type": "code",
   "execution_count": 15,
   "metadata": {},
   "outputs": [],
   "source": [
    "features_train = df_train.drop('is_ultra', axis=1)\n",
    "target_train = df_train['is_ultra']"
   ]
  },
  {
   "cell_type": "code",
   "execution_count": 16,
   "metadata": {},
   "outputs": [
    {
     "name": "stdout",
     "output_type": "stream",
     "text": [
      "(1928, 4)\n",
      "(1928,)\n"
     ]
    }
   ],
   "source": [
    "print(features_train.shape)\n",
    "print(target_train.shape)"
   ]
  },
  {
   "cell_type": "code",
   "execution_count": 17,
   "metadata": {},
   "outputs": [
    {
     "data": {
      "text/plain": [
       "((1928, 5), (1286, 5), (1928, 4), (1928,))"
      ]
     },
     "execution_count": 17,
     "metadata": {},
     "output_type": "execute_result"
    }
   ],
   "source": [
    "df_train.shape, df_test.shape, features_train.shape, target_train.shape"
   ]
  },
  {
   "cell_type": "code",
   "execution_count": null,
   "metadata": {},
   "outputs": [],
   "source": []
  },
  {
   "cell_type": "markdown",
   "metadata": {},
   "source": [
    "## Исследуйте модели"
   ]
  },
  {
   "cell_type": "markdown",
   "metadata": {},
   "source": [
    "### Логистическая регрессия"
   ]
  },
  {
   "cell_type": "code",
   "execution_count": 18,
   "metadata": {},
   "outputs": [
    {
     "name": "stdout",
     "output_type": "stream",
     "text": [
      "Качество: 0.7402799377916018\n"
     ]
    }
   ],
   "source": [
    "model = LogisticRegression(solver='lbfgs')\n",
    "model.fit(features_train, target_train)\n",
    "accuracy_lr = model.score(features_valid, target_valid)\n",
    "print(\"Качество:\", accuracy_lr)"
   ]
  },
  {
   "cell_type": "markdown",
   "metadata": {},
   "source": [
    "### Случайный лес"
   ]
  },
  {
   "cell_type": "code",
   "execution_count": 19,
   "metadata": {},
   "outputs": [
    {
     "name": "stderr",
     "output_type": "stream",
     "text": [
      "100%|██████████| 9/9 [00:01<00:00,  6.85it/s]\n",
      "100%|██████████| 9/9 [00:01<00:00,  6.38it/s]\n",
      "100%|██████████| 9/9 [00:01<00:00,  5.65it/s]\n",
      "100%|██████████| 9/9 [00:01<00:00,  5.45it/s]\n",
      "100%|██████████| 9/9 [00:01<00:00,  4.79it/s]\n",
      "100%|██████████| 9/9 [00:01<00:00,  4.72it/s]\n",
      "100%|██████████| 9/9 [00:02<00:00,  4.45it/s]\n",
      "100%|██████████| 9/9 [00:02<00:00,  4.24it/s]\n",
      "100%|██████████| 9/9 [00:02<00:00,  3.97it/s]\n",
      "100%|██████████| 9/9 [00:02<00:00,  3.79it/s]"
     ]
    },
    {
     "name": "stdout",
     "output_type": "stream",
     "text": [
      "Глубина дерева: 7     Количество деревьев: 35    мин. объектов в узле: 2   Качество: 0.8180404354587869\n"
     ]
    },
    {
     "name": "stderr",
     "output_type": "stream",
     "text": [
      "\n"
     ]
    }
   ],
   "source": [
    "best_accuracy_rf = 0\n",
    "best_depth = 0\n",
    "accuracies = []\n",
    "max_depths = [1, 2, 3, 4, 5, 6, 7, 8, 9, 10]\n",
    "\n",
    "for depth in max_depths:\n",
    "    for est in tqdm (range(5,50, 5)):\n",
    "        for sample in range(2,5):\n",
    "            model_rf = RandomForestClassifier(max_depth=depth, n_estimators=est, \n",
    "                                           min_samples_leaf=sample, random_state=123456)\n",
    "            model_rf.fit(features_train, target_train)\n",
    "            accuracy_rf = model_rf.score(features_valid, target_valid)\n",
    "            accuracies.append(accuracy_rf)\n",
    "            if accuracy_rf > best_accuracy_rf:\n",
    "                best_accuracy_rf = accuracy_rf\n",
    "                best_depth = depth\n",
    "                best_est = est\n",
    "                best_sample = sample\n",
    "print(\"Глубина дерева:\", best_depth, \"    Количество деревьев:\",\n",
    "      best_est, \"   мин. объектов в узле:\", best_sample, \"  Качество:\", best_accuracy_rf)\n",
    "\n",
    "\n",
    "# print(accuracies)\n"
   ]
  },
  {
   "cell_type": "code",
   "execution_count": 20,
   "metadata": {},
   "outputs": [],
   "source": [
    "# for est in tqdm (range(5,50)):\n",
    "# Глубина дерева: 7     Количество деревьев: 31    мин. объектов в узле: 2   Качество: 0.8180404354587869\n"
   ]
  },
  {
   "cell_type": "code",
   "execution_count": 21,
   "metadata": {},
   "outputs": [],
   "source": [
    "#Попытка показать точность в зависимости от глубины. Неуспешно\n",
    "#plt.plot(max_depths, accuracies)\n",
    "#plt.xlabel('Max Depth')\n",
    "#plt.ylabel('Accuracy')\n",
    "#plt.title('Random Forest Accuracy vs Max Depth')\n",
    "#plt.show()"
   ]
  },
  {
   "cell_type": "markdown",
   "metadata": {},
   "source": [
    "Построим первое дерево решений из случайного леса (с индексом 0 в списке):"
   ]
  },
  {
   "cell_type": "code",
   "execution_count": null,
   "metadata": {},
   "outputs": [],
   "source": []
  },
  {
   "cell_type": "code",
   "execution_count": 22,
   "metadata": {},
   "outputs": [
    {
     "data": {
      "image/png": "[encoded data removed]",
      "text/plain": [
       "<Figure size 1440x1440 with 1 Axes>"
      ]
     },
     "metadata": {
      "needs_background": "light"
     },
     "output_type": "display_data"
    }
   ],
   "source": [
    "plt.figure(figsize=(20,20))\n",
    "_ = tree.plot_tree(model_rf.estimators_[0], feature_names=features_train.columns, filled=True, max_depth = 3)"
   ]
  },
  {
   "cell_type": "code",
   "execution_count": 23,
   "metadata": {},
   "outputs": [
    {
     "data": {
      "text/plain": [
       "10"
      ]
     },
     "execution_count": 23,
     "metadata": {},
     "output_type": "execute_result"
    }
   ],
   "source": [
    "# Глубина первого дерева\n",
    "model_rf.estimators_[0].tree_.max_depth"
   ]
  },
  {
   "cell_type": "code",
   "execution_count": 24,
   "metadata": {},
   "outputs": [
    {
     "data": {
      "image/png": "[encoded data removed]",
      "text/plain": [
       "<Figure size 1440x1440 with 1 Axes>"
      ]
     },
     "metadata": {
      "needs_background": "light"
     },
     "output_type": "display_data"
    }
   ],
   "source": [
    "# Сюжет первого дерева решений:\n",
    "plt.figure(figsize=(20,20))\n",
    "_ = tree.plot_tree(model_rf.estimators_[0], feature_names=features_train.columns, filled=True, max_depth = 3)"
   ]
  },
  {
   "cell_type": "code",
   "execution_count": null,
   "metadata": {},
   "outputs": [],
   "source": []
  },
  {
   "cell_type": "markdown",
   "metadata": {},
   "source": [
    "\n",
    "<div class=\"alert alert-success\">\n",
    "<font size=\"5\"><b>Комментарий ревьюера</b></font>\n",
    "\n",
    "Успех:\n",
    "   \n",
    "\n",
    "\n",
    " \n",
    "По большему числу гиперпараметров перебор -   тем лучше метрика. Случайный лес мощная модель и по ней действительно стоит поперебирать несколько гиперпораметров. Здорово   \n",
    "\n",
    "\n",
    "\n",
    "\n",
    "<div class=\"alert alert-warning\">\n",
    "\n",
    "\n",
    "Совет: \n",
    "\n",
    "\n",
    "\n",
    "\n",
    "- Когда что то долго крутиться, можно использовать  %%time - ставишь на самый вверх ячейки с кодом, время выполнения которого хочешь замерить, может не знаешь.  Быстрее не станет, но все будут видеть стоит ли ждать не отходя от ПК или можно сходить чаек поставить )) \n",
    "    \n",
    "    Или tqdm, это ещё лучше, потому что он показывает интерактивно, на каком этапе расчетов мы находимся\n",
    "\n",
    "    \n",
    "    from tqdm import tqdm\n",
    "\n",
    "\n",
    "    for n_estimators in tqdm(range(3,58)):\n",
    "\n",
    "        ..........\n",
    "\n",
    "\n",
    "\n",
    "(дальше мы будем уходить от неэффективных в питоне циклов к apply.  Там тоже есть аналог прогресс-баров:  .progress_apply)\n",
    "    \n",
    "И будет красиво )   \n",
    " \n",
    "\n",
    "\n",
    "\n",
    "\n",
    "\n",
    "</div>\n"
   ]
  },
  {
   "cell_type": "markdown",
   "metadata": {},
   "source": [
    "<div style=\"background-color:lavender; padding:2%\">\n",
    "добавил прогрес-бары и график дерева\n",
    "</div>"
   ]
  },
  {
   "cell_type": "markdown",
   "metadata": {},
   "source": [
    "<div class=\"alert alert-success\">\n",
    "<font size=\"5\"><b>Комментарий ревьюераV2</b></font>\n",
    "\n",
    "Успех:\n",
    "\n",
    "Отлично,  теперь заказчику можно обьяснить как примерно модель принимает решение. Только лучше это было сделать для дерево решение, ведь таких деревьев таких случайного леса сколько n_estimators. То есть plot_tree не так информативен тут, как был бы для DT\n",
    "\n",
    "    "
   ]
  },
  {
   "cell_type": "markdown",
   "metadata": {},
   "source": [
    "### Дерево решений"
   ]
  },
  {
   "cell_type": "code",
   "execution_count": 25,
   "metadata": {},
   "outputs": [
    {
     "name": "stdout",
     "output_type": "stream",
     "text": [
      "Глубина дерева: 5     Качество: 0.7978227060653188\n"
     ]
    }
   ],
   "source": [
    "best_accuracy_df = 0\n",
    "best_depth = 0\n",
    "for depth in range(1,15):\n",
    "    model = DecisionTreeClassifier(max_depth=depth, random_state=123456)\n",
    "    model.fit(features_train, target_train)\n",
    "    accuracy_df = model.score(features_valid, target_valid)\n",
    "    if accuracy_df > best_accuracy_df:\n",
    "        best_accuracy_df = accuracy_df\n",
    "        best_depth = depth\n",
    "print(\"Глубина дерева:\", best_depth, \"    Качество:\", best_accuracy_df)"
   ]
  },
  {
   "cell_type": "markdown",
   "metadata": {},
   "source": [
    "<div class=\"alert alert-success\">\n",
    "<font size=\"5\"><b>Комментарий ревьюера</b></font>\n",
    "\n",
    "Успех:\n",
    " \n",
    "Работа выполнена в соответствии с критериями: \n",
    "\n",
    "\n",
    "\n",
    " - модель обучена на обучающем наборе\n",
    " - получена оценка качества на валидационном наборе\n",
    " - перебор гиперпараметров осуществляется в цикле\n",
    "\n",
    "\n",
    "\n",
    "\n",
    "\n",
    "<div class=\"alert alert-warning\">\n",
    "\n",
    "\n",
    "Совет: \n",
    "\n",
    "\n",
    "\n",
    "- Можно добавить график, хорошо оформленный график украсит проект. Тут на графике можно посмотреть как при изменении max_depth меняется точность на train и validation датасете (для этого собираем наши метрики на валидации и train в списки, а затем по ним обычный plt.plot()) Такой способ используют чтобы лучше отследить переобучение, но для этого стоит взять пернебор по max_depth поглубже\n",
    "\n",
    "\n",
    "- tree_plot можно построить, с max_depth равной 3 или 4 (глубже уже будет громоздко) - глянуть как DT сплиты делает, будет понимание как модель принимает решения: какие признаки  использует, на каких значениях делает разбиение вправо - влево \n",
    "\n",
    "\n",
    "\n",
    "\n",
    "</div>\n",
    "\n"
   ]
  },
  {
   "cell_type": "markdown",
   "metadata": {},
   "source": [
    "Сведем показатели точности (accuracy)"
   ]
  },
  {
   "cell_type": "code",
   "execution_count": 26,
   "metadata": {},
   "outputs": [
    {
     "name": "stdout",
     "output_type": "stream",
     "text": [
      "Logistic Regression: 0.7402799377916018\n",
      "Random Forest: 0.8180404354587869\n",
      "Decision Tree: 0.7978227060653188\n"
     ]
    }
   ],
   "source": [
    "print(f\"Logistic Regression: {accuracy_lr}\")\n",
    "print(f\"Random Forest: {best_accuracy_rf}\")\n",
    "print(f\"Decision Tree: {best_accuracy_df}\")"
   ]
  },
  {
   "cell_type": "markdown",
   "metadata": {},
   "source": [
    "### Вывод \n",
    "\n",
    "Лучший показатель точности (accuracy) у Random Forest"
   ]
  },
  {
   "cell_type": "code",
   "execution_count": null,
   "metadata": {},
   "outputs": [],
   "source": []
  },
  {
   "cell_type": "markdown",
   "metadata": {},
   "source": [
    "\n",
    "<div class=\"alert alert-success\">\n",
    "<font size=\"5\"><b>Комментарий ревьюера</b></font>\n",
    "\n",
    "Успех:\n",
    "\n",
    "\n",
    "Все верно, RF лучший. \n",
    "\n",
    "\n",
    "<div class=\"alert alert-warning\">\n",
    "\n",
    "\n",
    "Совет: \n",
    "\n",
    "Если есть желание можешь ответить на вопросики ))    \n",
    "\n",
    "\n",
    "\n",
    "- Как назвать ситуацию, когда на валидации при увеличении глубины дерева (модель DT), метрика качества стала снижаться? Как по твоему в это же время вела себя эта же метрика на train?\n",
    "\n",
    "\n",
    "- Насколько знаю вы еще под капот моделям не заглядывали, но может знаешь почему обычно RF показывает более высокие результаты из выбранных?\n",
    "\n",
    "\n",
    "- Мы решаем задачу классификации (а еще есть задача регрессии), а в названии модели с помощью которой мы решаем задачу \"классификации\" (Логистическая регрессия) есть слово \"регрессия\".  Нет ли тут парадокса? )\n",
    "    \n",
    "\n",
    "- Почему логистическая регрессия показывать на много более худшие результаты?  \n",
    "\n",
    "\n",
    "</div>\n",
    "\n",
    "\n",
    "\n"
   ]
  },
  {
   "cell_type": "markdown",
   "metadata": {},
   "source": [
    "## Проверим модель на тестовой выборке"
   ]
  },
  {
   "cell_type": "markdown",
   "metadata": {},
   "source": [
    "Используем \"случайный лес\" как самую точную"
   ]
  },
  {
   "cell_type": "markdown",
   "metadata": {},
   "source": [
    "### Случайный лес"
   ]
  },
  {
   "cell_type": "code",
   "execution_count": 27,
   "metadata": {},
   "outputs": [
    {
     "name": "stdout",
     "output_type": "stream",
     "text": [
      "Качество: 0.8133748055987559\n"
     ]
    }
   ],
   "source": [
    "model = RandomForestClassifier(max_depth=7, n_estimators=35, min_samples_leaf=2, random_state=123456)\n",
    "model.fit(features_train, target_train)\n",
    "\n",
    "accuracy_rf_test = model.score(features_test, target_test)\n",
    "print(\"Качество:\", accuracy_rf_test)\n",
    "\n"
   ]
  },
  {
   "cell_type": "markdown",
   "metadata": {},
   "source": [
    "Попробуем модель Random Forest обучить на тренировочной + валидационной выборке "
   ]
  },
  {
   "cell_type": "code",
   "execution_count": 28,
   "metadata": {},
   "outputs": [
    {
     "data": {
      "text/html": [
       "<div>\n",
       "<style scoped>\n",
       "    .dataframe tbody tr th:only-of-type {\n",
       "        vertical-align: middle;\n",
       "    }\n",
       "\n",
       "    .dataframe tbody tr th {\n",
       "        vertical-align: top;\n",
       "    }\n",
       "\n",
       "    .dataframe thead th {\n",
       "        text-align: right;\n",
       "    }\n",
       "</style>\n",
       "<table border=\"1\" class=\"dataframe\">\n",
       "  <thead>\n",
       "    <tr style=\"text-align: right;\">\n",
       "      <th></th>\n",
       "      <th>calls</th>\n",
       "      <th>minutes</th>\n",
       "      <th>messages</th>\n",
       "      <th>mb_used</th>\n",
       "    </tr>\n",
       "  </thead>\n",
       "  <tbody>\n",
       "    <tr>\n",
       "      <th>0</th>\n",
       "      <td>73.0</td>\n",
       "      <td>620.25</td>\n",
       "      <td>0</td>\n",
       "      <td>21098.49</td>\n",
       "    </tr>\n",
       "    <tr>\n",
       "      <th>1</th>\n",
       "      <td>74.0</td>\n",
       "      <td>555.25</td>\n",
       "      <td>27</td>\n",
       "      <td>25718.19</td>\n",
       "    </tr>\n",
       "    <tr>\n",
       "      <th>2</th>\n",
       "      <td>36.0</td>\n",
       "      <td>206.01</td>\n",
       "      <td>1</td>\n",
       "      <td>14830.67</td>\n",
       "    </tr>\n",
       "    <tr>\n",
       "      <th>3</th>\n",
       "      <td>96.0</td>\n",
       "      <td>655.52</td>\n",
       "      <td>2</td>\n",
       "      <td>20432.78</td>\n",
       "    </tr>\n",
       "    <tr>\n",
       "      <th>4</th>\n",
       "      <td>40.0</td>\n",
       "      <td>225.89</td>\n",
       "      <td>12</td>\n",
       "      <td>13581.94</td>\n",
       "    </tr>\n",
       "  </tbody>\n",
       "</table>\n",
       "</div>"
      ],
      "text/plain": [
       "   calls  minutes  messages   mb_used\n",
       "0   73.0   620.25         0  21098.49\n",
       "1   74.0   555.25        27  25718.19\n",
       "2   36.0   206.01         1  14830.67\n",
       "3   96.0   655.52         2  20432.78\n",
       "4   40.0   225.89        12  13581.94"
      ]
     },
     "execution_count": 28,
     "metadata": {},
     "output_type": "execute_result"
    }
   ],
   "source": [
    "# Объединяем фичи\n",
    "features_concat = pd.concat([features_train, features_valid], ignore_index=True)\n",
    "features_concat.head()"
   ]
  },
  {
   "cell_type": "code",
   "execution_count": 29,
   "metadata": {},
   "outputs": [
    {
     "data": {
      "text/plain": [
       "(2571, 4)"
      ]
     },
     "execution_count": 29,
     "metadata": {},
     "output_type": "execute_result"
    }
   ],
   "source": [
    "features_concat.shape"
   ]
  },
  {
   "cell_type": "code",
   "execution_count": 30,
   "metadata": {},
   "outputs": [
    {
     "data": {
      "text/plain": [
       "0    0\n",
       "1    1\n",
       "2    0\n",
       "3    0\n",
       "4    0\n",
       "Name: is_ultra, dtype: int64"
      ]
     },
     "execution_count": 30,
     "metadata": {},
     "output_type": "execute_result"
    }
   ],
   "source": [
    "# Объединяем таргеты\n",
    "\n",
    "target_concat = pd.concat([target_train, target_valid], ignore_index=True)\n",
    "target_concat.head()"
   ]
  },
  {
   "cell_type": "code",
   "execution_count": 31,
   "metadata": {},
   "outputs": [
    {
     "data": {
      "text/plain": [
       "(2571,)"
      ]
     },
     "execution_count": 31,
     "metadata": {},
     "output_type": "execute_result"
    }
   ],
   "source": [
    "target_concat.shape"
   ]
  },
  {
   "cell_type": "code",
   "execution_count": 32,
   "metadata": {},
   "outputs": [],
   "source": [
    "# Random Forest учим на тренировочной + валидационной выборке и проверяем на тестовой"
   ]
  },
  {
   "cell_type": "code",
   "execution_count": 33,
   "metadata": {},
   "outputs": [
    {
     "name": "stdout",
     "output_type": "stream",
     "text": [
      "Качество: 0.8211508553654744\n"
     ]
    }
   ],
   "source": [
    "model = RandomForestClassifier(max_depth=7, n_estimators=35, min_samples_leaf=2, random_state=123456)\n",
    "model.fit(features_concat, target_concat)\n",
    "\n",
    "accuracy_rf_test = model.score(features_test, target_test)\n",
    "print(\"Качество:\", accuracy_rf_test)"
   ]
  },
  {
   "cell_type": "markdown",
   "metadata": {},
   "source": [
    "### Вывод \n",
    "Показатели модели Random Forest на тестовой выборке  0.813, что чуть ниже, чем на валидационной\n",
    "\n",
    "Обучение на тренировочной + валидационной выборке улучшила точность модели Random Forest"
   ]
  },
  {
   "cell_type": "markdown",
   "metadata": {},
   "source": [
    "## (бонус) Проверьте модели на адекватность"
   ]
  },
  {
   "cell_type": "markdown",
   "metadata": {},
   "source": [
    "Используем DummyClassifier\n",
    "\n",
    "Для проверки адекватности модели машинного обучения в Python, удобно использовать DummyClassifier из библиотеки scikit-learn. Это простой классификатор, который можно использовать в качестве эталонной модели.\n",
    "\n",
    "Важно учитывать, что DummyClassifier не учитывает никаких особенностей данных и использует случайные значения для классификации, поэтому его результаты не могут быть использованы для принятия окончательных решений, а лишь для проверки адекватности моделей."
   ]
  },
  {
   "cell_type": "code",
   "execution_count": 34,
   "metadata": {},
   "outputs": [
    {
     "name": "stdout",
     "output_type": "stream",
     "text": [
      "Качество наивного прогноза : 0.5987558320373251\n"
     ]
    }
   ],
   "source": [
    "dmb = DummyClassifier(strategy=\"stratified\", random_state=123456)\n",
    "dmb.fit(features_train, target_train)\n",
    "acc = dmb.score(features_test, target_test)\n",
    "print(\"Качество наивного прогноза :\", acc)\n"
   ]
  },
  {
   "cell_type": "code",
   "execution_count": 35,
   "metadata": {},
   "outputs": [
    {
     "name": "stdout",
     "output_type": "stream",
     "text": [
      "Качество наивного прогноза : 0.7216174183514774\n"
     ]
    }
   ],
   "source": [
    "dmb = DummyClassifier(strategy='most_frequent', random_state=123456)\n",
    "dmb.fit(features_train, target_train)\n",
    "acc = dmb.score(features_test, target_test)\n",
    "print(\"Качество наивного прогноза :\", acc)\n"
   ]
  },
  {
   "cell_type": "markdown",
   "metadata": {},
   "source": [
    "### Вывод \n",
    "Вывод. Наши показатели точности выше, чем у наивной модели"
   ]
  },
  {
   "cell_type": "code",
   "execution_count": null,
   "metadata": {},
   "outputs": [],
   "source": []
  },
  {
   "cell_type": "markdown",
   "metadata": {},
   "source": [
    "## Вывод\n",
    "\n",
    "1. Были исследованы данные. Пропусков и дубликатов не обнаружено. Заменен тип значений у одной колонки\n",
    "\n",
    "2. Данные были разбиты на 3 выборки: обучающая, валидационная выборка и тестовая выборка\n",
    "\n",
    "3. Были исследованы три модели: логистическая регрессия, случайный лес, деревья решений. Лучший результат показала модель \"случайный лес\"\n",
    "\n",
    "4. На тестовых данных были проверены эти же три модели. Наилучшее качество (0.81) показала модель \"случайный лес\" с гиперпараметрами \n",
    "`max_depth=7` , `_estimators=35` , `min_samples_leaf=2`\n",
    "Обучение на тренировочной + валидационной выборке улучшила точность модели Random Forest\n",
    "\n",
    "5. Была проведена проверка на адекватность. Модель адекватна"
   ]
  },
  {
   "cell_type": "code",
   "execution_count": null,
   "metadata": {},
   "outputs": [],
   "source": []
  }
 ],
 "metadata": {
  "ExecuteTimeLog": [
   {
    "duration": 1305,
    "start_time": "2023-09-20T10:14:29.215Z"
   },
   {
    "duration": 4,
    "start_time": "2023-09-20T10:14:32.915Z"
   },
   {
    "duration": 94,
    "start_time": "2023-09-20T10:14:57.386Z"
   },
   {
    "duration": 140,
    "start_time": "2023-09-20T10:15:08.482Z"
   },
   {
    "duration": 22,
    "start_time": "2023-09-20T10:15:33.171Z"
   },
   {
    "duration": 15,
    "start_time": "2023-09-20T10:15:57.707Z"
   },
   {
    "duration": 4,
    "start_time": "2023-09-20T10:18:35.114Z"
   },
   {
    "duration": 7,
    "start_time": "2023-09-20T10:18:52.161Z"
   },
   {
    "duration": 13,
    "start_time": "2023-09-20T10:18:58.433Z"
   },
   {
    "duration": 7,
    "start_time": "2023-09-20T10:22:48.512Z"
   },
   {
    "duration": 11,
    "start_time": "2023-09-20T10:23:46.720Z"
   },
   {
    "duration": 4,
    "start_time": "2023-09-20T10:24:04.720Z"
   },
   {
    "duration": 96,
    "start_time": "2023-09-20T10:24:40.295Z"
   },
   {
    "duration": 10,
    "start_time": "2023-09-20T10:34:42.926Z"
   },
   {
    "duration": 25,
    "start_time": "2023-09-20T10:56:15.042Z"
   },
   {
    "duration": 13102,
    "start_time": "2023-09-20T10:57:12.065Z"
   },
   {
    "duration": 13259,
    "start_time": "2023-09-20T10:57:47.957Z"
   },
   {
    "duration": 16270,
    "start_time": "2023-09-20T10:58:09.264Z"
   },
   {
    "duration": 126,
    "start_time": "2023-09-20T10:59:14.825Z"
   },
   {
    "duration": 141,
    "start_time": "2023-09-20T10:59:25.642Z"
   },
   {
    "duration": 39,
    "start_time": "2023-09-20T11:00:20.922Z"
   },
   {
    "duration": 143,
    "start_time": "2023-09-20T11:02:48.746Z"
   },
   {
    "duration": 142,
    "start_time": "2023-09-20T11:03:15.297Z"
   },
   {
    "duration": 13,
    "start_time": "2023-09-20T11:03:32.784Z"
   },
   {
    "duration": 12,
    "start_time": "2023-09-20T11:03:37.650Z"
   },
   {
    "duration": 7,
    "start_time": "2023-09-20T11:05:32.001Z"
   },
   {
    "duration": 8,
    "start_time": "2023-09-20T11:05:33.568Z"
   },
   {
    "duration": 15,
    "start_time": "2023-09-20T11:05:41.321Z"
   },
   {
    "duration": 13,
    "start_time": "2023-09-20T11:05:45.120Z"
   },
   {
    "duration": 6,
    "start_time": "2023-09-20T11:07:04.393Z"
   },
   {
    "duration": 8,
    "start_time": "2023-09-20T11:07:34.875Z"
   },
   {
    "duration": 6,
    "start_time": "2023-09-20T11:08:40.419Z"
   },
   {
    "duration": 35,
    "start_time": "2023-09-20T11:08:40.427Z"
   },
   {
    "duration": 10,
    "start_time": "2023-09-20T11:08:40.464Z"
   },
   {
    "duration": 20,
    "start_time": "2023-09-20T11:08:40.476Z"
   },
   {
    "duration": 8,
    "start_time": "2023-09-20T11:08:40.498Z"
   },
   {
    "duration": 34,
    "start_time": "2023-09-20T11:08:40.507Z"
   },
   {
    "duration": 6,
    "start_time": "2023-09-20T11:08:40.542Z"
   },
   {
    "duration": 13,
    "start_time": "2023-09-20T11:08:40.550Z"
   },
   {
    "duration": 5,
    "start_time": "2023-09-20T11:08:40.564Z"
   },
   {
    "duration": 4,
    "start_time": "2023-09-20T11:08:40.570Z"
   },
   {
    "duration": 40,
    "start_time": "2023-09-20T11:08:40.576Z"
   },
   {
    "duration": 16157,
    "start_time": "2023-09-20T11:08:40.618Z"
   },
   {
    "duration": 116,
    "start_time": "2023-09-20T11:08:56.777Z"
   },
   {
    "duration": 47,
    "start_time": "2023-09-20T11:08:56.895Z"
   },
   {
    "duration": 133,
    "start_time": "2023-09-20T11:08:56.943Z"
   },
   {
    "duration": 14,
    "start_time": "2023-09-20T11:08:57.078Z"
   },
   {
    "duration": 9,
    "start_time": "2023-09-20T11:08:57.093Z"
   },
   {
    "duration": 34,
    "start_time": "2023-09-20T11:08:57.104Z"
   },
   {
    "duration": 16001,
    "start_time": "2023-09-20T11:12:29.139Z"
   },
   {
    "duration": 45,
    "start_time": "2023-09-20T11:14:18.503Z"
   },
   {
    "duration": 16569,
    "start_time": "2023-09-20T11:15:12.502Z"
   },
   {
    "duration": 16487,
    "start_time": "2023-09-20T11:15:45.078Z"
   },
   {
    "duration": 114,
    "start_time": "2023-09-20T11:16:16.598Z"
   },
   {
    "duration": 15,
    "start_time": "2023-09-20T11:16:21.738Z"
   },
   {
    "duration": 151,
    "start_time": "2023-09-20T11:17:33.519Z"
   },
   {
    "duration": 11,
    "start_time": "2023-09-20T11:17:37.998Z"
   },
   {
    "duration": 4,
    "start_time": "2023-09-20T11:18:01.416Z"
   },
   {
    "duration": 11,
    "start_time": "2023-09-20T11:18:24.790Z"
   },
   {
    "duration": 119,
    "start_time": "2023-09-20T11:18:38.918Z"
   },
   {
    "duration": 38,
    "start_time": "2023-09-20T11:45:15.418Z"
   },
   {
    "duration": 155,
    "start_time": "2023-09-20T11:46:43.221Z"
   },
   {
    "duration": 17,
    "start_time": "2023-09-20T11:47:09.639Z"
   },
   {
    "duration": 11,
    "start_time": "2023-09-20T11:47:11.641Z"
   },
   {
    "duration": 40,
    "start_time": "2023-09-20T11:47:21.125Z"
   },
   {
    "duration": 3,
    "start_time": "2023-09-20T11:47:23.517Z"
   },
   {
    "duration": 126,
    "start_time": "2023-09-20T11:51:01.179Z"
   },
   {
    "duration": 4,
    "start_time": "2023-09-20T11:51:04.500Z"
   },
   {
    "duration": 7,
    "start_time": "2023-09-20T11:51:15.141Z"
   },
   {
    "duration": 12,
    "start_time": "2023-09-20T12:01:49.843Z"
   },
   {
    "duration": 18011,
    "start_time": "2023-09-20T12:05:38.654Z"
   },
   {
    "duration": 3,
    "start_time": "2023-09-20T12:06:18.557Z"
   },
   {
    "duration": 46,
    "start_time": "2023-09-20T12:06:18.563Z"
   },
   {
    "duration": 30,
    "start_time": "2023-09-20T12:06:18.613Z"
   },
   {
    "duration": 18,
    "start_time": "2023-09-20T12:06:18.645Z"
   },
   {
    "duration": 8,
    "start_time": "2023-09-20T12:06:18.668Z"
   },
   {
    "duration": 15,
    "start_time": "2023-09-20T12:06:18.678Z"
   },
   {
    "duration": 51,
    "start_time": "2023-09-20T12:06:18.695Z"
   },
   {
    "duration": 8,
    "start_time": "2023-09-20T12:06:18.748Z"
   },
   {
    "duration": 18,
    "start_time": "2023-09-20T12:06:18.758Z"
   },
   {
    "duration": 17,
    "start_time": "2023-09-20T12:06:18.778Z"
   },
   {
    "duration": 97,
    "start_time": "2023-09-20T12:06:18.797Z"
   },
   {
    "duration": 18038,
    "start_time": "2023-09-20T12:06:18.896Z"
   },
   {
    "duration": 135,
    "start_time": "2023-09-20T12:06:36.941Z"
   },
   {
    "duration": 4,
    "start_time": "2023-09-20T12:06:37.079Z"
   },
   {
    "duration": 101,
    "start_time": "2023-09-20T12:06:37.085Z"
   },
   {
    "duration": 130,
    "start_time": "2023-09-20T12:06:37.188Z"
   },
   {
    "duration": 19,
    "start_time": "2023-09-20T12:06:37.323Z"
   },
   {
    "duration": 140,
    "start_time": "2023-09-20T12:06:37.349Z"
   },
   {
    "duration": 0,
    "start_time": "2023-09-20T12:06:37.491Z"
   },
   {
    "duration": 0,
    "start_time": "2023-09-20T12:06:37.492Z"
   },
   {
    "duration": 0,
    "start_time": "2023-09-20T12:06:37.493Z"
   },
   {
    "duration": 4,
    "start_time": "2023-09-20T12:07:11.364Z"
   },
   {
    "duration": 19,
    "start_time": "2023-09-20T12:07:11.371Z"
   },
   {
    "duration": 24,
    "start_time": "2023-09-20T12:07:11.393Z"
   },
   {
    "duration": 8,
    "start_time": "2023-09-20T12:11:08.143Z"
   },
   {
    "duration": 7,
    "start_time": "2023-09-20T12:11:26.175Z"
   },
   {
    "duration": 98,
    "start_time": "2023-09-20T12:11:26.184Z"
   },
   {
    "duration": 15,
    "start_time": "2023-09-20T12:11:26.284Z"
   },
   {
    "duration": 69,
    "start_time": "2023-09-20T12:11:26.301Z"
   },
   {
    "duration": 26,
    "start_time": "2023-09-20T12:11:26.374Z"
   },
   {
    "duration": 37,
    "start_time": "2023-09-20T12:11:26.402Z"
   },
   {
    "duration": 17,
    "start_time": "2023-09-20T12:11:26.443Z"
   },
   {
    "duration": 19,
    "start_time": "2023-09-20T12:11:26.465Z"
   },
   {
    "duration": 44,
    "start_time": "2023-09-20T12:11:26.486Z"
   },
   {
    "duration": 25,
    "start_time": "2023-09-20T12:11:26.536Z"
   },
   {
    "duration": 71,
    "start_time": "2023-09-20T12:11:26.564Z"
   },
   {
    "duration": 22686,
    "start_time": "2023-09-20T12:11:26.637Z"
   },
   {
    "duration": 348,
    "start_time": "2023-09-20T12:11:49.330Z"
   },
   {
    "duration": 47,
    "start_time": "2023-09-20T12:11:49.682Z"
   },
   {
    "duration": 101,
    "start_time": "2023-09-20T12:11:49.735Z"
   },
   {
    "duration": 289,
    "start_time": "2023-09-20T12:11:49.838Z"
   },
   {
    "duration": 22,
    "start_time": "2023-09-20T12:11:50.129Z"
   },
   {
    "duration": 74,
    "start_time": "2023-09-20T12:11:50.153Z"
   },
   {
    "duration": 4,
    "start_time": "2023-09-20T12:11:56.565Z"
   },
   {
    "duration": 49,
    "start_time": "2023-09-20T12:11:56.571Z"
   },
   {
    "duration": 17,
    "start_time": "2023-09-20T12:11:56.622Z"
   },
   {
    "duration": 25,
    "start_time": "2023-09-20T12:11:56.643Z"
   },
   {
    "duration": 5,
    "start_time": "2023-09-20T12:11:56.674Z"
   },
   {
    "duration": 25,
    "start_time": "2023-09-20T12:11:56.681Z"
   },
   {
    "duration": 20,
    "start_time": "2023-09-20T12:11:56.708Z"
   },
   {
    "duration": 12,
    "start_time": "2023-09-20T12:11:56.732Z"
   },
   {
    "duration": 8,
    "start_time": "2023-09-20T12:11:56.752Z"
   },
   {
    "duration": 15,
    "start_time": "2023-09-20T12:11:56.762Z"
   },
   {
    "duration": 71,
    "start_time": "2023-09-20T12:11:56.779Z"
   },
   {
    "duration": 25118,
    "start_time": "2023-09-20T12:11:56.853Z"
   },
   {
    "duration": 373,
    "start_time": "2023-09-20T12:12:21.973Z"
   },
   {
    "duration": 10,
    "start_time": "2023-09-20T12:12:22.350Z"
   },
   {
    "duration": 110,
    "start_time": "2023-09-20T12:12:22.362Z"
   },
   {
    "duration": 301,
    "start_time": "2023-09-20T12:12:22.524Z"
   },
   {
    "duration": 16,
    "start_time": "2023-09-20T12:12:22.828Z"
   },
   {
    "duration": 11,
    "start_time": "2023-09-20T12:12:22.853Z"
   },
   {
    "duration": 67,
    "start_time": "2023-09-20T12:12:22.866Z"
   },
   {
    "duration": 39,
    "start_time": "2023-09-20T12:12:22.935Z"
   },
   {
    "duration": 5,
    "start_time": "2023-09-20T12:15:12.041Z"
   },
   {
    "duration": 188,
    "start_time": "2023-09-20T12:15:17.427Z"
   },
   {
    "duration": 4,
    "start_time": "2023-09-20T12:15:47.282Z"
   },
   {
    "duration": 89,
    "start_time": "2023-09-20T12:15:47.292Z"
   },
   {
    "duration": 117,
    "start_time": "2023-09-20T12:15:47.384Z"
   },
   {
    "duration": 92,
    "start_time": "2023-09-20T12:15:47.503Z"
   },
   {
    "duration": 18,
    "start_time": "2023-09-20T12:15:47.599Z"
   },
   {
    "duration": 60,
    "start_time": "2023-09-20T12:15:47.621Z"
   },
   {
    "duration": 89,
    "start_time": "2023-09-20T12:15:47.683Z"
   },
   {
    "duration": 100,
    "start_time": "2023-09-20T12:15:47.776Z"
   },
   {
    "duration": 62,
    "start_time": "2023-09-20T12:15:47.879Z"
   },
   {
    "duration": 50,
    "start_time": "2023-09-20T12:15:47.947Z"
   },
   {
    "duration": 85,
    "start_time": "2023-09-20T12:15:48.000Z"
   },
   {
    "duration": 19401,
    "start_time": "2023-09-20T12:15:48.088Z"
   },
   {
    "duration": 144,
    "start_time": "2023-09-20T12:16:07.491Z"
   },
   {
    "duration": 6,
    "start_time": "2023-09-20T12:16:07.646Z"
   },
   {
    "duration": 123,
    "start_time": "2023-09-20T12:16:07.654Z"
   },
   {
    "duration": 147,
    "start_time": "2023-09-20T12:16:07.780Z"
   },
   {
    "duration": 28,
    "start_time": "2023-09-20T12:16:07.930Z"
   },
   {
    "duration": 132,
    "start_time": "2023-09-20T12:16:07.961Z"
   },
   {
    "duration": 174,
    "start_time": "2023-09-20T12:16:08.096Z"
   },
   {
    "duration": 23,
    "start_time": "2023-09-20T12:16:08.272Z"
   },
   {
    "duration": 3290,
    "start_time": "2023-09-20T12:47:40.057Z"
   },
   {
    "duration": 63,
    "start_time": "2023-09-20T12:47:43.349Z"
   },
   {
    "duration": 14,
    "start_time": "2023-09-20T12:47:43.414Z"
   },
   {
    "duration": 25,
    "start_time": "2023-09-20T12:47:43.430Z"
   },
   {
    "duration": 10,
    "start_time": "2023-09-20T12:47:43.457Z"
   },
   {
    "duration": 24,
    "start_time": "2023-09-20T12:47:43.468Z"
   },
   {
    "duration": 13,
    "start_time": "2023-09-20T12:47:43.493Z"
   },
   {
    "duration": 13,
    "start_time": "2023-09-20T12:47:43.507Z"
   },
   {
    "duration": 10,
    "start_time": "2023-09-20T12:47:43.521Z"
   },
   {
    "duration": 5,
    "start_time": "2023-09-20T12:47:43.533Z"
   },
   {
    "duration": 31,
    "start_time": "2023-09-20T12:47:43.539Z"
   },
   {
    "duration": 13560,
    "start_time": "2023-09-20T12:47:43.571Z"
   },
   {
    "duration": 96,
    "start_time": "2023-09-20T12:47:57.132Z"
   },
   {
    "duration": 3,
    "start_time": "2023-09-20T12:47:57.230Z"
   },
   {
    "duration": 25,
    "start_time": "2023-09-20T12:47:57.244Z"
   },
   {
    "duration": 101,
    "start_time": "2023-09-20T12:47:57.270Z"
   },
   {
    "duration": 10,
    "start_time": "2023-09-20T12:47:57.373Z"
   },
   {
    "duration": 8,
    "start_time": "2023-09-20T12:47:57.385Z"
   },
   {
    "duration": 7,
    "start_time": "2023-09-20T12:47:57.395Z"
   },
   {
    "duration": 5,
    "start_time": "2023-09-20T12:47:57.404Z"
   },
   {
    "duration": 143,
    "start_time": "2023-09-21T06:24:05.105Z"
   },
   {
    "duration": 82,
    "start_time": "2023-09-21T06:24:08.005Z"
   },
   {
    "duration": 60,
    "start_time": "2023-09-21T06:36:20.263Z"
   },
   {
    "duration": 1250,
    "start_time": "2023-09-21T06:36:26.060Z"
   },
   {
    "duration": 117,
    "start_time": "2023-09-21T06:36:27.312Z"
   },
   {
    "duration": 20,
    "start_time": "2023-09-21T06:36:27.431Z"
   },
   {
    "duration": 12,
    "start_time": "2023-09-21T06:36:27.462Z"
   },
   {
    "duration": 13,
    "start_time": "2023-09-21T06:36:27.476Z"
   },
   {
    "duration": 14,
    "start_time": "2023-09-21T06:36:27.491Z"
   },
   {
    "duration": 31,
    "start_time": "2023-09-21T06:36:27.507Z"
   },
   {
    "duration": 88,
    "start_time": "2023-09-21T06:36:27.540Z"
   },
   {
    "duration": 0,
    "start_time": "2023-09-21T06:36:27.630Z"
   },
   {
    "duration": 0,
    "start_time": "2023-09-21T06:36:27.632Z"
   },
   {
    "duration": 0,
    "start_time": "2023-09-21T06:36:27.633Z"
   },
   {
    "duration": 0,
    "start_time": "2023-09-21T06:36:27.634Z"
   },
   {
    "duration": 0,
    "start_time": "2023-09-21T06:36:27.635Z"
   },
   {
    "duration": 0,
    "start_time": "2023-09-21T06:36:27.636Z"
   },
   {
    "duration": 0,
    "start_time": "2023-09-21T06:36:27.637Z"
   },
   {
    "duration": 0,
    "start_time": "2023-09-21T06:36:27.638Z"
   },
   {
    "duration": 0,
    "start_time": "2023-09-21T06:36:27.640Z"
   },
   {
    "duration": 0,
    "start_time": "2023-09-21T06:36:27.648Z"
   },
   {
    "duration": 0,
    "start_time": "2023-09-21T06:36:27.649Z"
   },
   {
    "duration": 0,
    "start_time": "2023-09-21T06:36:27.650Z"
   },
   {
    "duration": 0,
    "start_time": "2023-09-21T06:36:27.651Z"
   },
   {
    "duration": 25,
    "start_time": "2023-09-21T06:36:39.890Z"
   },
   {
    "duration": 6,
    "start_time": "2023-09-21T06:37:42.115Z"
   },
   {
    "duration": 6,
    "start_time": "2023-09-21T06:38:22.690Z"
   },
   {
    "duration": 23,
    "start_time": "2023-09-21T06:38:38.371Z"
   },
   {
    "duration": 577,
    "start_time": "2023-09-21T06:39:55.387Z"
   },
   {
    "duration": 4,
    "start_time": "2023-09-21T06:39:58.083Z"
   },
   {
    "duration": 14,
    "start_time": "2023-09-21T06:41:07.427Z"
   },
   {
    "duration": 462,
    "start_time": "2023-09-21T06:42:28.380Z"
   },
   {
    "duration": 368,
    "start_time": "2023-09-21T06:42:49.356Z"
   },
   {
    "duration": 33,
    "start_time": "2023-09-21T06:53:58.637Z"
   },
   {
    "duration": 5,
    "start_time": "2023-09-21T06:54:21.067Z"
   },
   {
    "duration": 71,
    "start_time": "2023-09-21T06:54:21.074Z"
   },
   {
    "duration": 20,
    "start_time": "2023-09-21T06:54:21.149Z"
   },
   {
    "duration": 26,
    "start_time": "2023-09-21T06:54:21.173Z"
   },
   {
    "duration": 26,
    "start_time": "2023-09-21T06:54:21.201Z"
   },
   {
    "duration": 35,
    "start_time": "2023-09-21T06:54:21.228Z"
   },
   {
    "duration": 56,
    "start_time": "2023-09-21T06:54:21.265Z"
   },
   {
    "duration": 50,
    "start_time": "2023-09-21T06:54:21.322Z"
   },
   {
    "duration": 5,
    "start_time": "2023-09-21T06:54:21.375Z"
   },
   {
    "duration": 32,
    "start_time": "2023-09-21T06:54:21.382Z"
   },
   {
    "duration": 420,
    "start_time": "2023-09-21T06:54:21.415Z"
   },
   {
    "duration": 13,
    "start_time": "2023-09-21T06:54:21.837Z"
   },
   {
    "duration": 18,
    "start_time": "2023-09-21T06:54:21.854Z"
   },
   {
    "duration": 6,
    "start_time": "2023-09-21T06:54:21.876Z"
   },
   {
    "duration": 35,
    "start_time": "2023-09-21T06:54:21.884Z"
   },
   {
    "duration": 17720,
    "start_time": "2023-09-21T06:54:21.922Z"
   },
   {
    "duration": 126,
    "start_time": "2023-09-21T06:54:39.656Z"
   },
   {
    "duration": 5,
    "start_time": "2023-09-21T06:54:39.784Z"
   },
   {
    "duration": 50,
    "start_time": "2023-09-21T06:54:39.790Z"
   },
   {
    "duration": 121,
    "start_time": "2023-09-21T06:54:39.856Z"
   },
   {
    "duration": 15,
    "start_time": "2023-09-21T06:54:39.979Z"
   },
   {
    "duration": 9,
    "start_time": "2023-09-21T06:54:39.995Z"
   },
   {
    "duration": 24,
    "start_time": "2023-09-21T06:54:40.006Z"
   },
   {
    "duration": 36,
    "start_time": "2023-09-21T06:54:40.032Z"
   },
   {
    "duration": 16,
    "start_time": "2023-09-21T07:16:34.503Z"
   },
   {
    "duration": 10,
    "start_time": "2023-09-21T07:16:53.311Z"
   },
   {
    "duration": 4,
    "start_time": "2023-09-21T07:17:00.176Z"
   },
   {
    "duration": 3,
    "start_time": "2023-09-21T07:17:20.007Z"
   },
   {
    "duration": 4,
    "start_time": "2023-09-21T07:17:22.085Z"
   },
   {
    "duration": 10,
    "start_time": "2023-09-21T07:17:30.755Z"
   },
   {
    "duration": 9,
    "start_time": "2023-09-21T07:18:13.230Z"
   },
   {
    "duration": 4,
    "start_time": "2023-09-21T07:18:22.886Z"
   },
   {
    "duration": 254,
    "start_time": "2023-09-21T07:19:42.622Z"
   },
   {
    "duration": 8,
    "start_time": "2023-09-21T07:20:10.525Z"
   },
   {
    "duration": 18495,
    "start_time": "2023-09-21T07:24:07.180Z"
   },
   {
    "duration": 259,
    "start_time": "2023-09-21T07:30:38.787Z"
   },
   {
    "duration": 148,
    "start_time": "2023-09-21T07:37:18.994Z"
   },
   {
    "duration": 153,
    "start_time": "2023-09-21T07:39:14.168Z"
   },
   {
    "duration": 153,
    "start_time": "2023-09-21T07:39:26.968Z"
   },
   {
    "duration": 155,
    "start_time": "2023-09-21T07:40:09.680Z"
   },
   {
    "duration": 159,
    "start_time": "2023-09-21T07:40:14.192Z"
   },
   {
    "duration": 194,
    "start_time": "2023-09-21T07:40:35.080Z"
   },
   {
    "duration": 169,
    "start_time": "2023-09-21T07:40:45.969Z"
   },
   {
    "duration": 17351,
    "start_time": "2023-09-21T07:41:00.768Z"
   },
   {
    "duration": 3,
    "start_time": "2023-09-21T07:41:46.904Z"
   },
   {
    "duration": 18,
    "start_time": "2023-09-21T07:44:55.640Z"
   },
   {
    "duration": 110,
    "start_time": "2023-09-21T07:50:37.906Z"
   },
   {
    "duration": 116,
    "start_time": "2023-09-21T07:53:14.451Z"
   },
   {
    "duration": 112,
    "start_time": "2023-09-21T07:56:23.539Z"
   },
   {
    "duration": 4,
    "start_time": "2023-09-21T07:56:26.056Z"
   },
   {
    "duration": 72,
    "start_time": "2023-09-21T07:56:26.062Z"
   },
   {
    "duration": 11,
    "start_time": "2023-09-21T07:56:26.136Z"
   },
   {
    "duration": 20,
    "start_time": "2023-09-21T07:56:26.149Z"
   },
   {
    "duration": 34,
    "start_time": "2023-09-21T07:56:26.171Z"
   },
   {
    "duration": 34,
    "start_time": "2023-09-21T07:56:26.207Z"
   },
   {
    "duration": 19,
    "start_time": "2023-09-21T07:56:26.243Z"
   },
   {
    "duration": 78,
    "start_time": "2023-09-21T07:56:26.264Z"
   },
   {
    "duration": 6,
    "start_time": "2023-09-21T07:56:26.344Z"
   },
   {
    "duration": 36,
    "start_time": "2023-09-21T07:56:26.353Z"
   },
   {
    "duration": 416,
    "start_time": "2023-09-21T07:56:26.391Z"
   },
   {
    "duration": 5,
    "start_time": "2023-09-21T07:56:26.809Z"
   },
   {
    "duration": 25,
    "start_time": "2023-09-21T07:56:26.816Z"
   },
   {
    "duration": 136,
    "start_time": "2023-09-21T07:56:26.844Z"
   },
   {
    "duration": 0,
    "start_time": "2023-09-21T07:56:26.982Z"
   },
   {
    "duration": 0,
    "start_time": "2023-09-21T07:56:26.984Z"
   },
   {
    "duration": 0,
    "start_time": "2023-09-21T07:56:26.986Z"
   },
   {
    "duration": 0,
    "start_time": "2023-09-21T07:56:26.987Z"
   },
   {
    "duration": 0,
    "start_time": "2023-09-21T07:56:26.989Z"
   },
   {
    "duration": 0,
    "start_time": "2023-09-21T07:56:26.990Z"
   },
   {
    "duration": 0,
    "start_time": "2023-09-21T07:56:26.992Z"
   },
   {
    "duration": 0,
    "start_time": "2023-09-21T07:56:26.993Z"
   },
   {
    "duration": 0,
    "start_time": "2023-09-21T07:56:26.995Z"
   },
   {
    "duration": 110,
    "start_time": "2023-09-21T07:57:33.995Z"
   },
   {
    "duration": 6,
    "start_time": "2023-09-21T07:58:32.819Z"
   },
   {
    "duration": 15,
    "start_time": "2023-09-21T07:58:56.044Z"
   },
   {
    "duration": 116,
    "start_time": "2023-09-21T08:00:59.692Z"
   },
   {
    "duration": 3,
    "start_time": "2023-09-21T08:01:47.773Z"
   },
   {
    "duration": 4,
    "start_time": "2023-09-21T08:50:00.229Z"
   },
   {
    "duration": 13,
    "start_time": "2023-09-21T08:50:30.485Z"
   },
   {
    "duration": 4,
    "start_time": "2023-09-21T08:50:52.885Z"
   },
   {
    "duration": 7,
    "start_time": "2023-09-21T08:54:32.507Z"
   },
   {
    "duration": 4,
    "start_time": "2023-09-21T08:54:51.219Z"
   },
   {
    "duration": 129,
    "start_time": "2023-09-21T08:56:11.108Z"
   },
   {
    "duration": 5,
    "start_time": "2023-09-21T09:00:07.802Z"
   },
   {
    "duration": 16964,
    "start_time": "2023-09-21T09:00:30.530Z"
   },
   {
    "duration": 19303,
    "start_time": "2023-09-21T09:03:44.873Z"
   },
   {
    "duration": 17581,
    "start_time": "2023-09-21T09:05:02.828Z"
   },
   {
    "duration": 17876,
    "start_time": "2023-09-21T09:05:56.761Z"
   },
   {
    "duration": 17780,
    "start_time": "2023-09-21T09:10:19.985Z"
   },
   {
    "duration": 17631,
    "start_time": "2023-09-21T09:10:59.313Z"
   },
   {
    "duration": 20612,
    "start_time": "2023-09-21T09:15:03.617Z"
   },
   {
    "duration": 17411,
    "start_time": "2023-09-21T09:20:19.182Z"
   },
   {
    "duration": 4,
    "start_time": "2023-09-21T09:21:47.254Z"
   },
   {
    "duration": 49589,
    "start_time": "2023-09-21T09:21:54.982Z"
   },
   {
    "duration": 17816,
    "start_time": "2023-09-21T09:24:25.950Z"
   },
   {
    "duration": 17503,
    "start_time": "2023-09-21T09:25:04.766Z"
   },
   {
    "duration": 17417,
    "start_time": "2023-09-21T09:28:02.982Z"
   },
   {
    "duration": 22123,
    "start_time": "2023-09-21T09:29:04.316Z"
   },
   {
    "duration": 119,
    "start_time": "2023-09-21T09:30:31.956Z"
   },
   {
    "duration": 137,
    "start_time": "2023-09-21T09:40:51.334Z"
   },
   {
    "duration": 17429,
    "start_time": "2023-09-21T09:43:35.171Z"
   },
   {
    "duration": 18,
    "start_time": "2023-09-21T09:44:35.665Z"
   },
   {
    "duration": 5475,
    "start_time": "2023-09-21T09:44:57.986Z"
   },
   {
    "duration": 1048,
    "start_time": "2023-09-21T09:46:30.594Z"
   },
   {
    "duration": 235,
    "start_time": "2023-09-21T09:47:57.985Z"
   },
   {
    "duration": 5,
    "start_time": "2023-09-21T09:48:03.411Z"
   },
   {
    "duration": 5,
    "start_time": "2023-09-21T09:48:20.256Z"
   },
   {
    "duration": 20,
    "start_time": "2023-09-21T09:48:59.674Z"
   },
   {
    "duration": 31,
    "start_time": "2023-09-21T09:49:18.387Z"
   },
   {
    "duration": 19276,
    "start_time": "2023-09-21T09:49:45.610Z"
   },
   {
    "duration": 1164,
    "start_time": "2023-09-21T09:50:07.745Z"
   },
   {
    "duration": 4,
    "start_time": "2023-09-21T09:50:12.425Z"
   },
   {
    "duration": 16,
    "start_time": "2023-09-21T09:52:30.026Z"
   },
   {
    "duration": 5927,
    "start_time": "2023-09-21T09:52:55.008Z"
   },
   {
    "duration": 1221,
    "start_time": "2023-09-21T09:55:20.088Z"
   },
   {
    "duration": 10,
    "start_time": "2023-09-21T10:25:35.825Z"
   },
   {
    "duration": 12,
    "start_time": "2023-09-21T10:27:00.344Z"
   },
   {
    "duration": 11,
    "start_time": "2023-09-21T10:27:37.760Z"
   },
   {
    "duration": 392,
    "start_time": "2023-09-21T10:27:58.200Z"
   },
   {
    "duration": 16,
    "start_time": "2023-09-21T10:28:26.177Z"
   },
   {
    "duration": 134,
    "start_time": "2023-09-21T10:28:58.136Z"
   },
   {
    "duration": 139,
    "start_time": "2023-09-21T10:29:42.840Z"
   },
   {
    "duration": 16943,
    "start_time": "2023-09-21T10:32:51.311Z"
   },
   {
    "duration": 118,
    "start_time": "2023-09-21T10:33:18.831Z"
   },
   {
    "duration": 16847,
    "start_time": "2023-09-21T10:34:19.023Z"
   },
   {
    "duration": 164,
    "start_time": "2023-09-21T10:35:15.136Z"
   },
   {
    "duration": 149,
    "start_time": "2023-09-21T10:37:44.846Z"
   },
   {
    "duration": 20356,
    "start_time": "2023-09-21T10:39:28.333Z"
   },
   {
    "duration": 143,
    "start_time": "2023-09-21T10:40:05.969Z"
   },
   {
    "duration": 274,
    "start_time": "2023-09-21T10:41:24.061Z"
   },
   {
    "duration": 3,
    "start_time": "2023-09-21T10:43:25.716Z"
   },
   {
    "duration": 4,
    "start_time": "2023-09-21T10:44:00.985Z"
   },
   {
    "duration": 96,
    "start_time": "2023-09-21T10:44:00.992Z"
   },
   {
    "duration": 47,
    "start_time": "2023-09-21T10:44:01.090Z"
   },
   {
    "duration": 81,
    "start_time": "2023-09-21T10:44:01.139Z"
   },
   {
    "duration": 116,
    "start_time": "2023-09-21T10:44:01.223Z"
   },
   {
    "duration": 64,
    "start_time": "2023-09-21T10:44:01.341Z"
   },
   {
    "duration": 44,
    "start_time": "2023-09-21T10:44:01.407Z"
   },
   {
    "duration": 91,
    "start_time": "2023-09-21T10:44:01.454Z"
   },
   {
    "duration": 299,
    "start_time": "2023-09-21T10:44:01.547Z"
   },
   {
    "duration": 196,
    "start_time": "2023-09-21T10:44:01.848Z"
   },
   {
    "duration": 484,
    "start_time": "2023-09-21T10:44:02.046Z"
   },
   {
    "duration": 12,
    "start_time": "2023-09-21T10:44:02.534Z"
   },
   {
    "duration": 85,
    "start_time": "2023-09-21T10:44:02.548Z"
   },
   {
    "duration": 290,
    "start_time": "2023-09-21T10:44:02.636Z"
   },
   {
    "duration": 32,
    "start_time": "2023-09-21T10:44:02.927Z"
   },
   {
    "duration": 23,
    "start_time": "2023-09-21T10:44:02.960Z"
   },
   {
    "duration": 95,
    "start_time": "2023-09-21T10:44:02.985Z"
   },
   {
    "duration": 19381,
    "start_time": "2023-09-21T10:44:03.082Z"
   },
   {
    "duration": 3,
    "start_time": "2023-09-21T10:44:22.465Z"
   },
   {
    "duration": 1018,
    "start_time": "2023-09-21T10:44:22.470Z"
   },
   {
    "duration": 4,
    "start_time": "2023-09-21T10:44:23.490Z"
   },
   {
    "duration": 1024,
    "start_time": "2023-09-21T10:44:23.496Z"
   },
   {
    "duration": 143,
    "start_time": "2023-09-21T10:44:24.522Z"
   },
   {
    "duration": 4,
    "start_time": "2023-09-21T10:44:24.667Z"
   },
   {
    "duration": 153,
    "start_time": "2023-09-21T10:44:24.673Z"
   },
   {
    "duration": 11,
    "start_time": "2023-09-21T10:44:24.828Z"
   },
   {
    "duration": 11,
    "start_time": "2023-09-21T10:44:24.846Z"
   },
   {
    "duration": 7,
    "start_time": "2023-09-21T10:44:24.858Z"
   },
   {
    "duration": 8,
    "start_time": "2023-09-21T10:44:24.867Z"
   },
   {
    "duration": 148,
    "start_time": "2023-09-21T10:44:24.876Z"
   },
   {
    "duration": 0,
    "start_time": "2023-09-21T10:44:25.026Z"
   },
   {
    "duration": 0,
    "start_time": "2023-09-21T10:44:25.028Z"
   },
   {
    "duration": 0,
    "start_time": "2023-09-21T10:44:25.030Z"
   },
   {
    "duration": 3,
    "start_time": "2023-09-21T17:38:16.289Z"
   },
   {
    "duration": 3173,
    "start_time": "2023-09-21T17:38:55.662Z"
   },
   {
    "duration": 122,
    "start_time": "2023-09-21T17:38:58.837Z"
   },
   {
    "duration": 14,
    "start_time": "2023-09-21T17:38:58.961Z"
   },
   {
    "duration": 11,
    "start_time": "2023-09-21T17:38:58.976Z"
   },
   {
    "duration": 4,
    "start_time": "2023-09-21T17:38:58.989Z"
   },
   {
    "duration": 10,
    "start_time": "2023-09-21T17:38:58.994Z"
   },
   {
    "duration": 5,
    "start_time": "2023-09-21T17:38:59.005Z"
   },
   {
    "duration": 38,
    "start_time": "2023-09-21T17:38:59.012Z"
   },
   {
    "duration": 4,
    "start_time": "2023-09-21T17:38:59.052Z"
   },
   {
    "duration": 15,
    "start_time": "2023-09-21T17:38:59.058Z"
   },
   {
    "duration": 421,
    "start_time": "2023-09-21T17:38:59.075Z"
   },
   {
    "duration": 5,
    "start_time": "2023-09-21T17:38:59.498Z"
   },
   {
    "duration": 17,
    "start_time": "2023-09-21T17:38:59.505Z"
   },
   {
    "duration": 28,
    "start_time": "2023-09-21T17:38:59.525Z"
   },
   {
    "duration": 9,
    "start_time": "2023-09-21T17:38:59.554Z"
   },
   {
    "duration": 27,
    "start_time": "2023-09-21T17:38:59.565Z"
   },
   {
    "duration": 62,
    "start_time": "2023-09-21T17:38:59.594Z"
   },
   {
    "duration": 15623,
    "start_time": "2023-09-21T17:38:59.658Z"
   },
   {
    "duration": 2,
    "start_time": "2023-09-21T17:39:15.282Z"
   },
   {
    "duration": 890,
    "start_time": "2023-09-21T17:39:15.286Z"
   },
   {
    "duration": 4,
    "start_time": "2023-09-21T17:39:16.178Z"
   },
   {
    "duration": 824,
    "start_time": "2023-09-21T17:39:16.183Z"
   },
   {
    "duration": 108,
    "start_time": "2023-09-21T17:39:17.008Z"
   },
   {
    "duration": 3,
    "start_time": "2023-09-21T17:39:17.117Z"
   },
   {
    "duration": 113,
    "start_time": "2023-09-21T17:39:17.121Z"
   },
   {
    "duration": 10,
    "start_time": "2023-09-21T17:39:17.235Z"
   },
   {
    "duration": 5,
    "start_time": "2023-09-21T17:39:17.249Z"
   },
   {
    "duration": 60,
    "start_time": "2023-09-21T17:39:17.255Z"
   },
   {
    "duration": 11,
    "start_time": "2023-09-21T17:39:17.317Z"
   },
   {
    "duration": 8,
    "start_time": "2023-09-21T17:39:17.330Z"
   },
   {
    "duration": 109,
    "start_time": "2023-09-21T17:39:17.340Z"
   },
   {
    "duration": 5,
    "start_time": "2023-09-21T17:39:17.450Z"
   },
   {
    "duration": 9,
    "start_time": "2023-09-21T17:39:17.457Z"
   },
   {
    "duration": 1629,
    "start_time": "2023-09-25T12:27:20.605Z"
   },
   {
    "duration": 65,
    "start_time": "2023-09-25T12:27:22.236Z"
   },
   {
    "duration": 13,
    "start_time": "2023-09-25T12:27:22.302Z"
   },
   {
    "duration": 18,
    "start_time": "2023-09-25T12:27:22.317Z"
   },
   {
    "duration": 25,
    "start_time": "2023-09-25T12:27:22.337Z"
   },
   {
    "duration": 38,
    "start_time": "2023-09-25T12:27:22.364Z"
   },
   {
    "duration": 18,
    "start_time": "2023-09-25T12:27:22.404Z"
   },
   {
    "duration": 22,
    "start_time": "2023-09-25T12:27:22.423Z"
   },
   {
    "duration": 7,
    "start_time": "2023-09-25T12:27:22.447Z"
   },
   {
    "duration": 31,
    "start_time": "2023-09-25T12:27:22.455Z"
   },
   {
    "duration": 391,
    "start_time": "2023-09-25T12:27:22.487Z"
   },
   {
    "duration": 7,
    "start_time": "2023-09-25T12:27:22.879Z"
   },
   {
    "duration": 29,
    "start_time": "2023-09-25T12:27:22.887Z"
   },
   {
    "duration": 27,
    "start_time": "2023-09-25T12:27:22.919Z"
   },
   {
    "duration": 42,
    "start_time": "2023-09-25T12:27:22.947Z"
   },
   {
    "duration": 63,
    "start_time": "2023-09-25T12:27:22.991Z"
   },
   {
    "duration": 51,
    "start_time": "2023-09-25T12:27:23.056Z"
   },
   {
    "duration": 85108,
    "start_time": "2023-09-25T12:27:23.108Z"
   },
   {
    "duration": 3,
    "start_time": "2023-09-25T12:28:48.217Z"
   },
   {
    "duration": 841,
    "start_time": "2023-09-25T12:28:48.221Z"
   },
   {
    "duration": 4,
    "start_time": "2023-09-25T12:28:49.063Z"
   },
   {
    "duration": 868,
    "start_time": "2023-09-25T12:28:49.068Z"
   },
   {
    "duration": 106,
    "start_time": "2023-09-25T12:28:49.938Z"
   },
   {
    "duration": 3,
    "start_time": "2023-09-25T12:28:50.046Z"
   },
   {
    "duration": 117,
    "start_time": "2023-09-25T12:28:50.050Z"
   },
   {
    "duration": 9,
    "start_time": "2023-09-25T12:28:50.169Z"
   },
   {
    "duration": 8,
    "start_time": "2023-09-25T12:28:50.179Z"
   },
   {
    "duration": 13,
    "start_time": "2023-09-25T12:28:50.189Z"
   },
   {
    "duration": 8,
    "start_time": "2023-09-25T12:28:50.203Z"
   },
   {
    "duration": 5,
    "start_time": "2023-09-25T12:28:50.213Z"
   },
   {
    "duration": 128,
    "start_time": "2023-09-25T12:28:50.219Z"
   },
   {
    "duration": 6,
    "start_time": "2023-09-25T12:28:50.349Z"
   },
   {
    "duration": 18,
    "start_time": "2023-09-25T12:28:50.356Z"
   },
   {
    "duration": 16147,
    "start_time": "2023-09-25T12:29:38.449Z"
   },
   {
    "duration": 1728,
    "start_time": "2023-09-27T06:07:35.685Z"
   },
   {
    "duration": 123,
    "start_time": "2023-09-27T06:07:37.416Z"
   },
   {
    "duration": 21,
    "start_time": "2023-09-27T06:07:37.541Z"
   },
   {
    "duration": 16,
    "start_time": "2023-09-27T06:07:37.564Z"
   },
   {
    "duration": 9,
    "start_time": "2023-09-27T06:07:37.583Z"
   },
   {
    "duration": 18,
    "start_time": "2023-09-27T06:07:37.594Z"
   },
   {
    "duration": 8,
    "start_time": "2023-09-27T06:07:37.614Z"
   },
   {
    "duration": 30,
    "start_time": "2023-09-27T06:07:37.623Z"
   },
   {
    "duration": 6,
    "start_time": "2023-09-27T06:07:37.655Z"
   },
   {
    "duration": 27,
    "start_time": "2023-09-27T06:07:37.663Z"
   },
   {
    "duration": 498,
    "start_time": "2023-09-27T06:07:37.693Z"
   },
   {
    "duration": 7,
    "start_time": "2023-09-27T06:07:38.193Z"
   },
   {
    "duration": 3,
    "start_time": "2023-09-27T06:07:38.209Z"
   },
   {
    "duration": 6,
    "start_time": "2023-09-27T06:07:38.215Z"
   },
   {
    "duration": 9,
    "start_time": "2023-09-27T06:07:38.222Z"
   },
   {
    "duration": 5,
    "start_time": "2023-09-27T06:07:38.233Z"
   },
   {
    "duration": 6,
    "start_time": "2023-09-27T06:07:38.240Z"
   },
   {
    "duration": 65,
    "start_time": "2023-09-27T06:07:38.248Z"
   },
   {
    "duration": 18573,
    "start_time": "2023-09-27T06:07:38.315Z"
   },
   {
    "duration": 3,
    "start_time": "2023-09-27T06:07:56.890Z"
   },
   {
    "duration": 3,
    "start_time": "2023-09-27T06:07:56.909Z"
   },
   {
    "duration": 997,
    "start_time": "2023-09-27T06:07:56.914Z"
   },
   {
    "duration": 4,
    "start_time": "2023-09-27T06:07:57.913Z"
   },
   {
    "duration": 1007,
    "start_time": "2023-09-27T06:07:57.919Z"
   },
   {
    "duration": 127,
    "start_time": "2023-09-27T06:07:58.928Z"
   },
   {
    "duration": 4,
    "start_time": "2023-09-27T06:07:59.057Z"
   },
   {
    "duration": 122,
    "start_time": "2023-09-27T06:07:59.062Z"
   },
   {
    "duration": 10,
    "start_time": "2023-09-27T06:07:59.186Z"
   },
   {
    "duration": 25,
    "start_time": "2023-09-27T06:07:59.197Z"
   },
   {
    "duration": 28,
    "start_time": "2023-09-27T06:07:59.224Z"
   },
   {
    "duration": 23,
    "start_time": "2023-09-27T06:07:59.254Z"
   },
   {
    "duration": 16,
    "start_time": "2023-09-27T06:07:59.279Z"
   },
   {
    "duration": 132,
    "start_time": "2023-09-27T06:07:59.296Z"
   },
   {
    "duration": 7,
    "start_time": "2023-09-27T06:07:59.430Z"
   },
   {
    "duration": 10,
    "start_time": "2023-09-27T06:07:59.438Z"
   }
  ],
  "kernelspec": {
   "display_name": "Python 3 (ipykernel)",
   "language": "python",
   "name": "python3"
  },
  "language_info": {
   "codemirror_mode": {
    "name": "ipython",
    "version": 3
   },
   "file_extension": ".py",
   "mimetype": "text/x-python",
   "name": "python",
   "nbconvert_exporter": "python",
   "pygments_lexer": "ipython3",
   "version": "3.11.5"
  },
  "toc": {
   "base_numbering": 1,
   "nav_menu": {},
   "number_sections": true,
   "sideBar": true,
   "skip_h1_title": true,
   "title_cell": "Table of Contents",
   "title_sidebar": "Contents",
   "toc_cell": false,
   "toc_position": {
    "height": "calc(100% - 180px)",
    "left": "10px",
    "top": "150px",
    "width": "371px"
   },
   "toc_section_display": true,
   "toc_window_display": false
  }
 },
 "nbformat": 4,
 "nbformat_minor": 2
}
